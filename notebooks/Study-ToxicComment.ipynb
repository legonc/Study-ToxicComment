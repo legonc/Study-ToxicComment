{
 "cells": [
  {
   "cell_type": "markdown",
   "id": "196151a6130d2eb7",
   "metadata": {},
   "source": [
    "# Классификация токсичных комментариев с использованием BERT"
   ]
  },
  {
   "cell_type": "markdown",
   "id": "58baf2a76de748bf",
   "metadata": {},
   "source": [
    "## Импорты"
   ]
  },
  {
   "cell_type": "code",
   "execution_count": 48,
   "id": "14266bf32451fbff",
   "metadata": {
    "ExecuteTime": {
     "end_time": "2025-09-12T08:19:22.205699Z",
     "start_time": "2025-09-12T08:19:22.195124Z"
    }
   },
   "outputs": [],
   "source": [
    "%matplotlib inline\n",
    "\n",
    "# стандартные библиотеки\n",
    "import numpy as np\n",
    "import pandas as pd\n",
    "from scipy.stats import pointbiserialr\n",
    "from sklearn.model_selection import train_test_split\n",
    "\n",
    "# библиотеки для визуализации\n",
    "import matplotlib.pyplot as plt\n",
    "import seaborn as sns\n",
    "\n",
    "# модели машинного обучения\n",
    "from sklearn.linear_model import LinearRegression\n",
    "\n",
    "# токенизация\n",
    "from transformers import BertTokenizer\n",
    "# воспроизводимость\n",
    "import torch\n",
    "np.random.seed(42)\n",
    "torch.manual_seed(42)\n",
    "\n",
    "\n",
    "from collections import Counter\n",
    "from tqdm import tqdm\n",
    "from sklearn.feature_extraction.text import CountVectorizer\n",
    "from nltk.corpus import stopwords\n",
    "import nltk\n",
    "import re\n",
    "\n",
    "\n",
    "# константы\n",
    "RANDOM_STATE = 42\n",
    "TEST_SIZE = 0.2\n",
    "MAX_LENGTH = 512"
   ]
  },
  {
   "cell_type": "markdown",
   "id": "90adca95f693d290",
   "metadata": {},
   "source": [
    "## Загрузка и осмотр данных"
   ]
  },
  {
   "cell_type": "code",
   "execution_count": 2,
   "id": "556b63a3-6405-43bb-88a7-639691f05be0",
   "metadata": {},
   "outputs": [
    {
     "name": "stderr",
     "output_type": "stream",
     "text": [
      "[nltk_data] Downloading package stopwords to\n",
      "[nltk_data]     C:\\Users\\legonc\\AppData\\Roaming\\nltk_data...\n",
      "[nltk_data]   Package stopwords is already up-to-date!\n"
     ]
    },
    {
     "data": {
      "text/plain": [
       "True"
      ]
     },
     "execution_count": 2,
     "metadata": {},
     "output_type": "execute_result"
    }
   ],
   "source": [
    "nltk.download('stopwords')"
   ]
  },
  {
   "cell_type": "code",
   "execution_count": 3,
   "id": "9504710dc4eb9013",
   "metadata": {
    "ExecuteTime": {
     "end_time": "2025-09-12T08:19:33.462795Z",
     "start_time": "2025-09-12T08:19:22.218864Z"
    }
   },
   "outputs": [
    {
     "name": "stdout",
     "output_type": "stream",
     "text": [
      "загружено удаленно\n"
     ]
    }
   ],
   "source": [
    "try:\n",
    "    df = pd.read_csv('notebooks/toxic_comments.csv')\n",
    "    print('загружено локально')\n",
    "except:\n",
    "    df = pd.read_csv('https://code.s3.yandex.net/datasets/toxic_comments.csv')\n",
    "    print('загружено удаленно')"
   ]
  },
  {
   "cell_type": "code",
   "execution_count": 4,
   "id": "f7bacaaec99cf6e3",
   "metadata": {
    "ExecuteTime": {
     "end_time": "2025-09-12T08:19:34.298625Z",
     "start_time": "2025-09-12T08:19:33.480904Z"
    }
   },
   "outputs": [
    {
     "name": "stdout",
     "output_type": "stream",
     "text": [
      "\n",
      "Информация о датасете:\n",
      "<class 'pandas.core.frame.DataFrame'>\n",
      "RangeIndex: 159292 entries, 0 to 159291\n",
      "Data columns (total 3 columns):\n",
      " #   Column      Non-Null Count   Dtype \n",
      "---  ------      --------------   ----- \n",
      " 0   Unnamed: 0  159292 non-null  int64 \n",
      " 1   text        159292 non-null  object\n",
      " 2   toxic       159292 non-null  int64 \n",
      "dtypes: int64(2), object(1)\n",
      "memory usage: 3.6+ MB\n"
     ]
    },
    {
     "data": {
      "text/plain": [
       "None"
      ]
     },
     "metadata": {},
     "output_type": "display_data"
    },
    {
     "name": "stdout",
     "output_type": "stream",
     "text": [
      "Первые 5 строк датасета:\n"
     ]
    },
    {
     "data": {
      "text/html": [
       "<div>\n",
       "<style scoped>\n",
       "    .dataframe tbody tr th:only-of-type {\n",
       "        vertical-align: middle;\n",
       "    }\n",
       "\n",
       "    .dataframe tbody tr th {\n",
       "        vertical-align: top;\n",
       "    }\n",
       "\n",
       "    .dataframe thead th {\n",
       "        text-align: right;\n",
       "    }\n",
       "</style>\n",
       "<table border=\"1\" class=\"dataframe\">\n",
       "  <thead>\n",
       "    <tr style=\"text-align: right;\">\n",
       "      <th></th>\n",
       "      <th>Unnamed: 0</th>\n",
       "      <th>text</th>\n",
       "      <th>toxic</th>\n",
       "    </tr>\n",
       "  </thead>\n",
       "  <tbody>\n",
       "    <tr>\n",
       "      <th>0</th>\n",
       "      <td>0</td>\n",
       "      <td>Explanation\\nWhy the edits made under my usern...</td>\n",
       "      <td>0</td>\n",
       "    </tr>\n",
       "    <tr>\n",
       "      <th>1</th>\n",
       "      <td>1</td>\n",
       "      <td>D'aww! He matches this background colour I'm s...</td>\n",
       "      <td>0</td>\n",
       "    </tr>\n",
       "    <tr>\n",
       "      <th>2</th>\n",
       "      <td>2</td>\n",
       "      <td>Hey man, I'm really not trying to edit war. It...</td>\n",
       "      <td>0</td>\n",
       "    </tr>\n",
       "    <tr>\n",
       "      <th>3</th>\n",
       "      <td>3</td>\n",
       "      <td>\"\\nMore\\nI can't make any real suggestions on ...</td>\n",
       "      <td>0</td>\n",
       "    </tr>\n",
       "    <tr>\n",
       "      <th>4</th>\n",
       "      <td>4</td>\n",
       "      <td>You, sir, are my hero. Any chance you remember...</td>\n",
       "      <td>0</td>\n",
       "    </tr>\n",
       "  </tbody>\n",
       "</table>\n",
       "</div>"
      ],
      "text/plain": [
       "   Unnamed: 0                                               text  toxic\n",
       "0           0  Explanation\\nWhy the edits made under my usern...      0\n",
       "1           1  D'aww! He matches this background colour I'm s...      0\n",
       "2           2  Hey man, I'm really not trying to edit war. It...      0\n",
       "3           3  \"\\nMore\\nI can't make any real suggestions on ...      0\n",
       "4           4  You, sir, are my hero. Any chance you remember...      0"
      ]
     },
     "metadata": {},
     "output_type": "display_data"
    },
    {
     "name": "stdout",
     "output_type": "stream",
     "text": [
      "Статистики датасета:\n"
     ]
    },
    {
     "data": {
      "text/html": [
       "<div>\n",
       "<style scoped>\n",
       "    .dataframe tbody tr th:only-of-type {\n",
       "        vertical-align: middle;\n",
       "    }\n",
       "\n",
       "    .dataframe tbody tr th {\n",
       "        vertical-align: top;\n",
       "    }\n",
       "\n",
       "    .dataframe thead th {\n",
       "        text-align: right;\n",
       "    }\n",
       "</style>\n",
       "<table border=\"1\" class=\"dataframe\">\n",
       "  <thead>\n",
       "    <tr style=\"text-align: right;\">\n",
       "      <th></th>\n",
       "      <th>Unnamed: 0</th>\n",
       "      <th>toxic</th>\n",
       "    </tr>\n",
       "  </thead>\n",
       "  <tbody>\n",
       "    <tr>\n",
       "      <th>count</th>\n",
       "      <td>159292.000000</td>\n",
       "      <td>159292.000000</td>\n",
       "    </tr>\n",
       "    <tr>\n",
       "      <th>mean</th>\n",
       "      <td>79725.697242</td>\n",
       "      <td>0.101612</td>\n",
       "    </tr>\n",
       "    <tr>\n",
       "      <th>std</th>\n",
       "      <td>46028.837471</td>\n",
       "      <td>0.302139</td>\n",
       "    </tr>\n",
       "    <tr>\n",
       "      <th>min</th>\n",
       "      <td>0.000000</td>\n",
       "      <td>0.000000</td>\n",
       "    </tr>\n",
       "    <tr>\n",
       "      <th>25%</th>\n",
       "      <td>39872.750000</td>\n",
       "      <td>0.000000</td>\n",
       "    </tr>\n",
       "    <tr>\n",
       "      <th>50%</th>\n",
       "      <td>79721.500000</td>\n",
       "      <td>0.000000</td>\n",
       "    </tr>\n",
       "    <tr>\n",
       "      <th>75%</th>\n",
       "      <td>119573.250000</td>\n",
       "      <td>0.000000</td>\n",
       "    </tr>\n",
       "    <tr>\n",
       "      <th>max</th>\n",
       "      <td>159450.000000</td>\n",
       "      <td>1.000000</td>\n",
       "    </tr>\n",
       "  </tbody>\n",
       "</table>\n",
       "</div>"
      ],
      "text/plain": [
       "          Unnamed: 0          toxic\n",
       "count  159292.000000  159292.000000\n",
       "mean    79725.697242       0.101612\n",
       "std     46028.837471       0.302139\n",
       "min         0.000000       0.000000\n",
       "25%     39872.750000       0.000000\n",
       "50%     79721.500000       0.000000\n",
       "75%    119573.250000       0.000000\n",
       "max    159450.000000       1.000000"
      ]
     },
     "metadata": {},
     "output_type": "display_data"
    },
    {
     "name": "stdout",
     "output_type": "stream",
     "text": [
      "\n",
      "Пропуски в данных:\n",
      "Unnamed: 0    0\n",
      "text          0\n",
      "toxic         0\n",
      "dtype: int64\n",
      "\n",
      "Количество дубликатов:\n",
      "0\n"
     ]
    },
    {
     "data": {
      "image/png": "[encoded data removed]",
      "text/plain": [
       "<Figure size 800x500 with 2 Axes>"
      ]
     },
     "metadata": {},
     "output_type": "display_data"
    },
    {
     "name": "stdout",
     "output_type": "stream",
     "text": [
      "\n"
     ]
    }
   ],
   "source": [
    "def check_df(df):\n",
    "    print(\"\\nИнформация о датасете:\")\n",
    "    display(df.info())\n",
    "    print(\"Первые 5 строк датасета:\")\n",
    "    display(df.head())\n",
    "    print(\"Статистики датасета:\")\n",
    "    display(df.describe())\n",
    "    print(\"\\nПропуски в данных:\")\n",
    "    print(df.isnull().sum())\n",
    "    print(\"\\nКоличество дубликатов:\")\n",
    "    print(df.duplicated().sum())\n",
    "\n",
    "    df.hist(figsize=(8,5), color='skyblue')\n",
    "    plt.xticks(rotation=45, fontsize=10)\n",
    "    plt.yticks(rotation=45, fontsize=10)\n",
    "    plt.tight_layout()\n",
    "    plt.show()\n",
    "\n",
    "    print()\n",
    "\n",
    "check_df(df)"
   ]
  },
  {
   "cell_type": "code",
   "execution_count": 5,
   "id": "b6c4ee1c187b088c",
   "metadata": {
    "ExecuteTime": {
     "end_time": "2025-09-12T08:19:34.423994Z",
     "start_time": "2025-09-12T08:19:34.318424Z"
    }
   },
   "outputs": [
    {
     "name": "stdout",
     "output_type": "stream",
     "text": [
      "\n",
      "Статистика длины текстов:\n",
      "count    159292.000000\n",
      "mean        393.691303\n",
      "std         590.111825\n",
      "min           5.000000\n",
      "25%          95.000000\n",
      "50%         205.000000\n",
      "75%         435.000000\n",
      "max        5000.000000\n",
      "Name: text_length, dtype: float64\n"
     ]
    }
   ],
   "source": [
    "# анализ длины текстов\n",
    "df['text_length'] = df['text'].apply(len)\n",
    "print(\"\\nСтатистика длины текстов:\")\n",
    "print(df['text_length'].describe())"
   ]
  },
  {
   "cell_type": "code",
   "execution_count": 6,
   "id": "e0da92e26f6f8ff8",
   "metadata": {
    "ExecuteTime": {
     "end_time": "2025-09-12T08:19:34.682642Z",
     "start_time": "2025-09-12T08:19:34.434170Z"
    }
   },
   "outputs": [
    {
     "data": {
      "image/png": "[encoded data removed]",
      "text/plain": [
       "<Figure size 1000x400 with 1 Axes>"
      ]
     },
     "metadata": {},
     "output_type": "display_data"
    }
   ],
   "source": [
    "# визуализация распределения длины текстов\n",
    "plt.figure(figsize=(10, 4))\n",
    "sns.histplot(df['text_length'], bins=70, color='skyblue')\n",
    "plt.title('Распределение длины текстов комментариев')\n",
    "plt.xlabel('Длина текста (символы)')\n",
    "plt.ylabel('Количество')\n",
    "plt.show()"
   ]
  },
  {
   "cell_type": "markdown",
   "id": "514006b120334c03",
   "metadata": {},
   "source": [
    "**Выводы по загрузке и анализу данных**\n",
    "- Датасет содержит 159292 строки, столбцы: `text`, `toxic`.\n",
    "- Столбец `Unnamed: 0` удалю как избыточный.\n",
    "- Пропуски и дубликаты отсутствуют.\n",
    "- Распределение классов: ~90% нетоксичных, ~10% токсичных (дисбаланс).\n",
    "- Для просмотра длины текста был создан столбец `text_length`.\n",
    "- Длина текстов: средняя ~393 символа, медиана ~205, максимум 5000 (явно выброс, нужно проверить) (BERT принимает до 512 токенов, нужно будет что-то делать с длинными текстами).\n",
    "- **Следующий шаг**: Исследовательский анализ данных"
   ]
  },
  {
   "cell_type": "markdown",
   "id": "2c1b21aa0a3654cb",
   "metadata": {
    "ExecuteTime": {
     "end_time": "2025-09-07T14:28:11.302487Z",
     "start_time": "2025-09-07T14:28:11.300243Z"
    }
   },
   "source": [
    "## EDA + предобработка"
   ]
  },
  {
   "cell_type": "markdown",
   "id": "bc53b14193e7bb5b",
   "metadata": {},
   "source": [
    "Для начала удалю избыточный столбец"
   ]
  },
  {
   "cell_type": "code",
   "execution_count": 7,
   "id": "25fec340cbefabbd",
   "metadata": {
    "ExecuteTime": {
     "end_time": "2025-09-12T08:19:34.724605Z",
     "start_time": "2025-09-12T08:19:34.708854Z"
    }
   },
   "outputs": [
    {
     "data": {
      "text/plain": [
       "((159292, 3), Index(['text', 'toxic', 'text_length'], dtype='object'))"
      ]
     },
     "execution_count": 7,
     "metadata": {},
     "output_type": "execute_result"
    }
   ],
   "source": [
    "df = df.drop(columns=['Unnamed: 0'])\n",
    "df.shape, df.columns"
   ]
  },
  {
   "cell_type": "code",
   "execution_count": 8,
   "id": "7860831fed2897c6",
   "metadata": {
    "ExecuteTime": {
     "end_time": "2025-09-12T08:19:34.761550Z",
     "start_time": "2025-09-12T08:19:34.753059Z"
    }
   },
   "outputs": [
    {
     "data": {
      "text/plain": [
       "toxic\n",
       "0    0.898388\n",
       "1    0.101612\n",
       "Name: proportion, dtype: float64"
      ]
     },
     "execution_count": 8,
     "metadata": {},
     "output_type": "execute_result"
    }
   ],
   "source": [
    "# повторно проверим распределение классов\n",
    "df['toxic'].value_counts(normalize=True)"
   ]
  },
  {
   "cell_type": "markdown",
   "id": "bdf88682f045f794",
   "metadata": {},
   "source": [
    "### Анализ длины текстов"
   ]
  },
  {
   "cell_type": "code",
   "execution_count": 9,
   "id": "743293da832457f7",
   "metadata": {
    "ExecuteTime": {
     "end_time": "2025-09-12T08:19:34.820172Z",
     "start_time": "2025-09-12T08:19:34.806198Z"
    }
   },
   "outputs": [
    {
     "data": {
      "text/plain": [
       "count    159292.000000\n",
       "mean        393.691303\n",
       "std         590.111825\n",
       "min           5.000000\n",
       "25%          95.000000\n",
       "50%         205.000000\n",
       "75%         435.000000\n",
       "max        5000.000000\n",
       "Name: text_length, dtype: float64"
      ]
     },
     "execution_count": 9,
     "metadata": {},
     "output_type": "execute_result"
    }
   ],
   "source": [
    "df['text_length'].describe()"
   ]
  },
  {
   "cell_type": "code",
   "execution_count": 10,
   "id": "ed13ac564301ff85",
   "metadata": {
    "ExecuteTime": {
     "end_time": "2025-09-12T08:19:35.359865Z",
     "start_time": "2025-09-12T08:19:34.880983Z"
    }
   },
   "outputs": [
    {
     "data": {
      "image/png": "[encoded data removed]",
      "text/plain": [
       "<Figure size 800x400 with 1 Axes>"
      ]
     },
     "metadata": {},
     "output_type": "display_data"
    }
   ],
   "source": [
    "# boxplot длины по классам\n",
    "plt.figure(figsize=(8, 4))\n",
    "sns.boxplot(x='toxic', y=df['text'].str.len(), hue='toxic', data=df, palette='Blues')\n",
    "plt.title('длина текстов по классам (символы)')\n",
    "plt.xlabel('класс (0 - нетоксичный, 1 - токсичный)')\n",
    "plt.ylabel('длина текста (символы)')\n",
    "plt.show()"
   ]
  },
  {
   "cell_type": "markdown",
   "id": "3f2d8f1a65660818",
   "metadata": {},
   "source": [
    "в данных достаточно много длинных комментариев"
   ]
  },
  {
   "cell_type": "code",
   "execution_count": 11,
   "id": "21c42bb8b38de8e1",
   "metadata": {
    "ExecuteTime": {
     "end_time": "2025-09-12T08:19:35.389965Z",
     "start_time": "2025-09-12T08:19:35.372425Z"
    }
   },
   "outputs": [
    {
     "data": {
      "text/plain": [
       "text           33851\n",
       "toxic          33851\n",
       "text_length    33851\n",
       "dtype: int64"
      ]
     },
     "execution_count": 11,
     "metadata": {},
     "output_type": "execute_result"
    }
   ],
   "source": [
    "df.query('text_length > 500').count()"
   ]
  },
  {
   "cell_type": "markdown",
   "id": "6e612d08e22252a4",
   "metadata": {},
   "source": [
    "комментов длиннее 500 символов почти пятая часть от всех данных"
   ]
  },
  {
   "cell_type": "code",
   "execution_count": 12,
   "id": "9426f89ab45a0f50",
   "metadata": {
    "ExecuteTime": {
     "end_time": "2025-09-12T08:19:38.057218Z",
     "start_time": "2025-09-12T08:19:35.405693Z"
    }
   },
   "outputs": [],
   "source": [
    "def get_top_words_and_ngrams(texts, top_n=30, ngram_range=(1, 1)):\n",
    "    # Получение топ-слов\n",
    "    if ngram_range == (1, 1):\n",
    "        vec = CountVectorizer(lowercase=True, stop_words='english')\n",
    "    else:\n",
    "        vec = CountVectorizer(ngram_range=ngram_range, lowercase=True, stop_words='english')\n",
    "\n",
    "    bag = vec.fit_transform(texts)\n",
    "    sums = bag.sum(axis=0)\n",
    "    freqs = [(word, sums[0, idx]) for word, idx in vec.vocabulary_.items()]\n",
    "    \n",
    "    top_words = sorted(freqs, key=lambda x: x[1], reverse=True)[:top_n]\n",
    "    \n",
    "    return top_words"
   ]
  },
  {
   "cell_type": "code",
   "execution_count": 13,
   "id": "75e90d70-eff9-41ec-84da-d9006dab1016",
   "metadata": {},
   "outputs": [
    {
     "name": "stdout",
     "output_type": "stream",
     "text": [
      "\n",
      "Топ-30 слов в токсичных комментариях:\n"
     ]
    },
    {
     "data": {
      "text/plain": [
       "[('fuck', np.int64(9988)),\n",
       " ('wikipedia', np.int64(3919)),\n",
       " ('like', np.int64(3798)),\n",
       " ('shit', np.int64(3688)),\n",
       " ('fucking', np.int64(3320)),\n",
       " ('nigger', np.int64(3306)),\n",
       " ('suck', np.int64(3245)),\n",
       " ('ass', np.int64(3001)),\n",
       " ('don', np.int64(2840)),\n",
       " ('just', np.int64(2738)),\n",
       " ('hate', np.int64(2655)),\n",
       " ('page', np.int64(2368)),\n",
       " ('know', np.int64(2364)),\n",
       " ('gay', np.int64(2262)),\n",
       " ('die', np.int64(2141)),\n",
       " ('people', np.int64(2057)),\n",
       " ('faggot', np.int64(2025)),\n",
       " ('fat', np.int64(1981)),\n",
       " ('moron', np.int64(1886)),\n",
       " ('bitch', np.int64(1834)),\n",
       " ('hi', np.int64(1712)),\n",
       " ('cunt', np.int64(1570)),\n",
       " ('article', np.int64(1569)),\n",
       " ('talk', np.int64(1539)),\n",
       " ('stop', np.int64(1509)),\n",
       " ('stupid', np.int64(1488)),\n",
       " ('wiki', np.int64(1478)),\n",
       " ('sucks', np.int64(1447)),\n",
       " ('user', np.int64(1413)),\n",
       " ('think', np.int64(1397))]"
      ]
     },
     "execution_count": 13,
     "metadata": {},
     "output_type": "execute_result"
    }
   ],
   "source": [
    "toxic_texts = df[df['toxic'] == 1]['text']\n",
    "non_toxic_texts = df[df['toxic'] == 0]['text']\n",
    "\n",
    "print(\"\\nТоп-30 слов в токсичных комментариях:\")\n",
    "get_top_words_and_ngrams(toxic_texts)"
   ]
  },
  {
   "cell_type": "markdown",
   "id": "32ca02921c147471",
   "metadata": {},
   "source": [
    "В данных очень много бесполезных слов, например, артиклей, местоимений. Также слова сами по себе не очень информативны, посмотрим n-граммы и долю капса (это признак токсичности обычно)."
   ]
  },
  {
   "cell_type": "code",
   "execution_count": 14,
   "id": "41e413325c9788d1",
   "metadata": {
    "ExecuteTime": {
     "end_time": "2025-09-12T08:19:41.792041Z",
     "start_time": "2025-09-12T08:19:38.074569Z"
    }
   },
   "outputs": [
    {
     "name": "stdout",
     "output_type": "stream",
     "text": [
      "\n",
      "Топ-30 биграмм в токсичных комментариях:\n"
     ]
    },
    {
     "data": {
      "text/plain": [
       "[('fuck fuck', np.int64(2959)),\n",
       " ('nigger nigger', np.int64(2149)),\n",
       " ('hate hate', np.int64(1570)),\n",
       " ('moron hi', np.int64(1474)),\n",
       " ('hi moron', np.int64(1472)),\n",
       " ('pig pig', np.int64(1250)),\n",
       " ('jew fat', np.int64(1234)),\n",
       " ('fat jew', np.int64(1226)),\n",
       " ('shit shit', np.int64(1149)),\n",
       " ('suck suck', np.int64(1136)),\n",
       " ('ass ass', np.int64(1127)),\n",
       " ('bark bark', np.int64(999)),\n",
       " ('wanker wanker', np.int64(963)),\n",
       " ('bullshit bullshit', np.int64(833)),\n",
       " ('balls balls', np.int64(833)),\n",
       " ('nipple nipple', np.int64(763)),\n",
       " ('faggot faggot', np.int64(755)),\n",
       " ('talk page', np.int64(737)),\n",
       " ('die die', np.int64(643)),\n",
       " ('dickhead dickhead', np.int64(625)),\n",
       " ('die fag', np.int64(625)),\n",
       " ('fag die', np.int64(624)),\n",
       " ('faggots faggots', np.int64(624)),\n",
       " ('fucksex fucksex', np.int64(623)),\n",
       " ('fuck yourselfgo', np.int64(621)),\n",
       " ('yourselfgo fuck', np.int64(621)),\n",
       " ('aids aids', np.int64(592)),\n",
       " ('freedom freedom', np.int64(572)),\n",
       " ('super gay', np.int64(501)),\n",
       " ('gay super', np.int64(499))]"
      ]
     },
     "metadata": {},
     "output_type": "display_data"
    },
    {
     "name": "stdout",
     "output_type": "stream",
     "text": [
      "\n",
      "Топ-30 триграмм в токсичных комментариях:\n"
     ]
    },
    {
     "data": {
      "text/plain": [
       "[('fuck fuck fuck', np.int64(2825)),\n",
       " ('nigger nigger nigger', np.int64(2139)),\n",
       " ('hate hate hate', np.int64(1547)),\n",
       " ('hi moron hi', np.int64(1468)),\n",
       " ('moron hi moron', np.int64(1466)),\n",
       " ('pig pig pig', np.int64(1248)),\n",
       " ('fat jew fat', np.int64(1226)),\n",
       " ('jew fat jew', np.int64(1224)),\n",
       " ('ass ass ass', np.int64(1124)),\n",
       " ('suck suck suck', np.int64(1116)),\n",
       " ('shit shit shit', np.int64(1107)),\n",
       " ('bark bark bark', np.int64(998)),\n",
       " ('wanker wanker wanker', np.int64(960)),\n",
       " ('balls balls balls', np.int64(831)),\n",
       " ('bullshit bullshit bullshit', np.int64(828)),\n",
       " ('nipple nipple nipple', np.int64(761)),\n",
       " ('faggot faggot faggot', np.int64(749)),\n",
       " ('die fag die', np.int64(624)),\n",
       " ('fag die fag', np.int64(624)),\n",
       " ('faggots faggots faggots', np.int64(623)),\n",
       " ('fucksex fucksex fucksex', np.int64(622)),\n",
       " ('fuck yourselfgo fuck', np.int64(621)),\n",
       " ('yourselfgo fuck yourselfgo', np.int64(619)),\n",
       " ('dickhead dickhead dickhead', np.int64(618)),\n",
       " ('freedom freedom freedom', np.int64(570)),\n",
       " ('die die die', np.int64(541)),\n",
       " ('super gay super', np.int64(499)),\n",
       " ('gay super gay', np.int64(499)),\n",
       " ('buttsecks buttsecks buttsecks', np.int64(495)),\n",
       " ('mothjer fucker cocksucker', np.int64(489))]"
      ]
     },
     "execution_count": 14,
     "metadata": {},
     "output_type": "execute_result"
    }
   ],
   "source": [
    "# Топ-30 биграмм в токсичных комментариях\n",
    "print(\"\\nТоп-30 биграмм в токсичных комментариях:\")\n",
    "display(get_top_words_and_ngrams(toxic_texts, ngram_range=(2, 2)))\n",
    "\n",
    "# Топ-30 триграмм в токсичных комментариях\n",
    "print(\"\\nТоп-30 триграмм в токсичных комментариях:\")\n",
    "get_top_words_and_ngrams(toxic_texts, ngram_range=(3, 3))"
   ]
  },
  {
   "cell_type": "code",
   "execution_count": 15,
   "id": "dcf3482cae82860f",
   "metadata": {
    "ExecuteTime": {
     "end_time": "2025-09-12T08:19:44.063031Z",
     "start_time": "2025-09-12T08:19:41.814101Z"
    }
   },
   "outputs": [
    {
     "data": {
      "image/png": "[encoded data removed]",
      "text/plain": [
       "<Figure size 1000x400 with 1 Axes>"
      ]
     },
     "metadata": {},
     "output_type": "display_data"
    },
    {
     "data": {
      "text/html": [
       "<div>\n",
       "<style scoped>\n",
       "    .dataframe tbody tr th:only-of-type {\n",
       "        vertical-align: middle;\n",
       "    }\n",
       "\n",
       "    .dataframe tbody tr th {\n",
       "        vertical-align: top;\n",
       "    }\n",
       "\n",
       "    .dataframe thead th {\n",
       "        text-align: right;\n",
       "    }\n",
       "</style>\n",
       "<table border=\"1\" class=\"dataframe\">\n",
       "  <thead>\n",
       "    <tr style=\"text-align: right;\">\n",
       "      <th></th>\n",
       "      <th>toxic</th>\n",
       "      <th>metric</th>\n",
       "      <th>count</th>\n",
       "    </tr>\n",
       "  </thead>\n",
       "  <tbody>\n",
       "    <tr>\n",
       "      <th>0</th>\n",
       "      <td>0</td>\n",
       "      <td>total_chars</td>\n",
       "      <td>57808611</td>\n",
       "    </tr>\n",
       "    <tr>\n",
       "      <th>1</th>\n",
       "      <td>1</td>\n",
       "      <td>total_chars</td>\n",
       "      <td>4903264</td>\n",
       "    </tr>\n",
       "    <tr>\n",
       "      <th>2</th>\n",
       "      <td>0</td>\n",
       "      <td>caps_chars</td>\n",
       "      <td>2035255</td>\n",
       "    </tr>\n",
       "    <tr>\n",
       "      <th>3</th>\n",
       "      <td>1</td>\n",
       "      <td>caps_chars</td>\n",
       "      <td>696383</td>\n",
       "    </tr>\n",
       "  </tbody>\n",
       "</table>\n",
       "</div>"
      ],
      "text/plain": [
       "   toxic       metric     count\n",
       "0      0  total_chars  57808611\n",
       "1      1  total_chars   4903264\n",
       "2      0   caps_chars   2035255\n",
       "3      1   caps_chars    696383"
      ]
     },
     "execution_count": 15,
     "metadata": {},
     "output_type": "execute_result"
    }
   ],
   "source": [
    "# считаем количество символов и капсов по классам\n",
    "df['total_chars'] = df['text'].str.len()\n",
    "df['caps_chars'] = df['text'].apply(lambda x: sum(1 for c in x if c.isupper()))\n",
    "\n",
    "agg = df.groupby('toxic')[['total_chars', 'caps_chars']].sum().reset_index()\n",
    "\n",
    "# визуализация\n",
    "agg_melted = agg.melt(id_vars='toxic', value_vars=['total_chars', 'caps_chars'],\n",
    "                      var_name='metric', value_name='count')\n",
    "\n",
    "plt.figure(figsize=(10,4))\n",
    "sns.barplot(x='toxic', y='count', hue='metric', data=agg_melted, palette='Blues')\n",
    "plt.title('Общее количество символов и капсов по классам')\n",
    "plt.xlabel('Класс (0 — нетоксичные, 1 — токсичные)')\n",
    "plt.ylabel('Количество символов')\n",
    "plt.legend(title='Метрика', labels=['Все символы', 'Заглавные символы'])\n",
    "plt.show()\n",
    "agg_melted"
   ]
  },
  {
   "cell_type": "markdown",
   "id": "45ee1ba4172683e4",
   "metadata": {},
   "source": [
    "- В биграммах и триграммах очень много слов повторяются, нужно проверить, почему.\n",
    "- Отношение капслоковых слов к общему количеству не очень большое, можно все слова привести в нижний регистр."
   ]
  },
  {
   "cell_type": "markdown",
   "id": "41c63fd7-271d-4015-bac5-732e3125ef3e",
   "metadata": {},
   "source": [
    "посмотрим, сколько из необработанных текстов сможет принять берт"
   ]
  },
  {
   "cell_type": "markdown",
   "id": "a3306ec0-0d30-43dc-8c12-3a73ea6d0d27",
   "metadata": {},
   "source": [
    "### Токенизация комментариев"
   ]
  },
  {
   "cell_type": "code",
   "execution_count": 16,
   "id": "238c570a-fc2a-4eb9-87f5-cff77f6eb16c",
   "metadata": {},
   "outputs": [
    {
     "name": "stderr",
     "output_type": "stream",
     "text": [
      "токенизация: 100%|██████████| 159292/159292 [02:30<00:00, 1061.64it/s]"
     ]
    },
    {
     "name": "stdout",
     "output_type": "stream",
     "text": [
      "\n",
      "статистика длины текстов (токены):\n",
      "count    159292.000000\n",
      "mean         88.134307\n",
      "std         102.500119\n",
      "min           4.000000\n",
      "25%          26.000000\n",
      "50%          52.000000\n",
      "75%         104.000000\n",
      "max         512.000000\n",
      "Name: text_token_length, dtype: float64\n"
     ]
    },
    {
     "name": "stderr",
     "output_type": "stream",
     "text": [
      "\n"
     ]
    }
   ],
   "source": [
    "# анализ длины в токенах\n",
    "tokenizer = BertTokenizer.from_pretrained('bert-base-uncased')\n",
    "token_lengths = []\n",
    "for text in tqdm(df['text'], desc=\"токенизация\"):\n",
    "    tokens = tokenizer.encode(text, add_special_tokens=True, truncation=True, max_length=512)\n",
    "    token_lengths.append(len(tokens))\n",
    "\n",
    "df['text_token_length'] = token_lengths\n",
    "print(\"\\nстатистика длины текстов (токены):\")\n",
    "print(df['text_token_length'].describe())"
   ]
  },
  {
   "cell_type": "code",
   "execution_count": 17,
   "id": "facc43df-003c-4573-ae76-a83d5e10042a",
   "metadata": {},
   "outputs": [
    {
     "data": {
      "image/png": "[encoded data removed]",
      "text/plain": [
       "<Figure size 1000x400 with 1 Axes>"
      ]
     },
     "metadata": {},
     "output_type": "display_data"
    }
   ],
   "source": [
    "# гистограмма длины в токенах\n",
    "plt.figure(figsize=(10, 4))\n",
    "sns.histplot(df['text_token_length'], bins=100, color='skyblue')\n",
    "plt.title('распределение длины текстов в токенах')\n",
    "plt.xlabel('длина текста (токены)')\n",
    "plt.ylabel('количество')\n",
    "plt.axvline(x=512, color='red', linestyle='--', label='bert max length (512)')\n",
    "plt.legend()\n",
    "plt.show()"
   ]
  },
  {
   "cell_type": "markdown",
   "id": "9c859f59-6aad-46d5-ba92-6cba512c5f79",
   "metadata": {},
   "source": [
    "токенайзер просто обрезал большинство текстов до 512 токенов. поработаем с качеством текстов."
   ]
  },
  {
   "cell_type": "markdown",
   "id": "2ec17dfd-b4db-4b2b-9f19-c911768f2b7c",
   "metadata": {},
   "source": [
    "### Обработка текстов"
   ]
  },
  {
   "cell_type": "markdown",
   "id": "1747bcbaaaedfa42",
   "metadata": {},
   "source": [
    "- загрузим стопслова\n",
    "- удалим пунктуацию\n",
    "- удалим все не-ascii символы\n",
    "- приведем все тексты в нижний регистр"
   ]
  },
  {
   "cell_type": "code",
   "execution_count": 18,
   "id": "437ce6693c3aca58",
   "metadata": {
    "ExecuteTime": {
     "end_time": "2025-09-12T08:19:44.231628Z",
     "start_time": "2025-09-12T08:19:44.079127Z"
    }
   },
   "outputs": [
    {
     "name": "stdout",
     "output_type": "stream",
     "text": [
      "тексты с не-ascii символами: 17178 (10.78%)\n",
      "\n",
      "статистика caps ratio по классам:\n"
     ]
    },
    {
     "data": {
      "text/html": [
       "<div>\n",
       "<style scoped>\n",
       "    .dataframe tbody tr th:only-of-type {\n",
       "        vertical-align: middle;\n",
       "    }\n",
       "\n",
       "    .dataframe tbody tr th {\n",
       "        vertical-align: top;\n",
       "    }\n",
       "\n",
       "    .dataframe thead th {\n",
       "        text-align: right;\n",
       "    }\n",
       "</style>\n",
       "<table border=\"1\" class=\"dataframe\">\n",
       "  <thead>\n",
       "    <tr style=\"text-align: right;\">\n",
       "      <th></th>\n",
       "      <th>count</th>\n",
       "      <th>mean</th>\n",
       "      <th>std</th>\n",
       "      <th>min</th>\n",
       "      <th>25%</th>\n",
       "      <th>50%</th>\n",
       "      <th>75%</th>\n",
       "      <th>max</th>\n",
       "    </tr>\n",
       "    <tr>\n",
       "      <th>toxic</th>\n",
       "      <th></th>\n",
       "      <th></th>\n",
       "      <th></th>\n",
       "      <th></th>\n",
       "      <th></th>\n",
       "      <th></th>\n",
       "      <th></th>\n",
       "      <th></th>\n",
       "    </tr>\n",
       "  </thead>\n",
       "  <tbody>\n",
       "    <tr>\n",
       "      <th>0</th>\n",
       "      <td>143106.0</td>\n",
       "      <td>0.044905</td>\n",
       "      <td>0.065405</td>\n",
       "      <td>0.0</td>\n",
       "      <td>0.020833</td>\n",
       "      <td>0.031579</td>\n",
       "      <td>0.047619</td>\n",
       "      <td>0.962963</td>\n",
       "    </tr>\n",
       "    <tr>\n",
       "      <th>1</th>\n",
       "      <td>16186.0</td>\n",
       "      <td>0.110978</td>\n",
       "      <td>0.207466</td>\n",
       "      <td>0.0</td>\n",
       "      <td>0.019380</td>\n",
       "      <td>0.034682</td>\n",
       "      <td>0.068042</td>\n",
       "      <td>0.998189</td>\n",
       "    </tr>\n",
       "  </tbody>\n",
       "</table>\n",
       "</div>"
      ],
      "text/plain": [
       "          count      mean       std  min       25%       50%       75%  \\\n",
       "toxic                                                                    \n",
       "0      143106.0  0.044905  0.065405  0.0  0.020833  0.031579  0.047619   \n",
       "1       16186.0  0.110978  0.207466  0.0  0.019380  0.034682  0.068042   \n",
       "\n",
       "            max  \n",
       "toxic            \n",
       "0      0.962963  \n",
       "1      0.998189  "
      ]
     },
     "metadata": {},
     "output_type": "display_data"
    }
   ],
   "source": [
    "# загружаем stopwords\n",
    "stop_words = set(stopwords.words('english'))\n",
    "\n",
    "# проверяем не-ascii перед удалением\n",
    "non_ascii = df[df['text'].str.contains('[^\\x00-\\x7F]', regex=True, na=False)]\n",
    "print(f\"тексты с не-ascii символами: {len(non_ascii)} ({len(non_ascii)/len(df)*100:.2f}%)\")\n",
    "\n",
    "# проверяем caps ratio (доля заглавных букв) перед lowercase\n",
    "def calc_caps_ratio(text):\n",
    "    if not text:\n",
    "        return 0\n",
    "    total_chars = len(text)\n",
    "    caps_chars = sum(1 for c in text if c.isupper())\n",
    "    return caps_chars / total_chars if total_chars > 0 else 0\n",
    "\n",
    "df['caps_ratio'] = df['text'].apply(calc_caps_ratio)\n",
    "print(\"\\nстатистика caps ratio по классам:\")\n",
    "display(df.groupby('toxic')['caps_ratio'].describe())\n",
    "\n",
    "# функция очистки текста\n",
    "def clean_text(text):\n",
    "    # переводим в нижний регистр\n",
    "    text = text.lower()\n",
    "    # удаляем не-ascii\n",
    "    text = re.sub(r'[^\\x00-\\x7F]', '', text)\n",
    "    # удаляем пунктуацию\n",
    "    text = re.sub(r'[^\\w\\s]', '', text)\n",
    "    # удаляем stopwords\n",
    "    words = [word for word in text.split() if word not in stop_words]\n",
    "    return ' '.join(words)\n",
    "\n",
    "# применяем очистку\n",
    "df['clean_text'] = df['text'].apply(clean_text)"
   ]
  },
  {
   "cell_type": "code",
   "execution_count": 19,
   "id": "393b0b33cf0dbebd",
   "metadata": {
    "ExecuteTime": {
     "end_time": "2025-09-12T08:19:44.247645400Z",
     "start_time": "2025-09-10T12:21:55.258828Z"
    }
   },
   "outputs": [
    {
     "name": "stdout",
     "output_type": "stream",
     "text": [
      "\n",
      "Топ-30 слов в токсичных комментариях:\n"
     ]
    },
    {
     "data": {
      "text/plain": [
       "[('fuck', np.int64(8662)),\n",
       " ('dont', np.int64(3877)),\n",
       " ('like', np.int64(3759)),\n",
       " ('shit', np.int64(3647)),\n",
       " ('wikipedia', np.int64(3473)),\n",
       " ('nigger', np.int64(3295)),\n",
       " ('fucking', np.int64(3222)),\n",
       " ('suck', np.int64(3044)),\n",
       " ('ass', np.int64(2652)),\n",
       " ('hate', np.int64(2636)),\n",
       " ('know', np.int64(2341)),\n",
       " ('page', np.int64(2328)),\n",
       " ('gay', np.int64(2245)),\n",
       " ('im', np.int64(2223)),\n",
       " ('die', np.int64(2136)),\n",
       " ('fat', np.int64(1978)),\n",
       " ('people', np.int64(1974)),\n",
       " ('faggot', np.int64(1962)),\n",
       " ('youre', np.int64(1925)),\n",
       " ('moron', np.int64(1885)),\n",
       " ('hi', np.int64(1709)),\n",
       " ('cunt', np.int64(1555)),\n",
       " ('article', np.int64(1535)),\n",
       " ('stop', np.int64(1485)),\n",
       " ('stupid', np.int64(1473)),\n",
       " ('sucks', np.int64(1445)),\n",
       " ('bitch', np.int64(1432)),\n",
       " ('think', np.int64(1392)),\n",
       " ('talk', np.int64(1380)),\n",
       " ('jew', np.int64(1349))]"
      ]
     },
     "execution_count": 19,
     "metadata": {},
     "output_type": "execute_result"
    }
   ],
   "source": [
    "toxic_texts = df[df['toxic'] == 1]['clean_text']\n",
    "non_toxic_texts = df[df['toxic'] == 0]['clean_text']\n",
    "\n",
    "print(\"\\nТоп-30 слов в токсичных комментариях:\")\n",
    "get_top_words_and_ngrams(toxic_texts)"
   ]
  },
  {
   "cell_type": "code",
   "execution_count": 20,
   "id": "718cf2d04ea94723",
   "metadata": {
    "ExecuteTime": {
     "end_time": "2025-09-12T08:19:44.259154400Z",
     "start_time": "2025-09-10T12:28:57.865401Z"
    }
   },
   "outputs": [
    {
     "name": "stdout",
     "output_type": "stream",
     "text": [
      "\n",
      "пустые тексты после очистки: 21\n"
     ]
    }
   ],
   "source": [
    "# проверяем пустые тексты после очистки\n",
    "empty_clean = df[df['clean_text'].str.strip().eq('')]\n",
    "print(f\"\\nпустые тексты после очистки: {len(empty_clean)}\")"
   ]
  },
  {
   "cell_type": "code",
   "execution_count": 21,
   "id": "8f18f79e2138fa0f",
   "metadata": {
    "ExecuteTime": {
     "end_time": "2025-09-12T08:19:44.263232400Z",
     "start_time": "2025-09-10T12:21:56.981740Z"
    }
   },
   "outputs": [
    {
     "data": {
      "text/html": [
       "<div>\n",
       "<style scoped>\n",
       "    .dataframe tbody tr th:only-of-type {\n",
       "        vertical-align: middle;\n",
       "    }\n",
       "\n",
       "    .dataframe tbody tr th {\n",
       "        vertical-align: top;\n",
       "    }\n",
       "\n",
       "    .dataframe thead th {\n",
       "        text-align: right;\n",
       "    }\n",
       "</style>\n",
       "<table border=\"1\" class=\"dataframe\">\n",
       "  <thead>\n",
       "    <tr style=\"text-align: right;\">\n",
       "      <th></th>\n",
       "      <th>text</th>\n",
       "      <th>toxic</th>\n",
       "      <th>text_length</th>\n",
       "      <th>total_chars</th>\n",
       "      <th>caps_chars</th>\n",
       "      <th>text_token_length</th>\n",
       "      <th>caps_ratio</th>\n",
       "      <th>clean_text</th>\n",
       "    </tr>\n",
       "  </thead>\n",
       "  <tbody>\n",
       "    <tr>\n",
       "      <th>0</th>\n",
       "      <td>Explanation\\nWhy the edits made under my usern...</td>\n",
       "      <td>0</td>\n",
       "      <td>264</td>\n",
       "      <td>264</td>\n",
       "      <td>17</td>\n",
       "      <td>68</td>\n",
       "      <td>0.064394</td>\n",
       "      <td>explanation edits made username hardcore metal...</td>\n",
       "    </tr>\n",
       "    <tr>\n",
       "      <th>1</th>\n",
       "      <td>D'aww! He matches this background colour I'm s...</td>\n",
       "      <td>0</td>\n",
       "      <td>112</td>\n",
       "      <td>112</td>\n",
       "      <td>8</td>\n",
       "      <td>35</td>\n",
       "      <td>0.071429</td>\n",
       "      <td>daww matches background colour im seemingly st...</td>\n",
       "    </tr>\n",
       "    <tr>\n",
       "      <th>2</th>\n",
       "      <td>Hey man, I'm really not trying to edit war. It...</td>\n",
       "      <td>0</td>\n",
       "      <td>233</td>\n",
       "      <td>233</td>\n",
       "      <td>4</td>\n",
       "      <td>54</td>\n",
       "      <td>0.017167</td>\n",
       "      <td>hey man im really trying edit war guy constant...</td>\n",
       "    </tr>\n",
       "    <tr>\n",
       "      <th>3</th>\n",
       "      <td>\"\\nMore\\nI can't make any real suggestions on ...</td>\n",
       "      <td>0</td>\n",
       "      <td>622</td>\n",
       "      <td>622</td>\n",
       "      <td>11</td>\n",
       "      <td>144</td>\n",
       "      <td>0.017685</td>\n",
       "      <td>cant make real suggestions improvement wondere...</td>\n",
       "    </tr>\n",
       "    <tr>\n",
       "      <th>4</th>\n",
       "      <td>You, sir, are my hero. Any chance you remember...</td>\n",
       "      <td>0</td>\n",
       "      <td>67</td>\n",
       "      <td>67</td>\n",
       "      <td>2</td>\n",
       "      <td>21</td>\n",
       "      <td>0.029851</td>\n",
       "      <td>sir hero chance remember page thats</td>\n",
       "    </tr>\n",
       "    <tr>\n",
       "      <th>5</th>\n",
       "      <td>\"\\n\\nCongratulations from me as well, use the ...</td>\n",
       "      <td>0</td>\n",
       "      <td>65</td>\n",
       "      <td>65</td>\n",
       "      <td>1</td>\n",
       "      <td>17</td>\n",
       "      <td>0.015385</td>\n",
       "      <td>congratulations well use tools well talk</td>\n",
       "    </tr>\n",
       "    <tr>\n",
       "      <th>6</th>\n",
       "      <td>COCKSUCKER BEFORE YOU PISS AROUND ON MY WORK</td>\n",
       "      <td>1</td>\n",
       "      <td>44</td>\n",
       "      <td>44</td>\n",
       "      <td>37</td>\n",
       "      <td>12</td>\n",
       "      <td>0.840909</td>\n",
       "      <td>cocksucker piss around work</td>\n",
       "    </tr>\n",
       "    <tr>\n",
       "      <th>7</th>\n",
       "      <td>Your vandalism to the Matt Shirvington article...</td>\n",
       "      <td>0</td>\n",
       "      <td>115</td>\n",
       "      <td>115</td>\n",
       "      <td>4</td>\n",
       "      <td>31</td>\n",
       "      <td>0.034783</td>\n",
       "      <td>vandalism matt shirvington article reverted pl...</td>\n",
       "    </tr>\n",
       "    <tr>\n",
       "      <th>8</th>\n",
       "      <td>Sorry if the word 'nonsense' was offensive to ...</td>\n",
       "      <td>0</td>\n",
       "      <td>472</td>\n",
       "      <td>472</td>\n",
       "      <td>7</td>\n",
       "      <td>119</td>\n",
       "      <td>0.014831</td>\n",
       "      <td>sorry word nonsense offensive anyway im intend...</td>\n",
       "    </tr>\n",
       "    <tr>\n",
       "      <th>9</th>\n",
       "      <td>alignment on this subject and which are contra...</td>\n",
       "      <td>0</td>\n",
       "      <td>70</td>\n",
       "      <td>70</td>\n",
       "      <td>2</td>\n",
       "      <td>17</td>\n",
       "      <td>0.028571</td>\n",
       "      <td>alignment subject contrary dulithgow</td>\n",
       "    </tr>\n",
       "    <tr>\n",
       "      <th>10</th>\n",
       "      <td>\"\\nFair use rationale for Image:Wonju.jpg\\n\\nT...</td>\n",
       "      <td>0</td>\n",
       "      <td>2875</td>\n",
       "      <td>2875</td>\n",
       "      <td>53</td>\n",
       "      <td>512</td>\n",
       "      <td>0.018435</td>\n",
       "      <td>fair use rationale imagewonjujpg thanks upload...</td>\n",
       "    </tr>\n",
       "    <tr>\n",
       "      <th>11</th>\n",
       "      <td>bbq \\n\\nbe a man and lets discuss it-maybe ove...</td>\n",
       "      <td>0</td>\n",
       "      <td>56</td>\n",
       "      <td>56</td>\n",
       "      <td>0</td>\n",
       "      <td>17</td>\n",
       "      <td>0.000000</td>\n",
       "      <td>bbq man lets discuss itmaybe phone</td>\n",
       "    </tr>\n",
       "    <tr>\n",
       "      <th>12</th>\n",
       "      <td>Hey... what is it..\\n@ | talk .\\nWhat is it......</td>\n",
       "      <td>1</td>\n",
       "      <td>319</td>\n",
       "      <td>319</td>\n",
       "      <td>43</td>\n",
       "      <td>90</td>\n",
       "      <td>0.134796</td>\n",
       "      <td>hey talk exclusive group wp talibanswho good d...</td>\n",
       "    </tr>\n",
       "    <tr>\n",
       "      <th>13</th>\n",
       "      <td>Before you start throwing accusations and warn...</td>\n",
       "      <td>0</td>\n",
       "      <td>819</td>\n",
       "      <td>819</td>\n",
       "      <td>6</td>\n",
       "      <td>181</td>\n",
       "      <td>0.007326</td>\n",
       "      <td>start throwing accusations warnings lets revie...</td>\n",
       "    </tr>\n",
       "    <tr>\n",
       "      <th>14</th>\n",
       "      <td>Oh, and the girl above started her arguments w...</td>\n",
       "      <td>0</td>\n",
       "      <td>219</td>\n",
       "      <td>219</td>\n",
       "      <td>8</td>\n",
       "      <td>53</td>\n",
       "      <td>0.036530</td>\n",
       "      <td>oh girl started arguments stuck nose doesnt be...</td>\n",
       "    </tr>\n",
       "    <tr>\n",
       "      <th>15</th>\n",
       "      <td>\"\\n\\nJuelz Santanas Age\\n\\nIn 2002, Juelz Sant...</td>\n",
       "      <td>0</td>\n",
       "      <td>610</td>\n",
       "      <td>610</td>\n",
       "      <td>28</td>\n",
       "      <td>167</td>\n",
       "      <td>0.045902</td>\n",
       "      <td>juelz santanas age 2002 juelz santana 18 years...</td>\n",
       "    </tr>\n",
       "    <tr>\n",
       "      <th>16</th>\n",
       "      <td>Bye! \\n\\nDon't look, come or think of comming ...</td>\n",
       "      <td>1</td>\n",
       "      <td>57</td>\n",
       "      <td>57</td>\n",
       "      <td>3</td>\n",
       "      <td>20</td>\n",
       "      <td>0.052632</td>\n",
       "      <td>bye dont look come think comming back tosser</td>\n",
       "    </tr>\n",
       "    <tr>\n",
       "      <th>17</th>\n",
       "      <td>REDIRECT Talk:Voydan Pop Georgiev- Chernodrinski</td>\n",
       "      <td>0</td>\n",
       "      <td>48</td>\n",
       "      <td>48</td>\n",
       "      <td>13</td>\n",
       "      <td>18</td>\n",
       "      <td>0.270833</td>\n",
       "      <td>redirect talkvoydan pop georgiev chernodrinski</td>\n",
       "    </tr>\n",
       "    <tr>\n",
       "      <th>18</th>\n",
       "      <td>The Mitsurugi point made no sense - why not ar...</td>\n",
       "      <td>0</td>\n",
       "      <td>118</td>\n",
       "      <td>118</td>\n",
       "      <td>5</td>\n",
       "      <td>32</td>\n",
       "      <td>0.042373</td>\n",
       "      <td>mitsurugi point made sense argue include hindi...</td>\n",
       "    </tr>\n",
       "    <tr>\n",
       "      <th>19</th>\n",
       "      <td>Don't mean to bother you \\n\\nI see that you're...</td>\n",
       "      <td>0</td>\n",
       "      <td>440</td>\n",
       "      <td>440</td>\n",
       "      <td>5</td>\n",
       "      <td>102</td>\n",
       "      <td>0.011364</td>\n",
       "      <td>dont mean bother see youre writing something r...</td>\n",
       "    </tr>\n",
       "  </tbody>\n",
       "</table>\n",
       "</div>"
      ],
      "text/plain": [
       "                                                 text  toxic  text_length  \\\n",
       "0   Explanation\\nWhy the edits made under my usern...      0          264   \n",
       "1   D'aww! He matches this background colour I'm s...      0          112   \n",
       "2   Hey man, I'm really not trying to edit war. It...      0          233   \n",
       "3   \"\\nMore\\nI can't make any real suggestions on ...      0          622   \n",
       "4   You, sir, are my hero. Any chance you remember...      0           67   \n",
       "5   \"\\n\\nCongratulations from me as well, use the ...      0           65   \n",
       "6        COCKSUCKER BEFORE YOU PISS AROUND ON MY WORK      1           44   \n",
       "7   Your vandalism to the Matt Shirvington article...      0          115   \n",
       "8   Sorry if the word 'nonsense' was offensive to ...      0          472   \n",
       "9   alignment on this subject and which are contra...      0           70   \n",
       "10  \"\\nFair use rationale for Image:Wonju.jpg\\n\\nT...      0         2875   \n",
       "11  bbq \\n\\nbe a man and lets discuss it-maybe ove...      0           56   \n",
       "12  Hey... what is it..\\n@ | talk .\\nWhat is it......      1          319   \n",
       "13  Before you start throwing accusations and warn...      0          819   \n",
       "14  Oh, and the girl above started her arguments w...      0          219   \n",
       "15  \"\\n\\nJuelz Santanas Age\\n\\nIn 2002, Juelz Sant...      0          610   \n",
       "16  Bye! \\n\\nDon't look, come or think of comming ...      1           57   \n",
       "17   REDIRECT Talk:Voydan Pop Georgiev- Chernodrinski      0           48   \n",
       "18  The Mitsurugi point made no sense - why not ar...      0          118   \n",
       "19  Don't mean to bother you \\n\\nI see that you're...      0          440   \n",
       "\n",
       "    total_chars  caps_chars  text_token_length  caps_ratio  \\\n",
       "0           264          17                 68    0.064394   \n",
       "1           112           8                 35    0.071429   \n",
       "2           233           4                 54    0.017167   \n",
       "3           622          11                144    0.017685   \n",
       "4            67           2                 21    0.029851   \n",
       "5            65           1                 17    0.015385   \n",
       "6            44          37                 12    0.840909   \n",
       "7           115           4                 31    0.034783   \n",
       "8           472           7                119    0.014831   \n",
       "9            70           2                 17    0.028571   \n",
       "10         2875          53                512    0.018435   \n",
       "11           56           0                 17    0.000000   \n",
       "12          319          43                 90    0.134796   \n",
       "13          819           6                181    0.007326   \n",
       "14          219           8                 53    0.036530   \n",
       "15          610          28                167    0.045902   \n",
       "16           57           3                 20    0.052632   \n",
       "17           48          13                 18    0.270833   \n",
       "18          118           5                 32    0.042373   \n",
       "19          440           5                102    0.011364   \n",
       "\n",
       "                                           clean_text  \n",
       "0   explanation edits made username hardcore metal...  \n",
       "1   daww matches background colour im seemingly st...  \n",
       "2   hey man im really trying edit war guy constant...  \n",
       "3   cant make real suggestions improvement wondere...  \n",
       "4                 sir hero chance remember page thats  \n",
       "5            congratulations well use tools well talk  \n",
       "6                         cocksucker piss around work  \n",
       "7   vandalism matt shirvington article reverted pl...  \n",
       "8   sorry word nonsense offensive anyway im intend...  \n",
       "9                alignment subject contrary dulithgow  \n",
       "10  fair use rationale imagewonjujpg thanks upload...  \n",
       "11                 bbq man lets discuss itmaybe phone  \n",
       "12  hey talk exclusive group wp talibanswho good d...  \n",
       "13  start throwing accusations warnings lets revie...  \n",
       "14  oh girl started arguments stuck nose doesnt be...  \n",
       "15  juelz santanas age 2002 juelz santana 18 years...  \n",
       "16       bye dont look come think comming back tosser  \n",
       "17     redirect talkvoydan pop georgiev chernodrinski  \n",
       "18  mitsurugi point made sense argue include hindi...  \n",
       "19  dont mean bother see youre writing something r...  "
      ]
     },
     "execution_count": 21,
     "metadata": {},
     "output_type": "execute_result"
    }
   ],
   "source": [
    "df.head(20)"
   ]
  },
  {
   "cell_type": "code",
   "execution_count": 22,
   "id": "aa013d1a96c2c99b",
   "metadata": {
    "ExecuteTime": {
     "end_time": "2025-09-12T08:19:44.264228200Z",
     "start_time": "2025-09-10T12:21:57.078347Z"
    }
   },
   "outputs": [
    {
     "name": "stdout",
     "output_type": "stream",
     "text": [
      "\n",
      "Статистика длины текстов:\n"
     ]
    },
    {
     "data": {
      "text/plain": [
       "count    159292.000000\n",
       "mean        254.377897\n",
       "std         395.470121\n",
       "min           0.000000\n",
       "25%          60.000000\n",
       "50%         131.000000\n",
       "75%         278.000000\n",
       "max        5000.000000\n",
       "Name: clean_text_length, dtype: float64"
      ]
     },
     "execution_count": 22,
     "metadata": {},
     "output_type": "execute_result"
    }
   ],
   "source": [
    "df['clean_text_length'] = df['clean_text'].apply(len)\n",
    "print(\"\\nСтатистика длины текстов:\")\n",
    "df['clean_text_length'].describe()"
   ]
  },
  {
   "cell_type": "code",
   "execution_count": 23,
   "id": "88e862f353e3f95d",
   "metadata": {
    "ExecuteTime": {
     "end_time": "2025-09-12T08:19:44.265216Z",
     "start_time": "2025-09-10T12:21:57.412933Z"
    }
   },
   "outputs": [
    {
     "data": {
      "text/html": [
       "<div>\n",
       "<style scoped>\n",
       "    .dataframe tbody tr th:only-of-type {\n",
       "        vertical-align: middle;\n",
       "    }\n",
       "\n",
       "    .dataframe tbody tr th {\n",
       "        vertical-align: top;\n",
       "    }\n",
       "\n",
       "    .dataframe thead th {\n",
       "        text-align: right;\n",
       "    }\n",
       "</style>\n",
       "<table border=\"1\" class=\"dataframe\">\n",
       "  <thead>\n",
       "    <tr style=\"text-align: right;\">\n",
       "      <th></th>\n",
       "      <th>text</th>\n",
       "      <th>toxic</th>\n",
       "      <th>text_length</th>\n",
       "      <th>total_chars</th>\n",
       "      <th>caps_chars</th>\n",
       "      <th>text_token_length</th>\n",
       "      <th>caps_ratio</th>\n",
       "      <th>clean_text</th>\n",
       "      <th>clean_text_length</th>\n",
       "    </tr>\n",
       "  </thead>\n",
       "  <tbody>\n",
       "    <tr>\n",
       "      <th>10</th>\n",
       "      <td>\"\\nFair use rationale for Image:Wonju.jpg\\n\\nT...</td>\n",
       "      <td>0</td>\n",
       "      <td>2875</td>\n",
       "      <td>2875</td>\n",
       "      <td>53</td>\n",
       "      <td>512</td>\n",
       "      <td>0.018435</td>\n",
       "      <td>fair use rationale imagewonjujpg thanks upload...</td>\n",
       "      <td>1829</td>\n",
       "    </tr>\n",
       "    <tr>\n",
       "      <th>50</th>\n",
       "      <td>\"\\n\\nBI, you said you wanted to talk\\n\\nAt the...</td>\n",
       "      <td>0</td>\n",
       "      <td>3150</td>\n",
       "      <td>3150</td>\n",
       "      <td>78</td>\n",
       "      <td>512</td>\n",
       "      <td>0.024762</td>\n",
       "      <td>bi said wanted talk bottom lead section writte...</td>\n",
       "      <td>2272</td>\n",
       "    </tr>\n",
       "    <tr>\n",
       "      <th>81</th>\n",
       "      <td>\"\\n\\nIs it scientific to attribute an event A,...</td>\n",
       "      <td>0</td>\n",
       "      <td>2749</td>\n",
       "      <td>2749</td>\n",
       "      <td>83</td>\n",
       "      <td>512</td>\n",
       "      <td>0.030193</td>\n",
       "      <td>scientific attribute event cause b cause b del...</td>\n",
       "      <td>1716</td>\n",
       "    </tr>\n",
       "    <tr>\n",
       "      <th>126</th>\n",
       "      <td>Ahh, Hello Witzeman \\n\\n203.92.84.161  \\nSymbo...</td>\n",
       "      <td>0</td>\n",
       "      <td>4364</td>\n",
       "      <td>4364</td>\n",
       "      <td>271</td>\n",
       "      <td>512</td>\n",
       "      <td>0.062099</td>\n",
       "      <td>ahh hello witzeman 2039284161 symbols characte...</td>\n",
       "      <td>2070</td>\n",
       "    </tr>\n",
       "    <tr>\n",
       "      <th>160</th>\n",
       "      <td>\"== Attributing and classifying of personaliti...</td>\n",
       "      <td>0</td>\n",
       "      <td>3958</td>\n",
       "      <td>3958</td>\n",
       "      <td>121</td>\n",
       "      <td>512</td>\n",
       "      <td>0.030571</td>\n",
       "      <td>attributing classifying personalities invitati...</td>\n",
       "      <td>2930</td>\n",
       "    </tr>\n",
       "    <tr>\n",
       "      <th>...</th>\n",
       "      <td>...</td>\n",
       "      <td>...</td>\n",
       "      <td>...</td>\n",
       "      <td>...</td>\n",
       "      <td>...</td>\n",
       "      <td>...</td>\n",
       "      <td>...</td>\n",
       "      <td>...</td>\n",
       "      <td>...</td>\n",
       "    </tr>\n",
       "    <tr>\n",
       "      <th>159127</th>\n",
       "      <td>Heres the talkpage discussion - that Jehocman ...</td>\n",
       "      <td>0</td>\n",
       "      <td>2647</td>\n",
       "      <td>2647</td>\n",
       "      <td>129</td>\n",
       "      <td>512</td>\n",
       "      <td>0.048734</td>\n",
       "      <td>heres talkpage discussion jehocman blocked hi ...</td>\n",
       "      <td>1599</td>\n",
       "    </tr>\n",
       "    <tr>\n",
       "      <th>159138</th>\n",
       "      <td>\"\\n\\n News suppressed on Wikipedia http://rexc...</td>\n",
       "      <td>0</td>\n",
       "      <td>4833</td>\n",
       "      <td>4833</td>\n",
       "      <td>168</td>\n",
       "      <td>512</td>\n",
       "      <td>0.034761</td>\n",
       "      <td>news suppressed wikipedia httprexcurrynetwikip...</td>\n",
       "      <td>3415</td>\n",
       "    </tr>\n",
       "    <tr>\n",
       "      <th>159164</th>\n",
       "      <td>\"\\nI understand you, but you also should under...</td>\n",
       "      <td>0</td>\n",
       "      <td>2262</td>\n",
       "      <td>2262</td>\n",
       "      <td>123</td>\n",
       "      <td>512</td>\n",
       "      <td>0.054377</td>\n",
       "      <td>understand also understand shouldnt revert wor...</td>\n",
       "      <td>1505</td>\n",
       "    </tr>\n",
       "    <tr>\n",
       "      <th>159180</th>\n",
       "      <td>\"\\n\\n Evidence Redux \\n\\nI'll be frank.  The b...</td>\n",
       "      <td>0</td>\n",
       "      <td>3508</td>\n",
       "      <td>3508</td>\n",
       "      <td>66</td>\n",
       "      <td>512</td>\n",
       "      <td>0.018814</td>\n",
       "      <td>evidence redux ill frank blocking came bit lat...</td>\n",
       "      <td>2194</td>\n",
       "    </tr>\n",
       "    <tr>\n",
       "      <th>159204</th>\n",
       "      <td>I have just followed from your edit exchange o...</td>\n",
       "      <td>0</td>\n",
       "      <td>4816</td>\n",
       "      <td>4816</td>\n",
       "      <td>67</td>\n",
       "      <td>512</td>\n",
       "      <td>0.013912</td>\n",
       "      <td>followed edit exchange article bluray disc fin...</td>\n",
       "      <td>3205</td>\n",
       "    </tr>\n",
       "  </tbody>\n",
       "</table>\n",
       "<p>3237 rows × 9 columns</p>\n",
       "</div>"
      ],
      "text/plain": [
       "                                                     text  toxic  text_length  \\\n",
       "10      \"\\nFair use rationale for Image:Wonju.jpg\\n\\nT...      0         2875   \n",
       "50      \"\\n\\nBI, you said you wanted to talk\\n\\nAt the...      0         3150   \n",
       "81      \"\\n\\nIs it scientific to attribute an event A,...      0         2749   \n",
       "126     Ahh, Hello Witzeman \\n\\n203.92.84.161  \\nSymbo...      0         4364   \n",
       "160     \"== Attributing and classifying of personaliti...      0         3958   \n",
       "...                                                   ...    ...          ...   \n",
       "159127  Heres the talkpage discussion - that Jehocman ...      0         2647   \n",
       "159138  \"\\n\\n News suppressed on Wikipedia http://rexc...      0         4833   \n",
       "159164  \"\\nI understand you, but you also should under...      0         2262   \n",
       "159180  \"\\n\\n Evidence Redux \\n\\nI'll be frank.  The b...      0         3508   \n",
       "159204  I have just followed from your edit exchange o...      0         4816   \n",
       "\n",
       "        total_chars  caps_chars  text_token_length  caps_ratio  \\\n",
       "10             2875          53                512    0.018435   \n",
       "50             3150          78                512    0.024762   \n",
       "81             2749          83                512    0.030193   \n",
       "126            4364         271                512    0.062099   \n",
       "160            3958         121                512    0.030571   \n",
       "...             ...         ...                ...         ...   \n",
       "159127         2647         129                512    0.048734   \n",
       "159138         4833         168                512    0.034761   \n",
       "159164         2262         123                512    0.054377   \n",
       "159180         3508          66                512    0.018814   \n",
       "159204         4816          67                512    0.013912   \n",
       "\n",
       "                                               clean_text  clean_text_length  \n",
       "10      fair use rationale imagewonjujpg thanks upload...               1829  \n",
       "50      bi said wanted talk bottom lead section writte...               2272  \n",
       "81      scientific attribute event cause b cause b del...               1716  \n",
       "126     ahh hello witzeman 2039284161 symbols characte...               2070  \n",
       "160     attributing classifying personalities invitati...               2930  \n",
       "...                                                   ...                ...  \n",
       "159127  heres talkpage discussion jehocman blocked hi ...               1599  \n",
       "159138  news suppressed wikipedia httprexcurrynetwikip...               3415  \n",
       "159164  understand also understand shouldnt revert wor...               1505  \n",
       "159180  evidence redux ill frank blocking came bit lat...               2194  \n",
       "159204  followed edit exchange article bluray disc fin...               3205  \n",
       "\n",
       "[3237 rows x 9 columns]"
      ]
     },
     "execution_count": 23,
     "metadata": {},
     "output_type": "execute_result"
    }
   ],
   "source": [
    "df.query('clean_text_length >= 1500')"
   ]
  },
  {
   "cell_type": "markdown",
   "id": "3dbfc18372b2a190",
   "metadata": {},
   "source": [
    "Комментарии состоящие из одного или нескольких повторяющихся слов, чередования слов, например, know fggt know fggt, и длиннее 1000-1500 символов, думаю, можно отнести к спаму и избавиться от них или обработать, например, сжать подряд идущие слова и устранить чередования."
   ]
  },
  {
   "cell_type": "markdown",
   "id": "6f715126-bab7-4841-8617-6e69d15b16a0",
   "metadata": {},
   "source": [
    "### Обработка спама"
   ]
  },
  {
   "cell_type": "code",
   "execution_count": 24,
   "id": "28ab0afd-afab-49d8-b3c0-0e8766f34eec",
   "metadata": {},
   "outputs": [],
   "source": [
    "# функция для подсчёта уникальности слов\n",
    "def uniqueness_score(text):\n",
    "    if not isinstance(text, str) or not text:\n",
    "        return 1.0\n",
    "    words = text.split()\n",
    "    return len(set(words)) / len(words) if words else 1.0\n",
    "\n",
    "# доработанная функция collapse_repeats\n",
    "def collapse_repeats(text, max_repeats=5):\n",
    "    if not isinstance(text, str) or not text:\n",
    "        return ''\n",
    "    \n",
    "    # разбиваем на слова\n",
    "    words = text.split()\n",
    "    result = []\n",
    "    seen_pairs = {}  # словарь для отслеживания чередующихся пар (A B A B)\n",
    "    \n",
    "    i = 0\n",
    "    while i < len(words):\n",
    "        # проверяем пары слов\n",
    "        if i + 1 < len(words):\n",
    "            pair = (words[i].lower(), words[i + 1].lower())\n",
    "            if pair in seen_pairs:\n",
    "                seen_pairs[pair] += 1\n",
    "                if seen_pairs[pair] > max_repeats:\n",
    "                    i += 2  # пропускаем повторяющуюся пару\n",
    "                    continue\n",
    "            else:\n",
    "                seen_pairs[pair] = 1\n",
    "            result.extend([words[i], words[i + 1]])\n",
    "            i += 2\n",
    "        else:\n",
    "            result.append(words[i])\n",
    "            i += 1\n",
    "    \n",
    "    return ' '.join(result)"
   ]
  },
  {
   "cell_type": "code",
   "execution_count": 25,
   "id": "99e0b5ed-dcf7-4b17-aa70-36aed7bf362e",
   "metadata": {},
   "outputs": [
    {
     "name": "stdout",
     "output_type": "stream",
     "text": [
      "\n",
      "потенциальный спам (уникальность <50%): 761 (0.48%)\n",
      "\n",
      "распределение классов в потенциальном спаме:\n",
      "toxic\n",
      "1    0.516426\n",
      "0    0.483574\n",
      "Name: proportion, dtype: float64\n",
      "\n",
      "примеры потенциального спама:\n",
      "                                                   text  \\\n",
      "505   2010 Meet a Local - Vietnam TV Series, Factual...   \n",
      "788   Other Bush articles not referenced in George W...   \n",
      "1043  \"\\n\\nOrphaned non-free image (Image:KSV Hessen...   \n",
      "1303  \"\\nWrong licenses\\nI have corrected the licens...   \n",
      "1336  I AM GAY\\nLove\\n  \\nI AM GAY\\nLove\\n  \\nI AM G...   \n",
      "\n",
      "                                             clean_text  \n",
      "505   2010 meet local vietnam tv series factual docu...  \n",
      "788   bush articles referenced george w bush none fo...  \n",
      "1043  orphaned nonfree image imageksv hessen kasselp...  \n",
      "1303  wrong licenses corrected licenses majority ima...  \n",
      "1336                         gay love gay love gay love  \n"
     ]
    }
   ],
   "source": [
    "df['text_length'] = df['clean_text'].str.len()\n",
    "df['uniqueness'] = df['clean_text'].apply(uniqueness_score)\n",
    "potential_spam = df[df['uniqueness'] < 0.5]\n",
    "print(f\"\\nпотенциальный спам (уникальность <50%): {len(potential_spam)} ({len(potential_spam)/len(df)*100:.2f}%)\")\n",
    "if len(potential_spam) > 0:\n",
    "    print(\"\\nраспределение классов в потенциальном спаме:\")\n",
    "    print(potential_spam['toxic'].value_counts(normalize=True))\n",
    "    print(\"\\nпримеры потенциального спама:\")\n",
    "    print(potential_spam[['text', 'clean_text']].head(5))"
   ]
  },
  {
   "cell_type": "code",
   "execution_count": 26,
   "id": "916cbbf1-18e2-4cd2-88d4-1619f55de0cf",
   "metadata": {},
   "outputs": [],
   "source": [
    "# применяем сжатие чередующихся повторов\n",
    "df['clean_text'] = df['clean_text'].apply(lambda x: collapse_repeats(x, max_repeats=2))"
   ]
  },
  {
   "cell_type": "code",
   "execution_count": 27,
   "id": "84241c59-45b2-4673-8e00-50392b6547db",
   "metadata": {},
   "outputs": [
    {
     "name": "stdout",
     "output_type": "stream",
     "text": [
      "\n",
      "статистика длины текстов после сжатия:\n",
      "count    159292.000000\n",
      "mean        248.057122\n",
      "std         371.017989\n",
      "min           0.000000\n",
      "25%          60.000000\n",
      "50%         130.000000\n",
      "75%         275.000000\n",
      "max        4965.000000\n",
      "Name: clean_text_length, dtype: float64\n",
      "\n",
      "тексты длиннее 512 символов после сжатия: 18191 (11.42%)\n",
      "\n",
      "пустые тексты после сжатия: 21 (0.01%)\n",
      "\n",
      "распределение классов в пустых текстах:\n",
      "toxic\n",
      "0    0.952381\n",
      "1    0.047619\n",
      "Name: proportion, dtype: float64\n"
     ]
    }
   ],
   "source": [
    "# проверяем результат\n",
    "df['clean_text_length'] = df['clean_text'].str.len()\n",
    "print(f\"\\nстатистика длины текстов после сжатия:\")\n",
    "print(df['clean_text_length'].describe())\n",
    "print(f\"\\nтексты длиннее 512 символов после сжатия: {len(df[df['clean_text_length'] > 512])} ({len(df[df['clean_text_length'] > 512])/len(df)*100:.2f}%)\")\n",
    "\n",
    "empty_clean = df[df['clean_text'].str.strip().eq('')]\n",
    "print(f\"\\nпустые тексты после сжатия: {len(empty_clean)} ({len(empty_clean)/len(df)*100:.2f}%)\")\n",
    "if len(empty_clean) > 0:\n",
    "    print(\"\\nраспределение классов в пустых текстах:\")\n",
    "    print(empty_clean['toxic'].value_counts(normalize=True))\n",
    "    df = df[~df['clean_text'].str.strip().eq('')]"
   ]
  },
  {
   "cell_type": "code",
   "execution_count": 28,
   "id": "083c6ecb-eb13-4094-b9da-63144bb601ca",
   "metadata": {},
   "outputs": [
    {
     "data": {
      "text/html": [
       "<div>\n",
       "<style scoped>\n",
       "    .dataframe tbody tr th:only-of-type {\n",
       "        vertical-align: middle;\n",
       "    }\n",
       "\n",
       "    .dataframe tbody tr th {\n",
       "        vertical-align: top;\n",
       "    }\n",
       "\n",
       "    .dataframe thead th {\n",
       "        text-align: right;\n",
       "    }\n",
       "</style>\n",
       "<table border=\"1\" class=\"dataframe\">\n",
       "  <thead>\n",
       "    <tr style=\"text-align: right;\">\n",
       "      <th></th>\n",
       "      <th>text</th>\n",
       "      <th>toxic</th>\n",
       "      <th>text_length</th>\n",
       "      <th>total_chars</th>\n",
       "      <th>caps_chars</th>\n",
       "      <th>text_token_length</th>\n",
       "      <th>caps_ratio</th>\n",
       "      <th>clean_text</th>\n",
       "      <th>clean_text_length</th>\n",
       "      <th>uniqueness</th>\n",
       "    </tr>\n",
       "  </thead>\n",
       "  <tbody>\n",
       "    <tr>\n",
       "      <th>259</th>\n",
       "      <td>Y r we doing this: Pat</td>\n",
       "      <td>0</td>\n",
       "      <td>5</td>\n",
       "      <td>22</td>\n",
       "      <td>2</td>\n",
       "      <td>9</td>\n",
       "      <td>0.090909</td>\n",
       "      <td>r pat</td>\n",
       "      <td>5</td>\n",
       "      <td>1.0</td>\n",
       "    </tr>\n",
       "    <tr>\n",
       "      <th>627</th>\n",
       "      <td>Seems we both have some.</td>\n",
       "      <td>0</td>\n",
       "      <td>5</td>\n",
       "      <td>24</td>\n",
       "      <td>1</td>\n",
       "      <td>8</td>\n",
       "      <td>0.041667</td>\n",
       "      <td>seems</td>\n",
       "      <td>5</td>\n",
       "      <td>1.0</td>\n",
       "    </tr>\n",
       "    <tr>\n",
       "      <th>807</th>\n",
       "      <td>You are \\n\\nso retarded.</td>\n",
       "      <td>1</td>\n",
       "      <td>8</td>\n",
       "      <td>22</td>\n",
       "      <td>1</td>\n",
       "      <td>9</td>\n",
       "      <td>0.045455</td>\n",
       "      <td>retarded</td>\n",
       "      <td>8</td>\n",
       "      <td>1.0</td>\n",
       "    </tr>\n",
       "    <tr>\n",
       "      <th>852</th>\n",
       "      <td>P.S. Are you a /b/tard?</td>\n",
       "      <td>1</td>\n",
       "      <td>8</td>\n",
       "      <td>23</td>\n",
       "      <td>3</td>\n",
       "      <td>15</td>\n",
       "      <td>0.130435</td>\n",
       "      <td>ps btard</td>\n",
       "      <td>8</td>\n",
       "      <td>1.0</td>\n",
       "    </tr>\n",
       "    <tr>\n",
       "      <th>899</th>\n",
       "      <td>I've just seen that</td>\n",
       "      <td>0</td>\n",
       "      <td>8</td>\n",
       "      <td>19</td>\n",
       "      <td>1</td>\n",
       "      <td>8</td>\n",
       "      <td>0.052632</td>\n",
       "      <td>ive seen</td>\n",
       "      <td>8</td>\n",
       "      <td>1.0</td>\n",
       "    </tr>\n",
       "    <tr>\n",
       "      <th>...</th>\n",
       "      <td>...</td>\n",
       "      <td>...</td>\n",
       "      <td>...</td>\n",
       "      <td>...</td>\n",
       "      <td>...</td>\n",
       "      <td>...</td>\n",
       "      <td>...</td>\n",
       "      <td>...</td>\n",
       "      <td>...</td>\n",
       "      <td>...</td>\n",
       "    </tr>\n",
       "    <tr>\n",
       "      <th>158791</th>\n",
       "      <td>!!! \\nDOWN WITH THE USA!!!</td>\n",
       "      <td>1</td>\n",
       "      <td>3</td>\n",
       "      <td>25</td>\n",
       "      <td>14</td>\n",
       "      <td>12</td>\n",
       "      <td>0.560000</td>\n",
       "      <td>usa</td>\n",
       "      <td>3</td>\n",
       "      <td>1.0</td>\n",
       "    </tr>\n",
       "    <tr>\n",
       "      <th>158964</th>\n",
       "      <td>wtf \\n\\n  your a queer</td>\n",
       "      <td>1</td>\n",
       "      <td>9</td>\n",
       "      <td>20</td>\n",
       "      <td>0</td>\n",
       "      <td>7</td>\n",
       "      <td>0.000000</td>\n",
       "      <td>wtf queer</td>\n",
       "      <td>9</td>\n",
       "      <td>1.0</td>\n",
       "    </tr>\n",
       "    <tr>\n",
       "      <th>159169</th>\n",
       "      <td>Yeah i no it sucks.</td>\n",
       "      <td>1</td>\n",
       "      <td>10</td>\n",
       "      <td>19</td>\n",
       "      <td>1</td>\n",
       "      <td>8</td>\n",
       "      <td>0.052632</td>\n",
       "      <td>yeah sucks</td>\n",
       "      <td>10</td>\n",
       "      <td>1.0</td>\n",
       "    </tr>\n",
       "    <tr>\n",
       "      <th>159193</th>\n",
       "      <td>You ignored him too</td>\n",
       "      <td>0</td>\n",
       "      <td>7</td>\n",
       "      <td>19</td>\n",
       "      <td>1</td>\n",
       "      <td>6</td>\n",
       "      <td>0.052632</td>\n",
       "      <td>ignored</td>\n",
       "      <td>7</td>\n",
       "      <td>1.0</td>\n",
       "    </tr>\n",
       "    <tr>\n",
       "      <th>159268</th>\n",
       "      <td>Thank you very, very much.  ·✆</td>\n",
       "      <td>0</td>\n",
       "      <td>10</td>\n",
       "      <td>30</td>\n",
       "      <td>1</td>\n",
       "      <td>11</td>\n",
       "      <td>0.033333</td>\n",
       "      <td>thank much</td>\n",
       "      <td>10</td>\n",
       "      <td>1.0</td>\n",
       "    </tr>\n",
       "  </tbody>\n",
       "</table>\n",
       "<p>1015 rows × 10 columns</p>\n",
       "</div>"
      ],
      "text/plain": [
       "                                  text  toxic  text_length  total_chars  \\\n",
       "259             Y r we doing this: Pat      0            5           22   \n",
       "627           Seems we both have some.      0            5           24   \n",
       "807           You are \\n\\nso retarded.      1            8           22   \n",
       "852            P.S. Are you a /b/tard?      1            8           23   \n",
       "899                I've just seen that      0            8           19   \n",
       "...                                ...    ...          ...          ...   \n",
       "158791      !!! \\nDOWN WITH THE USA!!!      1            3           25   \n",
       "158964          wtf \\n\\n  your a queer      1            9           20   \n",
       "159169             Yeah i no it sucks.      1           10           19   \n",
       "159193             You ignored him too      0            7           19   \n",
       "159268  Thank you very, very much.  ·✆      0           10           30   \n",
       "\n",
       "        caps_chars  text_token_length  caps_ratio  clean_text  \\\n",
       "259              2                  9    0.090909       r pat   \n",
       "627              1                  8    0.041667       seems   \n",
       "807              1                  9    0.045455    retarded   \n",
       "852              3                 15    0.130435    ps btard   \n",
       "899              1                  8    0.052632    ive seen   \n",
       "...            ...                ...         ...         ...   \n",
       "158791          14                 12    0.560000         usa   \n",
       "158964           0                  7    0.000000   wtf queer   \n",
       "159169           1                  8    0.052632  yeah sucks   \n",
       "159193           1                  6    0.052632     ignored   \n",
       "159268           1                 11    0.033333  thank much   \n",
       "\n",
       "        clean_text_length  uniqueness  \n",
       "259                     5         1.0  \n",
       "627                     5         1.0  \n",
       "807                     8         1.0  \n",
       "852                     8         1.0  \n",
       "899                     8         1.0  \n",
       "...                   ...         ...  \n",
       "158791                  3         1.0  \n",
       "158964                  9         1.0  \n",
       "159169                 10         1.0  \n",
       "159193                  7         1.0  \n",
       "159268                 10         1.0  \n",
       "\n",
       "[1015 rows x 10 columns]"
      ]
     },
     "execution_count": 28,
     "metadata": {},
     "output_type": "execute_result"
    }
   ],
   "source": [
    "df.query('clean_text_length <= 10')"
   ]
  },
  {
   "cell_type": "markdown",
   "id": "cd38aa11-df60-4247-befc-10d773c40360",
   "metadata": {},
   "source": [
    "stopwords, конечно, довольно сильно подрезал предложения, но, семантику, вроде, потеряли не слишком сильно, ключевые положительные и негативные слова, в большинстве своем, остались.\n",
    "далее можно удалить строки с комментариями короче 3 символов и посчитать длины текстов в токенах с помощью токенайзера берт."
   ]
  },
  {
   "cell_type": "code",
   "execution_count": 29,
   "id": "671d4919-f22c-4543-8e3d-340a93b2027b",
   "metadata": {},
   "outputs": [],
   "source": [
    "df = df.query('clean_text_length > 3')"
   ]
  },
  {
   "cell_type": "markdown",
   "id": "95c74a75-f66f-4661-ab98-57c927110b06",
   "metadata": {},
   "source": [
    "проверим качество обработки спама:"
   ]
  },
  {
   "cell_type": "code",
   "execution_count": 30,
   "id": "570d6389-2f48-424e-aa18-b2ae76bff0f0",
   "metadata": {},
   "outputs": [],
   "source": [
    "toxic_texts = df[df['toxic'] == 1]['clean_text']\n",
    "non_toxic_texts = df[df['toxic'] == 0]['clean_text']"
   ]
  },
  {
   "cell_type": "code",
   "execution_count": 31,
   "id": "76358182-8d11-4228-b09a-85c6c166f962",
   "metadata": {},
   "outputs": [
    {
     "name": "stdout",
     "output_type": "stream",
     "text": [
      "\n",
      "Топ-30 слов в токсичных комментариях:\n",
      "[('fuck', np.int64(3329)), ('dont', np.int64(3280)), ('like', np.int64(3099)), ('wikipedia', np.int64(2642)), ('fucking', np.int64(2274)), ('page', np.int64(2211)), ('im', np.int64(2017)), ('people', np.int64(1904)), ('know', np.int64(1831)), ('youre', np.int64(1671)), ('shit', np.int64(1606)), ('article', np.int64(1529)), ('think', np.int64(1389)), ('stop', np.int64(1373)), ('talk', np.int64(1267)), ('stupid', np.int64(1184)), ('time', np.int64(1142)), ('want', np.int64(1069)), ('ass', np.int64(1061)), ('life', np.int64(1041)), ('make', np.int64(977)), ('bitch', np.int64(954)), ('edit', np.int64(923)), ('really', np.int64(901)), ('little', np.int64(891)), ('block', np.int64(874)), ('right', np.int64(849)), ('say', np.int64(809)), ('going', np.int64(802)), ('good', np.int64(800))]\n",
      "\n",
      "Топ-30 биграмм в токсичных комментариях:\n",
      "[('talk page', np.int64(613)), ('dont know', np.int64(321)), ('piece shit', np.int64(244)), ('im going', np.int64(193)), ('fuck fuck', np.int64(190)), ('dont care', np.int64(183)), ('people like', np.int64(166)), ('personal attack', np.int64(158)), ('personal attacks', np.int64(155)), ('dont like', np.int64(148)), ('dont think', np.int64(135)), ('dont want', np.int64(124)), ('user page', np.int64(124)), ('ha ha', np.int64(119)), ('suck dick', np.int64(105)), ('comment added', np.int64(96)), ('im sure', np.int64(96)), ('unsigned comment', np.int64(94)), ('son bitch', np.int64(93)), ('preceding unsigned', np.int64(92)), ('youre fucking', np.int64(91)), ('ip address', np.int64(90)), ('shut fuck', np.int64(88)), ('im gonna', np.int64(85)), ('looks like', np.int64(79)), ('year old', np.int64(77)), ('editing wikipedia', np.int64(76)), ('talk pages', np.int64(72)), ('eat shit', np.int64(71)), ('dont understand', np.int64(70))]\n",
      "\n",
      "Топ-30 триграмм в токсичных комментариях:\n",
      "[('unsigned comment added', np.int64(94)), ('preceding unsigned comment', np.int64(92)), ('fuck fuck fuck', np.int64(62)), ('ha ha ha', np.int64(50)), ('blah blah blah', np.int64(24)), ('nigger nigger nigger', np.int64(22)), ('comments talk page', np.int64(20)), ('mothjer fucker cocksucker', np.int64(19)), ('im going kill', np.int64(18)), ('assume good faith', np.int64(18)), ('eat shit die', np.int64(17)), ('user talk page', np.int64(17)), ('comment added talk', np.int64(17)), ('homo like mitt', np.int64(16)), ('like mitt romney', np.int64(16)), ('added talk contribs', np.int64(16)), ('post computeri said', np.int64(16)), ('computeri said block', np.int64(16)), ('said block come', np.int64(16)), ('block come fuck', np.int64(16)), ('come fuck arrest', np.int64(16)), ('fuck arrest mesan', np.int64(16)), ('arrest mesan diego', np.int64(16)), ('mesan diego california', np.int64(16)), ('diego california chula', np.int64(16)), ('california chula vista', np.int64(16)), ('chula vista fucking', np.int64(16)), ('vista fucking information', np.int64(16)), ('fucking information right', np.int64(16)), ('information right faggot', np.int64(16))]\n"
     ]
    }
   ],
   "source": [
    "# Топ-30 слов в токсичных комментариях\n",
    "print(\"\\nТоп-30 слов в токсичных комментариях:\")\n",
    "print(get_top_words_and_ngrams(toxic_texts))\n",
    "\n",
    "# Топ-30 биграмм в токсичных комментариях\n",
    "print(\"\\nТоп-30 биграмм в токсичных комментариях:\")\n",
    "print(get_top_words_and_ngrams(toxic_texts, ngram_range=(2, 2)))\n",
    "\n",
    "# Топ-30 триграмм в токсичных комментариях\n",
    "print(\"\\nТоп-30 триграмм в токсичных комментариях:\")\n",
    "print(get_top_words_and_ngrams(toxic_texts, ngram_range=(3, 3)))"
   ]
  },
  {
   "cell_type": "markdown",
   "id": "85b796a5-f2f0-4287-aab9-05aadc9e3903",
   "metadata": {},
   "source": [
    "совершенно неплохо. количество повторов в н-граммах очень сильно снизилось, хоть и не полностью, но какое-то количество допустимо, так как при агрессивной обработке повторов можно потерять семантику текстов."
   ]
  },
  {
   "cell_type": "markdown",
   "id": "25de56f7-55be-46e2-9fcd-2ad25f4f7a3d",
   "metadata": {},
   "source": [
    "### Токенизация чистых комментов"
   ]
  },
  {
   "cell_type": "code",
   "execution_count": 32,
   "id": "a6e81a9c952973b3",
   "metadata": {
    "ExecuteTime": {
     "end_time": "2025-09-12T08:19:44.279215600Z",
     "start_time": "2025-09-10T12:21:59.754758Z"
    }
   },
   "outputs": [
    {
     "name": "stderr",
     "output_type": "stream",
     "text": [
      "токенизация: 100%|██████████| 159239/159239 [01:29<00:00, 1788.45it/s]"
     ]
    },
    {
     "name": "stdout",
     "output_type": "stream",
     "text": [
      "\n",
      "статистика длины текстов (токены):\n",
      "count    159239.000000\n",
      "mean         46.080100\n",
      "std          63.153953\n",
      "min           3.000000\n",
      "25%          14.000000\n",
      "50%          26.000000\n",
      "75%          51.000000\n",
      "max         512.000000\n",
      "Name: token_length, dtype: float64\n"
     ]
    },
    {
     "name": "stderr",
     "output_type": "stream",
     "text": [
      "\n"
     ]
    }
   ],
   "source": [
    "# анализ длины в токенах\n",
    "tokenizer = BertTokenizer.from_pretrained('bert-base-uncased')\n",
    "token_lengths = []\n",
    "for text in tqdm(df['clean_text'], desc=\"токенизация\"):\n",
    "    tokens = tokenizer.encode(text, add_special_tokens=True, truncation=True, max_length=512)\n",
    "    token_lengths.append(len(tokens))\n",
    "\n",
    "df['token_length'] = token_lengths\n",
    "print(\"\\nстатистика длины текстов (токены):\")\n",
    "print(df['token_length'].describe())"
   ]
  },
  {
   "cell_type": "code",
   "execution_count": 33,
   "id": "35ffb35fca10f40",
   "metadata": {
    "ExecuteTime": {
     "end_time": "2025-09-12T08:19:44.280215600Z",
     "start_time": "2025-09-07T14:55:32.580942Z"
    }
   },
   "outputs": [
    {
     "data": {
      "image/png": "[encoded data removed]",
      "text/plain": [
       "<Figure size 1000x400 with 1 Axes>"
      ]
     },
     "metadata": {},
     "output_type": "display_data"
    }
   ],
   "source": [
    "# гистограмма длины в токенах\n",
    "plt.figure(figsize=(10, 4))\n",
    "sns.histplot(df['token_length'], bins=100, color='skyblue')\n",
    "plt.title('распределение длины текстов в токенах')\n",
    "plt.xlabel('длина текста (токены)')\n",
    "plt.ylabel('количество')\n",
    "plt.axvline(x=512, color='red', linestyle='--', label='bert max length (512)')\n",
    "plt.legend()\n",
    "plt.show()"
   ]
  },
  {
   "cell_type": "markdown",
   "id": "b014d0ee-10ab-4fb4-a2e1-966944896b7e",
   "metadata": {},
   "source": [
    "обработка текстов показала себя хорошо. мы потеряли минимум данных и при этом токенайзер не просто обрезал комментарии на 512 токенах, как в необработанных текстах. почти все тексты влезли в необходимый порог. Далее посмотрим корреляции и зависимости."
   ]
  },
  {
   "cell_type": "markdown",
   "id": "c05f1529-c276-440c-970a-f302dd007dc6",
   "metadata": {},
   "source": [
    "## Корреляционный анализ"
   ]
  },
  {
   "cell_type": "code",
   "execution_count": 55,
   "id": "bbdcfbd0-ac08-4b2a-ab76-6eebfbb50fd2",
   "metadata": {},
   "outputs": [
    {
     "name": "stdout",
     "output_type": "stream",
     "text": [
      "\n",
      "корреляция Пирсона:\n"
     ]
    },
    {
     "data": {
      "text/html": [
       "<div>\n",
       "<style scoped>\n",
       "    .dataframe tbody tr th:only-of-type {\n",
       "        vertical-align: middle;\n",
       "    }\n",
       "\n",
       "    .dataframe tbody tr th {\n",
       "        vertical-align: top;\n",
       "    }\n",
       "\n",
       "    .dataframe thead th {\n",
       "        text-align: right;\n",
       "    }\n",
       "</style>\n",
       "<table border=\"1\" class=\"dataframe\">\n",
       "  <thead>\n",
       "    <tr style=\"text-align: right;\">\n",
       "      <th></th>\n",
       "      <th>caps_ratio</th>\n",
       "      <th>clean_text_length</th>\n",
       "      <th>token_length</th>\n",
       "      <th>uniqueness</th>\n",
       "      <th>toxic</th>\n",
       "      <th>text_length</th>\n",
       "      <th>total_chars</th>\n",
       "      <th>caps_chars</th>\n",
       "    </tr>\n",
       "  </thead>\n",
       "  <tbody>\n",
       "    <tr>\n",
       "      <th>caps_ratio</th>\n",
       "      <td>1.000000</td>\n",
       "      <td>-0.095778</td>\n",
       "      <td>-0.086532</td>\n",
       "      <td>-0.015129</td>\n",
       "      <td>0.214987</td>\n",
       "      <td>-0.043195</td>\n",
       "      <td>-0.057872</td>\n",
       "      <td>0.310289</td>\n",
       "    </tr>\n",
       "    <tr>\n",
       "      <th>clean_text_length</th>\n",
       "      <td>-0.095778</td>\n",
       "      <td>1.000000</td>\n",
       "      <td>0.982545</td>\n",
       "      <td>-0.505409</td>\n",
       "      <td>-0.084531</td>\n",
       "      <td>0.943450</td>\n",
       "      <td>0.954644</td>\n",
       "      <td>0.197935</td>\n",
       "    </tr>\n",
       "    <tr>\n",
       "      <th>token_length</th>\n",
       "      <td>-0.086532</td>\n",
       "      <td>0.982545</td>\n",
       "      <td>1.000000</td>\n",
       "      <td>-0.509078</td>\n",
       "      <td>-0.073891</td>\n",
       "      <td>0.928889</td>\n",
       "      <td>0.942517</td>\n",
       "      <td>0.192931</td>\n",
       "    </tr>\n",
       "    <tr>\n",
       "      <th>uniqueness</th>\n",
       "      <td>-0.015129</td>\n",
       "      <td>-0.505409</td>\n",
       "      <td>-0.509078</td>\n",
       "      <td>1.000000</td>\n",
       "      <td>0.009347</td>\n",
       "      <td>-0.588640</td>\n",
       "      <td>-0.585243</td>\n",
       "      <td>-0.328607</td>\n",
       "    </tr>\n",
       "    <tr>\n",
       "      <th>toxic</th>\n",
       "      <td>0.214987</td>\n",
       "      <td>-0.084531</td>\n",
       "      <td>-0.073891</td>\n",
       "      <td>0.009347</td>\n",
       "      <td>1.000000</td>\n",
       "      <td>-0.048388</td>\n",
       "      <td>-0.051740</td>\n",
       "      <td>0.090100</td>\n",
       "    </tr>\n",
       "    <tr>\n",
       "      <th>text_length</th>\n",
       "      <td>-0.043195</td>\n",
       "      <td>0.943450</td>\n",
       "      <td>0.928889</td>\n",
       "      <td>-0.588640</td>\n",
       "      <td>-0.048388</td>\n",
       "      <td>1.000000</td>\n",
       "      <td>0.989913</td>\n",
       "      <td>0.403906</td>\n",
       "    </tr>\n",
       "    <tr>\n",
       "      <th>total_chars</th>\n",
       "      <td>-0.057872</td>\n",
       "      <td>0.954644</td>\n",
       "      <td>0.942517</td>\n",
       "      <td>-0.585243</td>\n",
       "      <td>-0.051740</td>\n",
       "      <td>0.989913</td>\n",
       "      <td>1.000000</td>\n",
       "      <td>0.370251</td>\n",
       "    </tr>\n",
       "    <tr>\n",
       "      <th>caps_chars</th>\n",
       "      <td>0.310289</td>\n",
       "      <td>0.197935</td>\n",
       "      <td>0.192931</td>\n",
       "      <td>-0.328607</td>\n",
       "      <td>0.090100</td>\n",
       "      <td>0.403906</td>\n",
       "      <td>0.370251</td>\n",
       "      <td>1.000000</td>\n",
       "    </tr>\n",
       "  </tbody>\n",
       "</table>\n",
       "</div>"
      ],
      "text/plain": [
       "                   caps_ratio  clean_text_length  token_length  uniqueness  \\\n",
       "caps_ratio           1.000000          -0.095778     -0.086532   -0.015129   \n",
       "clean_text_length   -0.095778           1.000000      0.982545   -0.505409   \n",
       "token_length        -0.086532           0.982545      1.000000   -0.509078   \n",
       "uniqueness          -0.015129          -0.505409     -0.509078    1.000000   \n",
       "toxic                0.214987          -0.084531     -0.073891    0.009347   \n",
       "text_length         -0.043195           0.943450      0.928889   -0.588640   \n",
       "total_chars         -0.057872           0.954644      0.942517   -0.585243   \n",
       "caps_chars           0.310289           0.197935      0.192931   -0.328607   \n",
       "\n",
       "                      toxic  text_length  total_chars  caps_chars  \n",
       "caps_ratio         0.214987    -0.043195    -0.057872    0.310289  \n",
       "clean_text_length -0.084531     0.943450     0.954644    0.197935  \n",
       "token_length      -0.073891     0.928889     0.942517    0.192931  \n",
       "uniqueness         0.009347    -0.588640    -0.585243   -0.328607  \n",
       "toxic              1.000000    -0.048388    -0.051740    0.090100  \n",
       "text_length       -0.048388     1.000000     0.989913    0.403906  \n",
       "total_chars       -0.051740     0.989913     1.000000    0.370251  \n",
       "caps_chars         0.090100     0.403906     0.370251    1.000000  "
      ]
     },
     "metadata": {},
     "output_type": "display_data"
    },
    {
     "data": {
      "image/png": "[encoded data removed]",
      "text/plain": [
       "<Figure size 800x600 with 2 Axes>"
      ]
     },
     "metadata": {},
     "output_type": "display_data"
    }
   ],
   "source": [
    "# корреляция между числовыми признаками и toxic\n",
    "corr_matrix = df[['caps_ratio', \n",
    "                  'clean_text_length', \n",
    "                  'token_length', \n",
    "                  'uniqueness', \n",
    "                  'toxic', \n",
    "                  'text_length', \n",
    "                  'total_chars', \n",
    "                  'caps_chars',\n",
    "                  ]].corr(method='pearson')\n",
    "print(\"\\nкорреляция Пирсона:\")\n",
    "display(corr_matrix)\n",
    "\n",
    "# визуализация корреляционной матрицы\n",
    "plt.figure(figsize=(8, 6))\n",
    "sns.heatmap(corr_matrix, annot=True, cmap='Blues', fmt='.2f')\n",
    "plt.title('корреляция между признаками и toxic')\n",
    "plt.show()"
   ]
  },
  {
   "cell_type": "markdown",
   "id": "9663e1c8-5f6e-4361-9cfb-c04f25721370",
   "metadata": {},
   "source": [
    "- **Корреляция Пирсона**:  \n",
    "  - `caps_ratio` имеет умеренную положительную корреляцию с `toxic` (r=0.2150), что подтверждает: токсичные тексты чаще содержат заглавные буквы.  \n",
    "  - `clean_text_length` и `token_length` слабо отрицательно коррелируют с `toxic` (r=-0.0845 и r=-0.0739), указывая, что токсичные тексты слегка короче.  \n",
    "  - `uniqueness` имеет почти нулевую корреляцию с `toxic` (r=0.0093), то есть уникальность слов не влияет на токсичность.  \n",
    "  - Высокая корреляция между `clean_text_length` и `token_length` (r=0.9825) ожидаема, так как они измеряют длину текста. "
   ]
  },
  {
   "cell_type": "code",
   "execution_count": 38,
   "id": "0b07c0b8-4265-4229-a3ad-cd424b7028e9",
   "metadata": {},
   "outputs": [
    {
     "name": "stdout",
     "output_type": "stream",
     "text": [
      "\n",
      "точечная биссериальная корреляция для caps_ratio:\n",
      "корреляция: 0.2150, p-value: 0.0000\n",
      "\n",
      "точечная биссериальная корреляция для clean_text_length:\n",
      "корреляция: -0.0845, p-value: 0.0000\n",
      "\n",
      "точечная биссериальная корреляция для token_length:\n",
      "корреляция: -0.0739, p-value: 0.0000\n",
      "\n",
      "точечная биссериальная корреляция для uniqueness:\n",
      "корреляция: 0.0093, p-value: 0.0002\n"
     ]
    },
    {
     "data": {
      "image/png": "[encoded data removed]",
      "text/plain": [
       "<Figure size 800x400 with 1 Axes>"
      ]
     },
     "metadata": {},
     "output_type": "display_data"
    }
   ],
   "source": [
    "# точечная биссериальная корреляция для toxic (бинарный)\n",
    "for feature in ['caps_ratio', 'clean_text_length', 'token_length', 'uniqueness']:\n",
    "    corr, p_value = pointbiserialr(df[feature], df['toxic'])\n",
    "    print(f\"\\nточечная биссериальная корреляция для {feature}:\")\n",
    "    print(f\"корреляция: {corr:.4f}, p-value: {p_value:.4f}\")\n",
    "\n",
    "# boxplot для token_length по классам\n",
    "plt.figure(figsize=(8, 4))\n",
    "sns.boxplot(x='toxic', y='token_length', hue='toxic', data=df, palette='Blues')\n",
    "plt.title('длина текстов в токенах по классам')\n",
    "plt.xlabel('класс (0 - нетоксичный, 1 - токсичный)')\n",
    "plt.ylabel('длина текста (токены)')\n",
    "plt.show()"
   ]
  },
  {
   "cell_type": "markdown",
   "id": "81991e6f-26a6-497f-9d88-9ceb2ccf6426",
   "metadata": {},
   "source": [
    "- **Точечная биссериальная корреляция**:  \n",
    "  - Подтверждает выводы Пирсона: `caps_ratio` (r=0.2150, p=0.0000) хорошо связан с токсичностью, `clean_text_length` и `token_length` имеют слабую связь, `uniqueness` почти не влияет (p=0.0002, но r=0.0093).\n",
    "- **Boxplot `token_length`**:  \n",
    "  - Токсичные тексты имеют меньшую медианную длину (около 40 токенов) по сравнению с нетоксичными (около 50 токенов), но разница небольшая."
   ]
  },
  {
   "cell_type": "code",
   "execution_count": 40,
   "id": "65c37066-7920-4bfc-9aab-b7e8d072f06a",
   "metadata": {},
   "outputs": [
    {
     "name": "stdout",
     "output_type": "stream",
     "text": [
      "\n",
      "статистика частоты токсичных слов по классам:\n"
     ]
    },
    {
     "data": {
      "text/html": [
       "<div>\n",
       "<style scoped>\n",
       "    .dataframe tbody tr th:only-of-type {\n",
       "        vertical-align: middle;\n",
       "    }\n",
       "\n",
       "    .dataframe tbody tr th {\n",
       "        vertical-align: top;\n",
       "    }\n",
       "\n",
       "    .dataframe thead th {\n",
       "        text-align: right;\n",
       "    }\n",
       "</style>\n",
       "<table border=\"1\" class=\"dataframe\">\n",
       "  <thead>\n",
       "    <tr style=\"text-align: right;\">\n",
       "      <th></th>\n",
       "      <th>count</th>\n",
       "      <th>mean</th>\n",
       "      <th>std</th>\n",
       "      <th>min</th>\n",
       "      <th>25%</th>\n",
       "      <th>50%</th>\n",
       "      <th>75%</th>\n",
       "      <th>max</th>\n",
       "    </tr>\n",
       "    <tr>\n",
       "      <th>toxic</th>\n",
       "      <th></th>\n",
       "      <th></th>\n",
       "      <th></th>\n",
       "      <th></th>\n",
       "      <th></th>\n",
       "      <th></th>\n",
       "      <th></th>\n",
       "      <th></th>\n",
       "    </tr>\n",
       "  </thead>\n",
       "  <tbody>\n",
       "    <tr>\n",
       "      <th>0</th>\n",
       "      <td>143058.0</td>\n",
       "      <td>0.154252</td>\n",
       "      <td>0.600155</td>\n",
       "      <td>0.0</td>\n",
       "      <td>0.0</td>\n",
       "      <td>0.0</td>\n",
       "      <td>0.0</td>\n",
       "      <td>28.0</td>\n",
       "    </tr>\n",
       "    <tr>\n",
       "      <th>1</th>\n",
       "      <td>16181.0</td>\n",
       "      <td>1.060874</td>\n",
       "      <td>9.987325</td>\n",
       "      <td>0.0</td>\n",
       "      <td>0.0</td>\n",
       "      <td>0.0</td>\n",
       "      <td>1.0</td>\n",
       "      <td>1238.0</td>\n",
       "    </tr>\n",
       "  </tbody>\n",
       "</table>\n",
       "</div>"
      ],
      "text/plain": [
       "          count      mean       std  min  25%  50%  75%     max\n",
       "toxic                                                          \n",
       "0      143058.0  0.154252  0.600155  0.0  0.0  0.0  0.0    28.0\n",
       "1       16181.0  1.060874  9.987325  0.0  0.0  0.0  1.0  1238.0"
      ]
     },
     "execution_count": 40,
     "metadata": {},
     "output_type": "execute_result"
    }
   ],
   "source": [
    "# анализ частоты токсичных слов\n",
    "toxic_words = ['fuck', 'shit', 'nigger', 'ass', 'faggot', 'bitch', 'cunt']\n",
    "def count_toxic_words(text):\n",
    "    if not isinstance(text, str):\n",
    "        return 0\n",
    "    return sum(text.lower().count(word) for word in toxic_words)\n",
    "\n",
    "df['toxic_word_count'] = df['clean_text'].apply(count_toxic_words)\n",
    "print(\"\\nстатистика частоты токсичных слов по классам:\")\n",
    "df.groupby('toxic')['toxic_word_count'].describe()"
   ]
  },
  {
   "cell_type": "markdown",
   "id": "69b297a3-ed05-45e7-a149-afff40cb6041",
   "metadata": {},
   "source": [
    "- **Частота токсичных слов**:  \n",
    "  - Токсичные тексты содержат значительно больше токсичных слов (mean=1.06, max=1238) по сравнению с нетоксичными (mean=0.15, max=28).  \n",
    "  - Признак `toxic_word_count` важен для модели, так как явно различает классы."
   ]
  },
  {
   "cell_type": "markdown",
   "id": "58f3ce36-b98d-47c1-96cb-58e465041854",
   "metadata": {},
   "source": [
    "### Подготовка к обучению"
   ]
  },
  {
   "cell_type": "code",
   "execution_count": 54,
   "id": "75f02530-ae1f-4e4d-9b40-cbdedecf0233",
   "metadata": {},
   "outputs": [
    {
     "name": "stdout",
     "output_type": "stream",
     "text": [
      "<class 'pandas.core.frame.DataFrame'>\n",
      "Index: 159239 entries, 0 to 159291\n",
      "Data columns (total 12 columns):\n",
      " #   Column             Non-Null Count   Dtype  \n",
      "---  ------             --------------   -----  \n",
      " 0   text               159239 non-null  object \n",
      " 1   toxic              159239 non-null  int64  \n",
      " 2   text_length        159239 non-null  int64  \n",
      " 3   total_chars        159239 non-null  int64  \n",
      " 4   caps_chars         159239 non-null  int64  \n",
      " 5   text_token_length  159239 non-null  int64  \n",
      " 6   caps_ratio         159239 non-null  float64\n",
      " 7   clean_text         159239 non-null  object \n",
      " 8   clean_text_length  159239 non-null  int64  \n",
      " 9   uniqueness         159239 non-null  float64\n",
      " 10  token_length       159239 non-null  int64  \n",
      " 11  toxic_word_count   159239 non-null  int64  \n",
      "dtypes: float64(2), int64(8), object(2)\n",
      "memory usage: 15.8+ MB\n",
      "None\n"
     ]
    },
    {
     "data": {
      "text/html": [
       "<div>\n",
       "<style scoped>\n",
       "    .dataframe tbody tr th:only-of-type {\n",
       "        vertical-align: middle;\n",
       "    }\n",
       "\n",
       "    .dataframe tbody tr th {\n",
       "        vertical-align: top;\n",
       "    }\n",
       "\n",
       "    .dataframe thead th {\n",
       "        text-align: right;\n",
       "    }\n",
       "</style>\n",
       "<table border=\"1\" class=\"dataframe\">\n",
       "  <thead>\n",
       "    <tr style=\"text-align: right;\">\n",
       "      <th></th>\n",
       "      <th>text</th>\n",
       "      <th>toxic</th>\n",
       "      <th>text_length</th>\n",
       "      <th>total_chars</th>\n",
       "      <th>caps_chars</th>\n",
       "      <th>text_token_length</th>\n",
       "      <th>caps_ratio</th>\n",
       "      <th>clean_text</th>\n",
       "      <th>clean_text_length</th>\n",
       "      <th>uniqueness</th>\n",
       "      <th>token_length</th>\n",
       "      <th>toxic_word_count</th>\n",
       "    </tr>\n",
       "  </thead>\n",
       "  <tbody>\n",
       "    <tr>\n",
       "      <th>0</th>\n",
       "      <td>Explanation\\nWhy the edits made under my usern...</td>\n",
       "      <td>0</td>\n",
       "      <td>186</td>\n",
       "      <td>264</td>\n",
       "      <td>17</td>\n",
       "      <td>68</td>\n",
       "      <td>0.064394</td>\n",
       "      <td>explanation edits made username hardcore metal...</td>\n",
       "      <td>186</td>\n",
       "      <td>1.000000</td>\n",
       "      <td>43</td>\n",
       "      <td>0</td>\n",
       "    </tr>\n",
       "    <tr>\n",
       "      <th>1</th>\n",
       "      <td>D'aww! He matches this background colour I'm s...</td>\n",
       "      <td>0</td>\n",
       "      <td>86</td>\n",
       "      <td>112</td>\n",
       "      <td>8</td>\n",
       "      <td>35</td>\n",
       "      <td>0.071429</td>\n",
       "      <td>daww matches background colour im seemingly st...</td>\n",
       "      <td>86</td>\n",
       "      <td>1.000000</td>\n",
       "      <td>19</td>\n",
       "      <td>0</td>\n",
       "    </tr>\n",
       "    <tr>\n",
       "      <th>2</th>\n",
       "      <td>Hey man, I'm really not trying to edit war. It...</td>\n",
       "      <td>0</td>\n",
       "      <td>144</td>\n",
       "      <td>233</td>\n",
       "      <td>4</td>\n",
       "      <td>54</td>\n",
       "      <td>0.017167</td>\n",
       "      <td>hey man im really trying edit war guy constant...</td>\n",
       "      <td>144</td>\n",
       "      <td>1.000000</td>\n",
       "      <td>26</td>\n",
       "      <td>0</td>\n",
       "    </tr>\n",
       "    <tr>\n",
       "      <th>3</th>\n",
       "      <td>\"\\nMore\\nI can't make any real suggestions on ...</td>\n",
       "      <td>0</td>\n",
       "      <td>379</td>\n",
       "      <td>622</td>\n",
       "      <td>11</td>\n",
       "      <td>144</td>\n",
       "      <td>0.017685</td>\n",
       "      <td>cant make real suggestions improvement wondere...</td>\n",
       "      <td>379</td>\n",
       "      <td>0.918367</td>\n",
       "      <td>66</td>\n",
       "      <td>0</td>\n",
       "    </tr>\n",
       "    <tr>\n",
       "      <th>4</th>\n",
       "      <td>You, sir, are my hero. Any chance you remember...</td>\n",
       "      <td>0</td>\n",
       "      <td>35</td>\n",
       "      <td>67</td>\n",
       "      <td>2</td>\n",
       "      <td>21</td>\n",
       "      <td>0.029851</td>\n",
       "      <td>sir hero chance remember page thats</td>\n",
       "      <td>35</td>\n",
       "      <td>1.000000</td>\n",
       "      <td>9</td>\n",
       "      <td>0</td>\n",
       "    </tr>\n",
       "  </tbody>\n",
       "</table>\n",
       "</div>"
      ],
      "text/plain": [
       "                                                text  toxic  text_length  \\\n",
       "0  Explanation\\nWhy the edits made under my usern...      0          186   \n",
       "1  D'aww! He matches this background colour I'm s...      0           86   \n",
       "2  Hey man, I'm really not trying to edit war. It...      0          144   \n",
       "3  \"\\nMore\\nI can't make any real suggestions on ...      0          379   \n",
       "4  You, sir, are my hero. Any chance you remember...      0           35   \n",
       "\n",
       "   total_chars  caps_chars  text_token_length  caps_ratio  \\\n",
       "0          264          17                 68    0.064394   \n",
       "1          112           8                 35    0.071429   \n",
       "2          233           4                 54    0.017167   \n",
       "3          622          11                144    0.017685   \n",
       "4           67           2                 21    0.029851   \n",
       "\n",
       "                                          clean_text  clean_text_length  \\\n",
       "0  explanation edits made username hardcore metal...                186   \n",
       "1  daww matches background colour im seemingly st...                 86   \n",
       "2  hey man im really trying edit war guy constant...                144   \n",
       "3  cant make real suggestions improvement wondere...                379   \n",
       "4                sir hero chance remember page thats                 35   \n",
       "\n",
       "   uniqueness  token_length  toxic_word_count  \n",
       "0    1.000000            43                 0  \n",
       "1    1.000000            19                 0  \n",
       "2    1.000000            26                 0  \n",
       "3    0.918367            66                 0  \n",
       "4    1.000000             9                 0  "
      ]
     },
     "execution_count": 54,
     "metadata": {},
     "output_type": "execute_result"
    }
   ],
   "source": [
    "print(df.info())\n",
    "df.head()"
   ]
  },
  {
   "cell_type": "markdown",
   "id": "81f42b67-4418-47ff-b33d-9d2065d8631f",
   "metadata": {},
   "source": [
    "**text**  \n",
    "Не нужен, так как clean_text — очищенная версия, используемая для TF-IDF и BERT.  \n",
    "**Действие:** Удалить.\n",
    "\n",
    "**toxic**  \n",
    "Целевой признак, обязателен для всех моделей.  \n",
    "**Действие:** Оставить.\n",
    "\n",
    "**text_length**  \n",
    "Длина оригинального текста в символах. Корреляция с toxic низкая (r=-0.07).  \n",
    "**Рекомендация:** Удалить.\n",
    "\n",
    "**total_chars**  \n",
    "Используется для вычисления caps_ratio, но сам по себе не нужен.  \n",
    "**Рекомендация:** Удалить.\n",
    "\n",
    "**caps_chars**  \n",
    "Используется для вычисления caps_ratio. Сам по себе не нужен, так как caps_ratio информативнее.  \n",
    "**Рекомендация:** Удалить.\n",
    "\n",
    "**text_token_length**  \n",
    "Длина оригинального текста в токенах, не используется после создания clean_text и token_length.  \n",
    "**Рекомендация:** Удалить.\n",
    "\n",
    "**caps_ratio**  \n",
    "Значимый признак (r=0.2150 с toxic), полезен для baseline.  \n",
    "**Рекомендация:** Оставить.\n",
    "\n",
    "**clean_text**  \n",
    "Основной столбец для TF-IDF (baseline) и токенизации BERT.  \n",
    "**Рекомендация:** Оставить.\n",
    "\n",
    "**clean_text_length**  \n",
    "Длина очищенного текста, высокая корреляция с token_length (r=0.9825), слабая с toxic (r=-0.0845). Может быть полезна для baseline, но избыточна для BERT.  \n",
    "**Рекомендация:** Оставить для baseline, удалить перед BERT.\n",
    "\n",
    "**uniqueness**  \n",
    "Очень слабая корреляция с toxic (r=0.0093), неинформативна.  \n",
    "**Рекомендация:** Удалить.\n",
    "\n",
    "**token_length**  \n",
    "Длина в токенах BERT, полезна для анализа, но не для обучения (BERT использует input_ids). Слабая корреляция с toxic (r=-0.0739). Сильная корреляция с clean_text_length.\n",
    "**Рекомендация:** Удалить.\n",
    "\n",
    "**toxic_word_count**  \n",
    "Значимый признак (mean=1.06 в токсичных vs. 0.15 в нетоксичных), полезен для baseline.  \n",
    "**Рекомендация:** Оставить."
   ]
  },
  {
   "cell_type": "code",
   "execution_count": null,
   "id": "83a19848-3f80-45af-bda9-ba2c1e86cea4",
   "metadata": {},
   "outputs": [],
   "source": []
  },
  {
   "cell_type": "code",
   "execution_count": null,
   "id": "b7c1390d-8390-495a-bfcd-cc2808340e27",
   "metadata": {},
   "outputs": [],
   "source": []
  },
  {
   "cell_type": "code",
   "execution_count": null,
   "id": "cbedf1eb-ee44-4f51-a5ef-b4504a3a78ea",
   "metadata": {},
   "outputs": [],
   "source": []
  },
  {
   "cell_type": "code",
   "execution_count": null,
   "id": "e040a5e0-3239-4046-8bf1-c8fbec3fda72",
   "metadata": {},
   "outputs": [],
   "source": []
  },
  {
   "cell_type": "code",
   "execution_count": null,
   "id": "2be05df5-7c31-4fc5-ae28-d4885a5ca6cb",
   "metadata": {},
   "outputs": [],
   "source": []
  },
  {
   "cell_type": "code",
   "execution_count": null,
   "id": "e69d9864-5d0b-4510-a62e-94e5752acdf2",
   "metadata": {},
   "outputs": [],
   "source": []
  },
  {
   "cell_type": "code",
   "execution_count": null,
   "id": "19765fd2-d825-473c-bd0c-38bd1c3c744c",
   "metadata": {},
   "outputs": [],
   "source": []
  },
  {
   "cell_type": "markdown",
   "id": "806a2fa7-9e40-4c50-b0a7-bbda9744bd07",
   "metadata": {},
   "source": [
    "## Подготовка данных для BERT"
   ]
  },
  {
   "cell_type": "markdown",
   "id": "8c3eafbd-6b0a-475e-8a20-a7a3ce56f719",
   "metadata": {},
   "source": [
    "Будем использовать DistilBERT, потому что bert-base-uncased тяжеловат для моего пк:)))"
   ]
  },
  {
   "cell_type": "code",
   "execution_count": 46,
   "id": "afee24f5-c4e2-490d-84ea-4bd726eae786",
   "metadata": {},
   "outputs": [],
   "source": [
    "# подготовка данных для BERT\n",
    "def prepare_bert_data(df, max_length=MAX_LENGTH):\n",
    "    tokenizer = BertTokenizer.from_pretrained('distilbert-base-uncased')  # используем DistilBERT\n",
    "    input_ids = []\n",
    "    attention_masks = []\n",
    "    labels = df['toxic'].values\n",
    "    \n",
    "    for text in tqdm(df['clean_text'], desc=\"токенизация\"):\n",
    "        encoded = tokenizer.encode_plus(\n",
    "            text,\n",
    "            add_special_tokens=True,\n",
    "            max_length=max_length,\n",
    "            padding='max_length',\n",
    "            truncation=True,\n",
    "            return_attention_mask=True,\n",
    "            return_tensors='pt'\n",
    "        )\n",
    "        input_ids.append(encoded['input_ids'])\n",
    "        attention_masks.append(encoded['attention_mask'])\n",
    "    \n",
    "    input_ids = torch.cat(input_ids, dim=0)\n",
    "    attention_masks = torch.cat(attention_masks, dim=0)\n",
    "    labels = torch.tensor(labels, dtype=torch.long)\n",
    "    \n",
    "    return input_ids, attention_masks, labels"
   ]
  },
  {
   "cell_type": "markdown",
   "id": "339c2303-808c-407e-98e9-a00a615d86dc",
   "metadata": {},
   "source": [
    "### Сплитование"
   ]
  },
  {
   "cell_type": "code",
   "execution_count": 50,
   "id": "a04e106f-cb1f-4749-8f7d-bc0d8c0a60f2",
   "metadata": {},
   "outputs": [],
   "source": [
    "# разделение на train/test\n",
    "train, test = train_test_split(\n",
    "    df,\n",
    "    test_size=TEST_SIZE,\n",
    "    random_state=RANDOM_STATE,\n",
    "    stratify=df['toxic']\n",
    ")"
   ]
  },
  {
   "cell_type": "code",
   "execution_count": 52,
   "id": "4985a5a0-bf83-4b36-873d-175e479766b2",
   "metadata": {},
   "outputs": [
    {
     "data": {
      "application/vnd.jupyter.widget-view+json": {
       "model_id": "cdb6dccfff904e81b77703086abb58dd",
       "version_major": 2,
       "version_minor": 0
      },
      "text/plain": [
       "tokenizer_config.json:   0%|          | 0.00/48.0 [00:00<?, ?B/s]"
      ]
     },
     "metadata": {},
     "output_type": "display_data"
    },
    {
     "name": "stderr",
     "output_type": "stream",
     "text": [
      "D:\\dev\\github\\Study-ToxicComment\\.venv\\Lib\\site-packages\\huggingface_hub\\file_download.py:143: UserWarning: `huggingface_hub` cache-system uses symlinks by default to efficiently store duplicated files but your machine does not support them in C:\\Users\\legonc\\.cache\\huggingface\\hub\\models--distilbert-base-uncased. Caching files will still work but in a degraded version that might require more space on your disk. This warning can be disabled by setting the `HF_HUB_DISABLE_SYMLINKS_WARNING` environment variable. For more details, see https://huggingface.co/docs/huggingface_hub/how-to-cache#limitations.\n",
      "To support symlinks on Windows, you either need to activate Developer Mode or to run Python as an administrator. In order to activate developer mode, see this article: https://docs.microsoft.com/en-us/windows/apps/get-started/enable-your-device-for-development\n",
      "  warnings.warn(message)\n"
     ]
    },
    {
     "data": {
      "application/vnd.jupyter.widget-view+json": {
       "model_id": "5c70ef74e866441ea76a4325e1d5e5c4",
       "version_major": 2,
       "version_minor": 0
      },
      "text/plain": [
       "vocab.txt:   0%|          | 0.00/232k [00:00<?, ?B/s]"
      ]
     },
     "metadata": {},
     "output_type": "display_data"
    },
    {
     "data": {
      "application/vnd.jupyter.widget-view+json": {
       "model_id": "11125393842046d284123fad5ef21706",
       "version_major": 2,
       "version_minor": 0
      },
      "text/plain": [
       "tokenizer.json:   0%|          | 0.00/466k [00:00<?, ?B/s]"
      ]
     },
     "metadata": {},
     "output_type": "display_data"
    },
    {
     "data": {
      "application/vnd.jupyter.widget-view+json": {
       "model_id": "990094c67ffc4f31a77a0c6faea18acc",
       "version_major": 2,
       "version_minor": 0
      },
      "text/plain": [
       "config.json:   0%|          | 0.00/483 [00:00<?, ?B/s]"
      ]
     },
     "metadata": {},
     "output_type": "display_data"
    },
    {
     "name": "stderr",
     "output_type": "stream",
     "text": [
      "The tokenizer class you load from this checkpoint is not the same type as the class this function is called from. It may result in unexpected tokenization. \n",
      "The tokenizer class you load from this checkpoint is 'DistilBertTokenizer'. \n",
      "The class this function is called from is 'BertTokenizer'.\n",
      "токенизация:   2%|▏         | 3133/127391 [00:07<05:08, 402.31it/s]\n"
     ]
    },
    {
     "ename": "KeyboardInterrupt",
     "evalue": "",
     "output_type": "error",
     "traceback": [
      "\u001b[31m---------------------------------------------------------------------------\u001b[39m",
      "\u001b[31mKeyboardInterrupt\u001b[39m                         Traceback (most recent call last)",
      "\u001b[36mCell\u001b[39m\u001b[36m \u001b[39m\u001b[32mIn[52]\u001b[39m\u001b[32m, line 2\u001b[39m\n\u001b[32m      1\u001b[39m \u001b[38;5;66;03m# подготовка данных\u001b[39;00m\n\u001b[32m----> \u001b[39m\u001b[32m2\u001b[39m train_inputs, train_masks, train_labels = \u001b[43mprepare_bert_data\u001b[49m\u001b[43m(\u001b[49m\u001b[43mtrain_df\u001b[49m\u001b[43m)\u001b[49m\n\u001b[32m      3\u001b[39m test_inputs, test_masks, test_labels = prepare_bert_data(test_df)\n\u001b[32m      5\u001b[39m \u001b[38;5;66;03m# проверка размеров\u001b[39;00m\n",
      "\u001b[36mCell\u001b[39m\u001b[36m \u001b[39m\u001b[32mIn[46]\u001b[39m\u001b[32m, line 8\u001b[39m, in \u001b[36mprepare_bert_data\u001b[39m\u001b[34m(df, max_length)\u001b[39m\n\u001b[32m      5\u001b[39m attention_masks = []\n\u001b[32m      6\u001b[39m labels = df[\u001b[33m'\u001b[39m\u001b[33mtoxic\u001b[39m\u001b[33m'\u001b[39m].values\n\u001b[32m----> \u001b[39m\u001b[32m8\u001b[39m \u001b[43m\u001b[49m\u001b[38;5;28;43;01mfor\u001b[39;49;00m\u001b[43m \u001b[49m\u001b[43mtext\u001b[49m\u001b[43m \u001b[49m\u001b[38;5;129;43;01min\u001b[39;49;00m\u001b[43m \u001b[49m\u001b[43mtqdm\u001b[49m\u001b[43m(\u001b[49m\u001b[43mdf\u001b[49m\u001b[43m[\u001b[49m\u001b[33;43m'\u001b[39;49m\u001b[33;43mclean_text\u001b[39;49m\u001b[33;43m'\u001b[39;49m\u001b[43m]\u001b[49m\u001b[43m,\u001b[49m\u001b[43m \u001b[49m\u001b[43mdesc\u001b[49m\u001b[43m=\u001b[49m\u001b[33;43m\"\u001b[39;49m\u001b[33;43mтокенизация\u001b[39;49m\u001b[33;43m\"\u001b[39;49m\u001b[43m)\u001b[49m\u001b[43m:\u001b[49m\n\u001b[32m      9\u001b[39m \u001b[43m    \u001b[49m\u001b[43mencoded\u001b[49m\u001b[43m \u001b[49m\u001b[43m=\u001b[49m\u001b[43m \u001b[49m\u001b[43mtokenizer\u001b[49m\u001b[43m.\u001b[49m\u001b[43mencode_plus\u001b[49m\u001b[43m(\u001b[49m\n\u001b[32m     10\u001b[39m \u001b[43m        \u001b[49m\u001b[43mtext\u001b[49m\u001b[43m,\u001b[49m\n\u001b[32m     11\u001b[39m \u001b[43m        \u001b[49m\u001b[43madd_special_tokens\u001b[49m\u001b[43m=\u001b[49m\u001b[38;5;28;43;01mTrue\u001b[39;49;00m\u001b[43m,\u001b[49m\n\u001b[32m   (...)\u001b[39m\u001b[32m     16\u001b[39m \u001b[43m        \u001b[49m\u001b[43mreturn_tensors\u001b[49m\u001b[43m=\u001b[49m\u001b[33;43m'\u001b[39;49m\u001b[33;43mpt\u001b[39;49m\u001b[33;43m'\u001b[39;49m\n\u001b[32m     17\u001b[39m \u001b[43m    \u001b[49m\u001b[43m)\u001b[49m\n\u001b[32m     18\u001b[39m \u001b[43m    \u001b[49m\u001b[43minput_ids\u001b[49m\u001b[43m.\u001b[49m\u001b[43mappend\u001b[49m\u001b[43m(\u001b[49m\u001b[43mencoded\u001b[49m\u001b[43m[\u001b[49m\u001b[33;43m'\u001b[39;49m\u001b[33;43minput_ids\u001b[39;49m\u001b[33;43m'\u001b[39;49m\u001b[43m]\u001b[49m\u001b[43m)\u001b[49m\n",
      "\u001b[36mFile \u001b[39m\u001b[32mD:\\dev\\github\\Study-ToxicComment\\.venv\\Lib\\site-packages\\tqdm\\std.py:1191\u001b[39m, in \u001b[36mtqdm.__iter__\u001b[39m\u001b[34m(self)\u001b[39m\n\u001b[32m   1189\u001b[39m dt = cur_t - last_print_t\n\u001b[32m   1190\u001b[39m \u001b[38;5;28;01mif\u001b[39;00m dt >= mininterval \u001b[38;5;129;01mand\u001b[39;00m cur_t >= min_start_t:\n\u001b[32m-> \u001b[39m\u001b[32m1191\u001b[39m     \u001b[38;5;28;43mself\u001b[39;49m\u001b[43m.\u001b[49m\u001b[43mupdate\u001b[49m\u001b[43m(\u001b[49m\u001b[43mn\u001b[49m\u001b[43m \u001b[49m\u001b[43m-\u001b[49m\u001b[43m \u001b[49m\u001b[43mlast_print_n\u001b[49m\u001b[43m)\u001b[49m\n\u001b[32m   1192\u001b[39m     last_print_n = \u001b[38;5;28mself\u001b[39m.last_print_n\n\u001b[32m   1193\u001b[39m     last_print_t = \u001b[38;5;28mself\u001b[39m.last_print_t\n",
      "\u001b[36mFile \u001b[39m\u001b[32mD:\\dev\\github\\Study-ToxicComment\\.venv\\Lib\\site-packages\\tqdm\\std.py:1242\u001b[39m, in \u001b[36mtqdm.update\u001b[39m\u001b[34m(self, n)\u001b[39m\n\u001b[32m   1240\u001b[39m     \u001b[38;5;28mself\u001b[39m._ema_dn(dn)\n\u001b[32m   1241\u001b[39m     \u001b[38;5;28mself\u001b[39m._ema_dt(dt)\n\u001b[32m-> \u001b[39m\u001b[32m1242\u001b[39m \u001b[38;5;28;43mself\u001b[39;49m\u001b[43m.\u001b[49m\u001b[43mrefresh\u001b[49m\u001b[43m(\u001b[49m\u001b[43mlock_args\u001b[49m\u001b[43m=\u001b[49m\u001b[38;5;28;43mself\u001b[39;49m\u001b[43m.\u001b[49m\u001b[43mlock_args\u001b[49m\u001b[43m)\u001b[49m\n\u001b[32m   1243\u001b[39m \u001b[38;5;28;01mif\u001b[39;00m \u001b[38;5;28mself\u001b[39m.dynamic_miniters:\n\u001b[32m   1244\u001b[39m     \u001b[38;5;66;03m# If no `miniters` was specified, adjust automatically to the\u001b[39;00m\n\u001b[32m   1245\u001b[39m     \u001b[38;5;66;03m# maximum iteration rate seen so far between two prints.\u001b[39;00m\n\u001b[32m   1246\u001b[39m     \u001b[38;5;66;03m# e.g.: After running `tqdm.update(5)`, subsequent\u001b[39;00m\n\u001b[32m   1247\u001b[39m     \u001b[38;5;66;03m# calls to `tqdm.update()` will only cause an update after\u001b[39;00m\n\u001b[32m   1248\u001b[39m     \u001b[38;5;66;03m# at least 5 more iterations.\u001b[39;00m\n\u001b[32m   1249\u001b[39m     \u001b[38;5;28;01mif\u001b[39;00m \u001b[38;5;28mself\u001b[39m.maxinterval \u001b[38;5;129;01mand\u001b[39;00m dt >= \u001b[38;5;28mself\u001b[39m.maxinterval:\n",
      "\u001b[36mFile \u001b[39m\u001b[32mD:\\dev\\github\\Study-ToxicComment\\.venv\\Lib\\site-packages\\tqdm\\std.py:1347\u001b[39m, in \u001b[36mtqdm.refresh\u001b[39m\u001b[34m(self, nolock, lock_args)\u001b[39m\n\u001b[32m   1345\u001b[39m     \u001b[38;5;28;01melse\u001b[39;00m:\n\u001b[32m   1346\u001b[39m         \u001b[38;5;28mself\u001b[39m._lock.acquire()\n\u001b[32m-> \u001b[39m\u001b[32m1347\u001b[39m \u001b[38;5;28;43mself\u001b[39;49m\u001b[43m.\u001b[49m\u001b[43mdisplay\u001b[49m\u001b[43m(\u001b[49m\u001b[43m)\u001b[49m\n\u001b[32m   1348\u001b[39m \u001b[38;5;28;01mif\u001b[39;00m \u001b[38;5;129;01mnot\u001b[39;00m nolock:\n\u001b[32m   1349\u001b[39m     \u001b[38;5;28mself\u001b[39m._lock.release()\n",
      "\u001b[36mFile \u001b[39m\u001b[32mD:\\dev\\github\\Study-ToxicComment\\.venv\\Lib\\site-packages\\tqdm\\std.py:1495\u001b[39m, in \u001b[36mtqdm.display\u001b[39m\u001b[34m(self, msg, pos)\u001b[39m\n\u001b[32m   1493\u001b[39m \u001b[38;5;28;01mif\u001b[39;00m pos:\n\u001b[32m   1494\u001b[39m     \u001b[38;5;28mself\u001b[39m.moveto(pos)\n\u001b[32m-> \u001b[39m\u001b[32m1495\u001b[39m \u001b[38;5;28;43mself\u001b[39;49m\u001b[43m.\u001b[49m\u001b[43msp\u001b[49m\u001b[43m(\u001b[49m\u001b[38;5;28;43mself\u001b[39;49m\u001b[43m.\u001b[49m\u001b[34;43m__str__\u001b[39;49m\u001b[43m(\u001b[49m\u001b[43m)\u001b[49m\u001b[43m \u001b[49m\u001b[38;5;28;43;01mif\u001b[39;49;00m\u001b[43m \u001b[49m\u001b[43mmsg\u001b[49m\u001b[43m \u001b[49m\u001b[38;5;129;43;01mis\u001b[39;49;00m\u001b[43m \u001b[49m\u001b[38;5;28;43;01mNone\u001b[39;49;00m\u001b[43m \u001b[49m\u001b[38;5;28;43;01melse\u001b[39;49;00m\u001b[43m \u001b[49m\u001b[43mmsg\u001b[49m\u001b[43m)\u001b[49m\n\u001b[32m   1496\u001b[39m \u001b[38;5;28;01mif\u001b[39;00m pos:\n\u001b[32m   1497\u001b[39m     \u001b[38;5;28mself\u001b[39m.moveto(-pos)\n",
      "\u001b[36mFile \u001b[39m\u001b[32mD:\\dev\\github\\Study-ToxicComment\\.venv\\Lib\\site-packages\\tqdm\\std.py:459\u001b[39m, in \u001b[36mtqdm.status_printer.<locals>.print_status\u001b[39m\u001b[34m(s)\u001b[39m\n\u001b[32m    457\u001b[39m \u001b[38;5;28;01mdef\u001b[39;00m\u001b[38;5;250m \u001b[39m\u001b[34mprint_status\u001b[39m(s):\n\u001b[32m    458\u001b[39m     len_s = disp_len(s)\n\u001b[32m--> \u001b[39m\u001b[32m459\u001b[39m     \u001b[43mfp_write\u001b[49m\u001b[43m(\u001b[49m\u001b[33;43m'\u001b[39;49m\u001b[38;5;130;43;01m\\r\u001b[39;49;00m\u001b[33;43m'\u001b[39;49m\u001b[43m \u001b[49m\u001b[43m+\u001b[49m\u001b[43m \u001b[49m\u001b[43ms\u001b[49m\u001b[43m \u001b[49m\u001b[43m+\u001b[49m\u001b[43m \u001b[49m\u001b[43m(\u001b[49m\u001b[33;43m'\u001b[39;49m\u001b[33;43m \u001b[39;49m\u001b[33;43m'\u001b[39;49m\u001b[43m \u001b[49m\u001b[43m*\u001b[49m\u001b[43m \u001b[49m\u001b[38;5;28;43mmax\u001b[39;49m\u001b[43m(\u001b[49m\u001b[43mlast_len\u001b[49m\u001b[43m[\u001b[49m\u001b[32;43m0\u001b[39;49m\u001b[43m]\u001b[49m\u001b[43m \u001b[49m\u001b[43m-\u001b[49m\u001b[43m \u001b[49m\u001b[43mlen_s\u001b[49m\u001b[43m,\u001b[49m\u001b[43m \u001b[49m\u001b[32;43m0\u001b[39;49m\u001b[43m)\u001b[49m\u001b[43m)\u001b[49m\u001b[43m)\u001b[49m\n\u001b[32m    460\u001b[39m     last_len[\u001b[32m0\u001b[39m] = len_s\n",
      "\u001b[36mFile \u001b[39m\u001b[32mD:\\dev\\github\\Study-ToxicComment\\.venv\\Lib\\site-packages\\tqdm\\std.py:452\u001b[39m, in \u001b[36mtqdm.status_printer.<locals>.fp_write\u001b[39m\u001b[34m(s)\u001b[39m\n\u001b[32m    451\u001b[39m \u001b[38;5;28;01mdef\u001b[39;00m\u001b[38;5;250m \u001b[39m\u001b[34mfp_write\u001b[39m(s):\n\u001b[32m--> \u001b[39m\u001b[32m452\u001b[39m     \u001b[43mfp\u001b[49m\u001b[43m.\u001b[49m\u001b[43mwrite\u001b[49m\u001b[43m(\u001b[49m\u001b[38;5;28;43mstr\u001b[39;49m\u001b[43m(\u001b[49m\u001b[43ms\u001b[49m\u001b[43m)\u001b[49m\u001b[43m)\u001b[49m\n\u001b[32m    453\u001b[39m     fp_flush()\n",
      "\u001b[36mFile \u001b[39m\u001b[32mD:\\dev\\github\\Study-ToxicComment\\.venv\\Lib\\site-packages\\tqdm\\utils.py:196\u001b[39m, in \u001b[36mDisableOnWriteError.disable_on_exception.<locals>.inner\u001b[39m\u001b[34m(*args, **kwargs)\u001b[39m\n\u001b[32m    194\u001b[39m \u001b[38;5;28;01mdef\u001b[39;00m\u001b[38;5;250m \u001b[39m\u001b[34minner\u001b[39m(*args, **kwargs):\n\u001b[32m    195\u001b[39m     \u001b[38;5;28;01mtry\u001b[39;00m:\n\u001b[32m--> \u001b[39m\u001b[32m196\u001b[39m         \u001b[38;5;28;01mreturn\u001b[39;00m \u001b[43mfunc\u001b[49m\u001b[43m(\u001b[49m\u001b[43m*\u001b[49m\u001b[43margs\u001b[49m\u001b[43m,\u001b[49m\u001b[43m \u001b[49m\u001b[43m*\u001b[49m\u001b[43m*\u001b[49m\u001b[43mkwargs\u001b[49m\u001b[43m)\u001b[49m\n\u001b[32m    197\u001b[39m     \u001b[38;5;28;01mexcept\u001b[39;00m \u001b[38;5;167;01mOSError\u001b[39;00m \u001b[38;5;28;01mas\u001b[39;00m e:\n\u001b[32m    198\u001b[39m         \u001b[38;5;28;01mif\u001b[39;00m e.errno != \u001b[32m5\u001b[39m:\n",
      "\u001b[36mFile \u001b[39m\u001b[32mD:\\dev\\github\\Study-ToxicComment\\.venv\\Lib\\site-packages\\IPython\\core\\interactiveshell.py:3045\u001b[39m, in \u001b[36mInteractiveShell._tee.<locals>.write\u001b[39m\u001b[34m(data, *args, **kwargs)\u001b[39m\n\u001b[32m   3043\u001b[39m \u001b[38;5;28;01mdef\u001b[39;00m\u001b[38;5;250m \u001b[39m\u001b[34mwrite\u001b[39m(data, *args, **kwargs):\n\u001b[32m   3044\u001b[39m \u001b[38;5;250m    \u001b[39m\u001b[33;03m\"\"\"Write data to both the original destination and the capture dictionary.\"\"\"\u001b[39;00m\n\u001b[32m-> \u001b[39m\u001b[32m3045\u001b[39m     result = \u001b[43moriginal_write\u001b[49m\u001b[43m(\u001b[49m\u001b[43mdata\u001b[49m\u001b[43m,\u001b[49m\u001b[43m \u001b[49m\u001b[43m*\u001b[49m\u001b[43margs\u001b[49m\u001b[43m,\u001b[49m\u001b[43m \u001b[49m\u001b[43m*\u001b[49m\u001b[43m*\u001b[49m\u001b[43mkwargs\u001b[49m\u001b[43m)\u001b[49m\n\u001b[32m   3046\u001b[39m     \u001b[38;5;28;01mif\u001b[39;00m \u001b[38;5;28many\u001b[39m(\n\u001b[32m   3047\u001b[39m         [\n\u001b[32m   3048\u001b[39m             \u001b[38;5;28mself\u001b[39m.display_pub.is_publishing,\n\u001b[32m   (...)\u001b[39m\u001b[32m   3051\u001b[39m         ]\n\u001b[32m   3052\u001b[39m     ):\n\u001b[32m   3053\u001b[39m         \u001b[38;5;28;01mreturn\u001b[39;00m result\n",
      "\u001b[36mFile \u001b[39m\u001b[32mD:\\dev\\github\\Study-ToxicComment\\.venv\\Lib\\site-packages\\ipykernel\\iostream.py:694\u001b[39m, in \u001b[36mOutStream.write\u001b[39m\u001b[34m(self, string)\u001b[39m\n\u001b[32m    692\u001b[39m     \u001b[38;5;28mself\u001b[39m.pub_thread.schedule(\u001b[38;5;28mself\u001b[39m._flush)\n\u001b[32m    693\u001b[39m \u001b[38;5;28;01melse\u001b[39;00m:\n\u001b[32m--> \u001b[39m\u001b[32m694\u001b[39m     \u001b[38;5;28;43mself\u001b[39;49m\u001b[43m.\u001b[49m\u001b[43m_schedule_flush\u001b[49m\u001b[43m(\u001b[49m\u001b[43m)\u001b[49m\n\u001b[32m    696\u001b[39m \u001b[38;5;28;01mreturn\u001b[39;00m \u001b[38;5;28mlen\u001b[39m(string)\n",
      "\u001b[36mFile \u001b[39m\u001b[32mD:\\dev\\github\\Study-ToxicComment\\.venv\\Lib\\site-packages\\ipykernel\\iostream.py:590\u001b[39m, in \u001b[36mOutStream._schedule_flush\u001b[39m\u001b[34m(self)\u001b[39m\n\u001b[32m    587\u001b[39m \u001b[38;5;28;01mdef\u001b[39;00m\u001b[38;5;250m \u001b[39m\u001b[34m_schedule_in_thread\u001b[39m():\n\u001b[32m    588\u001b[39m     \u001b[38;5;28mself\u001b[39m._io_loop.call_later(\u001b[38;5;28mself\u001b[39m.flush_interval, \u001b[38;5;28mself\u001b[39m._flush)\n\u001b[32m--> \u001b[39m\u001b[32m590\u001b[39m \u001b[38;5;28;43mself\u001b[39;49m\u001b[43m.\u001b[49m\u001b[43mpub_thread\u001b[49m\u001b[43m.\u001b[49m\u001b[43mschedule\u001b[49m\u001b[43m(\u001b[49m\u001b[43m_schedule_in_thread\u001b[49m\u001b[43m)\u001b[49m\n",
      "\u001b[36mFile \u001b[39m\u001b[32mD:\\dev\\github\\Study-ToxicComment\\.venv\\Lib\\site-packages\\ipykernel\\iostream.py:267\u001b[39m, in \u001b[36mIOPubThread.schedule\u001b[39m\u001b[34m(self, f)\u001b[39m\n\u001b[32m    265\u001b[39m     \u001b[38;5;28mself\u001b[39m._events.append(f)\n\u001b[32m    266\u001b[39m     \u001b[38;5;66;03m# wake event thread (message content is ignored)\u001b[39;00m\n\u001b[32m--> \u001b[39m\u001b[32m267\u001b[39m     \u001b[38;5;28;43mself\u001b[39;49m\u001b[43m.\u001b[49m\u001b[43m_event_pipe\u001b[49m\u001b[43m.\u001b[49m\u001b[43msend\u001b[49m\u001b[43m(\u001b[49m\u001b[33;43mb\u001b[39;49m\u001b[33;43m\"\u001b[39;49m\u001b[33;43m\"\u001b[39;49m\u001b[43m)\u001b[49m\n\u001b[32m    268\u001b[39m \u001b[38;5;28;01melse\u001b[39;00m:\n\u001b[32m    269\u001b[39m     f()\n",
      "\u001b[36mFile \u001b[39m\u001b[32mD:\\dev\\github\\Study-ToxicComment\\.venv\\Lib\\site-packages\\zmq\\sugar\\socket.py:698\u001b[39m, in \u001b[36mSocket.send\u001b[39m\u001b[34m(self, data, flags, copy, track, routing_id, group)\u001b[39m\n\u001b[32m    691\u001b[39m         data = zmq.Frame(\n\u001b[32m    692\u001b[39m             data,\n\u001b[32m    693\u001b[39m             track=track,\n\u001b[32m    694\u001b[39m             copy=copy \u001b[38;5;129;01mor\u001b[39;00m \u001b[38;5;28;01mNone\u001b[39;00m,\n\u001b[32m    695\u001b[39m             copy_threshold=\u001b[38;5;28mself\u001b[39m.copy_threshold,\n\u001b[32m    696\u001b[39m         )\n\u001b[32m    697\u001b[39m     data.group = group\n\u001b[32m--> \u001b[39m\u001b[32m698\u001b[39m \u001b[38;5;28;01mreturn\u001b[39;00m \u001b[38;5;28;43msuper\u001b[39;49m\u001b[43m(\u001b[49m\u001b[43m)\u001b[49m\u001b[43m.\u001b[49m\u001b[43msend\u001b[49m\u001b[43m(\u001b[49m\u001b[43mdata\u001b[49m\u001b[43m,\u001b[49m\u001b[43m \u001b[49m\u001b[43mflags\u001b[49m\u001b[43m=\u001b[49m\u001b[43mflags\u001b[49m\u001b[43m,\u001b[49m\u001b[43m \u001b[49m\u001b[43mcopy\u001b[49m\u001b[43m=\u001b[49m\u001b[43mcopy\u001b[49m\u001b[43m,\u001b[49m\u001b[43m \u001b[49m\u001b[43mtrack\u001b[49m\u001b[43m=\u001b[49m\u001b[43mtrack\u001b[49m\u001b[43m)\u001b[49m\n",
      "\u001b[36mFile \u001b[39m\u001b[32mD:\\dev\\github\\Study-ToxicComment\\.venv\\Lib\\site-packages\\zmq\\backend\\cython\\_zmq.py:1152\u001b[39m, in \u001b[36mzmq.backend.cython._zmq.Socket.send\u001b[39m\u001b[34m()\u001b[39m\n",
      "\u001b[36mFile \u001b[39m\u001b[32mD:\\dev\\github\\Study-ToxicComment\\.venv\\Lib\\site-packages\\zmq\\backend\\cython\\_zmq.py:1200\u001b[39m, in \u001b[36mzmq.backend.cython._zmq.Socket.send\u001b[39m\u001b[34m()\u001b[39m\n",
      "\u001b[36mFile \u001b[39m\u001b[32mD:\\dev\\github\\Study-ToxicComment\\.venv\\Lib\\site-packages\\zmq\\backend\\cython\\_zmq.py:1468\u001b[39m, in \u001b[36mzmq.backend.cython._zmq._send_copy\u001b[39m\u001b[34m()\u001b[39m\n",
      "\u001b[36mFile \u001b[39m\u001b[32mD:\\dev\\github\\Study-ToxicComment\\.venv\\Lib\\site-packages\\zmq\\backend\\cython\\_zmq.py:179\u001b[39m, in \u001b[36mzmq.backend.cython._zmq._check_rc\u001b[39m\u001b[34m()\u001b[39m\n",
      "\u001b[31mKeyboardInterrupt\u001b[39m: "
     ]
    }
   ],
   "source": [
    "# подготовка данных\n",
    "train_inputs, train_masks, train_labels = prepare_bert_data(train_df)\n",
    "test_inputs, test_masks, test_labels = prepare_bert_data(test_df)\n",
    "\n",
    "# проверка размеров\n",
    "print(f\"\\nразмер train: {len(train_df)} строк, {train_inputs.shape}\")\n",
    "print(f\"размер test: {len(test_df)} строк, {test_inputs.shape}\")"
   ]
  },
  {
   "cell_type": "code",
   "execution_count": null,
   "id": "2dde1f9a-2e63-42fb-b2dd-c6a81311521d",
   "metadata": {},
   "outputs": [],
   "source": [
    "\n",
    "\n",
    "# проверка распределения классов\n",
    "print(\"\\nраспределение классов в train:\")\n",
    "print(train_df['toxic'].value_counts(normalize=True))\n",
    "print(\"\\nраспределение классов в test:\")\n",
    "print(test_df['toxic'].value_counts(normalize=True))\n",
    "\n",
    "# настройка WeightedRandomSampler для балансировки классов\n",
    "def get_sampler(labels):\n",
    "    class_counts = np.bincount(labels)\n",
    "    num_samples = len(labels)\n",
    "    weights = 1.0 / class_counts[labels]\n",
    "    return torch.utils.data.WeightedRandomSampler(weights, num_samples, replacement=True)\n",
    "\n",
    "train_sampler = get_sampler(train_labels.numpy())\n",
    "\n",
    "# создание DataLoader\n",
    "from torch.utils.data import TensorDataset, DataLoader\n",
    "\n",
    "train_dataset = TensorDataset(train_inputs, train_masks, train_labels)\n",
    "test_dataset = TensorDataset(test_inputs, test_masks, test_labels)\n",
    "\n",
    "train_loader = DataLoader(\n",
    "    train_dataset,\n",
    "    sampler=train_sampler,\n",
    "    batch_size=8  # уменьшен для CPU\n",
    ")\n",
    "test_loader = DataLoader(\n",
    "    test_dataset,\n",
    "    batch_size=8,\n",
    "    shuffle=False\n",
    ")\n",
    "\n",
    "print(f\"\\nсоздано: {len(train_loader)} батчей для train, {len(test_loader)} батчей для test\")"
   ]
  }
 ],
 "metadata": {
  "kernelspec": {
   "display_name": "Python 3 (ipykernel)",
   "language": "python",
   "name": "python3"
  },
  "language_info": {
   "codemirror_mode": {
    "name": "ipython",
    "version": 3
   },
   "file_extension": ".py",
   "mimetype": "text/x-python",
   "name": "python",
   "nbconvert_exporter": "python",
   "pygments_lexer": "ipython3",
   "version": "3.11.9"
  }
 },
 "nbformat": 4,
 "nbformat_minor": 5
}
