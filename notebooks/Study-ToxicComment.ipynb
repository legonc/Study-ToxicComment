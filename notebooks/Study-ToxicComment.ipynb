{
 "cells": [
  {
   "cell_type": "markdown",
   "metadata": {
    "id": "196151a6130d2eb7"
   },
   "source": [
    "# Классификация токсичных комментариев с использованием BERT"
   ]
  },
  {
   "cell_type": "markdown",
   "metadata": {},
   "source": [
    "Интернет-магазин **«Викишоп»** запускает новый сервис: пользователи могут редактировать и дополнять описания товаров, как в вики-сообществах. Клиенты предлагают правки и комментируют изменения других пользователей.  \n",
    "\n",
    "Для поддержания качества контента магазину необходим инструмент, который автоматически **выявляет токсичные комментарии** и отправляет их на модерацию. Это поможет:\n",
    "\n",
    "- Снизить количество негативного контента.\n",
    "- Поддерживать дружелюбную атмосферу в сообществе.\n",
    "- Сократить нагрузку на модераторов.\n",
    "\n",
    "\n",
    "Цель проекта: **построить модель, способную классифицировать комментарии на позитивные и негативные**, используя имеющийся датасет с разметкой о токсичности правок. Метрика качества — **F1 ≥ 0.75**.\n",
    "\n",
    "\n",
    "**Инструкция по проекту**\n",
    "\n",
    "Решение задачи можно реализовать двумя способами:\n",
    "\n",
    "1. **С BERT**  \n",
    "   - Выполнить проект локально (ограничение 4 ГБ оперативной памяти в Jupyter-тетрадке тренажёра недостаточно для BERT).\n",
    "   - В первой ячейке тетрадки указать заголовок с упоминанием BERT.\n",
    "\n",
    "2. **Без BERT**  \n",
    "   - Можно работать локально или в тренажёре.\n",
    "   - Использовать классические модели машинного обучения (Logistic Regression, Random Forest, LightGBM и др.).\n",
    "\n",
    "Алгоритм решения:\n",
    "\n",
    "1. Загрузка и подготовка данных.\n",
    "2. Обучение различных моделей.\n",
    "3. Сравнение результатов и выбор лучшей модели.\n",
    "4. Выводы и рекомендации.\n",
    "\n",
    "**Описание данных**\n",
    "\n",
    "- Файл данных: `/datasets/toxic_comments.csv`\n",
    "- Столбцы:\n",
    "  - `text` — текст комментария\n",
    "  - `toxic` — целевой признак (0 — позитивный, 1 — токсичный)"
   ]
  },
  {
   "cell_type": "markdown",
   "metadata": {
    "id": "58baf2a76de748bf"
   },
   "source": [
    "## Импорты"
   ]
  },
  {
   "cell_type": "code",
   "execution_count": 1,
   "metadata": {
    "execution": {
     "iopub.execute_input": "2025-09-12T23:12:10.455647Z",
     "iopub.status.busy": "2025-09-12T23:12:10.455081Z",
     "iopub.status.idle": "2025-09-12T23:12:49.656171Z",
     "shell.execute_reply": "2025-09-12T23:12:49.655544Z",
     "shell.execute_reply.started": "2025-09-12T23:12:10.455622Z"
    },
    "executionInfo": {
     "elapsed": 19434,
     "status": "ok",
     "timestamp": 1757712347691,
     "user": {
      "displayName": "Dmitriy",
      "userId": "01928100860177745623"
     },
     "user_tz": -420
    },
    "id": "14266bf32451fbff",
    "outputId": "ad0dd3e6-8922-4b95-c496-58741ed325e7"
   },
   "outputs": [
    {
     "name": "stderr",
     "output_type": "stream",
     "text": [
      "2025-09-12 23:12:34.183724: E external/local_xla/xla/stream_executor/cuda/cuda_fft.cc:477] Unable to register cuFFT factory: Attempting to register factory for plugin cuFFT when one has already been registered\n",
      "WARNING: All log messages before absl::InitializeLog() is called are written to STDERR\n",
      "E0000 00:00:1757718754.563695      36 cuda_dnn.cc:8310] Unable to register cuDNN factory: Attempting to register factory for plugin cuDNN when one has already been registered\n",
      "E0000 00:00:1757718754.673461      36 cuda_blas.cc:1418] Unable to register cuBLAS factory: Attempting to register factory for plugin cuBLAS when one has already been registered\n"
     ]
    },
    {
     "data": {
      "text/plain": [
       "<torch._C.Generator at 0x7d953e3d8270>"
      ]
     },
     "execution_count": 1,
     "metadata": {},
     "output_type": "execute_result"
    }
   ],
   "source": [
    "%matplotlib inline\n",
    "\n",
    "# Работа с файлами в Google Colab\n",
    "from google.colab import drive, files\n",
    "\n",
    "# Стандартные библиотеки\n",
    "import os\n",
    "import re\n",
    "import gc\n",
    "from collections import Counter\n",
    "import numpy as np\n",
    "import pandas as pd\n",
    "from tqdm.notebook import tqdm\n",
    "\n",
    "# Визуализация\n",
    "import matplotlib.pyplot as plt\n",
    "import seaborn as sns\n",
    "\n",
    "# NLP и токенизация\n",
    "import nltk\n",
    "from nltk.corpus import stopwords\n",
    "from sklearn.feature_extraction.text import TfidfVectorizer, CountVectorizer\n",
    "from transformers import (\n",
    "    BertTokenizer,\n",
    "    AutoTokenizer,\n",
    "    BertForSequenceClassification,\n",
    "    DistilBertForSequenceClassification,\n",
    "    AutoModelForSequenceClassification\n",
    ")\n",
    "\n",
    "# ML, метрики и препроцессинг\n",
    "from scipy.stats import pointbiserialr\n",
    "from sklearn.model_selection import train_test_split\n",
    "from sklearn.preprocessing import StandardScaler\n",
    "from sklearn.linear_model import LogisticRegression\n",
    "from sklearn.metrics import (\n",
    "    f1_score, roc_auc_score, precision_score, recall_score\n",
    ")\n",
    "\n",
    "# PyTorch\n",
    "import torch\n",
    "from torch.utils.data import TensorDataset, DataLoader, WeightedRandomSampler\n",
    "from torch.optim import AdamW\n",
    "from torch.cuda.amp import autocast, GradScaler\n",
    "from torch.amp import autocast\n",
    "from torch.cuda.amp import GradScaler\n",
    "\n",
    "# Константы\n",
    "RANDOM_STATE = 42\n",
    "TEST_SIZE = 0.2\n",
    "MAX_LENGTH = 512\n",
    "MAX_FEATURES = 5000\n",
    "BATCH_SIZE = 24\n",
    "EPOCHS = 2\n",
    "LEARNING_RATE = 2e-5\n",
    "NUM_WORKERS = 2\n",
    "DEVICE = torch.device('cuda' if torch.cuda.is_available() else 'cpu')\n",
    "OUTPUT_DIR = \"/kaggle/working/minilm_model\"\n",
    "os.makedirs(OUTPUT_DIR, exist_ok=True)\n",
    "\n",
    "# Фиксация случайности\n",
    "np.random.seed(RANDOM_STATE)\n",
    "torch.manual_seed(RANDOM_STATE)"
   ]
  },
  {
   "cell_type": "markdown",
   "metadata": {
    "id": "90adca95f693d290"
   },
   "source": [
    "## Загрузка и осмотр данных"
   ]
  },
  {
   "cell_type": "code",
   "execution_count": 3,
   "metadata": {
    "execution": {
     "iopub.execute_input": "2025-09-12T23:12:49.662441Z",
     "iopub.status.busy": "2025-09-12T23:12:49.662177Z",
     "iopub.status.idle": "2025-09-12T23:12:49.795340Z",
     "shell.execute_reply": "2025-09-12T23:12:49.794728Z",
     "shell.execute_reply.started": "2025-09-12T23:12:49.662419Z"
    },
    "executionInfo": {
     "elapsed": 50,
     "status": "ok",
     "timestamp": 1757712347740,
     "user": {
      "displayName": "Dmitriy",
      "userId": "01928100860177745623"
     },
     "user_tz": -420
    },
    "id": "556b63a3-6405-43bb-88a7-639691f05be0",
    "outputId": "66505f0b-1d92-4679-bd38-4fed25df381c"
   },
   "outputs": [
    {
     "name": "stderr",
     "output_type": "stream",
     "text": [
      "[nltk_data] Downloading package stopwords to /usr/share/nltk_data...\n",
      "[nltk_data]   Package stopwords is already up-to-date!\n"
     ]
    },
    {
     "data": {
      "text/plain": [
       "True"
      ]
     },
     "execution_count": 3,
     "metadata": {},
     "output_type": "execute_result"
    }
   ],
   "source": [
    "nltk.download('stopwords')"
   ]
  },
  {
   "cell_type": "code",
   "execution_count": 4,
   "metadata": {
    "execution": {
     "iopub.execute_input": "2025-09-12T23:12:49.796204Z",
     "iopub.status.busy": "2025-09-12T23:12:49.795960Z",
     "iopub.status.idle": "2025-09-12T23:12:54.904212Z",
     "shell.execute_reply": "2025-09-12T23:12:54.903380Z",
     "shell.execute_reply.started": "2025-09-12T23:12:49.796181Z"
    },
    "executionInfo": {
     "elapsed": 6234,
     "status": "ok",
     "timestamp": 1757712353974,
     "user": {
      "displayName": "Dmitriy",
      "userId": "01928100860177745623"
     },
     "user_tz": -420
    },
    "id": "9504710dc4eb9013",
    "outputId": "6d8cdebb-b1bb-4240-f0aa-d0fb25876003"
   },
   "outputs": [
    {
     "name": "stdout",
     "output_type": "stream",
     "text": [
      "загружено удаленно\n"
     ]
    }
   ],
   "source": [
    "try:\n",
    "    df = pd.read_csv('notebooks/toxic_comments.csv')\n",
    "    print('загружено локально')\n",
    "except:\n",
    "    df = pd.read_csv('https://code.s3.yandex.net/datasets/toxic_comments.csv')\n",
    "    print('загружено удаленно')"
   ]
  },
  {
   "cell_type": "code",
   "execution_count": 5,
   "metadata": {
    "execution": {
     "iopub.execute_input": "2025-09-12T23:12:54.906756Z",
     "iopub.status.busy": "2025-09-12T23:12:54.906502Z",
     "iopub.status.idle": "2025-09-12T23:12:56.079291Z",
     "shell.execute_reply": "2025-09-12T23:12:56.078522Z",
     "shell.execute_reply.started": "2025-09-12T23:12:54.906737Z"
    },
    "executionInfo": {
     "elapsed": 685,
     "status": "ok",
     "timestamp": 1757712354660,
     "user": {
      "displayName": "Dmitriy",
      "userId": "01928100860177745623"
     },
     "user_tz": -420
    },
    "id": "f7bacaaec99cf6e3",
    "outputId": "a680f3c0-37d9-4533-a206-7b0b579f54ac"
   },
   "outputs": [
    {
     "name": "stdout",
     "output_type": "stream",
     "text": [
      "\n",
      "Информация о датасете:\n",
      "<class 'pandas.core.frame.DataFrame'>\n",
      "RangeIndex: 159292 entries, 0 to 159291\n",
      "Data columns (total 3 columns):\n",
      " #   Column      Non-Null Count   Dtype \n",
      "---  ------      --------------   ----- \n",
      " 0   Unnamed: 0  159292 non-null  int64 \n",
      " 1   text        159292 non-null  object\n",
      " 2   toxic       159292 non-null  int64 \n",
      "dtypes: int64(2), object(1)\n",
      "memory usage: 3.6+ MB\n"
     ]
    },
    {
     "data": {
      "text/plain": [
       "None"
      ]
     },
     "metadata": {},
     "output_type": "display_data"
    },
    {
     "name": "stdout",
     "output_type": "stream",
     "text": [
      "Первые 5 строк датасета:\n"
     ]
    },
    {
     "data": {
      "text/html": [
       "<div>\n",
       "<style scoped>\n",
       "    .dataframe tbody tr th:only-of-type {\n",
       "        vertical-align: middle;\n",
       "    }\n",
       "\n",
       "    .dataframe tbody tr th {\n",
       "        vertical-align: top;\n",
       "    }\n",
       "\n",
       "    .dataframe thead th {\n",
       "        text-align: right;\n",
       "    }\n",
       "</style>\n",
       "<table border=\"1\" class=\"dataframe\">\n",
       "  <thead>\n",
       "    <tr style=\"text-align: right;\">\n",
       "      <th></th>\n",
       "      <th>Unnamed: 0</th>\n",
       "      <th>text</th>\n",
       "      <th>toxic</th>\n",
       "    </tr>\n",
       "  </thead>\n",
       "  <tbody>\n",
       "    <tr>\n",
       "      <th>0</th>\n",
       "      <td>0</td>\n",
       "      <td>Explanation\\nWhy the edits made under my usern...</td>\n",
       "      <td>0</td>\n",
       "    </tr>\n",
       "    <tr>\n",
       "      <th>1</th>\n",
       "      <td>1</td>\n",
       "      <td>D'aww! He matches this background colour I'm s...</td>\n",
       "      <td>0</td>\n",
       "    </tr>\n",
       "    <tr>\n",
       "      <th>2</th>\n",
       "      <td>2</td>\n",
       "      <td>Hey man, I'm really not trying to edit war. It...</td>\n",
       "      <td>0</td>\n",
       "    </tr>\n",
       "    <tr>\n",
       "      <th>3</th>\n",
       "      <td>3</td>\n",
       "      <td>\"\\nMore\\nI can't make any real suggestions on ...</td>\n",
       "      <td>0</td>\n",
       "    </tr>\n",
       "    <tr>\n",
       "      <th>4</th>\n",
       "      <td>4</td>\n",
       "      <td>You, sir, are my hero. Any chance you remember...</td>\n",
       "      <td>0</td>\n",
       "    </tr>\n",
       "  </tbody>\n",
       "</table>\n",
       "</div>"
      ],
      "text/plain": [
       "   Unnamed: 0                                               text  toxic\n",
       "0           0  Explanation\\nWhy the edits made under my usern...      0\n",
       "1           1  D'aww! He matches this background colour I'm s...      0\n",
       "2           2  Hey man, I'm really not trying to edit war. It...      0\n",
       "3           3  \"\\nMore\\nI can't make any real suggestions on ...      0\n",
       "4           4  You, sir, are my hero. Any chance you remember...      0"
      ]
     },
     "metadata": {},
     "output_type": "display_data"
    },
    {
     "name": "stdout",
     "output_type": "stream",
     "text": [
      "Статистики датасета:\n"
     ]
    },
    {
     "data": {
      "text/html": [
       "<div>\n",
       "<style scoped>\n",
       "    .dataframe tbody tr th:only-of-type {\n",
       "        vertical-align: middle;\n",
       "    }\n",
       "\n",
       "    .dataframe tbody tr th {\n",
       "        vertical-align: top;\n",
       "    }\n",
       "\n",
       "    .dataframe thead th {\n",
       "        text-align: right;\n",
       "    }\n",
       "</style>\n",
       "<table border=\"1\" class=\"dataframe\">\n",
       "  <thead>\n",
       "    <tr style=\"text-align: right;\">\n",
       "      <th></th>\n",
       "      <th>Unnamed: 0</th>\n",
       "      <th>toxic</th>\n",
       "    </tr>\n",
       "  </thead>\n",
       "  <tbody>\n",
       "    <tr>\n",
       "      <th>count</th>\n",
       "      <td>159292.000000</td>\n",
       "      <td>159292.000000</td>\n",
       "    </tr>\n",
       "    <tr>\n",
       "      <th>mean</th>\n",
       "      <td>79725.697242</td>\n",
       "      <td>0.101612</td>\n",
       "    </tr>\n",
       "    <tr>\n",
       "      <th>std</th>\n",
       "      <td>46028.837471</td>\n",
       "      <td>0.302139</td>\n",
       "    </tr>\n",
       "    <tr>\n",
       "      <th>min</th>\n",
       "      <td>0.000000</td>\n",
       "      <td>0.000000</td>\n",
       "    </tr>\n",
       "    <tr>\n",
       "      <th>25%</th>\n",
       "      <td>39872.750000</td>\n",
       "      <td>0.000000</td>\n",
       "    </tr>\n",
       "    <tr>\n",
       "      <th>50%</th>\n",
       "      <td>79721.500000</td>\n",
       "      <td>0.000000</td>\n",
       "    </tr>\n",
       "    <tr>\n",
       "      <th>75%</th>\n",
       "      <td>119573.250000</td>\n",
       "      <td>0.000000</td>\n",
       "    </tr>\n",
       "    <tr>\n",
       "      <th>max</th>\n",
       "      <td>159450.000000</td>\n",
       "      <td>1.000000</td>\n",
       "    </tr>\n",
       "  </tbody>\n",
       "</table>\n",
       "</div>"
      ],
      "text/plain": [
       "          Unnamed: 0          toxic\n",
       "count  159292.000000  159292.000000\n",
       "mean    79725.697242       0.101612\n",
       "std     46028.837471       0.302139\n",
       "min         0.000000       0.000000\n",
       "25%     39872.750000       0.000000\n",
       "50%     79721.500000       0.000000\n",
       "75%    119573.250000       0.000000\n",
       "max    159450.000000       1.000000"
      ]
     },
     "metadata": {},
     "output_type": "display_data"
    },
    {
     "name": "stdout",
     "output_type": "stream",
     "text": [
      "\n",
      "Пропуски в данных:\n",
      "Unnamed: 0    0\n",
      "text          0\n",
      "toxic         0\n",
      "dtype: int64\n",
      "\n",
      "Количество дубликатов:\n",
      "0\n"
     ]
    },
    {
     "data": {
      "image/png": "[encoded data removed]",
      "text/plain": [
       "<Figure size 800x500 with 2 Axes>"
      ]
     },
     "metadata": {},
     "output_type": "display_data"
    },
    {
     "name": "stdout",
     "output_type": "stream",
     "text": [
      "\n"
     ]
    }
   ],
   "source": [
    "def check_df(df):\n",
    "    print(\"\\nИнформация о датасете:\")\n",
    "    display(df.info())\n",
    "    print(\"Первые 5 строк датасета:\")\n",
    "    display(df.head())\n",
    "    print(\"Статистики датасета:\")\n",
    "    display(df.describe())\n",
    "    print(\"\\nПропуски в данных:\")\n",
    "    print(df.isnull().sum())\n",
    "    print(\"\\nКоличество дубликатов:\")\n",
    "    print(df.duplicated().sum())\n",
    "\n",
    "    df.hist(figsize=(8,5), color='skyblue')\n",
    "    plt.xticks(rotation=45, fontsize=10)\n",
    "    plt.yticks(rotation=45, fontsize=10)\n",
    "    plt.tight_layout()\n",
    "    plt.show()\n",
    "\n",
    "    print()\n",
    "\n",
    "check_df(df)"
   ]
  },
  {
   "cell_type": "code",
   "execution_count": 6,
   "metadata": {
    "execution": {
     "iopub.execute_input": "2025-09-12T23:12:56.080713Z",
     "iopub.status.busy": "2025-09-12T23:12:56.080195Z",
     "iopub.status.idle": "2025-09-12T23:12:56.153746Z",
     "shell.execute_reply": "2025-09-12T23:12:56.152965Z",
     "shell.execute_reply.started": "2025-09-12T23:12:56.080692Z"
    },
    "executionInfo": {
     "elapsed": 35,
     "status": "ok",
     "timestamp": 1757712354696,
     "user": {
      "displayName": "Dmitriy",
      "userId": "01928100860177745623"
     },
     "user_tz": -420
    },
    "id": "b6c4ee1c187b088c",
    "outputId": "a858f445-1648-41f6-fcd5-4f622b3d6996"
   },
   "outputs": [
    {
     "name": "stdout",
     "output_type": "stream",
     "text": [
      "\n",
      "Статистика длины текстов:\n",
      "count    159292.000000\n",
      "mean        393.691303\n",
      "std         590.111825\n",
      "min           5.000000\n",
      "25%          95.000000\n",
      "50%         205.000000\n",
      "75%         435.000000\n",
      "max        5000.000000\n",
      "Name: text_length, dtype: float64\n"
     ]
    }
   ],
   "source": [
    "# анализ длины текстов\n",
    "df['text_length'] = df['text'].apply(len)\n",
    "print(\"\\nСтатистика длины текстов:\")\n",
    "print(df['text_length'].describe())"
   ]
  },
  {
   "cell_type": "code",
   "execution_count": 7,
   "metadata": {
    "execution": {
     "iopub.execute_input": "2025-09-12T23:12:56.154826Z",
     "iopub.status.busy": "2025-09-12T23:12:56.154582Z",
     "iopub.status.idle": "2025-09-12T23:12:56.455991Z",
     "shell.execute_reply": "2025-09-12T23:12:56.455232Z",
     "shell.execute_reply.started": "2025-09-12T23:12:56.154804Z"
    },
    "executionInfo": {
     "elapsed": 266,
     "status": "ok",
     "timestamp": 1757712355008,
     "user": {
      "displayName": "Dmitriy",
      "userId": "01928100860177745623"
     },
     "user_tz": -420
    },
    "id": "e0da92e26f6f8ff8",
    "outputId": "8d9df9be-6862-482c-da37-74ed5c41c58a"
   },
   "outputs": [
    {
     "name": "stderr",
     "output_type": "stream",
     "text": [
      "/usr/local/lib/python3.11/dist-packages/seaborn/_oldcore.py:1119: FutureWarning: use_inf_as_na option is deprecated and will be removed in a future version. Convert inf values to NaN before operating instead.\n",
      "  with pd.option_context('mode.use_inf_as_na', True):\n"
     ]
    },
    {
     "data": {
      "image/png": "[encoded data removed]",
      "text/plain": [
       "<Figure size 1000x400 with 1 Axes>"
      ]
     },
     "metadata": {},
     "output_type": "display_data"
    }
   ],
   "source": [
    "# визуализация распределения длины текстов\n",
    "plt.figure(figsize=(10, 4))\n",
    "sns.histplot(df['text_length'], bins=70, color='skyblue')\n",
    "plt.title('Распределение длины текстов комментариев')\n",
    "plt.xlabel('Длина текста (символы)')\n",
    "plt.ylabel('Количество')\n",
    "plt.show()"
   ]
  },
  {
   "cell_type": "markdown",
   "metadata": {
    "id": "514006b120334c03"
   },
   "source": [
    "**Выводы по загрузке и анализу данных**\n",
    "- Датасет содержит 159292 строки, столбцы: `text`, `toxic`.\n",
    "- Столбец `Unnamed: 0` удалю как избыточный.\n",
    "- Пропуски и дубликаты отсутствуют.\n",
    "- Распределение классов: ~90% нетоксичных, ~10% токсичных (дисбаланс).\n",
    "- Для просмотра длины текста был создан столбец `text_length`.\n",
    "- Длина текстов: средняя ~393 символа, медиана ~205, максимум 5000 (явно выброс, нужно проверить) (BERT принимает до 512 токенов, нужно будет что-то делать с длинными текстами).\n",
    "- **Следующий шаг**: Исследовательский анализ данных"
   ]
  },
  {
   "cell_type": "markdown",
   "metadata": {
    "id": "2c1b21aa0a3654cb"
   },
   "source": [
    "## EDA + предобработка"
   ]
  },
  {
   "cell_type": "markdown",
   "metadata": {
    "id": "bc53b14193e7bb5b"
   },
   "source": [
    "Для начала удалю избыточный столбец"
   ]
  },
  {
   "cell_type": "code",
   "execution_count": 8,
   "metadata": {
    "execution": {
     "iopub.execute_input": "2025-09-12T23:12:56.457159Z",
     "iopub.status.busy": "2025-09-12T23:12:56.456853Z",
     "iopub.status.idle": "2025-09-12T23:12:56.473260Z",
     "shell.execute_reply": "2025-09-12T23:12:56.472509Z",
     "shell.execute_reply.started": "2025-09-12T23:12:56.457133Z"
    },
    "executionInfo": {
     "elapsed": 9,
     "status": "ok",
     "timestamp": 1757712355014,
     "user": {
      "displayName": "Dmitriy",
      "userId": "01928100860177745623"
     },
     "user_tz": -420
    },
    "id": "25fec340cbefabbd",
    "outputId": "37221b0c-2805-4ffe-a1f8-9bd4af79f906"
   },
   "outputs": [
    {
     "data": {
      "text/plain": [
       "((159292, 3), Index(['text', 'toxic', 'text_length'], dtype='object'))"
      ]
     },
     "execution_count": 8,
     "metadata": {},
     "output_type": "execute_result"
    }
   ],
   "source": [
    "df = df.drop(columns=['Unnamed: 0'])\n",
    "df.shape, df.columns"
   ]
  },
  {
   "cell_type": "code",
   "execution_count": 9,
   "metadata": {
    "execution": {
     "iopub.execute_input": "2025-09-12T23:12:56.474318Z",
     "iopub.status.busy": "2025-09-12T23:12:56.474106Z",
     "iopub.status.idle": "2025-09-12T23:12:56.488799Z",
     "shell.execute_reply": "2025-09-12T23:12:56.488116Z",
     "shell.execute_reply.started": "2025-09-12T23:12:56.474294Z"
    },
    "executionInfo": {
     "elapsed": 5,
     "status": "ok",
     "timestamp": 1757712355019,
     "user": {
      "displayName": "Dmitriy",
      "userId": "01928100860177745623"
     },
     "user_tz": -420
    },
    "id": "7860831fed2897c6",
    "outputId": "ba13bcac-5e4e-4173-aea8-e197313da87c"
   },
   "outputs": [
    {
     "data": {
      "text/plain": [
       "toxic\n",
       "0    0.898388\n",
       "1    0.101612\n",
       "Name: proportion, dtype: float64"
      ]
     },
     "execution_count": 9,
     "metadata": {},
     "output_type": "execute_result"
    }
   ],
   "source": [
    "# повторно проверим распределение классов\n",
    "df['toxic'].value_counts(normalize=True)"
   ]
  },
  {
   "cell_type": "markdown",
   "metadata": {
    "id": "bdf88682f045f794"
   },
   "source": [
    "### Анализ длины текстов"
   ]
  },
  {
   "cell_type": "code",
   "execution_count": 10,
   "metadata": {
    "execution": {
     "iopub.execute_input": "2025-09-12T23:12:56.489973Z",
     "iopub.status.busy": "2025-09-12T23:12:56.489504Z",
     "iopub.status.idle": "2025-09-12T23:12:56.511454Z",
     "shell.execute_reply": "2025-09-12T23:12:56.510903Z",
     "shell.execute_reply.started": "2025-09-12T23:12:56.489955Z"
    },
    "executionInfo": {
     "elapsed": 23,
     "status": "ok",
     "timestamp": 1757712355044,
     "user": {
      "displayName": "Dmitriy",
      "userId": "01928100860177745623"
     },
     "user_tz": -420
    },
    "id": "743293da832457f7",
    "outputId": "13b09941-e9f1-45e7-ad06-b4586c29cdfc"
   },
   "outputs": [
    {
     "data": {
      "text/plain": [
       "count    159292.000000\n",
       "mean        393.691303\n",
       "std         590.111825\n",
       "min           5.000000\n",
       "25%          95.000000\n",
       "50%         205.000000\n",
       "75%         435.000000\n",
       "max        5000.000000\n",
       "Name: text_length, dtype: float64"
      ]
     },
     "execution_count": 10,
     "metadata": {},
     "output_type": "execute_result"
    }
   ],
   "source": [
    "df['text_length'].describe()"
   ]
  },
  {
   "cell_type": "code",
   "execution_count": 11,
   "metadata": {
    "execution": {
     "iopub.execute_input": "2025-09-12T23:12:56.512406Z",
     "iopub.status.busy": "2025-09-12T23:12:56.512116Z",
     "iopub.status.idle": "2025-09-12T23:12:56.815231Z",
     "shell.execute_reply": "2025-09-12T23:12:56.814551Z",
     "shell.execute_reply.started": "2025-09-12T23:12:56.512384Z"
    },
    "executionInfo": {
     "elapsed": 963,
     "status": "ok",
     "timestamp": 1757712356053,
     "user": {
      "displayName": "Dmitriy",
      "userId": "01928100860177745623"
     },
     "user_tz": -420
    },
    "id": "ed13ac564301ff85",
    "outputId": "aad8f277-c5cd-497e-f1f1-940c548b7019"
   },
   "outputs": [
    {
     "data": {
      "image/png": "[encoded data removed]",
      "text/plain": [
       "<Figure size 800x400 with 1 Axes>"
      ]
     },
     "metadata": {},
     "output_type": "display_data"
    }
   ],
   "source": [
    "# boxplot длины по классам\n",
    "plt.figure(figsize=(8, 4))\n",
    "sns.boxplot(x='toxic', y=df['text'].str.len(), hue='toxic', data=df, palette='Blues')\n",
    "plt.title('длина текстов по классам (символы)')\n",
    "plt.xlabel('класс (0 - нетоксичный, 1 - токсичный)')\n",
    "plt.ylabel('длина текста (символы)')\n",
    "plt.show()"
   ]
  },
  {
   "cell_type": "markdown",
   "metadata": {
    "id": "3f2d8f1a65660818"
   },
   "source": [
    "в данных достаточно много длинных комментариев"
   ]
  },
  {
   "cell_type": "code",
   "execution_count": 12,
   "metadata": {
    "execution": {
     "iopub.execute_input": "2025-09-12T23:12:56.816214Z",
     "iopub.status.busy": "2025-09-12T23:12:56.815956Z",
     "iopub.status.idle": "2025-09-12T23:12:56.834322Z",
     "shell.execute_reply": "2025-09-12T23:12:56.833571Z",
     "shell.execute_reply.started": "2025-09-12T23:12:56.816195Z"
    },
    "executionInfo": {
     "elapsed": 4,
     "status": "ok",
     "timestamp": 1757712356058,
     "user": {
      "displayName": "Dmitriy",
      "userId": "01928100860177745623"
     },
     "user_tz": -420
    },
    "id": "21c42bb8b38de8e1",
    "outputId": "29ccac43-0bc7-42ca-c610-80fee6ec2c7f"
   },
   "outputs": [
    {
     "data": {
      "text/plain": [
       "text           33851\n",
       "toxic          33851\n",
       "text_length    33851\n",
       "dtype: int64"
      ]
     },
     "execution_count": 12,
     "metadata": {},
     "output_type": "execute_result"
    }
   ],
   "source": [
    "df.query('text_length > 500').count()"
   ]
  },
  {
   "cell_type": "markdown",
   "metadata": {
    "id": "6e612d08e22252a4"
   },
   "source": [
    "комментов длиннее 500 символов почти пятая часть от всех данных"
   ]
  },
  {
   "cell_type": "code",
   "execution_count": 13,
   "metadata": {
    "execution": {
     "iopub.execute_input": "2025-09-12T23:12:56.835506Z",
     "iopub.status.busy": "2025-09-12T23:12:56.835155Z",
     "iopub.status.idle": "2025-09-12T23:12:56.840995Z",
     "shell.execute_reply": "2025-09-12T23:12:56.840359Z",
     "shell.execute_reply.started": "2025-09-12T23:12:56.835489Z"
    },
    "executionInfo": {
     "elapsed": 33,
     "status": "ok",
     "timestamp": 1757712356092,
     "user": {
      "displayName": "Dmitriy",
      "userId": "01928100860177745623"
     },
     "user_tz": -420
    },
    "id": "9426f89ab45a0f50"
   },
   "outputs": [],
   "source": [
    "def get_top_words_and_ngrams(texts, top_n=30, ngram_range=(1, 1)):\n",
    "    # Получение топ-слов\n",
    "    if ngram_range == (1, 1):\n",
    "        vec = CountVectorizer(lowercase=True, stop_words='english')\n",
    "    else:\n",
    "        vec = CountVectorizer(ngram_range=ngram_range, lowercase=True, stop_words='english')\n",
    "\n",
    "    bag = vec.fit_transform(texts)\n",
    "    sums = bag.sum(axis=0)\n",
    "    freqs = [(word, sums[0, idx]) for word, idx in vec.vocabulary_.items()]\n",
    "\n",
    "    top_words = sorted(freqs, key=lambda x: x[1], reverse=True)[:top_n]\n",
    "\n",
    "    return top_words"
   ]
  },
  {
   "cell_type": "code",
   "execution_count": 14,
   "metadata": {
    "execution": {
     "iopub.execute_input": "2025-09-12T23:12:56.844129Z",
     "iopub.status.busy": "2025-09-12T23:12:56.843903Z",
     "iopub.status.idle": "2025-09-12T23:12:57.421352Z",
     "shell.execute_reply": "2025-09-12T23:12:57.420864Z",
     "shell.execute_reply.started": "2025-09-12T23:12:56.844114Z"
    },
    "executionInfo": {
     "elapsed": 1371,
     "status": "ok",
     "timestamp": 1757712357465,
     "user": {
      "displayName": "Dmitriy",
      "userId": "01928100860177745623"
     },
     "user_tz": -420
    },
    "id": "75e90d70-eff9-41ec-84da-d9006dab1016",
    "outputId": "bf88431a-cc2b-4b10-b713-1ccb1f3fc976"
   },
   "outputs": [
    {
     "name": "stdout",
     "output_type": "stream",
     "text": [
      "\n",
      "Топ-30 слов в токсичных комментариях:\n"
     ]
    },
    {
     "data": {
      "text/plain": [
       "[('fuck', 9988),\n",
       " ('wikipedia', 3919),\n",
       " ('like', 3798),\n",
       " ('shit', 3688),\n",
       " ('fucking', 3320),\n",
       " ('nigger', 3306),\n",
       " ('suck', 3245),\n",
       " ('ass', 3001),\n",
       " ('don', 2840),\n",
       " ('just', 2738),\n",
       " ('hate', 2655),\n",
       " ('page', 2368),\n",
       " ('know', 2364),\n",
       " ('gay', 2262),\n",
       " ('die', 2141),\n",
       " ('people', 2057),\n",
       " ('faggot', 2025),\n",
       " ('fat', 1981),\n",
       " ('moron', 1886),\n",
       " ('bitch', 1834),\n",
       " ('hi', 1712),\n",
       " ('cunt', 1570),\n",
       " ('article', 1569),\n",
       " ('talk', 1539),\n",
       " ('stop', 1509),\n",
       " ('stupid', 1488),\n",
       " ('wiki', 1478),\n",
       " ('sucks', 1447),\n",
       " ('user', 1413),\n",
       " ('think', 1397)]"
      ]
     },
     "execution_count": 14,
     "metadata": {},
     "output_type": "execute_result"
    }
   ],
   "source": [
    "toxic_texts = df[df['toxic'] == 1]['text']\n",
    "non_toxic_texts = df[df['toxic'] == 0]['text']\n",
    "\n",
    "print(\"\\nТоп-30 слов в токсичных комментариях:\")\n",
    "get_top_words_and_ngrams(toxic_texts)"
   ]
  },
  {
   "cell_type": "markdown",
   "metadata": {
    "id": "32ca02921c147471"
   },
   "source": [
    "В данных очень много бесполезных слов, например, артиклей, местоимений. Также слова сами по себе не очень информативны, посмотрим n-граммы и долю капса (это признак токсичности обычно)."
   ]
  },
  {
   "cell_type": "code",
   "execution_count": 15,
   "metadata": {
    "execution": {
     "iopub.execute_input": "2025-09-12T23:12:57.422424Z",
     "iopub.status.busy": "2025-09-12T23:12:57.422175Z",
     "iopub.status.idle": "2025-09-12T23:13:00.308773Z",
     "shell.execute_reply": "2025-09-12T23:13:00.308195Z",
     "shell.execute_reply.started": "2025-09-12T23:12:57.422397Z"
    },
    "executionInfo": {
     "elapsed": 5691,
     "status": "ok",
     "timestamp": 1757712363143,
     "user": {
      "displayName": "Dmitriy",
      "userId": "01928100860177745623"
     },
     "user_tz": -420
    },
    "id": "41e413325c9788d1",
    "outputId": "02f358e7-6bbe-4ea6-dd3d-6c60f595742c"
   },
   "outputs": [
    {
     "name": "stdout",
     "output_type": "stream",
     "text": [
      "\n",
      "Топ-30 биграмм в токсичных комментариях:\n"
     ]
    },
    {
     "data": {
      "text/plain": [
       "[('fuck fuck', 2959),\n",
       " ('nigger nigger', 2149),\n",
       " ('hate hate', 1570),\n",
       " ('moron hi', 1474),\n",
       " ('hi moron', 1472),\n",
       " ('pig pig', 1250),\n",
       " ('jew fat', 1234),\n",
       " ('fat jew', 1226),\n",
       " ('shit shit', 1149),\n",
       " ('suck suck', 1136),\n",
       " ('ass ass', 1127),\n",
       " ('bark bark', 999),\n",
       " ('wanker wanker', 963),\n",
       " ('bullshit bullshit', 833),\n",
       " ('balls balls', 833),\n",
       " ('nipple nipple', 763),\n",
       " ('faggot faggot', 755),\n",
       " ('talk page', 737),\n",
       " ('die die', 643),\n",
       " ('dickhead dickhead', 625),\n",
       " ('die fag', 625),\n",
       " ('fag die', 624),\n",
       " ('faggots faggots', 624),\n",
       " ('fucksex fucksex', 623),\n",
       " ('fuck yourselfgo', 621),\n",
       " ('yourselfgo fuck', 621),\n",
       " ('aids aids', 592),\n",
       " ('freedom freedom', 572),\n",
       " ('super gay', 501),\n",
       " ('gay super', 499)]"
      ]
     },
     "metadata": {},
     "output_type": "display_data"
    },
    {
     "name": "stdout",
     "output_type": "stream",
     "text": [
      "\n",
      "Топ-30 триграмм в токсичных комментариях:\n"
     ]
    },
    {
     "data": {
      "text/plain": [
       "[('fuck fuck fuck', 2825),\n",
       " ('nigger nigger nigger', 2139),\n",
       " ('hate hate hate', 1547),\n",
       " ('hi moron hi', 1468),\n",
       " ('moron hi moron', 1466),\n",
       " ('pig pig pig', 1248),\n",
       " ('fat jew fat', 1226),\n",
       " ('jew fat jew', 1224),\n",
       " ('ass ass ass', 1124),\n",
       " ('suck suck suck', 1116),\n",
       " ('shit shit shit', 1107),\n",
       " ('bark bark bark', 998),\n",
       " ('wanker wanker wanker', 960),\n",
       " ('balls balls balls', 831),\n",
       " ('bullshit bullshit bullshit', 828),\n",
       " ('nipple nipple nipple', 761),\n",
       " ('faggot faggot faggot', 749),\n",
       " ('die fag die', 624),\n",
       " ('fag die fag', 624),\n",
       " ('faggots faggots faggots', 623),\n",
       " ('fucksex fucksex fucksex', 622),\n",
       " ('fuck yourselfgo fuck', 621),\n",
       " ('yourselfgo fuck yourselfgo', 619),\n",
       " ('dickhead dickhead dickhead', 618),\n",
       " ('freedom freedom freedom', 570),\n",
       " ('die die die', 541),\n",
       " ('super gay super', 499),\n",
       " ('gay super gay', 499),\n",
       " ('buttsecks buttsecks buttsecks', 495),\n",
       " ('mothjer fucker cocksucker', 489)]"
      ]
     },
     "execution_count": 15,
     "metadata": {},
     "output_type": "execute_result"
    }
   ],
   "source": [
    "# Топ-30 биграмм в токсичных комментариях\n",
    "print(\"\\nТоп-30 биграмм в токсичных комментариях:\")\n",
    "display(get_top_words_and_ngrams(toxic_texts, ngram_range=(2, 2)))\n",
    "\n",
    "# Топ-30 триграмм в токсичных комментариях\n",
    "print(\"\\nТоп-30 триграмм в токсичных комментариях:\")\n",
    "get_top_words_and_ngrams(toxic_texts, ngram_range=(3, 3))"
   ]
  },
  {
   "cell_type": "code",
   "execution_count": 16,
   "metadata": {
    "execution": {
     "iopub.execute_input": "2025-09-12T23:13:00.309710Z",
     "iopub.status.busy": "2025-09-12T23:13:00.309480Z",
     "iopub.status.idle": "2025-09-12T23:13:02.326346Z",
     "shell.execute_reply": "2025-09-12T23:13:02.325730Z",
     "shell.execute_reply.started": "2025-09-12T23:13:00.309693Z"
    },
    "executionInfo": {
     "elapsed": 2108,
     "status": "ok",
     "timestamp": 1757712365219,
     "user": {
      "displayName": "Dmitriy",
      "userId": "01928100860177745623"
     },
     "user_tz": -420
    },
    "id": "dcf3482cae82860f",
    "outputId": "388c907d-7edf-4170-9322-ef0dacfe9451"
   },
   "outputs": [
    {
     "data": {
      "image/png": "[encoded data removed]",
      "text/plain": [
       "<Figure size 1000x400 with 1 Axes>"
      ]
     },
     "metadata": {},
     "output_type": "display_data"
    },
    {
     "data": {
      "text/html": [
       "<div>\n",
       "<style scoped>\n",
       "    .dataframe tbody tr th:only-of-type {\n",
       "        vertical-align: middle;\n",
       "    }\n",
       "\n",
       "    .dataframe tbody tr th {\n",
       "        vertical-align: top;\n",
       "    }\n",
       "\n",
       "    .dataframe thead th {\n",
       "        text-align: right;\n",
       "    }\n",
       "</style>\n",
       "<table border=\"1\" class=\"dataframe\">\n",
       "  <thead>\n",
       "    <tr style=\"text-align: right;\">\n",
       "      <th></th>\n",
       "      <th>toxic</th>\n",
       "      <th>metric</th>\n",
       "      <th>count</th>\n",
       "    </tr>\n",
       "  </thead>\n",
       "  <tbody>\n",
       "    <tr>\n",
       "      <th>0</th>\n",
       "      <td>0</td>\n",
       "      <td>total_chars</td>\n",
       "      <td>57808611</td>\n",
       "    </tr>\n",
       "    <tr>\n",
       "      <th>1</th>\n",
       "      <td>1</td>\n",
       "      <td>total_chars</td>\n",
       "      <td>4903264</td>\n",
       "    </tr>\n",
       "    <tr>\n",
       "      <th>2</th>\n",
       "      <td>0</td>\n",
       "      <td>caps_chars</td>\n",
       "      <td>2035255</td>\n",
       "    </tr>\n",
       "    <tr>\n",
       "      <th>3</th>\n",
       "      <td>1</td>\n",
       "      <td>caps_chars</td>\n",
       "      <td>696383</td>\n",
       "    </tr>\n",
       "  </tbody>\n",
       "</table>\n",
       "</div>"
      ],
      "text/plain": [
       "   toxic       metric     count\n",
       "0      0  total_chars  57808611\n",
       "1      1  total_chars   4903264\n",
       "2      0   caps_chars   2035255\n",
       "3      1   caps_chars    696383"
      ]
     },
     "execution_count": 16,
     "metadata": {},
     "output_type": "execute_result"
    }
   ],
   "source": [
    "# считаем количество символов и капсов по классам\n",
    "df['total_chars'] = df['text'].str.len()\n",
    "df['caps_chars'] = df['text'].apply(lambda x: sum(1 for c in x if c.isupper()))\n",
    "\n",
    "agg = df.groupby('toxic')[['total_chars', 'caps_chars']].sum().reset_index()\n",
    "\n",
    "# визуализация\n",
    "agg_melted = agg.melt(id_vars='toxic', value_vars=['total_chars', 'caps_chars'],\n",
    "                      var_name='metric', value_name='count')\n",
    "\n",
    "plt.figure(figsize=(10,4))\n",
    "sns.barplot(x='toxic', y='count', hue='metric', data=agg_melted, palette='Blues')\n",
    "plt.title('Общее количество символов и капсов по классам')\n",
    "plt.xlabel('Класс (0 — нетоксичные, 1 — токсичные)')\n",
    "plt.ylabel('Количество символов')\n",
    "plt.legend(title='Метрика', labels=['Все символы', 'Заглавные символы'])\n",
    "plt.show()\n",
    "agg_melted"
   ]
  },
  {
   "cell_type": "markdown",
   "metadata": {
    "id": "45ee1ba4172683e4"
   },
   "source": [
    "- В биграммах и триграммах очень много слов повторяются, нужно проверить, почему.\n",
    "- Отношение капслоковых слов к общему количеству не очень большое, можно все слова привести в нижний регистр."
   ]
  },
  {
   "cell_type": "markdown",
   "metadata": {
    "id": "41c63fd7-271d-4015-bac5-732e3125ef3e"
   },
   "source": [
    "посмотрим, сколько из необработанных текстов сможет принять берт"
   ]
  },
  {
   "cell_type": "markdown",
   "metadata": {
    "id": "a3306ec0-0d30-43dc-8c12-3a73ea6d0d27"
   },
   "source": [
    "### Токенизация комментариев"
   ]
  },
  {
   "cell_type": "code",
   "execution_count": 17,
   "metadata": {
    "execution": {
     "iopub.execute_input": "2025-09-12T23:13:02.327409Z",
     "iopub.status.busy": "2025-09-12T23:13:02.327153Z",
     "iopub.status.idle": "2025-09-12T23:16:08.220907Z",
     "shell.execute_reply": "2025-09-12T23:16:08.220304Z",
     "shell.execute_reply.started": "2025-09-12T23:13:02.327387Z"
    },
    "executionInfo": {
     "elapsed": 263057,
     "status": "ok",
     "timestamp": 1757712628275,
     "user": {
      "displayName": "Dmitriy",
      "userId": "01928100860177745623"
     },
     "user_tz": -420
    },
    "id": "238c570a-fc2a-4eb9-87f5-cff77f6eb16c",
    "outputId": "af74346f-7ed6-4b7d-c116-b3c43036f3f7"
   },
   "outputs": [
    {
     "data": {
      "application/vnd.jupyter.widget-view+json": {
       "model_id": "36f8641538b14349833de1ce2575491f",
       "version_major": 2,
       "version_minor": 0
      },
      "text/plain": [
       "tokenizer_config.json:   0%|          | 0.00/48.0 [00:00<?, ?B/s]"
      ]
     },
     "metadata": {},
     "output_type": "display_data"
    },
    {
     "data": {
      "application/vnd.jupyter.widget-view+json": {
       "model_id": "996830c7945445708ec33092e966db06",
       "version_major": 2,
       "version_minor": 0
      },
      "text/plain": [
       "vocab.txt:   0%|          | 0.00/232k [00:00<?, ?B/s]"
      ]
     },
     "metadata": {},
     "output_type": "display_data"
    },
    {
     "data": {
      "application/vnd.jupyter.widget-view+json": {
       "model_id": "245ded1d57964f90a780e142ac1ff7ea",
       "version_major": 2,
       "version_minor": 0
      },
      "text/plain": [
       "tokenizer.json:   0%|          | 0.00/466k [00:00<?, ?B/s]"
      ]
     },
     "metadata": {},
     "output_type": "display_data"
    },
    {
     "data": {
      "application/vnd.jupyter.widget-view+json": {
       "model_id": "99954a3474104613a6be3991cde4476b",
       "version_major": 2,
       "version_minor": 0
      },
      "text/plain": [
       "config.json:   0%|          | 0.00/570 [00:00<?, ?B/s]"
      ]
     },
     "metadata": {},
     "output_type": "display_data"
    },
    {
     "data": {
      "application/vnd.jupyter.widget-view+json": {
       "model_id": "0cd449568da4478f935e7b12e9304ba0",
       "version_major": 2,
       "version_minor": 0
      },
      "text/plain": [
       "токенизация:   0%|          | 0/159292 [00:00<?, ?it/s]"
      ]
     },
     "metadata": {},
     "output_type": "display_data"
    },
    {
     "name": "stdout",
     "output_type": "stream",
     "text": [
      "\n",
      "статистика длины текстов (токены):\n",
      "count    159292.000000\n",
      "mean         88.134307\n",
      "std         102.500119\n",
      "min           4.000000\n",
      "25%          26.000000\n",
      "50%          52.000000\n",
      "75%         104.000000\n",
      "max         512.000000\n",
      "Name: text_token_length, dtype: float64\n"
     ]
    }
   ],
   "source": [
    "# анализ длины в токенах\n",
    "tokenizer = BertTokenizer.from_pretrained('bert-base-uncased')\n",
    "token_lengths = []\n",
    "for text in tqdm(df['text'], desc=\"токенизация\"):\n",
    "    tokens = tokenizer.encode(text, add_special_tokens=True, truncation=True, max_length=512)\n",
    "    token_lengths.append(len(tokens))\n",
    "\n",
    "df['text_token_length'] = token_lengths\n",
    "print(\"\\nстатистика длины текстов (токены):\")\n",
    "print(df['text_token_length'].describe())"
   ]
  },
  {
   "cell_type": "code",
   "execution_count": 18,
   "metadata": {
    "execution": {
     "iopub.execute_input": "2025-09-12T23:16:08.222180Z",
     "iopub.status.busy": "2025-09-12T23:16:08.221646Z",
     "iopub.status.idle": "2025-09-12T23:16:08.602192Z",
     "shell.execute_reply": "2025-09-12T23:16:08.601486Z",
     "shell.execute_reply.started": "2025-09-12T23:16:08.222161Z"
    },
    "executionInfo": {
     "elapsed": 511,
     "status": "ok",
     "timestamp": 1757712628788,
     "user": {
      "displayName": "Dmitriy",
      "userId": "01928100860177745623"
     },
     "user_tz": -420
    },
    "id": "facc43df-003c-4573-ae76-a83d5e10042a",
    "outputId": "e92e2692-c15f-4a9d-8c51-9f126438272b"
   },
   "outputs": [
    {
     "name": "stderr",
     "output_type": "stream",
     "text": [
      "/usr/local/lib/python3.11/dist-packages/seaborn/_oldcore.py:1119: FutureWarning: use_inf_as_na option is deprecated and will be removed in a future version. Convert inf values to NaN before operating instead.\n",
      "  with pd.option_context('mode.use_inf_as_na', True):\n"
     ]
    },
    {
     "data": {
      "image/png": "[encoded data removed]",
      "text/plain": [
       "<Figure size 1000x400 with 1 Axes>"
      ]
     },
     "metadata": {},
     "output_type": "display_data"
    }
   ],
   "source": [
    "# гистограмма длины в токенах\n",
    "plt.figure(figsize=(10, 4))\n",
    "sns.histplot(df['text_token_length'], bins=100, color='skyblue')\n",
    "plt.title('распределение длины текстов в токенах')\n",
    "plt.xlabel('длина текста (токены)')\n",
    "plt.ylabel('количество')\n",
    "plt.axvline(x=512, color='red', linestyle='--', label='bert max length (512)')\n",
    "plt.legend()\n",
    "plt.show()"
   ]
  },
  {
   "cell_type": "markdown",
   "metadata": {
    "id": "9c859f59-6aad-46d5-ba92-6cba512c5f79"
   },
   "source": [
    "токенайзер просто обрезал большинство текстов до 512 токенов. поработаем с качеством текстов."
   ]
  },
  {
   "cell_type": "markdown",
   "metadata": {
    "id": "2ec17dfd-b4db-4b2b-9f19-c911768f2b7c"
   },
   "source": [
    "### Обработка текстов"
   ]
  },
  {
   "cell_type": "markdown",
   "metadata": {
    "id": "1747bcbaaaedfa42"
   },
   "source": [
    "- загрузим стопслова\n",
    "- удалим пунктуацию\n",
    "- удалим все не-ascii символы\n",
    "- приведем все тексты в нижний регистр"
   ]
  },
  {
   "cell_type": "code",
   "execution_count": 19,
   "metadata": {
    "execution": {
     "iopub.execute_input": "2025-09-12T23:16:08.603155Z",
     "iopub.status.busy": "2025-09-12T23:16:08.602920Z",
     "iopub.status.idle": "2025-09-12T23:16:14.472653Z",
     "shell.execute_reply": "2025-09-12T23:16:14.471881Z",
     "shell.execute_reply.started": "2025-09-12T23:16:08.603137Z"
    },
    "executionInfo": {
     "elapsed": 7234,
     "status": "ok",
     "timestamp": 1757712636024,
     "user": {
      "displayName": "Dmitriy",
      "userId": "01928100860177745623"
     },
     "user_tz": -420
    },
    "id": "437ce6693c3aca58",
    "outputId": "bd49edcb-82a5-4f80-e019-3b44ce684240"
   },
   "outputs": [
    {
     "name": "stdout",
     "output_type": "stream",
     "text": [
      "тексты с не-ascii символами: 17178 (10.78%)\n",
      "\n",
      "статистика caps ratio по классам:\n"
     ]
    },
    {
     "data": {
      "text/html": [
       "<div>\n",
       "<style scoped>\n",
       "    .dataframe tbody tr th:only-of-type {\n",
       "        vertical-align: middle;\n",
       "    }\n",
       "\n",
       "    .dataframe tbody tr th {\n",
       "        vertical-align: top;\n",
       "    }\n",
       "\n",
       "    .dataframe thead th {\n",
       "        text-align: right;\n",
       "    }\n",
       "</style>\n",
       "<table border=\"1\" class=\"dataframe\">\n",
       "  <thead>\n",
       "    <tr style=\"text-align: right;\">\n",
       "      <th></th>\n",
       "      <th>count</th>\n",
       "      <th>mean</th>\n",
       "      <th>std</th>\n",
       "      <th>min</th>\n",
       "      <th>25%</th>\n",
       "      <th>50%</th>\n",
       "      <th>75%</th>\n",
       "      <th>max</th>\n",
       "    </tr>\n",
       "    <tr>\n",
       "      <th>toxic</th>\n",
       "      <th></th>\n",
       "      <th></th>\n",
       "      <th></th>\n",
       "      <th></th>\n",
       "      <th></th>\n",
       "      <th></th>\n",
       "      <th></th>\n",
       "      <th></th>\n",
       "    </tr>\n",
       "  </thead>\n",
       "  <tbody>\n",
       "    <tr>\n",
       "      <th>0</th>\n",
       "      <td>143106.0</td>\n",
       "      <td>0.044905</td>\n",
       "      <td>0.065405</td>\n",
       "      <td>0.0</td>\n",
       "      <td>0.020833</td>\n",
       "      <td>0.031579</td>\n",
       "      <td>0.047619</td>\n",
       "      <td>0.962963</td>\n",
       "    </tr>\n",
       "    <tr>\n",
       "      <th>1</th>\n",
       "      <td>16186.0</td>\n",
       "      <td>0.110978</td>\n",
       "      <td>0.207466</td>\n",
       "      <td>0.0</td>\n",
       "      <td>0.019380</td>\n",
       "      <td>0.034682</td>\n",
       "      <td>0.068042</td>\n",
       "      <td>0.998189</td>\n",
       "    </tr>\n",
       "  </tbody>\n",
       "</table>\n",
       "</div>"
      ],
      "text/plain": [
       "          count      mean       std  min       25%       50%       75%  \\\n",
       "toxic                                                                    \n",
       "0      143106.0  0.044905  0.065405  0.0  0.020833  0.031579  0.047619   \n",
       "1       16186.0  0.110978  0.207466  0.0  0.019380  0.034682  0.068042   \n",
       "\n",
       "            max  \n",
       "toxic            \n",
       "0      0.962963  \n",
       "1      0.998189  "
      ]
     },
     "metadata": {},
     "output_type": "display_data"
    }
   ],
   "source": [
    "# загружаем stopwords\n",
    "stop_words = set(stopwords.words('english'))\n",
    "\n",
    "# проверяем не-ascii перед удалением\n",
    "non_ascii = df[df['text'].str.contains('[^\\x00-\\x7F]', regex=True, na=False)]\n",
    "print(f\"тексты с не-ascii символами: {len(non_ascii)} ({len(non_ascii)/len(df)*100:.2f}%)\")\n",
    "\n",
    "# проверяем caps ratio (доля заглавных букв) перед lowercase\n",
    "def calc_caps_ratio(text):\n",
    "    if not text:\n",
    "        return 0\n",
    "    total_chars = len(text)\n",
    "    caps_chars = sum(1 for c in text if c.isupper())\n",
    "    return caps_chars / total_chars if total_chars > 0 else 0\n",
    "\n",
    "df['caps_ratio'] = df['text'].apply(calc_caps_ratio)\n",
    "print(\"\\nстатистика caps ratio по классам:\")\n",
    "display(df.groupby('toxic')['caps_ratio'].describe())\n",
    "\n",
    "# функция очистки текста\n",
    "def clean_text(text):\n",
    "    # переводим в нижний регистр\n",
    "    text = text.lower()\n",
    "    # удаляем не-ascii\n",
    "    text = re.sub(r'[^\\x00-\\x7F]', '', text)\n",
    "    # удаляем пунктуацию\n",
    "    text = re.sub(r'[^\\w\\s]', '', text)\n",
    "    # удаляем stopwords\n",
    "    words = [word for word in text.split() if word not in stop_words]\n",
    "    return ' '.join(words)\n",
    "\n",
    "# применяем очистку\n",
    "df['clean_text'] = df['text'].apply(clean_text)"
   ]
  },
  {
   "cell_type": "code",
   "execution_count": 20,
   "metadata": {
    "execution": {
     "iopub.execute_input": "2025-09-12T23:16:14.473749Z",
     "iopub.status.busy": "2025-09-12T23:16:14.473483Z",
     "iopub.status.idle": "2025-09-12T23:16:14.899305Z",
     "shell.execute_reply": "2025-09-12T23:16:14.898701Z",
     "shell.execute_reply.started": "2025-09-12T23:16:14.473723Z"
    },
    "executionInfo": {
     "elapsed": 463,
     "status": "ok",
     "timestamp": 1757712636484,
     "user": {
      "displayName": "Dmitriy",
      "userId": "01928100860177745623"
     },
     "user_tz": -420
    },
    "id": "393b0b33cf0dbebd",
    "outputId": "943ddf1b-48b8-4d23-d757-8cadcf0cc825"
   },
   "outputs": [
    {
     "name": "stdout",
     "output_type": "stream",
     "text": [
      "\n",
      "Топ-30 слов в токсичных комментариях:\n"
     ]
    },
    {
     "data": {
      "text/plain": [
       "[('fuck', 8662),\n",
       " ('dont', 3877),\n",
       " ('like', 3759),\n",
       " ('shit', 3647),\n",
       " ('wikipedia', 3473),\n",
       " ('nigger', 3295),\n",
       " ('fucking', 3222),\n",
       " ('suck', 3044),\n",
       " ('ass', 2652),\n",
       " ('hate', 2636),\n",
       " ('know', 2341),\n",
       " ('page', 2328),\n",
       " ('gay', 2245),\n",
       " ('im', 2223),\n",
       " ('die', 2136),\n",
       " ('fat', 1978),\n",
       " ('people', 1974),\n",
       " ('faggot', 1962),\n",
       " ('youre', 1925),\n",
       " ('moron', 1885),\n",
       " ('hi', 1709),\n",
       " ('cunt', 1555),\n",
       " ('article', 1535),\n",
       " ('stop', 1485),\n",
       " ('stupid', 1473),\n",
       " ('sucks', 1445),\n",
       " ('bitch', 1432),\n",
       " ('think', 1392),\n",
       " ('talk', 1380),\n",
       " ('jew', 1349)]"
      ]
     },
     "execution_count": 20,
     "metadata": {},
     "output_type": "execute_result"
    }
   ],
   "source": [
    "toxic_texts = df[df['toxic'] == 1]['clean_text']\n",
    "non_toxic_texts = df[df['toxic'] == 0]['clean_text']\n",
    "\n",
    "print(\"\\nТоп-30 слов в токсичных комментариях:\")\n",
    "get_top_words_and_ngrams(toxic_texts)"
   ]
  },
  {
   "cell_type": "code",
   "execution_count": 21,
   "metadata": {
    "execution": {
     "iopub.execute_input": "2025-09-12T23:16:14.900305Z",
     "iopub.status.busy": "2025-09-12T23:16:14.900045Z",
     "iopub.status.idle": "2025-09-12T23:16:14.971126Z",
     "shell.execute_reply": "2025-09-12T23:16:14.970407Z",
     "shell.execute_reply.started": "2025-09-12T23:16:14.900280Z"
    },
    "executionInfo": {
     "elapsed": 40,
     "status": "ok",
     "timestamp": 1757712636523,
     "user": {
      "displayName": "Dmitriy",
      "userId": "01928100860177745623"
     },
     "user_tz": -420
    },
    "id": "718cf2d04ea94723",
    "outputId": "f1859aac-5725-4176-b50a-2234aab55ae2"
   },
   "outputs": [
    {
     "name": "stdout",
     "output_type": "stream",
     "text": [
      "\n",
      "пустые тексты после очистки: 21\n"
     ]
    }
   ],
   "source": [
    "# проверяем пустые тексты после очистки\n",
    "empty_clean = df[df['clean_text'].str.strip().eq('')]\n",
    "print(f\"\\nпустые тексты после очистки: {len(empty_clean)}\")"
   ]
  },
  {
   "cell_type": "code",
   "execution_count": 22,
   "metadata": {
    "execution": {
     "iopub.execute_input": "2025-09-12T23:16:14.972213Z",
     "iopub.status.busy": "2025-09-12T23:16:14.971940Z",
     "iopub.status.idle": "2025-09-12T23:16:14.982829Z",
     "shell.execute_reply": "2025-09-12T23:16:14.982063Z",
     "shell.execute_reply.started": "2025-09-12T23:16:14.972195Z"
    },
    "executionInfo": {
     "elapsed": 36,
     "status": "ok",
     "timestamp": 1757712636558,
     "user": {
      "displayName": "Dmitriy",
      "userId": "01928100860177745623"
     },
     "user_tz": -420
    },
    "id": "8f18f79e2138fa0f",
    "outputId": "b990b88d-7358-4db7-c768-565eb59da9ca"
   },
   "outputs": [
    {
     "data": {
      "text/html": [
       "<div>\n",
       "<style scoped>\n",
       "    .dataframe tbody tr th:only-of-type {\n",
       "        vertical-align: middle;\n",
       "    }\n",
       "\n",
       "    .dataframe tbody tr th {\n",
       "        vertical-align: top;\n",
       "    }\n",
       "\n",
       "    .dataframe thead th {\n",
       "        text-align: right;\n",
       "    }\n",
       "</style>\n",
       "<table border=\"1\" class=\"dataframe\">\n",
       "  <thead>\n",
       "    <tr style=\"text-align: right;\">\n",
       "      <th></th>\n",
       "      <th>text</th>\n",
       "      <th>toxic</th>\n",
       "      <th>text_length</th>\n",
       "      <th>total_chars</th>\n",
       "      <th>caps_chars</th>\n",
       "      <th>text_token_length</th>\n",
       "      <th>caps_ratio</th>\n",
       "      <th>clean_text</th>\n",
       "    </tr>\n",
       "  </thead>\n",
       "  <tbody>\n",
       "    <tr>\n",
       "      <th>0</th>\n",
       "      <td>Explanation\\nWhy the edits made under my usern...</td>\n",
       "      <td>0</td>\n",
       "      <td>264</td>\n",
       "      <td>264</td>\n",
       "      <td>17</td>\n",
       "      <td>68</td>\n",
       "      <td>0.064394</td>\n",
       "      <td>explanation edits made username hardcore metal...</td>\n",
       "    </tr>\n",
       "    <tr>\n",
       "      <th>1</th>\n",
       "      <td>D'aww! He matches this background colour I'm s...</td>\n",
       "      <td>0</td>\n",
       "      <td>112</td>\n",
       "      <td>112</td>\n",
       "      <td>8</td>\n",
       "      <td>35</td>\n",
       "      <td>0.071429</td>\n",
       "      <td>daww matches background colour im seemingly st...</td>\n",
       "    </tr>\n",
       "    <tr>\n",
       "      <th>2</th>\n",
       "      <td>Hey man, I'm really not trying to edit war. It...</td>\n",
       "      <td>0</td>\n",
       "      <td>233</td>\n",
       "      <td>233</td>\n",
       "      <td>4</td>\n",
       "      <td>54</td>\n",
       "      <td>0.017167</td>\n",
       "      <td>hey man im really trying edit war guy constant...</td>\n",
       "    </tr>\n",
       "    <tr>\n",
       "      <th>3</th>\n",
       "      <td>\"\\nMore\\nI can't make any real suggestions on ...</td>\n",
       "      <td>0</td>\n",
       "      <td>622</td>\n",
       "      <td>622</td>\n",
       "      <td>11</td>\n",
       "      <td>144</td>\n",
       "      <td>0.017685</td>\n",
       "      <td>cant make real suggestions improvement wondere...</td>\n",
       "    </tr>\n",
       "    <tr>\n",
       "      <th>4</th>\n",
       "      <td>You, sir, are my hero. Any chance you remember...</td>\n",
       "      <td>0</td>\n",
       "      <td>67</td>\n",
       "      <td>67</td>\n",
       "      <td>2</td>\n",
       "      <td>21</td>\n",
       "      <td>0.029851</td>\n",
       "      <td>sir hero chance remember page thats</td>\n",
       "    </tr>\n",
       "    <tr>\n",
       "      <th>5</th>\n",
       "      <td>\"\\n\\nCongratulations from me as well, use the ...</td>\n",
       "      <td>0</td>\n",
       "      <td>65</td>\n",
       "      <td>65</td>\n",
       "      <td>1</td>\n",
       "      <td>17</td>\n",
       "      <td>0.015385</td>\n",
       "      <td>congratulations well use tools well talk</td>\n",
       "    </tr>\n",
       "    <tr>\n",
       "      <th>6</th>\n",
       "      <td>COCKSUCKER BEFORE YOU PISS AROUND ON MY WORK</td>\n",
       "      <td>1</td>\n",
       "      <td>44</td>\n",
       "      <td>44</td>\n",
       "      <td>37</td>\n",
       "      <td>12</td>\n",
       "      <td>0.840909</td>\n",
       "      <td>cocksucker piss around work</td>\n",
       "    </tr>\n",
       "    <tr>\n",
       "      <th>7</th>\n",
       "      <td>Your vandalism to the Matt Shirvington article...</td>\n",
       "      <td>0</td>\n",
       "      <td>115</td>\n",
       "      <td>115</td>\n",
       "      <td>4</td>\n",
       "      <td>31</td>\n",
       "      <td>0.034783</td>\n",
       "      <td>vandalism matt shirvington article reverted pl...</td>\n",
       "    </tr>\n",
       "    <tr>\n",
       "      <th>8</th>\n",
       "      <td>Sorry if the word 'nonsense' was offensive to ...</td>\n",
       "      <td>0</td>\n",
       "      <td>472</td>\n",
       "      <td>472</td>\n",
       "      <td>7</td>\n",
       "      <td>119</td>\n",
       "      <td>0.014831</td>\n",
       "      <td>sorry word nonsense offensive anyway im intend...</td>\n",
       "    </tr>\n",
       "    <tr>\n",
       "      <th>9</th>\n",
       "      <td>alignment on this subject and which are contra...</td>\n",
       "      <td>0</td>\n",
       "      <td>70</td>\n",
       "      <td>70</td>\n",
       "      <td>2</td>\n",
       "      <td>17</td>\n",
       "      <td>0.028571</td>\n",
       "      <td>alignment subject contrary dulithgow</td>\n",
       "    </tr>\n",
       "    <tr>\n",
       "      <th>10</th>\n",
       "      <td>\"\\nFair use rationale for Image:Wonju.jpg\\n\\nT...</td>\n",
       "      <td>0</td>\n",
       "      <td>2875</td>\n",
       "      <td>2875</td>\n",
       "      <td>53</td>\n",
       "      <td>512</td>\n",
       "      <td>0.018435</td>\n",
       "      <td>fair use rationale imagewonjujpg thanks upload...</td>\n",
       "    </tr>\n",
       "    <tr>\n",
       "      <th>11</th>\n",
       "      <td>bbq \\n\\nbe a man and lets discuss it-maybe ove...</td>\n",
       "      <td>0</td>\n",
       "      <td>56</td>\n",
       "      <td>56</td>\n",
       "      <td>0</td>\n",
       "      <td>17</td>\n",
       "      <td>0.000000</td>\n",
       "      <td>bbq man lets discuss itmaybe phone</td>\n",
       "    </tr>\n",
       "    <tr>\n",
       "      <th>12</th>\n",
       "      <td>Hey... what is it..\\n@ | talk .\\nWhat is it......</td>\n",
       "      <td>1</td>\n",
       "      <td>319</td>\n",
       "      <td>319</td>\n",
       "      <td>43</td>\n",
       "      <td>90</td>\n",
       "      <td>0.134796</td>\n",
       "      <td>hey talk exclusive group wp talibanswho good d...</td>\n",
       "    </tr>\n",
       "    <tr>\n",
       "      <th>13</th>\n",
       "      <td>Before you start throwing accusations and warn...</td>\n",
       "      <td>0</td>\n",
       "      <td>819</td>\n",
       "      <td>819</td>\n",
       "      <td>6</td>\n",
       "      <td>181</td>\n",
       "      <td>0.007326</td>\n",
       "      <td>start throwing accusations warnings lets revie...</td>\n",
       "    </tr>\n",
       "    <tr>\n",
       "      <th>14</th>\n",
       "      <td>Oh, and the girl above started her arguments w...</td>\n",
       "      <td>0</td>\n",
       "      <td>219</td>\n",
       "      <td>219</td>\n",
       "      <td>8</td>\n",
       "      <td>53</td>\n",
       "      <td>0.036530</td>\n",
       "      <td>oh girl started arguments stuck nose doesnt be...</td>\n",
       "    </tr>\n",
       "    <tr>\n",
       "      <th>15</th>\n",
       "      <td>\"\\n\\nJuelz Santanas Age\\n\\nIn 2002, Juelz Sant...</td>\n",
       "      <td>0</td>\n",
       "      <td>610</td>\n",
       "      <td>610</td>\n",
       "      <td>28</td>\n",
       "      <td>167</td>\n",
       "      <td>0.045902</td>\n",
       "      <td>juelz santanas age 2002 juelz santana 18 years...</td>\n",
       "    </tr>\n",
       "    <tr>\n",
       "      <th>16</th>\n",
       "      <td>Bye! \\n\\nDon't look, come or think of comming ...</td>\n",
       "      <td>1</td>\n",
       "      <td>57</td>\n",
       "      <td>57</td>\n",
       "      <td>3</td>\n",
       "      <td>20</td>\n",
       "      <td>0.052632</td>\n",
       "      <td>bye dont look come think comming back tosser</td>\n",
       "    </tr>\n",
       "    <tr>\n",
       "      <th>17</th>\n",
       "      <td>REDIRECT Talk:Voydan Pop Georgiev- Chernodrinski</td>\n",
       "      <td>0</td>\n",
       "      <td>48</td>\n",
       "      <td>48</td>\n",
       "      <td>13</td>\n",
       "      <td>18</td>\n",
       "      <td>0.270833</td>\n",
       "      <td>redirect talkvoydan pop georgiev chernodrinski</td>\n",
       "    </tr>\n",
       "    <tr>\n",
       "      <th>18</th>\n",
       "      <td>The Mitsurugi point made no sense - why not ar...</td>\n",
       "      <td>0</td>\n",
       "      <td>118</td>\n",
       "      <td>118</td>\n",
       "      <td>5</td>\n",
       "      <td>32</td>\n",
       "      <td>0.042373</td>\n",
       "      <td>mitsurugi point made sense argue include hindi...</td>\n",
       "    </tr>\n",
       "    <tr>\n",
       "      <th>19</th>\n",
       "      <td>Don't mean to bother you \\n\\nI see that you're...</td>\n",
       "      <td>0</td>\n",
       "      <td>440</td>\n",
       "      <td>440</td>\n",
       "      <td>5</td>\n",
       "      <td>102</td>\n",
       "      <td>0.011364</td>\n",
       "      <td>dont mean bother see youre writing something r...</td>\n",
       "    </tr>\n",
       "  </tbody>\n",
       "</table>\n",
       "</div>"
      ],
      "text/plain": [
       "                                                 text  toxic  text_length  \\\n",
       "0   Explanation\\nWhy the edits made under my usern...      0          264   \n",
       "1   D'aww! He matches this background colour I'm s...      0          112   \n",
       "2   Hey man, I'm really not trying to edit war. It...      0          233   \n",
       "3   \"\\nMore\\nI can't make any real suggestions on ...      0          622   \n",
       "4   You, sir, are my hero. Any chance you remember...      0           67   \n",
       "5   \"\\n\\nCongratulations from me as well, use the ...      0           65   \n",
       "6        COCKSUCKER BEFORE YOU PISS AROUND ON MY WORK      1           44   \n",
       "7   Your vandalism to the Matt Shirvington article...      0          115   \n",
       "8   Sorry if the word 'nonsense' was offensive to ...      0          472   \n",
       "9   alignment on this subject and which are contra...      0           70   \n",
       "10  \"\\nFair use rationale for Image:Wonju.jpg\\n\\nT...      0         2875   \n",
       "11  bbq \\n\\nbe a man and lets discuss it-maybe ove...      0           56   \n",
       "12  Hey... what is it..\\n@ | talk .\\nWhat is it......      1          319   \n",
       "13  Before you start throwing accusations and warn...      0          819   \n",
       "14  Oh, and the girl above started her arguments w...      0          219   \n",
       "15  \"\\n\\nJuelz Santanas Age\\n\\nIn 2002, Juelz Sant...      0          610   \n",
       "16  Bye! \\n\\nDon't look, come or think of comming ...      1           57   \n",
       "17   REDIRECT Talk:Voydan Pop Georgiev- Chernodrinski      0           48   \n",
       "18  The Mitsurugi point made no sense - why not ar...      0          118   \n",
       "19  Don't mean to bother you \\n\\nI see that you're...      0          440   \n",
       "\n",
       "    total_chars  caps_chars  text_token_length  caps_ratio  \\\n",
       "0           264          17                 68    0.064394   \n",
       "1           112           8                 35    0.071429   \n",
       "2           233           4                 54    0.017167   \n",
       "3           622          11                144    0.017685   \n",
       "4            67           2                 21    0.029851   \n",
       "5            65           1                 17    0.015385   \n",
       "6            44          37                 12    0.840909   \n",
       "7           115           4                 31    0.034783   \n",
       "8           472           7                119    0.014831   \n",
       "9            70           2                 17    0.028571   \n",
       "10         2875          53                512    0.018435   \n",
       "11           56           0                 17    0.000000   \n",
       "12          319          43                 90    0.134796   \n",
       "13          819           6                181    0.007326   \n",
       "14          219           8                 53    0.036530   \n",
       "15          610          28                167    0.045902   \n",
       "16           57           3                 20    0.052632   \n",
       "17           48          13                 18    0.270833   \n",
       "18          118           5                 32    0.042373   \n",
       "19          440           5                102    0.011364   \n",
       "\n",
       "                                           clean_text  \n",
       "0   explanation edits made username hardcore metal...  \n",
       "1   daww matches background colour im seemingly st...  \n",
       "2   hey man im really trying edit war guy constant...  \n",
       "3   cant make real suggestions improvement wondere...  \n",
       "4                 sir hero chance remember page thats  \n",
       "5            congratulations well use tools well talk  \n",
       "6                         cocksucker piss around work  \n",
       "7   vandalism matt shirvington article reverted pl...  \n",
       "8   sorry word nonsense offensive anyway im intend...  \n",
       "9                alignment subject contrary dulithgow  \n",
       "10  fair use rationale imagewonjujpg thanks upload...  \n",
       "11                 bbq man lets discuss itmaybe phone  \n",
       "12  hey talk exclusive group wp talibanswho good d...  \n",
       "13  start throwing accusations warnings lets revie...  \n",
       "14  oh girl started arguments stuck nose doesnt be...  \n",
       "15  juelz santanas age 2002 juelz santana 18 years...  \n",
       "16       bye dont look come think comming back tosser  \n",
       "17     redirect talkvoydan pop georgiev chernodrinski  \n",
       "18  mitsurugi point made sense argue include hindi...  \n",
       "19  dont mean bother see youre writing something r...  "
      ]
     },
     "execution_count": 22,
     "metadata": {},
     "output_type": "execute_result"
    }
   ],
   "source": [
    "df.head(20)"
   ]
  },
  {
   "cell_type": "code",
   "execution_count": 23,
   "metadata": {
    "execution": {
     "iopub.execute_input": "2025-09-12T23:16:14.983728Z",
     "iopub.status.busy": "2025-09-12T23:16:14.983481Z",
     "iopub.status.idle": "2025-09-12T23:16:15.053175Z",
     "shell.execute_reply": "2025-09-12T23:16:15.052492Z",
     "shell.execute_reply.started": "2025-09-12T23:16:14.983713Z"
    },
    "executionInfo": {
     "elapsed": 100,
     "status": "ok",
     "timestamp": 1757712636659,
     "user": {
      "displayName": "Dmitriy",
      "userId": "01928100860177745623"
     },
     "user_tz": -420
    },
    "id": "aa013d1a96c2c99b",
    "outputId": "83d82763-ce57-4512-f0ee-cc1642a3f620"
   },
   "outputs": [
    {
     "name": "stdout",
     "output_type": "stream",
     "text": [
      "\n",
      "Статистика длины текстов:\n"
     ]
    },
    {
     "data": {
      "text/plain": [
       "count    159292.000000\n",
       "mean        254.377897\n",
       "std         395.470121\n",
       "min           0.000000\n",
       "25%          60.000000\n",
       "50%         131.000000\n",
       "75%         278.000000\n",
       "max        5000.000000\n",
       "Name: clean_text_length, dtype: float64"
      ]
     },
     "execution_count": 23,
     "metadata": {},
     "output_type": "execute_result"
    }
   ],
   "source": [
    "df['clean_text_length'] = df['clean_text'].apply(len)\n",
    "print(\"\\nСтатистика длины текстов:\")\n",
    "df['clean_text_length'].describe()"
   ]
  },
  {
   "cell_type": "code",
   "execution_count": 24,
   "metadata": {
    "execution": {
     "iopub.execute_input": "2025-09-12T23:16:15.054195Z",
     "iopub.status.busy": "2025-09-12T23:16:15.053934Z",
     "iopub.status.idle": "2025-09-12T23:16:15.069817Z",
     "shell.execute_reply": "2025-09-12T23:16:15.069197Z",
     "shell.execute_reply.started": "2025-09-12T23:16:15.054172Z"
    },
    "executionInfo": {
     "elapsed": 164,
     "status": "ok",
     "timestamp": 1757712636782,
     "user": {
      "displayName": "Dmitriy",
      "userId": "01928100860177745623"
     },
     "user_tz": -420
    },
    "id": "88e862f353e3f95d",
    "outputId": "a2ee3047-9ec7-4cc3-b4bb-0d5e1f0fceb4"
   },
   "outputs": [
    {
     "data": {
      "text/html": [
       "<div>\n",
       "<style scoped>\n",
       "    .dataframe tbody tr th:only-of-type {\n",
       "        vertical-align: middle;\n",
       "    }\n",
       "\n",
       "    .dataframe tbody tr th {\n",
       "        vertical-align: top;\n",
       "    }\n",
       "\n",
       "    .dataframe thead th {\n",
       "        text-align: right;\n",
       "    }\n",
       "</style>\n",
       "<table border=\"1\" class=\"dataframe\">\n",
       "  <thead>\n",
       "    <tr style=\"text-align: right;\">\n",
       "      <th></th>\n",
       "      <th>text</th>\n",
       "      <th>toxic</th>\n",
       "      <th>text_length</th>\n",
       "      <th>total_chars</th>\n",
       "      <th>caps_chars</th>\n",
       "      <th>text_token_length</th>\n",
       "      <th>caps_ratio</th>\n",
       "      <th>clean_text</th>\n",
       "      <th>clean_text_length</th>\n",
       "    </tr>\n",
       "  </thead>\n",
       "  <tbody>\n",
       "    <tr>\n",
       "      <th>10</th>\n",
       "      <td>\"\\nFair use rationale for Image:Wonju.jpg\\n\\nT...</td>\n",
       "      <td>0</td>\n",
       "      <td>2875</td>\n",
       "      <td>2875</td>\n",
       "      <td>53</td>\n",
       "      <td>512</td>\n",
       "      <td>0.018435</td>\n",
       "      <td>fair use rationale imagewonjujpg thanks upload...</td>\n",
       "      <td>1829</td>\n",
       "    </tr>\n",
       "    <tr>\n",
       "      <th>50</th>\n",
       "      <td>\"\\n\\nBI, you said you wanted to talk\\n\\nAt the...</td>\n",
       "      <td>0</td>\n",
       "      <td>3150</td>\n",
       "      <td>3150</td>\n",
       "      <td>78</td>\n",
       "      <td>512</td>\n",
       "      <td>0.024762</td>\n",
       "      <td>bi said wanted talk bottom lead section writte...</td>\n",
       "      <td>2272</td>\n",
       "    </tr>\n",
       "    <tr>\n",
       "      <th>81</th>\n",
       "      <td>\"\\n\\nIs it scientific to attribute an event A,...</td>\n",
       "      <td>0</td>\n",
       "      <td>2749</td>\n",
       "      <td>2749</td>\n",
       "      <td>83</td>\n",
       "      <td>512</td>\n",
       "      <td>0.030193</td>\n",
       "      <td>scientific attribute event cause b cause b del...</td>\n",
       "      <td>1716</td>\n",
       "    </tr>\n",
       "    <tr>\n",
       "      <th>126</th>\n",
       "      <td>Ahh, Hello Witzeman \\n\\n203.92.84.161  \\nSymbo...</td>\n",
       "      <td>0</td>\n",
       "      <td>4364</td>\n",
       "      <td>4364</td>\n",
       "      <td>271</td>\n",
       "      <td>512</td>\n",
       "      <td>0.062099</td>\n",
       "      <td>ahh hello witzeman 2039284161 symbols characte...</td>\n",
       "      <td>2070</td>\n",
       "    </tr>\n",
       "    <tr>\n",
       "      <th>160</th>\n",
       "      <td>\"== Attributing and classifying of personaliti...</td>\n",
       "      <td>0</td>\n",
       "      <td>3958</td>\n",
       "      <td>3958</td>\n",
       "      <td>121</td>\n",
       "      <td>512</td>\n",
       "      <td>0.030571</td>\n",
       "      <td>attributing classifying personalities invitati...</td>\n",
       "      <td>2930</td>\n",
       "    </tr>\n",
       "    <tr>\n",
       "      <th>...</th>\n",
       "      <td>...</td>\n",
       "      <td>...</td>\n",
       "      <td>...</td>\n",
       "      <td>...</td>\n",
       "      <td>...</td>\n",
       "      <td>...</td>\n",
       "      <td>...</td>\n",
       "      <td>...</td>\n",
       "      <td>...</td>\n",
       "    </tr>\n",
       "    <tr>\n",
       "      <th>159127</th>\n",
       "      <td>Heres the talkpage discussion - that Jehocman ...</td>\n",
       "      <td>0</td>\n",
       "      <td>2647</td>\n",
       "      <td>2647</td>\n",
       "      <td>129</td>\n",
       "      <td>512</td>\n",
       "      <td>0.048734</td>\n",
       "      <td>heres talkpage discussion jehocman blocked hi ...</td>\n",
       "      <td>1599</td>\n",
       "    </tr>\n",
       "    <tr>\n",
       "      <th>159138</th>\n",
       "      <td>\"\\n\\n News suppressed on Wikipedia http://rexc...</td>\n",
       "      <td>0</td>\n",
       "      <td>4833</td>\n",
       "      <td>4833</td>\n",
       "      <td>168</td>\n",
       "      <td>512</td>\n",
       "      <td>0.034761</td>\n",
       "      <td>news suppressed wikipedia httprexcurrynetwikip...</td>\n",
       "      <td>3415</td>\n",
       "    </tr>\n",
       "    <tr>\n",
       "      <th>159164</th>\n",
       "      <td>\"\\nI understand you, but you also should under...</td>\n",
       "      <td>0</td>\n",
       "      <td>2262</td>\n",
       "      <td>2262</td>\n",
       "      <td>123</td>\n",
       "      <td>512</td>\n",
       "      <td>0.054377</td>\n",
       "      <td>understand also understand shouldnt revert wor...</td>\n",
       "      <td>1505</td>\n",
       "    </tr>\n",
       "    <tr>\n",
       "      <th>159180</th>\n",
       "      <td>\"\\n\\n Evidence Redux \\n\\nI'll be frank.  The b...</td>\n",
       "      <td>0</td>\n",
       "      <td>3508</td>\n",
       "      <td>3508</td>\n",
       "      <td>66</td>\n",
       "      <td>512</td>\n",
       "      <td>0.018814</td>\n",
       "      <td>evidence redux ill frank blocking came bit lat...</td>\n",
       "      <td>2194</td>\n",
       "    </tr>\n",
       "    <tr>\n",
       "      <th>159204</th>\n",
       "      <td>I have just followed from your edit exchange o...</td>\n",
       "      <td>0</td>\n",
       "      <td>4816</td>\n",
       "      <td>4816</td>\n",
       "      <td>67</td>\n",
       "      <td>512</td>\n",
       "      <td>0.013912</td>\n",
       "      <td>followed edit exchange article bluray disc fin...</td>\n",
       "      <td>3205</td>\n",
       "    </tr>\n",
       "  </tbody>\n",
       "</table>\n",
       "<p>3237 rows × 9 columns</p>\n",
       "</div>"
      ],
      "text/plain": [
       "                                                     text  toxic  text_length  \\\n",
       "10      \"\\nFair use rationale for Image:Wonju.jpg\\n\\nT...      0         2875   \n",
       "50      \"\\n\\nBI, you said you wanted to talk\\n\\nAt the...      0         3150   \n",
       "81      \"\\n\\nIs it scientific to attribute an event A,...      0         2749   \n",
       "126     Ahh, Hello Witzeman \\n\\n203.92.84.161  \\nSymbo...      0         4364   \n",
       "160     \"== Attributing and classifying of personaliti...      0         3958   \n",
       "...                                                   ...    ...          ...   \n",
       "159127  Heres the talkpage discussion - that Jehocman ...      0         2647   \n",
       "159138  \"\\n\\n News suppressed on Wikipedia http://rexc...      0         4833   \n",
       "159164  \"\\nI understand you, but you also should under...      0         2262   \n",
       "159180  \"\\n\\n Evidence Redux \\n\\nI'll be frank.  The b...      0         3508   \n",
       "159204  I have just followed from your edit exchange o...      0         4816   \n",
       "\n",
       "        total_chars  caps_chars  text_token_length  caps_ratio  \\\n",
       "10             2875          53                512    0.018435   \n",
       "50             3150          78                512    0.024762   \n",
       "81             2749          83                512    0.030193   \n",
       "126            4364         271                512    0.062099   \n",
       "160            3958         121                512    0.030571   \n",
       "...             ...         ...                ...         ...   \n",
       "159127         2647         129                512    0.048734   \n",
       "159138         4833         168                512    0.034761   \n",
       "159164         2262         123                512    0.054377   \n",
       "159180         3508          66                512    0.018814   \n",
       "159204         4816          67                512    0.013912   \n",
       "\n",
       "                                               clean_text  clean_text_length  \n",
       "10      fair use rationale imagewonjujpg thanks upload...               1829  \n",
       "50      bi said wanted talk bottom lead section writte...               2272  \n",
       "81      scientific attribute event cause b cause b del...               1716  \n",
       "126     ahh hello witzeman 2039284161 symbols characte...               2070  \n",
       "160     attributing classifying personalities invitati...               2930  \n",
       "...                                                   ...                ...  \n",
       "159127  heres talkpage discussion jehocman blocked hi ...               1599  \n",
       "159138  news suppressed wikipedia httprexcurrynetwikip...               3415  \n",
       "159164  understand also understand shouldnt revert wor...               1505  \n",
       "159180  evidence redux ill frank blocking came bit lat...               2194  \n",
       "159204  followed edit exchange article bluray disc fin...               3205  \n",
       "\n",
       "[3237 rows x 9 columns]"
      ]
     },
     "execution_count": 24,
     "metadata": {},
     "output_type": "execute_result"
    }
   ],
   "source": [
    "df.query('clean_text_length >= 1500')"
   ]
  },
  {
   "cell_type": "markdown",
   "metadata": {
    "id": "3dbfc18372b2a190"
   },
   "source": [
    "Комментарии состоящие из одного или нескольких повторяющихся слов, чередования слов, например, know fggt know fggt, и длиннее 1000-1500 символов, думаю, можно отнести к спаму и избавиться от них или обработать, например, сжать подряд идущие слова и устранить чередования."
   ]
  },
  {
   "cell_type": "markdown",
   "metadata": {
    "id": "6f715126-bab7-4841-8617-6e69d15b16a0"
   },
   "source": [
    "### Обработка спама"
   ]
  },
  {
   "cell_type": "code",
   "execution_count": 25,
   "metadata": {
    "execution": {
     "iopub.execute_input": "2025-09-12T23:16:15.070823Z",
     "iopub.status.busy": "2025-09-12T23:16:15.070656Z",
     "iopub.status.idle": "2025-09-12T23:16:15.077077Z",
     "shell.execute_reply": "2025-09-12T23:16:15.076284Z",
     "shell.execute_reply.started": "2025-09-12T23:16:15.070800Z"
    },
    "executionInfo": {
     "elapsed": 3,
     "status": "ok",
     "timestamp": 1757712636786,
     "user": {
      "displayName": "Dmitriy",
      "userId": "01928100860177745623"
     },
     "user_tz": -420
    },
    "id": "28ab0afd-afab-49d8-b3c0-0e8766f34eec"
   },
   "outputs": [],
   "source": [
    "# функция для подсчёта уникальности слов\n",
    "def uniqueness_score(text):\n",
    "    if not isinstance(text, str) or not text:\n",
    "        return 1.0\n",
    "    words = text.split()\n",
    "    return len(set(words)) / len(words) if words else 1.0\n",
    "\n",
    "# доработанная функция collapse_repeats\n",
    "def collapse_repeats(text, max_repeats=5):\n",
    "    if not isinstance(text, str) or not text:\n",
    "        return ''\n",
    "\n",
    "    # разбиваем на слова\n",
    "    words = text.split()\n",
    "    result = []\n",
    "    seen_pairs = {}  # словарь для отслеживания чередующихся пар (A B A B)\n",
    "\n",
    "    i = 0\n",
    "    while i < len(words):\n",
    "        # проверяем пары слов\n",
    "        if i + 1 < len(words):\n",
    "            pair = (words[i].lower(), words[i + 1].lower())\n",
    "            if pair in seen_pairs:\n",
    "                seen_pairs[pair] += 1\n",
    "                if seen_pairs[pair] > max_repeats:\n",
    "                    i += 2  # пропускаем повторяющуюся пару\n",
    "                    continue\n",
    "            else:\n",
    "                seen_pairs[pair] = 1\n",
    "            result.extend([words[i], words[i + 1]])\n",
    "            i += 2\n",
    "        else:\n",
    "            result.append(words[i])\n",
    "            i += 1\n",
    "\n",
    "    return ' '.join(result)"
   ]
  },
  {
   "cell_type": "code",
   "execution_count": 26,
   "metadata": {
    "execution": {
     "iopub.execute_input": "2025-09-12T23:16:15.078101Z",
     "iopub.status.busy": "2025-09-12T23:16:15.077828Z",
     "iopub.status.idle": "2025-09-12T23:16:15.858183Z",
     "shell.execute_reply": "2025-09-12T23:16:15.857494Z",
     "shell.execute_reply.started": "2025-09-12T23:16:15.078076Z"
    },
    "executionInfo": {
     "elapsed": 850,
     "status": "ok",
     "timestamp": 1757712637638,
     "user": {
      "displayName": "Dmitriy",
      "userId": "01928100860177745623"
     },
     "user_tz": -420
    },
    "id": "99e0b5ed-dcf7-4b17-aa70-36aed7bf362e",
    "outputId": "03adb4f7-5b96-475c-9a89-5d04b70f1075"
   },
   "outputs": [
    {
     "name": "stdout",
     "output_type": "stream",
     "text": [
      "\n",
      "потенциальный спам (уникальность <50%): 761 (0.48%)\n",
      "\n",
      "распределение классов в потенциальном спаме:\n",
      "toxic\n",
      "1    0.516426\n",
      "0    0.483574\n",
      "Name: proportion, dtype: float64\n",
      "\n",
      "примеры потенциального спама:\n",
      "                                                   text  \\\n",
      "505   2010 Meet a Local - Vietnam TV Series, Factual...   \n",
      "788   Other Bush articles not referenced in George W...   \n",
      "1043  \"\\n\\nOrphaned non-free image (Image:KSV Hessen...   \n",
      "1303  \"\\nWrong licenses\\nI have corrected the licens...   \n",
      "1336  I AM GAY\\nLove\\n  \\nI AM GAY\\nLove\\n  \\nI AM G...   \n",
      "\n",
      "                                             clean_text  \n",
      "505   2010 meet local vietnam tv series factual docu...  \n",
      "788   bush articles referenced george w bush none fo...  \n",
      "1043  orphaned nonfree image imageksv hessen kasselp...  \n",
      "1303  wrong licenses corrected licenses majority ima...  \n",
      "1336                         gay love gay love gay love  \n"
     ]
    }
   ],
   "source": [
    "df['text_length'] = df['clean_text'].str.len()\n",
    "df['uniqueness'] = df['clean_text'].apply(uniqueness_score)\n",
    "potential_spam = df[df['uniqueness'] < 0.5]\n",
    "print(f\"\\nпотенциальный спам (уникальность <50%): {len(potential_spam)} ({len(potential_spam)/len(df)*100:.2f}%)\")\n",
    "if len(potential_spam) > 0:\n",
    "    print(\"\\nраспределение классов в потенциальном спаме:\")\n",
    "    print(potential_spam['toxic'].value_counts(normalize=True))\n",
    "    print(\"\\nпримеры потенциального спама:\")\n",
    "    print(potential_spam[['text', 'clean_text']].head(5))"
   ]
  },
  {
   "cell_type": "code",
   "execution_count": 27,
   "metadata": {
    "execution": {
     "iopub.execute_input": "2025-09-12T23:16:15.859247Z",
     "iopub.status.busy": "2025-09-12T23:16:15.858998Z",
     "iopub.status.idle": "2025-09-12T23:16:17.603586Z",
     "shell.execute_reply": "2025-09-12T23:16:17.603071Z",
     "shell.execute_reply.started": "2025-09-12T23:16:15.859229Z"
    },
    "executionInfo": {
     "elapsed": 1852,
     "status": "ok",
     "timestamp": 1757712639488,
     "user": {
      "displayName": "Dmitriy",
      "userId": "01928100860177745623"
     },
     "user_tz": -420
    },
    "id": "916cbbf1-18e2-4cd2-88d4-1619f55de0cf"
   },
   "outputs": [],
   "source": [
    "# применяем сжатие чередующихся повторов\n",
    "df['clean_text'] = df['clean_text'].apply(lambda x: collapse_repeats(x, max_repeats=2))"
   ]
  },
  {
   "cell_type": "code",
   "execution_count": 28,
   "metadata": {
    "execution": {
     "iopub.execute_input": "2025-09-12T23:16:17.604686Z",
     "iopub.status.busy": "2025-09-12T23:16:17.604454Z",
     "iopub.status.idle": "2025-09-12T23:16:17.816468Z",
     "shell.execute_reply": "2025-09-12T23:16:17.815639Z",
     "shell.execute_reply.started": "2025-09-12T23:16:17.604671Z"
    },
    "executionInfo": {
     "elapsed": 218,
     "status": "ok",
     "timestamp": 1757712639707,
     "user": {
      "displayName": "Dmitriy",
      "userId": "01928100860177745623"
     },
     "user_tz": -420
    },
    "id": "84241c59-45b2-4673-8e00-50392b6547db",
    "outputId": "f1b26cdf-e218-4a84-e915-f656d03fe9ea"
   },
   "outputs": [
    {
     "name": "stdout",
     "output_type": "stream",
     "text": [
      "\n",
      "статистика длины текстов после сжатия:\n",
      "count    159292.000000\n",
      "mean        248.057122\n",
      "std         371.017989\n",
      "min           0.000000\n",
      "25%          60.000000\n",
      "50%         130.000000\n",
      "75%         275.000000\n",
      "max        4965.000000\n",
      "Name: clean_text_length, dtype: float64\n",
      "\n",
      "тексты длиннее 512 символов после сжатия: 18191 (11.42%)\n",
      "\n",
      "пустые тексты после сжатия: 21 (0.01%)\n",
      "\n",
      "распределение классов в пустых текстах:\n",
      "toxic\n",
      "0    0.952381\n",
      "1    0.047619\n",
      "Name: proportion, dtype: float64\n"
     ]
    }
   ],
   "source": [
    "# проверяем результат\n",
    "df['clean_text_length'] = df['clean_text'].str.len()\n",
    "print(f\"\\nстатистика длины текстов после сжатия:\")\n",
    "print(df['clean_text_length'].describe())\n",
    "print(f\"\\nтексты длиннее 512 символов после сжатия: {len(df[df['clean_text_length'] > 512])} ({len(df[df['clean_text_length'] > 512])/len(df)*100:.2f}%)\")\n",
    "\n",
    "empty_clean = df[df['clean_text'].str.strip().eq('')]\n",
    "print(f\"\\nпустые тексты после сжатия: {len(empty_clean)} ({len(empty_clean)/len(df)*100:.2f}%)\")\n",
    "if len(empty_clean) > 0:\n",
    "    print(\"\\nраспределение классов в пустых текстах:\")\n",
    "    print(empty_clean['toxic'].value_counts(normalize=True))\n",
    "    df = df[~df['clean_text'].str.strip().eq('')]"
   ]
  },
  {
   "cell_type": "code",
   "execution_count": 29,
   "metadata": {
    "execution": {
     "iopub.execute_input": "2025-09-12T23:16:17.817642Z",
     "iopub.status.busy": "2025-09-12T23:16:17.817430Z",
     "iopub.status.idle": "2025-09-12T23:16:17.833853Z",
     "shell.execute_reply": "2025-09-12T23:16:17.833261Z",
     "shell.execute_reply.started": "2025-09-12T23:16:17.817621Z"
    },
    "executionInfo": {
     "elapsed": 30,
     "status": "ok",
     "timestamp": 1757712639738,
     "user": {
      "displayName": "Dmitriy",
      "userId": "01928100860177745623"
     },
     "user_tz": -420
    },
    "id": "083c6ecb-eb13-4094-b9da-63144bb601ca",
    "outputId": "b3322677-b533-4c17-82f0-1572802f264a"
   },
   "outputs": [
    {
     "data": {
      "text/html": [
       "<div>\n",
       "<style scoped>\n",
       "    .dataframe tbody tr th:only-of-type {\n",
       "        vertical-align: middle;\n",
       "    }\n",
       "\n",
       "    .dataframe tbody tr th {\n",
       "        vertical-align: top;\n",
       "    }\n",
       "\n",
       "    .dataframe thead th {\n",
       "        text-align: right;\n",
       "    }\n",
       "</style>\n",
       "<table border=\"1\" class=\"dataframe\">\n",
       "  <thead>\n",
       "    <tr style=\"text-align: right;\">\n",
       "      <th></th>\n",
       "      <th>text</th>\n",
       "      <th>toxic</th>\n",
       "      <th>text_length</th>\n",
       "      <th>total_chars</th>\n",
       "      <th>caps_chars</th>\n",
       "      <th>text_token_length</th>\n",
       "      <th>caps_ratio</th>\n",
       "      <th>clean_text</th>\n",
       "      <th>clean_text_length</th>\n",
       "      <th>uniqueness</th>\n",
       "    </tr>\n",
       "  </thead>\n",
       "  <tbody>\n",
       "    <tr>\n",
       "      <th>259</th>\n",
       "      <td>Y r we doing this: Pat</td>\n",
       "      <td>0</td>\n",
       "      <td>5</td>\n",
       "      <td>22</td>\n",
       "      <td>2</td>\n",
       "      <td>9</td>\n",
       "      <td>0.090909</td>\n",
       "      <td>r pat</td>\n",
       "      <td>5</td>\n",
       "      <td>1.0</td>\n",
       "    </tr>\n",
       "    <tr>\n",
       "      <th>627</th>\n",
       "      <td>Seems we both have some.</td>\n",
       "      <td>0</td>\n",
       "      <td>5</td>\n",
       "      <td>24</td>\n",
       "      <td>1</td>\n",
       "      <td>8</td>\n",
       "      <td>0.041667</td>\n",
       "      <td>seems</td>\n",
       "      <td>5</td>\n",
       "      <td>1.0</td>\n",
       "    </tr>\n",
       "    <tr>\n",
       "      <th>807</th>\n",
       "      <td>You are \\n\\nso retarded.</td>\n",
       "      <td>1</td>\n",
       "      <td>8</td>\n",
       "      <td>22</td>\n",
       "      <td>1</td>\n",
       "      <td>9</td>\n",
       "      <td>0.045455</td>\n",
       "      <td>retarded</td>\n",
       "      <td>8</td>\n",
       "      <td>1.0</td>\n",
       "    </tr>\n",
       "    <tr>\n",
       "      <th>852</th>\n",
       "      <td>P.S. Are you a /b/tard?</td>\n",
       "      <td>1</td>\n",
       "      <td>8</td>\n",
       "      <td>23</td>\n",
       "      <td>3</td>\n",
       "      <td>15</td>\n",
       "      <td>0.130435</td>\n",
       "      <td>ps btard</td>\n",
       "      <td>8</td>\n",
       "      <td>1.0</td>\n",
       "    </tr>\n",
       "    <tr>\n",
       "      <th>899</th>\n",
       "      <td>I've just seen that</td>\n",
       "      <td>0</td>\n",
       "      <td>8</td>\n",
       "      <td>19</td>\n",
       "      <td>1</td>\n",
       "      <td>8</td>\n",
       "      <td>0.052632</td>\n",
       "      <td>ive seen</td>\n",
       "      <td>8</td>\n",
       "      <td>1.0</td>\n",
       "    </tr>\n",
       "    <tr>\n",
       "      <th>...</th>\n",
       "      <td>...</td>\n",
       "      <td>...</td>\n",
       "      <td>...</td>\n",
       "      <td>...</td>\n",
       "      <td>...</td>\n",
       "      <td>...</td>\n",
       "      <td>...</td>\n",
       "      <td>...</td>\n",
       "      <td>...</td>\n",
       "      <td>...</td>\n",
       "    </tr>\n",
       "    <tr>\n",
       "      <th>158791</th>\n",
       "      <td>!!! \\nDOWN WITH THE USA!!!</td>\n",
       "      <td>1</td>\n",
       "      <td>3</td>\n",
       "      <td>25</td>\n",
       "      <td>14</td>\n",
       "      <td>12</td>\n",
       "      <td>0.560000</td>\n",
       "      <td>usa</td>\n",
       "      <td>3</td>\n",
       "      <td>1.0</td>\n",
       "    </tr>\n",
       "    <tr>\n",
       "      <th>158964</th>\n",
       "      <td>wtf \\n\\n  your a queer</td>\n",
       "      <td>1</td>\n",
       "      <td>9</td>\n",
       "      <td>20</td>\n",
       "      <td>0</td>\n",
       "      <td>7</td>\n",
       "      <td>0.000000</td>\n",
       "      <td>wtf queer</td>\n",
       "      <td>9</td>\n",
       "      <td>1.0</td>\n",
       "    </tr>\n",
       "    <tr>\n",
       "      <th>159169</th>\n",
       "      <td>Yeah i no it sucks.</td>\n",
       "      <td>1</td>\n",
       "      <td>10</td>\n",
       "      <td>19</td>\n",
       "      <td>1</td>\n",
       "      <td>8</td>\n",
       "      <td>0.052632</td>\n",
       "      <td>yeah sucks</td>\n",
       "      <td>10</td>\n",
       "      <td>1.0</td>\n",
       "    </tr>\n",
       "    <tr>\n",
       "      <th>159193</th>\n",
       "      <td>You ignored him too</td>\n",
       "      <td>0</td>\n",
       "      <td>7</td>\n",
       "      <td>19</td>\n",
       "      <td>1</td>\n",
       "      <td>6</td>\n",
       "      <td>0.052632</td>\n",
       "      <td>ignored</td>\n",
       "      <td>7</td>\n",
       "      <td>1.0</td>\n",
       "    </tr>\n",
       "    <tr>\n",
       "      <th>159268</th>\n",
       "      <td>Thank you very, very much.  ·✆</td>\n",
       "      <td>0</td>\n",
       "      <td>10</td>\n",
       "      <td>30</td>\n",
       "      <td>1</td>\n",
       "      <td>11</td>\n",
       "      <td>0.033333</td>\n",
       "      <td>thank much</td>\n",
       "      <td>10</td>\n",
       "      <td>1.0</td>\n",
       "    </tr>\n",
       "  </tbody>\n",
       "</table>\n",
       "<p>1015 rows × 10 columns</p>\n",
       "</div>"
      ],
      "text/plain": [
       "                                  text  toxic  text_length  total_chars  \\\n",
       "259             Y r we doing this: Pat      0            5           22   \n",
       "627           Seems we both have some.      0            5           24   \n",
       "807           You are \\n\\nso retarded.      1            8           22   \n",
       "852            P.S. Are you a /b/tard?      1            8           23   \n",
       "899                I've just seen that      0            8           19   \n",
       "...                                ...    ...          ...          ...   \n",
       "158791      !!! \\nDOWN WITH THE USA!!!      1            3           25   \n",
       "158964          wtf \\n\\n  your a queer      1            9           20   \n",
       "159169             Yeah i no it sucks.      1           10           19   \n",
       "159193             You ignored him too      0            7           19   \n",
       "159268  Thank you very, very much.  ·✆      0           10           30   \n",
       "\n",
       "        caps_chars  text_token_length  caps_ratio  clean_text  \\\n",
       "259              2                  9    0.090909       r pat   \n",
       "627              1                  8    0.041667       seems   \n",
       "807              1                  9    0.045455    retarded   \n",
       "852              3                 15    0.130435    ps btard   \n",
       "899              1                  8    0.052632    ive seen   \n",
       "...            ...                ...         ...         ...   \n",
       "158791          14                 12    0.560000         usa   \n",
       "158964           0                  7    0.000000   wtf queer   \n",
       "159169           1                  8    0.052632  yeah sucks   \n",
       "159193           1                  6    0.052632     ignored   \n",
       "159268           1                 11    0.033333  thank much   \n",
       "\n",
       "        clean_text_length  uniqueness  \n",
       "259                     5         1.0  \n",
       "627                     5         1.0  \n",
       "807                     8         1.0  \n",
       "852                     8         1.0  \n",
       "899                     8         1.0  \n",
       "...                   ...         ...  \n",
       "158791                  3         1.0  \n",
       "158964                  9         1.0  \n",
       "159169                 10         1.0  \n",
       "159193                  7         1.0  \n",
       "159268                 10         1.0  \n",
       "\n",
       "[1015 rows x 10 columns]"
      ]
     },
     "execution_count": 29,
     "metadata": {},
     "output_type": "execute_result"
    }
   ],
   "source": [
    "df.query('clean_text_length <= 10')"
   ]
  },
  {
   "cell_type": "markdown",
   "metadata": {
    "id": "cd38aa11-df60-4247-befc-10d773c40360"
   },
   "source": [
    "stopwords, конечно, довольно сильно подрезал предложения, но, семантику, вроде, потеряли не слишком сильно, ключевые положительные и негативные слова, в большинстве своем, остались.\n",
    "далее можно удалить строки с комментариями короче 3 символов и посчитать длины текстов в токенах с помощью токенайзера берт."
   ]
  },
  {
   "cell_type": "code",
   "execution_count": 30,
   "metadata": {
    "execution": {
     "iopub.execute_input": "2025-09-12T23:16:17.834670Z",
     "iopub.status.busy": "2025-09-12T23:16:17.834463Z",
     "iopub.status.idle": "2025-09-12T23:16:17.869681Z",
     "shell.execute_reply": "2025-09-12T23:16:17.869221Z",
     "shell.execute_reply.started": "2025-09-12T23:16:17.834654Z"
    },
    "executionInfo": {
     "elapsed": 35,
     "status": "ok",
     "timestamp": 1757712639775,
     "user": {
      "displayName": "Dmitriy",
      "userId": "01928100860177745623"
     },
     "user_tz": -420
    },
    "id": "671d4919-f22c-4543-8e3d-340a93b2027b"
   },
   "outputs": [],
   "source": [
    "df = df.query('clean_text_length > 3')"
   ]
  },
  {
   "cell_type": "markdown",
   "metadata": {
    "id": "95c74a75-f66f-4661-ab98-57c927110b06"
   },
   "source": [
    "проверим качество обработки спама:"
   ]
  },
  {
   "cell_type": "code",
   "execution_count": 31,
   "metadata": {
    "execution": {
     "iopub.execute_input": "2025-09-12T23:16:17.870454Z",
     "iopub.status.busy": "2025-09-12T23:16:17.870275Z",
     "iopub.status.idle": "2025-09-12T23:16:17.897042Z",
     "shell.execute_reply": "2025-09-12T23:16:17.896533Z",
     "shell.execute_reply.started": "2025-09-12T23:16:17.870440Z"
    },
    "executionInfo": {
     "elapsed": 21,
     "status": "ok",
     "timestamp": 1757712639799,
     "user": {
      "displayName": "Dmitriy",
      "userId": "01928100860177745623"
     },
     "user_tz": -420
    },
    "id": "570d6389-2f48-424e-aa18-b2ae76bff0f0"
   },
   "outputs": [],
   "source": [
    "toxic_texts = df[df['toxic'] == 1]['clean_text']\n",
    "non_toxic_texts = df[df['toxic'] == 0]['clean_text']"
   ]
  },
  {
   "cell_type": "code",
   "execution_count": 32,
   "metadata": {
    "execution": {
     "iopub.execute_input": "2025-09-12T23:16:17.897874Z",
     "iopub.status.busy": "2025-09-12T23:16:17.897666Z",
     "iopub.status.idle": "2025-09-12T23:16:20.387346Z",
     "shell.execute_reply": "2025-09-12T23:16:20.386556Z",
     "shell.execute_reply.started": "2025-09-12T23:16:17.897850Z"
    },
    "executionInfo": {
     "elapsed": 3545,
     "status": "ok",
     "timestamp": 1757712643343,
     "user": {
      "displayName": "Dmitriy",
      "userId": "01928100860177745623"
     },
     "user_tz": -420
    },
    "id": "76358182-8d11-4228-b09a-85c6c166f962",
    "outputId": "4bc695af-ce87-4d00-a362-0e780a3bad3e"
   },
   "outputs": [
    {
     "name": "stdout",
     "output_type": "stream",
     "text": [
      "\n",
      "Топ-30 слов в токсичных комментариях:\n",
      "[('fuck', 3329), ('dont', 3280), ('like', 3099), ('wikipedia', 2642), ('fucking', 2274), ('page', 2211), ('im', 2017), ('people', 1904), ('know', 1831), ('youre', 1671), ('shit', 1606), ('article', 1529), ('think', 1389), ('stop', 1373), ('talk', 1267), ('stupid', 1184), ('time', 1142), ('want', 1069), ('ass', 1061), ('life', 1041), ('make', 977), ('bitch', 954), ('edit', 923), ('really', 901), ('little', 891), ('block', 874), ('right', 849), ('say', 809), ('going', 802), ('good', 800)]\n",
      "\n",
      "Топ-30 биграмм в токсичных комментариях:\n",
      "[('talk page', 613), ('dont know', 321), ('piece shit', 244), ('im going', 193), ('fuck fuck', 190), ('dont care', 183), ('people like', 166), ('personal attack', 158), ('personal attacks', 155), ('dont like', 148), ('dont think', 135), ('dont want', 124), ('user page', 124), ('ha ha', 119), ('suck dick', 105), ('comment added', 96), ('im sure', 96), ('unsigned comment', 94), ('son bitch', 93), ('preceding unsigned', 92), ('youre fucking', 91), ('ip address', 90), ('shut fuck', 88), ('im gonna', 85), ('looks like', 79), ('year old', 77), ('editing wikipedia', 76), ('talk pages', 72), ('eat shit', 71), ('dont understand', 70)]\n",
      "\n",
      "Топ-30 триграмм в токсичных комментариях:\n",
      "[('unsigned comment added', 94), ('preceding unsigned comment', 92), ('fuck fuck fuck', 62), ('ha ha ha', 50), ('blah blah blah', 24), ('nigger nigger nigger', 22), ('comments talk page', 20), ('mothjer fucker cocksucker', 19), ('im going kill', 18), ('assume good faith', 18), ('eat shit die', 17), ('user talk page', 17), ('comment added talk', 17), ('homo like mitt', 16), ('like mitt romney', 16), ('added talk contribs', 16), ('post computeri said', 16), ('computeri said block', 16), ('said block come', 16), ('block come fuck', 16), ('come fuck arrest', 16), ('fuck arrest mesan', 16), ('arrest mesan diego', 16), ('mesan diego california', 16), ('diego california chula', 16), ('california chula vista', 16), ('chula vista fucking', 16), ('vista fucking information', 16), ('fucking information right', 16), ('information right faggot', 16)]\n"
     ]
    }
   ],
   "source": [
    "# Топ-30 слов в токсичных комментариях\n",
    "print(\"\\nТоп-30 слов в токсичных комментариях:\")\n",
    "print(get_top_words_and_ngrams(toxic_texts))\n",
    "\n",
    "# Топ-30 биграмм в токсичных комментариях\n",
    "print(\"\\nТоп-30 биграмм в токсичных комментариях:\")\n",
    "print(get_top_words_and_ngrams(toxic_texts, ngram_range=(2, 2)))\n",
    "\n",
    "# Топ-30 триграмм в токсичных комментариях\n",
    "print(\"\\nТоп-30 триграмм в токсичных комментариях:\")\n",
    "print(get_top_words_and_ngrams(toxic_texts, ngram_range=(3, 3)))"
   ]
  },
  {
   "cell_type": "markdown",
   "metadata": {
    "id": "85b796a5-f2f0-4287-aab9-05aadc9e3903"
   },
   "source": [
    "совершенно неплохо. количество повторов в н-граммах очень сильно снизилось, хоть и не полностью, но какое-то количество допустимо, так как при агрессивной обработке повторов можно потерять семантику текстов."
   ]
  },
  {
   "cell_type": "markdown",
   "metadata": {
    "id": "25de56f7-55be-46e2-9fcd-2ad25f4f7a3d"
   },
   "source": [
    "### Токенизация чистых комментов"
   ]
  },
  {
   "cell_type": "code",
   "execution_count": 33,
   "metadata": {
    "execution": {
     "iopub.execute_input": "2025-09-12T23:16:20.388349Z",
     "iopub.status.busy": "2025-09-12T23:16:20.388080Z",
     "iopub.status.idle": "2025-09-12T23:18:18.641936Z",
     "shell.execute_reply": "2025-09-12T23:18:18.641332Z",
     "shell.execute_reply.started": "2025-09-12T23:16:20.388326Z"
    },
    "id": "a6e81a9c952973b3"
   },
   "outputs": [
    {
     "data": {
      "application/vnd.jupyter.widget-view+json": {
       "model_id": "85fffe561db040bd886128df34714b1c",
       "version_major": 2,
       "version_minor": 0
      },
      "text/plain": [
       "токенизация:   0%|          | 0/159239 [00:00<?, ?it/s]"
      ]
     },
     "metadata": {},
     "output_type": "display_data"
    },
    {
     "name": "stdout",
     "output_type": "stream",
     "text": [
      "\n",
      "статистика длины текстов (токены):\n",
      "count    159239.000000\n",
      "mean         46.080100\n",
      "std          63.153953\n",
      "min           3.000000\n",
      "25%          14.000000\n",
      "50%          26.000000\n",
      "75%          51.000000\n",
      "max         512.000000\n",
      "Name: token_length, dtype: float64\n"
     ]
    }
   ],
   "source": [
    "# анализ длины в токенах\n",
    "tokenizer = BertTokenizer.from_pretrained('bert-base-uncased')\n",
    "token_lengths = []\n",
    "for text in tqdm(df['clean_text'], desc=\"токенизация\"):\n",
    "    tokens = tokenizer.encode(text, add_special_tokens=True, truncation=True, max_length=512)\n",
    "    token_lengths.append(len(tokens))\n",
    "\n",
    "df['token_length'] = token_lengths\n",
    "print(\"\\nстатистика длины текстов (токены):\")\n",
    "print(df['token_length'].describe())"
   ]
  },
  {
   "cell_type": "code",
   "execution_count": 34,
   "metadata": {
    "execution": {
     "iopub.execute_input": "2025-09-12T23:18:18.642987Z",
     "iopub.status.busy": "2025-09-12T23:18:18.642717Z",
     "iopub.status.idle": "2025-09-12T23:18:19.000296Z",
     "shell.execute_reply": "2025-09-12T23:18:18.999648Z",
     "shell.execute_reply.started": "2025-09-12T23:18:18.642960Z"
    },
    "id": "35ffb35fca10f40"
   },
   "outputs": [
    {
     "name": "stderr",
     "output_type": "stream",
     "text": [
      "/usr/local/lib/python3.11/dist-packages/seaborn/_oldcore.py:1119: FutureWarning: use_inf_as_na option is deprecated and will be removed in a future version. Convert inf values to NaN before operating instead.\n",
      "  with pd.option_context('mode.use_inf_as_na', True):\n"
     ]
    },
    {
     "data": {
      "image/png": "[encoded data removed]",
      "text/plain": [
       "<Figure size 1000x400 with 1 Axes>"
      ]
     },
     "metadata": {},
     "output_type": "display_data"
    }
   ],
   "source": [
    "# гистограмма длины в токенах\n",
    "plt.figure(figsize=(10, 4))\n",
    "sns.histplot(df['token_length'], bins=100, color='skyblue')\n",
    "plt.title('распределение длины текстов в токенах')\n",
    "plt.xlabel('длина текста (токены)')\n",
    "plt.ylabel('количество')\n",
    "plt.axvline(x=512, color='red', linestyle='--', label='bert max length (512)')\n",
    "plt.legend()\n",
    "plt.show()"
   ]
  },
  {
   "cell_type": "markdown",
   "metadata": {
    "id": "b014d0ee-10ab-4fb4-a2e1-966944896b7e"
   },
   "source": [
    "обработка текстов показала себя хорошо. мы потеряли минимум данных и при этом токенайзер не просто обрезал комментарии на 512 токенах, как в необработанных текстах. почти все тексты влезли в необходимый порог. Далее посмотрим корреляции и зависимости."
   ]
  },
  {
   "cell_type": "markdown",
   "metadata": {},
   "source": [
    "### Вывод: EDA + предобработка\n",
    "\n",
    "- Датасет содержит **159 292 комментария**, с сильным дисбалансом классов: ~90% нетоксичных и ~10% токсичных.\n",
    "- Комментарии сильно различаются по длине: от нескольких символов до 5000, средняя длина после очистки — 248 символов.\n",
    "- **Токсичные комментарии** характеризуются:\n",
    "  - высоким содержанием ругательств и негативных слов;\n",
    "  - большим количеством заглавных букв;\n",
    "  - повторяющимися словами и шаблонными паттернами (спам).\n",
    "- Очистка текстов включала:\n",
    "  - удаление пунктуации и не-ASCII символов;\n",
    "  - удаление стоп-слов;\n",
    "  - приведение к нижнему регистру;\n",
    "  - сжатие повторяющихся слов и чередующихся паттернов.\n",
    "- После предобработки:\n",
    "  - пустых текстов практически нет (0.01%);\n",
    "  - большинство комментариев помещается в лимит BERT (≤512 токенов);\n",
    "  - семантика и ключевые признаки токсичности сохранены.\n",
    "- **Данные готовы к обучению моделей**, включая BERT и классические алгоритмы машинного обучения, с минимальным шумом и корректной структурой."
   ]
  },
  {
   "cell_type": "markdown",
   "metadata": {
    "id": "c05f1529-c276-440c-970a-f302dd007dc6"
   },
   "source": [
    "## Корреляционный анализ"
   ]
  },
  {
   "cell_type": "code",
   "execution_count": 35,
   "metadata": {
    "execution": {
     "iopub.execute_input": "2025-09-12T23:18:19.001240Z",
     "iopub.status.busy": "2025-09-12T23:18:19.001000Z",
     "iopub.status.idle": "2025-09-12T23:18:19.361943Z",
     "shell.execute_reply": "2025-09-12T23:18:19.361293Z",
     "shell.execute_reply.started": "2025-09-12T23:18:19.001224Z"
    },
    "id": "bbdcfbd0-ac08-4b2a-ab76-6eebfbb50fd2"
   },
   "outputs": [
    {
     "name": "stdout",
     "output_type": "stream",
     "text": [
      "\n",
      "корреляция Пирсона:\n"
     ]
    },
    {
     "data": {
      "text/html": [
       "<div>\n",
       "<style scoped>\n",
       "    .dataframe tbody tr th:only-of-type {\n",
       "        vertical-align: middle;\n",
       "    }\n",
       "\n",
       "    .dataframe tbody tr th {\n",
       "        vertical-align: top;\n",
       "    }\n",
       "\n",
       "    .dataframe thead th {\n",
       "        text-align: right;\n",
       "    }\n",
       "</style>\n",
       "<table border=\"1\" class=\"dataframe\">\n",
       "  <thead>\n",
       "    <tr style=\"text-align: right;\">\n",
       "      <th></th>\n",
       "      <th>caps_ratio</th>\n",
       "      <th>clean_text_length</th>\n",
       "      <th>token_length</th>\n",
       "      <th>uniqueness</th>\n",
       "      <th>toxic</th>\n",
       "      <th>text_length</th>\n",
       "      <th>total_chars</th>\n",
       "      <th>caps_chars</th>\n",
       "    </tr>\n",
       "  </thead>\n",
       "  <tbody>\n",
       "    <tr>\n",
       "      <th>caps_ratio</th>\n",
       "      <td>1.000000</td>\n",
       "      <td>-0.095778</td>\n",
       "      <td>-0.086532</td>\n",
       "      <td>-0.015129</td>\n",
       "      <td>0.214987</td>\n",
       "      <td>-0.043195</td>\n",
       "      <td>-0.057872</td>\n",
       "      <td>0.310289</td>\n",
       "    </tr>\n",
       "    <tr>\n",
       "      <th>clean_text_length</th>\n",
       "      <td>-0.095778</td>\n",
       "      <td>1.000000</td>\n",
       "      <td>0.982545</td>\n",
       "      <td>-0.505409</td>\n",
       "      <td>-0.084531</td>\n",
       "      <td>0.943450</td>\n",
       "      <td>0.954644</td>\n",
       "      <td>0.197935</td>\n",
       "    </tr>\n",
       "    <tr>\n",
       "      <th>token_length</th>\n",
       "      <td>-0.086532</td>\n",
       "      <td>0.982545</td>\n",
       "      <td>1.000000</td>\n",
       "      <td>-0.509078</td>\n",
       "      <td>-0.073891</td>\n",
       "      <td>0.928889</td>\n",
       "      <td>0.942517</td>\n",
       "      <td>0.192931</td>\n",
       "    </tr>\n",
       "    <tr>\n",
       "      <th>uniqueness</th>\n",
       "      <td>-0.015129</td>\n",
       "      <td>-0.505409</td>\n",
       "      <td>-0.509078</td>\n",
       "      <td>1.000000</td>\n",
       "      <td>0.009347</td>\n",
       "      <td>-0.588640</td>\n",
       "      <td>-0.585243</td>\n",
       "      <td>-0.328607</td>\n",
       "    </tr>\n",
       "    <tr>\n",
       "      <th>toxic</th>\n",
       "      <td>0.214987</td>\n",
       "      <td>-0.084531</td>\n",
       "      <td>-0.073891</td>\n",
       "      <td>0.009347</td>\n",
       "      <td>1.000000</td>\n",
       "      <td>-0.048388</td>\n",
       "      <td>-0.051740</td>\n",
       "      <td>0.090100</td>\n",
       "    </tr>\n",
       "    <tr>\n",
       "      <th>text_length</th>\n",
       "      <td>-0.043195</td>\n",
       "      <td>0.943450</td>\n",
       "      <td>0.928889</td>\n",
       "      <td>-0.588640</td>\n",
       "      <td>-0.048388</td>\n",
       "      <td>1.000000</td>\n",
       "      <td>0.989913</td>\n",
       "      <td>0.403906</td>\n",
       "    </tr>\n",
       "    <tr>\n",
       "      <th>total_chars</th>\n",
       "      <td>-0.057872</td>\n",
       "      <td>0.954644</td>\n",
       "      <td>0.942517</td>\n",
       "      <td>-0.585243</td>\n",
       "      <td>-0.051740</td>\n",
       "      <td>0.989913</td>\n",
       "      <td>1.000000</td>\n",
       "      <td>0.370251</td>\n",
       "    </tr>\n",
       "    <tr>\n",
       "      <th>caps_chars</th>\n",
       "      <td>0.310289</td>\n",
       "      <td>0.197935</td>\n",
       "      <td>0.192931</td>\n",
       "      <td>-0.328607</td>\n",
       "      <td>0.090100</td>\n",
       "      <td>0.403906</td>\n",
       "      <td>0.370251</td>\n",
       "      <td>1.000000</td>\n",
       "    </tr>\n",
       "  </tbody>\n",
       "</table>\n",
       "</div>"
      ],
      "text/plain": [
       "                   caps_ratio  clean_text_length  token_length  uniqueness  \\\n",
       "caps_ratio           1.000000          -0.095778     -0.086532   -0.015129   \n",
       "clean_text_length   -0.095778           1.000000      0.982545   -0.505409   \n",
       "token_length        -0.086532           0.982545      1.000000   -0.509078   \n",
       "uniqueness          -0.015129          -0.505409     -0.509078    1.000000   \n",
       "toxic                0.214987          -0.084531     -0.073891    0.009347   \n",
       "text_length         -0.043195           0.943450      0.928889   -0.588640   \n",
       "total_chars         -0.057872           0.954644      0.942517   -0.585243   \n",
       "caps_chars           0.310289           0.197935      0.192931   -0.328607   \n",
       "\n",
       "                      toxic  text_length  total_chars  caps_chars  \n",
       "caps_ratio         0.214987    -0.043195    -0.057872    0.310289  \n",
       "clean_text_length -0.084531     0.943450     0.954644    0.197935  \n",
       "token_length      -0.073891     0.928889     0.942517    0.192931  \n",
       "uniqueness         0.009347    -0.588640    -0.585243   -0.328607  \n",
       "toxic              1.000000    -0.048388    -0.051740    0.090100  \n",
       "text_length       -0.048388     1.000000     0.989913    0.403906  \n",
       "total_chars       -0.051740     0.989913     1.000000    0.370251  \n",
       "caps_chars         0.090100     0.403906     0.370251    1.000000  "
      ]
     },
     "metadata": {},
     "output_type": "display_data"
    },
    {
     "data": {
      "image/png": "[encoded data removed]",
      "text/plain": [
       "<Figure size 800x600 with 2 Axes>"
      ]
     },
     "metadata": {},
     "output_type": "display_data"
    }
   ],
   "source": [
    "# корреляция между числовыми признаками и toxic\n",
    "corr_matrix = df[['caps_ratio',\n",
    "                  'clean_text_length',\n",
    "                  'token_length',\n",
    "                  'uniqueness',\n",
    "                  'toxic',\n",
    "                  'text_length',\n",
    "                  'total_chars',\n",
    "                  'caps_chars',\n",
    "                  ]].corr(method='pearson')\n",
    "print(\"\\nкорреляция Пирсона:\")\n",
    "display(corr_matrix)\n",
    "\n",
    "# визуализация корреляционной матрицы\n",
    "plt.figure(figsize=(8, 6))\n",
    "sns.heatmap(corr_matrix, annot=True, cmap='Blues', fmt='.2f')\n",
    "plt.title('корреляция между признаками и toxic')\n",
    "plt.show()"
   ]
  },
  {
   "cell_type": "markdown",
   "metadata": {
    "id": "9663e1c8-5f6e-4361-9cfb-c04f25721370"
   },
   "source": [
    "- **Корреляция Пирсона**:  \n",
    "  - `caps_ratio` имеет умеренную положительную корреляцию с `toxic` (r=0.2150), что подтверждает: токсичные тексты чаще содержат заглавные буквы.  \n",
    "  - `clean_text_length` и `token_length` слабо отрицательно коррелируют с `toxic` (r=-0.0845 и r=-0.0739), указывая, что токсичные тексты слегка короче.  \n",
    "  - `uniqueness` имеет почти нулевую корреляцию с `toxic` (r=0.0093), то есть уникальность слов не влияет на токсичность.  \n",
    "  - Высокая корреляция между `clean_text_length` и `token_length` (r=0.9825) ожидаема, так как они измеряют длину текста."
   ]
  },
  {
   "cell_type": "code",
   "execution_count": 36,
   "metadata": {
    "execution": {
     "iopub.execute_input": "2025-09-12T23:18:19.362902Z",
     "iopub.status.busy": "2025-09-12T23:18:19.362691Z",
     "iopub.status.idle": "2025-09-12T23:18:19.615533Z",
     "shell.execute_reply": "2025-09-12T23:18:19.614831Z",
     "shell.execute_reply.started": "2025-09-12T23:18:19.362886Z"
    },
    "id": "0b07c0b8-4265-4229-a3ad-cd424b7028e9"
   },
   "outputs": [
    {
     "name": "stdout",
     "output_type": "stream",
     "text": [
      "\n",
      "точечная биссериальная корреляция для caps_ratio:\n",
      "корреляция: 0.2150, p-value: 0.0000\n",
      "\n",
      "точечная биссериальная корреляция для clean_text_length:\n",
      "корреляция: -0.0845, p-value: 0.0000\n",
      "\n",
      "точечная биссериальная корреляция для token_length:\n",
      "корреляция: -0.0739, p-value: 0.0000\n",
      "\n",
      "точечная биссериальная корреляция для uniqueness:\n",
      "корреляция: 0.0093, p-value: 0.0002\n"
     ]
    },
    {
     "data": {
      "image/png": "[encoded data removed]",
      "text/plain": [
       "<Figure size 800x400 with 1 Axes>"
      ]
     },
     "metadata": {},
     "output_type": "display_data"
    }
   ],
   "source": [
    "# точечная биссериальная корреляция для toxic (бинарный)\n",
    "for feature in ['caps_ratio', 'clean_text_length', 'token_length', 'uniqueness']:\n",
    "    corr, p_value = pointbiserialr(df[feature], df['toxic'])\n",
    "    print(f\"\\nточечная биссериальная корреляция для {feature}:\")\n",
    "    print(f\"корреляция: {corr:.4f}, p-value: {p_value:.4f}\")\n",
    "\n",
    "# boxplot для token_length по классам\n",
    "plt.figure(figsize=(8, 4))\n",
    "sns.boxplot(x='toxic', y='token_length', hue='toxic', data=df, palette='Blues')\n",
    "plt.title('длина текстов в токенах по классам')\n",
    "plt.xlabel('класс (0 - нетоксичный, 1 - токсичный)')\n",
    "plt.ylabel('длина текста (токены)')\n",
    "plt.show()"
   ]
  },
  {
   "cell_type": "markdown",
   "metadata": {
    "id": "81991e6f-26a6-497f-9d88-9ceb2ccf6426"
   },
   "source": [
    "- **Точечная биссериальная корреляция**:  \n",
    "  - Подтверждает выводы Пирсона: `caps_ratio` (r=0.2150, p=0.0000) хорошо связан с токсичностью, `clean_text_length` и `token_length` имеют слабую связь, `uniqueness` почти не влияет (p=0.0002, но r=0.0093).\n",
    "- **Boxplot `token_length`**:  \n",
    "  - Токсичные тексты имеют меньшую медианную длину (около 40 токенов) по сравнению с нетоксичными (около 50 токенов), но разница небольшая."
   ]
  },
  {
   "cell_type": "code",
   "execution_count": 37,
   "metadata": {
    "execution": {
     "iopub.execute_input": "2025-09-12T23:18:19.616671Z",
     "iopub.status.busy": "2025-09-12T23:18:19.616428Z",
     "iopub.status.idle": "2025-09-12T23:18:20.360941Z",
     "shell.execute_reply": "2025-09-12T23:18:20.359993Z",
     "shell.execute_reply.started": "2025-09-12T23:18:19.616654Z"
    },
    "id": "65c37066-7920-4bfc-9aab-b7e8d072f06a"
   },
   "outputs": [
    {
     "name": "stdout",
     "output_type": "stream",
     "text": [
      "\n",
      "статистика частоты токсичных слов по классам:\n"
     ]
    },
    {
     "data": {
      "text/html": [
       "<div>\n",
       "<style scoped>\n",
       "    .dataframe tbody tr th:only-of-type {\n",
       "        vertical-align: middle;\n",
       "    }\n",
       "\n",
       "    .dataframe tbody tr th {\n",
       "        vertical-align: top;\n",
       "    }\n",
       "\n",
       "    .dataframe thead th {\n",
       "        text-align: right;\n",
       "    }\n",
       "</style>\n",
       "<table border=\"1\" class=\"dataframe\">\n",
       "  <thead>\n",
       "    <tr style=\"text-align: right;\">\n",
       "      <th></th>\n",
       "      <th>count</th>\n",
       "      <th>mean</th>\n",
       "      <th>std</th>\n",
       "      <th>min</th>\n",
       "      <th>25%</th>\n",
       "      <th>50%</th>\n",
       "      <th>75%</th>\n",
       "      <th>max</th>\n",
       "    </tr>\n",
       "    <tr>\n",
       "      <th>toxic</th>\n",
       "      <th></th>\n",
       "      <th></th>\n",
       "      <th></th>\n",
       "      <th></th>\n",
       "      <th></th>\n",
       "      <th></th>\n",
       "      <th></th>\n",
       "      <th></th>\n",
       "    </tr>\n",
       "  </thead>\n",
       "  <tbody>\n",
       "    <tr>\n",
       "      <th>0</th>\n",
       "      <td>143058.0</td>\n",
       "      <td>0.154252</td>\n",
       "      <td>0.600155</td>\n",
       "      <td>0.0</td>\n",
       "      <td>0.0</td>\n",
       "      <td>0.0</td>\n",
       "      <td>0.0</td>\n",
       "      <td>28.0</td>\n",
       "    </tr>\n",
       "    <tr>\n",
       "      <th>1</th>\n",
       "      <td>16181.0</td>\n",
       "      <td>1.060874</td>\n",
       "      <td>9.987325</td>\n",
       "      <td>0.0</td>\n",
       "      <td>0.0</td>\n",
       "      <td>0.0</td>\n",
       "      <td>1.0</td>\n",
       "      <td>1238.0</td>\n",
       "    </tr>\n",
       "  </tbody>\n",
       "</table>\n",
       "</div>"
      ],
      "text/plain": [
       "          count      mean       std  min  25%  50%  75%     max\n",
       "toxic                                                          \n",
       "0      143058.0  0.154252  0.600155  0.0  0.0  0.0  0.0    28.0\n",
       "1       16181.0  1.060874  9.987325  0.0  0.0  0.0  1.0  1238.0"
      ]
     },
     "execution_count": 37,
     "metadata": {},
     "output_type": "execute_result"
    }
   ],
   "source": [
    "# анализ частоты токсичных слов\n",
    "toxic_words = ['fuck', 'shit', 'nigger', 'ass', 'faggot', 'bitch', 'cunt']\n",
    "def count_toxic_words(text):\n",
    "    if not isinstance(text, str):\n",
    "        return 0\n",
    "    return sum(text.lower().count(word) for word in toxic_words)\n",
    "\n",
    "df['toxic_word_count'] = df['clean_text'].apply(count_toxic_words)\n",
    "print(\"\\nстатистика частоты токсичных слов по классам:\")\n",
    "df.groupby('toxic')['toxic_word_count'].describe()"
   ]
  },
  {
   "cell_type": "markdown",
   "metadata": {
    "id": "69b297a3-ed05-45e7-a149-afff40cb6041"
   },
   "source": [
    "- **Частота токсичных слов**:  \n",
    "  - Токсичные тексты содержат значительно больше токсичных слов (mean=1.06, max=1238) по сравнению с нетоксичными (mean=0.15, max=28).  \n",
    "  - Признак `toxic_word_count` важен для модели, так как явно различает классы."
   ]
  },
  {
   "cell_type": "markdown",
   "metadata": {},
   "source": [
    "### Вывод: Корреляционный анализ\n",
    "\n",
    "**Корреляция между числовыми признаками и токсичностью**\n",
    "\n",
    "- **caps_ratio** имеет умеренную положительную корреляцию с toxic (r ≈ 0.215), подтверждая, что токсичные комментарии чаще содержат заглавные буквы.\n",
    "- **clean_text_length** и **token_length** слабо отрицательно коррелируют с toxic (r ≈ -0.08 и -0.074), что указывает на тенденцию к немного более коротким токсичным текстам.\n",
    "- **uniqueness** почти не влияет на токсичность (r ≈ 0.009), то есть разнообразие слов не определяет токсичность.\n",
    "- Высокая корреляция между clean_text_length и token_length (r ≈ 0.98) ожидаема, так как оба признака отражают длину текста.\n",
    "\n",
    "**Точечная биссериальная корреляция**\n",
    "- Подтверждает выводы Пирсона:\n",
    "  - **caps_ratio** — сильная связь с токсичностью.\n",
    "  - **clean_text_length** и **token_length** — слабая связь.\n",
    "  - **uniqueness** — практически не влияет (p-value очень малое, но корреляция близка к нулю).\n",
    "\n",
    "**Boxplot длины текста в токенах**\n",
    "- Медианная длина токенов для токсичных комментариев ≈ 40, для нетоксичных ≈ 50.\n",
    "- Разница есть, но она небольшая — длина текста сама по себе не является сильным признаком токсичности.\n",
    "\n",
    "**Частота токсичных слов**\n",
    "- Токсичные тексты содержат значительно больше токсичных слов (mean ≈ 1.06, max = 1238) по сравнению с нетоксичными (mean ≈ 0.15, max = 28).\n",
    "- **toxic_word_count** — явный и сильный признак для модели.\n",
    "\n",
    "**Общий вывод**\n",
    "- **Главный сигнал токсичности** в данных — это наличие токсичных слов и использование заглавных букв.\n",
    "- Длина текста и уникальность слов имеют слабое влияние, но могут быть полезны в сочетании с другими признаками.\n",
    "- Для моделей классификации текстов стоит учитывать **caps_ratio** и **toxic_word_count** как важные числовые признаки, а также использовать текстовые признаки для BERT или других трансформеров."
   ]
  },
  {
   "cell_type": "markdown",
   "metadata": {
    "id": "58f3ce36-b98d-47c1-96cb-58e465041854"
   },
   "source": [
    "## Подготовка к обучению"
   ]
  },
  {
   "cell_type": "code",
   "execution_count": 38,
   "metadata": {
    "execution": {
     "iopub.execute_input": "2025-09-12T23:18:20.362692Z",
     "iopub.status.busy": "2025-09-12T23:18:20.361988Z",
     "iopub.status.idle": "2025-09-12T23:18:20.412227Z",
     "shell.execute_reply": "2025-09-12T23:18:20.411536Z",
     "shell.execute_reply.started": "2025-09-12T23:18:20.362673Z"
    },
    "id": "75f02530-ae1f-4e4d-9b40-cbdedecf0233"
   },
   "outputs": [
    {
     "name": "stdout",
     "output_type": "stream",
     "text": [
      "<class 'pandas.core.frame.DataFrame'>\n",
      "Index: 159239 entries, 0 to 159291\n",
      "Data columns (total 12 columns):\n",
      " #   Column             Non-Null Count   Dtype  \n",
      "---  ------             --------------   -----  \n",
      " 0   text               159239 non-null  object \n",
      " 1   toxic              159239 non-null  int64  \n",
      " 2   text_length        159239 non-null  int64  \n",
      " 3   total_chars        159239 non-null  int64  \n",
      " 4   caps_chars         159239 non-null  int64  \n",
      " 5   text_token_length  159239 non-null  int64  \n",
      " 6   caps_ratio         159239 non-null  float64\n",
      " 7   clean_text         159239 non-null  object \n",
      " 8   clean_text_length  159239 non-null  int64  \n",
      " 9   uniqueness         159239 non-null  float64\n",
      " 10  token_length       159239 non-null  int64  \n",
      " 11  toxic_word_count   159239 non-null  int64  \n",
      "dtypes: float64(2), int64(8), object(2)\n",
      "memory usage: 15.8+ MB\n",
      "None\n"
     ]
    },
    {
     "data": {
      "text/html": [
       "<div>\n",
       "<style scoped>\n",
       "    .dataframe tbody tr th:only-of-type {\n",
       "        vertical-align: middle;\n",
       "    }\n",
       "\n",
       "    .dataframe tbody tr th {\n",
       "        vertical-align: top;\n",
       "    }\n",
       "\n",
       "    .dataframe thead th {\n",
       "        text-align: right;\n",
       "    }\n",
       "</style>\n",
       "<table border=\"1\" class=\"dataframe\">\n",
       "  <thead>\n",
       "    <tr style=\"text-align: right;\">\n",
       "      <th></th>\n",
       "      <th>text</th>\n",
       "      <th>toxic</th>\n",
       "      <th>text_length</th>\n",
       "      <th>total_chars</th>\n",
       "      <th>caps_chars</th>\n",
       "      <th>text_token_length</th>\n",
       "      <th>caps_ratio</th>\n",
       "      <th>clean_text</th>\n",
       "      <th>clean_text_length</th>\n",
       "      <th>uniqueness</th>\n",
       "      <th>token_length</th>\n",
       "      <th>toxic_word_count</th>\n",
       "    </tr>\n",
       "  </thead>\n",
       "  <tbody>\n",
       "    <tr>\n",
       "      <th>0</th>\n",
       "      <td>Explanation\\nWhy the edits made under my usern...</td>\n",
       "      <td>0</td>\n",
       "      <td>186</td>\n",
       "      <td>264</td>\n",
       "      <td>17</td>\n",
       "      <td>68</td>\n",
       "      <td>0.064394</td>\n",
       "      <td>explanation edits made username hardcore metal...</td>\n",
       "      <td>186</td>\n",
       "      <td>1.000000</td>\n",
       "      <td>43</td>\n",
       "      <td>0</td>\n",
       "    </tr>\n",
       "    <tr>\n",
       "      <th>1</th>\n",
       "      <td>D'aww! He matches this background colour I'm s...</td>\n",
       "      <td>0</td>\n",
       "      <td>86</td>\n",
       "      <td>112</td>\n",
       "      <td>8</td>\n",
       "      <td>35</td>\n",
       "      <td>0.071429</td>\n",
       "      <td>daww matches background colour im seemingly st...</td>\n",
       "      <td>86</td>\n",
       "      <td>1.000000</td>\n",
       "      <td>19</td>\n",
       "      <td>0</td>\n",
       "    </tr>\n",
       "    <tr>\n",
       "      <th>2</th>\n",
       "      <td>Hey man, I'm really not trying to edit war. It...</td>\n",
       "      <td>0</td>\n",
       "      <td>144</td>\n",
       "      <td>233</td>\n",
       "      <td>4</td>\n",
       "      <td>54</td>\n",
       "      <td>0.017167</td>\n",
       "      <td>hey man im really trying edit war guy constant...</td>\n",
       "      <td>144</td>\n",
       "      <td>1.000000</td>\n",
       "      <td>26</td>\n",
       "      <td>0</td>\n",
       "    </tr>\n",
       "    <tr>\n",
       "      <th>3</th>\n",
       "      <td>\"\\nMore\\nI can't make any real suggestions on ...</td>\n",
       "      <td>0</td>\n",
       "      <td>379</td>\n",
       "      <td>622</td>\n",
       "      <td>11</td>\n",
       "      <td>144</td>\n",
       "      <td>0.017685</td>\n",
       "      <td>cant make real suggestions improvement wondere...</td>\n",
       "      <td>379</td>\n",
       "      <td>0.918367</td>\n",
       "      <td>66</td>\n",
       "      <td>0</td>\n",
       "    </tr>\n",
       "    <tr>\n",
       "      <th>4</th>\n",
       "      <td>You, sir, are my hero. Any chance you remember...</td>\n",
       "      <td>0</td>\n",
       "      <td>35</td>\n",
       "      <td>67</td>\n",
       "      <td>2</td>\n",
       "      <td>21</td>\n",
       "      <td>0.029851</td>\n",
       "      <td>sir hero chance remember page thats</td>\n",
       "      <td>35</td>\n",
       "      <td>1.000000</td>\n",
       "      <td>9</td>\n",
       "      <td>0</td>\n",
       "    </tr>\n",
       "  </tbody>\n",
       "</table>\n",
       "</div>"
      ],
      "text/plain": [
       "                                                text  toxic  text_length  \\\n",
       "0  Explanation\\nWhy the edits made under my usern...      0          186   \n",
       "1  D'aww! He matches this background colour I'm s...      0           86   \n",
       "2  Hey man, I'm really not trying to edit war. It...      0          144   \n",
       "3  \"\\nMore\\nI can't make any real suggestions on ...      0          379   \n",
       "4  You, sir, are my hero. Any chance you remember...      0           35   \n",
       "\n",
       "   total_chars  caps_chars  text_token_length  caps_ratio  \\\n",
       "0          264          17                 68    0.064394   \n",
       "1          112           8                 35    0.071429   \n",
       "2          233           4                 54    0.017167   \n",
       "3          622          11                144    0.017685   \n",
       "4           67           2                 21    0.029851   \n",
       "\n",
       "                                          clean_text  clean_text_length  \\\n",
       "0  explanation edits made username hardcore metal...                186   \n",
       "1  daww matches background colour im seemingly st...                 86   \n",
       "2  hey man im really trying edit war guy constant...                144   \n",
       "3  cant make real suggestions improvement wondere...                379   \n",
       "4                sir hero chance remember page thats                 35   \n",
       "\n",
       "   uniqueness  token_length  toxic_word_count  \n",
       "0    1.000000            43                 0  \n",
       "1    1.000000            19                 0  \n",
       "2    1.000000            26                 0  \n",
       "3    0.918367            66                 0  \n",
       "4    1.000000             9                 0  "
      ]
     },
     "execution_count": 38,
     "metadata": {},
     "output_type": "execute_result"
    }
   ],
   "source": [
    "print(df.info())\n",
    "df.head()"
   ]
  },
  {
   "cell_type": "markdown",
   "metadata": {
    "id": "81f42b67-4418-47ff-b33d-9d2065d8631f"
   },
   "source": [
    "**text**  \n",
    "Не нужен, так как clean_text — очищенная версия, используемая для TF-IDF и BERT.  \n",
    "**Действие:** Удалить.\n",
    "\n",
    "**toxic**  \n",
    "Целевой признак, обязателен для всех моделей.  \n",
    "**Действие:** Оставить.\n",
    "\n",
    "**text_length**  \n",
    "Длина оригинального текста в символах. Корреляция с toxic низкая (r=-0.07).  \n",
    "**Рекомендация:** Удалить.\n",
    "\n",
    "**total_chars**  \n",
    "Используется для вычисления caps_ratio, но сам по себе не нужен.  \n",
    "**Рекомендация:** Удалить.\n",
    "\n",
    "**caps_chars**  \n",
    "Используется для вычисления caps_ratio. Сам по себе не нужен, так как caps_ratio информативнее.  \n",
    "**Рекомендация:** Удалить.\n",
    "\n",
    "**text_token_length**  \n",
    "Длина оригинального текста в токенах, не используется после создания clean_text и token_length.  \n",
    "**Рекомендация:** Удалить.\n",
    "\n",
    "**caps_ratio**  \n",
    "Значимый признак (r=0.2150 с toxic), полезен для baseline.  \n",
    "**Рекомендация:** Оставить.\n",
    "\n",
    "**clean_text**  \n",
    "Основной столбец для TF-IDF (baseline) и токенизации BERT.  \n",
    "**Рекомендация:** Оставить.\n",
    "\n",
    "**clean_text_length**  \n",
    "Длина очищенного текста, высокая корреляция с token_length (r=0.9825), слабая с toxic (r=-0.0845). Может быть полезна для baseline, но избыточна для BERT.  \n",
    "**Рекомендация:** Оставить для baseline, удалить перед BERT.\n",
    "\n",
    "**uniqueness**  \n",
    "Очень слабая корреляция с toxic (r=0.0093), неинформативна.  \n",
    "**Рекомендация:** Удалить.\n",
    "\n",
    "**token_length**  \n",
    "Длина в токенах BERT, полезна для анализа, но не для обучения (BERT использует input_ids). Слабая корреляция с toxic (r=-0.0739). Сильная корреляция с clean_text_length.\n",
    "**Рекомендация:** Удалить.\n",
    "\n",
    "**toxic_word_count**  \n",
    "Значимый признак (mean=1.06 в токсичных vs. 0.15 в нетоксичных), полезен для baseline.  \n",
    "**Рекомендация:** Оставить."
   ]
  },
  {
   "cell_type": "code",
   "execution_count": 39,
   "metadata": {
    "execution": {
     "iopub.execute_input": "2025-09-12T23:18:20.413750Z",
     "iopub.status.busy": "2025-09-12T23:18:20.412974Z",
     "iopub.status.idle": "2025-09-12T23:18:20.426433Z",
     "shell.execute_reply": "2025-09-12T23:18:20.425714Z",
     "shell.execute_reply.started": "2025-09-12T23:18:20.413733Z"
    },
    "id": "83a19848-3f80-45af-bda9-ba2c1e86cea4"
   },
   "outputs": [
    {
     "data": {
      "text/plain": [
       "['toxic', 'caps_ratio', 'clean_text', 'clean_text_length', 'toxic_word_count']"
      ]
     },
     "execution_count": 39,
     "metadata": {},
     "output_type": "execute_result"
    }
   ],
   "source": [
    "# удаление ненужных столбцов\n",
    "columns_to_drop = ['text', 'text_length', 'total_chars', 'caps_chars', 'text_token_length', 'uniqueness', 'token_length']\n",
    "df = df.drop(columns=columns_to_drop)\n",
    "df.columns.tolist()"
   ]
  },
  {
   "cell_type": "markdown",
   "metadata": {
    "id": "6949a089-056d-42c6-8936-cab21e3a8149"
   },
   "source": [
    "### Cплит"
   ]
  },
  {
   "cell_type": "code",
   "execution_count": 40,
   "metadata": {
    "execution": {
     "iopub.execute_input": "2025-09-12T23:18:20.427397Z",
     "iopub.status.busy": "2025-09-12T23:18:20.427207Z",
     "iopub.status.idle": "2025-09-12T23:18:20.503291Z",
     "shell.execute_reply": "2025-09-12T23:18:20.502539Z",
     "shell.execute_reply.started": "2025-09-12T23:18:20.427378Z"
    },
    "id": "b7c1390d-8390-495a-bfcd-cc2808340e27"
   },
   "outputs": [],
   "source": [
    "# разделение на train/test\n",
    "X = df[['clean_text', 'caps_ratio', 'clean_text_length', 'toxic_word_count']]\n",
    "y = df['toxic']\n",
    "X_train, X_test, y_train, y_test = train_test_split(\n",
    "    X, y, test_size=TEST_SIZE, random_state=RANDOM_STATE, stratify=y\n",
    ")"
   ]
  },
  {
   "cell_type": "code",
   "execution_count": 41,
   "metadata": {
    "execution": {
     "iopub.execute_input": "2025-09-12T23:18:20.508192Z",
     "iopub.status.busy": "2025-09-12T23:18:20.507971Z",
     "iopub.status.idle": "2025-09-12T23:18:20.512982Z",
     "shell.execute_reply": "2025-09-12T23:18:20.512223Z",
     "shell.execute_reply.started": "2025-09-12T23:18:20.508176Z"
    },
    "id": "a83f8c6f-69bb-466d-bfbd-86219ff90eb5"
   },
   "outputs": [
    {
     "data": {
      "text/plain": [
       "((127391, 4), (127391,), (31848, 4), (31848,))"
      ]
     },
     "execution_count": 41,
     "metadata": {},
     "output_type": "execute_result"
    }
   ],
   "source": [
    "X_train.shape, y_train.shape, X_test.shape, y_test.shape"
   ]
  },
  {
   "cell_type": "code",
   "execution_count": 42,
   "metadata": {
    "execution": {
     "iopub.execute_input": "2025-09-12T23:18:20.514196Z",
     "iopub.status.busy": "2025-09-12T23:18:20.513930Z",
     "iopub.status.idle": "2025-09-12T23:18:20.534037Z",
     "shell.execute_reply": "2025-09-12T23:18:20.533422Z",
     "shell.execute_reply.started": "2025-09-12T23:18:20.514181Z"
    },
    "id": "cbedf1eb-ee44-4f51-a5ef-b4504a3a78ea"
   },
   "outputs": [
    {
     "name": "stdout",
     "output_type": "stream",
     "text": [
      "\n",
      "распределение классов в train:\n",
      "toxic\n",
      "0    0.898384\n",
      "1    0.101616\n",
      "Name: proportion, dtype: float64\n",
      "\n",
      "распределение классов в test:\n",
      "toxic\n",
      "0    0.898392\n",
      "1    0.101608\n",
      "Name: proportion, dtype: float64\n"
     ]
    }
   ],
   "source": [
    "# проверка распределения классов\n",
    "print(\"\\nраспределение классов в train:\")\n",
    "print(y_train.value_counts(normalize=True))\n",
    "print(\"\\nраспределение классов в test:\")\n",
    "print(y_test.value_counts(normalize=True))"
   ]
  },
  {
   "cell_type": "markdown",
   "metadata": {
    "id": "f4d8d52c-a32b-4599-915c-3a13ee901c63"
   },
   "source": [
    "### TF-IDF векторизация для baseline"
   ]
  },
  {
   "cell_type": "code",
   "execution_count": 43,
   "metadata": {
    "execution": {
     "iopub.execute_input": "2025-09-12T23:18:20.535094Z",
     "iopub.status.busy": "2025-09-12T23:18:20.534850Z",
     "iopub.status.idle": "2025-09-12T23:18:24.982967Z",
     "shell.execute_reply": "2025-09-12T23:18:24.982172Z",
     "shell.execute_reply.started": "2025-09-12T23:18:20.535076Z"
    },
    "id": "2be05df5-7c31-4fc5-ae28-d4885a5ca6cb"
   },
   "outputs": [],
   "source": [
    "# tf-idf векторизация\n",
    "tfidf = TfidfVectorizer(max_features=MAX_FEATURES, stop_words='english')\n",
    "X_train_tfidf = tfidf.fit_transform(X_train['clean_text'])\n",
    "X_test_tfidf = tfidf.transform(X_test['clean_text'])"
   ]
  },
  {
   "cell_type": "markdown",
   "metadata": {
    "id": "78877034-abb7-430a-8908-b08fa546b774"
   },
   "source": [
    "### Масштабирование числовых признаков"
   ]
  },
  {
   "cell_type": "code",
   "execution_count": 44,
   "metadata": {
    "execution": {
     "iopub.execute_input": "2025-09-12T23:18:24.984104Z",
     "iopub.status.busy": "2025-09-12T23:18:24.983823Z",
     "iopub.status.idle": "2025-09-12T23:18:25.013370Z",
     "shell.execute_reply": "2025-09-12T23:18:25.012843Z",
     "shell.execute_reply.started": "2025-09-12T23:18:24.984082Z"
    },
    "id": "e69d9864-5d0b-4510-a62e-94e5752acdf2"
   },
   "outputs": [],
   "source": [
    "# масштабирование числовых признаков\n",
    "scaler = StandardScaler()\n",
    "X_train_numeric = scaler.fit_transform(X_train[['caps_ratio', 'clean_text_length', 'toxic_word_count']])\n",
    "X_test_numeric = scaler.transform(X_test[['caps_ratio', 'clean_text_length', 'toxic_word_count']])"
   ]
  },
  {
   "cell_type": "code",
   "execution_count": 45,
   "metadata": {
    "execution": {
     "iopub.execute_input": "2025-09-12T23:18:25.014261Z",
     "iopub.status.busy": "2025-09-12T23:18:25.014066Z",
     "iopub.status.idle": "2025-09-12T23:18:33.681450Z",
     "shell.execute_reply": "2025-09-12T23:18:33.680864Z",
     "shell.execute_reply.started": "2025-09-12T23:18:25.014246Z"
    },
    "id": "19765fd2-d825-473c-bd0c-38bd1c3c744c"
   },
   "outputs": [],
   "source": [
    "# объединение tf-idf и числовых признаков\n",
    "X_train_features = np.hstack([X_train_tfidf.toarray(), X_train_numeric])\n",
    "X_test_features = np.hstack([X_test_tfidf.toarray(), X_test_numeric])"
   ]
  },
  {
   "cell_type": "markdown",
   "metadata": {},
   "source": [
    "### Вывод: Подготовка данных к baseline\n",
    "\n",
    "**Очищение и выбор признаков**  \n",
    "Удалены избыточные и неинформативные колонки: `text`, `text_length`, `total_chars`, `caps_chars`, `text_token_length`, `token_length`, `uniqueness`.  \n",
    "Оставлены информативные признаки: `toxic` (цель), `caps_ratio` (умеренная корреляция с токсичностью), `clean_text` (основной текст для TF-IDF и BERT), `clean_text_length` (длина текста, полезна для baseline), `toxic_word_count` (количество токсичных слов, сильный сигнал).\n",
    "\n",
    "**Разделение на тренировочную и тестовую выборки**  \n",
    "Train: 127,391 строк, Test: 31,848 строк.  \n",
    "Сохраняется баланс классов: токсичные ≈ 10%, нетоксичные ≈ 90% через stratify.\n",
    "\n",
    "**TF-IDF векторизация (для baseline)**  \n",
    "`clean_text` преобразован в TF-IDF матрицу с ограничением `max_features=MAX_FEATURES` и исключением стоп-слов. Получены обучающие (`X_train_tfidf`) и тестовые (`X_test_tfidf`) матрицы.\n",
    "\n",
    "**Масштабирование числовых признаков**  \n",
    "Числовые признаки (`caps_ratio`, `clean_text_length`, `toxic_word_count`) стандартизированы с помощью `StandardScaler`. Результат: `X_train_numeric`, `X_test_numeric`.\n",
    "\n",
    "**Объединение признаков**  \n",
    "TF-IDF и числовые признаки объединены в финальные обучающие и тестовые матрицы: `X_train_features` и `X_test_features`.\n",
    "\n",
    "**Вывод**  \n",
    "Данные полностью подготовлены для обучения моделей на TF-IDF + числовых признаках (baseline). Для BERT используется только `clean_text` с токенизацией. Признаки, явно связанные с токсичностью (`caps_ratio`, `toxic_word_count`), сохранены для повышения информативности модели.\n"
   ]
  },
  {
   "cell_type": "markdown",
   "metadata": {
    "id": "e5c36c88-0bb7-4db2-8bc5-cb8d9ac32df9"
   },
   "source": [
    "## Baseline"
   ]
  },
  {
   "cell_type": "markdown",
   "metadata": {
    "id": "817bed49-3251-4495-8b05-92ccb948dde0"
   },
   "source": [
    "В качестве бейщлайн модели я рещил обучить логистическую регрессию с tf-idf по нескольким причинам:\n",
    "\n",
    "1. во-первых, чтобы сравнить качество моделей на tf-idf с результатами на bert\n",
    "2. во-вторых, чтобы задать нижнюю границу метрики."
   ]
  },
  {
   "cell_type": "code",
   "execution_count": 46,
   "metadata": {
    "execution": {
     "iopub.execute_input": "2025-09-12T23:18:33.682370Z",
     "iopub.status.busy": "2025-09-12T23:18:33.682127Z",
     "iopub.status.idle": "2025-09-12T23:20:53.596179Z",
     "shell.execute_reply": "2025-09-12T23:20:53.595503Z",
     "shell.execute_reply.started": "2025-09-12T23:18:33.682345Z"
    },
    "id": "22505b3a-1bc9-4612-bace-f919a12f66de"
   },
   "outputs": [
    {
     "data": {
      "text/html": [
       "<style>#sk-container-id-1 {color: black;background-color: white;}#sk-container-id-1 pre{padding: 0;}#sk-container-id-1 div.sk-toggleable {background-color: white;}#sk-container-id-1 label.sk-toggleable__label {cursor: pointer;display: block;width: 100%;margin-bottom: 0;padding: 0.3em;box-sizing: border-box;text-align: center;}#sk-container-id-1 label.sk-toggleable__label-arrow:before {content: \"▸\";float: left;margin-right: 0.25em;color: #696969;}#sk-container-id-1 label.sk-toggleable__label-arrow:hover:before {color: black;}#sk-container-id-1 div.sk-estimator:hover label.sk-toggleable__label-arrow:before {color: black;}#sk-container-id-1 div.sk-toggleable__content {max-height: 0;max-width: 0;overflow: hidden;text-align: left;background-color: #f0f8ff;}#sk-container-id-1 div.sk-toggleable__content pre {margin: 0.2em;color: black;border-radius: 0.25em;background-color: #f0f8ff;}#sk-container-id-1 input.sk-toggleable__control:checked~div.sk-toggleable__content {max-height: 200px;max-width: 100%;overflow: auto;}#sk-container-id-1 input.sk-toggleable__control:checked~label.sk-toggleable__label-arrow:before {content: \"▾\";}#sk-container-id-1 div.sk-estimator input.sk-toggleable__control:checked~label.sk-toggleable__label {background-color: #d4ebff;}#sk-container-id-1 div.sk-label input.sk-toggleable__control:checked~label.sk-toggleable__label {background-color: #d4ebff;}#sk-container-id-1 input.sk-hidden--visually {border: 0;clip: rect(1px 1px 1px 1px);clip: rect(1px, 1px, 1px, 1px);height: 1px;margin: -1px;overflow: hidden;padding: 0;position: absolute;width: 1px;}#sk-container-id-1 div.sk-estimator {font-family: monospace;background-color: #f0f8ff;border: 1px dotted black;border-radius: 0.25em;box-sizing: border-box;margin-bottom: 0.5em;}#sk-container-id-1 div.sk-estimator:hover {background-color: #d4ebff;}#sk-container-id-1 div.sk-parallel-item::after {content: \"\";width: 100%;border-bottom: 1px solid gray;flex-grow: 1;}#sk-container-id-1 div.sk-label:hover label.sk-toggleable__label {background-color: #d4ebff;}#sk-container-id-1 div.sk-serial::before {content: \"\";position: absolute;border-left: 1px solid gray;box-sizing: border-box;top: 0;bottom: 0;left: 50%;z-index: 0;}#sk-container-id-1 div.sk-serial {display: flex;flex-direction: column;align-items: center;background-color: white;padding-right: 0.2em;padding-left: 0.2em;position: relative;}#sk-container-id-1 div.sk-item {position: relative;z-index: 1;}#sk-container-id-1 div.sk-parallel {display: flex;align-items: stretch;justify-content: center;background-color: white;position: relative;}#sk-container-id-1 div.sk-item::before, #sk-container-id-1 div.sk-parallel-item::before {content: \"\";position: absolute;border-left: 1px solid gray;box-sizing: border-box;top: 0;bottom: 0;left: 50%;z-index: -1;}#sk-container-id-1 div.sk-parallel-item {display: flex;flex-direction: column;z-index: 1;position: relative;background-color: white;}#sk-container-id-1 div.sk-parallel-item:first-child::after {align-self: flex-end;width: 50%;}#sk-container-id-1 div.sk-parallel-item:last-child::after {align-self: flex-start;width: 50%;}#sk-container-id-1 div.sk-parallel-item:only-child::after {width: 0;}#sk-container-id-1 div.sk-dashed-wrapped {border: 1px dashed gray;margin: 0 0.4em 0.5em 0.4em;box-sizing: border-box;padding-bottom: 0.4em;background-color: white;}#sk-container-id-1 div.sk-label label {font-family: monospace;font-weight: bold;display: inline-block;line-height: 1.2em;}#sk-container-id-1 div.sk-label-container {text-align: center;}#sk-container-id-1 div.sk-container {/* jupyter's `normalize.less` sets `[hidden] { display: none; }` but bootstrap.min.css set `[hidden] { display: none !important; }` so we also need the `!important` here to be able to override the default hidden behavior on the sphinx rendered scikit-learn.org. See: https://github.com/scikit-learn/scikit-learn/issues/21755 */display: inline-block !important;position: relative;}#sk-container-id-1 div.sk-text-repr-fallback {display: none;}</style><div id=\"sk-container-id-1\" class=\"sk-top-container\"><div class=\"sk-text-repr-fallback\"><pre>LogisticRegression(class_weight=&#x27;balanced&#x27;, max_iter=1000, random_state=42)</pre><b>In a Jupyter environment, please rerun this cell to show the HTML representation or trust the notebook. <br />On GitHub, the HTML representation is unable to render, please try loading this page with nbviewer.org.</b></div><div class=\"sk-container\" hidden><div class=\"sk-item\"><div class=\"sk-estimator sk-toggleable\"><input class=\"sk-toggleable__control sk-hidden--visually\" id=\"sk-estimator-id-1\" type=\"checkbox\" checked><label for=\"sk-estimator-id-1\" class=\"sk-toggleable__label sk-toggleable__label-arrow\">LogisticRegression</label><div class=\"sk-toggleable__content\"><pre>LogisticRegression(class_weight=&#x27;balanced&#x27;, max_iter=1000, random_state=42)</pre></div></div></div></div></div>"
      ],
      "text/plain": [
       "LogisticRegression(class_weight='balanced', max_iter=1000, random_state=42)"
      ]
     },
     "execution_count": 46,
     "metadata": {},
     "output_type": "execute_result"
    }
   ],
   "source": [
    "# обучение логистической регрессии\n",
    "lr_model = LogisticRegression(random_state=RANDOM_STATE, class_weight='balanced', max_iter=1000)\n",
    "lr_model.fit(X_train_features, y_train)"
   ]
  },
  {
   "cell_type": "code",
   "execution_count": 47,
   "metadata": {
    "execution": {
     "iopub.execute_input": "2025-09-12T23:20:53.597065Z",
     "iopub.status.busy": "2025-09-12T23:20:53.596834Z",
     "iopub.status.idle": "2025-09-12T23:20:55.170552Z",
     "shell.execute_reply": "2025-09-12T23:20:55.169942Z",
     "shell.execute_reply.started": "2025-09-12T23:20:53.597045Z"
    },
    "id": "7ae23a92-6b80-41f3-b1a6-811d3fc27224"
   },
   "outputs": [],
   "source": [
    "# предсказания трейн\n",
    "y_pred_train = lr_model.predict(X_train_features)\n",
    "y_pred_proba_train = lr_model.predict_proba(X_train_features)[:, 1]\n",
    "\n",
    "# предсказания тест\n",
    "y_pred = lr_model.predict(X_test_features)\n",
    "y_pred_proba = lr_model.predict_proba(X_test_features)[:, 1]"
   ]
  },
  {
   "cell_type": "code",
   "execution_count": 48,
   "metadata": {
    "execution": {
     "iopub.execute_input": "2025-09-12T23:20:55.171684Z",
     "iopub.status.busy": "2025-09-12T23:20:55.171420Z",
     "iopub.status.idle": "2025-09-12T23:20:55.469555Z",
     "shell.execute_reply": "2025-09-12T23:20:55.468994Z",
     "shell.execute_reply.started": "2025-09-12T23:20:55.171662Z"
    },
    "id": "88fc77a0-b6b9-4cde-b939-ced9bfbc900e"
   },
   "outputs": [
    {
     "name": "stdout",
     "output_type": "stream",
     "text": [
      "\n",
      "результаты baseline на трейн и тест выборках (логистическая регрессия):\n",
      "f1-score TRAIN (weighted): 0.9385\n",
      "f1-score TEST (weighted): 0.9311\n",
      "\n",
      "roc-auc TRAIN: 0.9781\n",
      "roc-auc TEST: 0.9610\n",
      "\n",
      "precision TRAIN (toxic): 0.6164\n",
      "precision TEST (toxic): 0.5922\n",
      "\n",
      "recall TRAIN (toxic): 0.9039\n",
      "recall TEST (toxic): 0.8514\n"
     ]
    }
   ],
   "source": [
    "# метрики\n",
    "print(\"\\nрезультаты baseline на трейн и тест выборках (логистическая регрессия):\")\n",
    "print(f\"f1-score TRAIN (weighted): {f1_score(y_train, y_pred_train, average='weighted'):.4f}\")\n",
    "print(f\"f1-score TEST (weighted): {f1_score(y_test, y_pred, average='weighted'):.4f}\")\n",
    "print()\n",
    "print(f\"roc-auc TRAIN: {roc_auc_score(y_train, y_pred_proba_train):.4f}\")\n",
    "print(f\"roc-auc TEST: {roc_auc_score(y_test, y_pred_proba):.4f}\")\n",
    "print()\n",
    "print(f\"precision TRAIN (toxic): {precision_score(y_train, y_pred_train):.4f}\")\n",
    "print(f\"precision TEST (toxic): {precision_score(y_test, y_pred):.4f}\")\n",
    "print()\n",
    "print(f\"recall TRAIN (toxic): {recall_score(y_train, y_pred_train):.4f}\")\n",
    "print(f\"recall TEST (toxic): {recall_score(y_test, y_pred):.4f}\")"
   ]
  },
  {
   "cell_type": "markdown",
   "metadata": {
    "id": "f8d71499-103f-4742-b997-75bbb7413b28"
   },
   "source": [
    "Результаты очень хорошие. На тестовых данных метрика незначительно ниже, чем на тренировочных. Это говорит об отсутсвии переобучения."
   ]
  },
  {
   "cell_type": "markdown",
   "metadata": {
    "id": "67b052a7-2979-4d99-af1e-fbe3113094a3"
   },
   "source": [
    "Попробуем BERT с fine-tuning. Если результаты будут неудовлетворительными, будем использовать BERT без fine-tuning для создания эмбеддингов, а после обучим на них модель градиентного бустинга."
   ]
  },
  {
   "cell_type": "markdown",
   "metadata": {},
   "source": [
    "### Вывод: Baseline модель - Логистическая регрессия на TF-IDF\n",
    "\n",
    "**Цель выбора**  \n",
    "- Сравнить качество моделей на TF-IDF с результатами на BERT.  \n",
    "- Определить нижнюю границу метрики (baseline).\n",
    "\n",
    "**Обучение**  \n",
    "Логистическая регрессия обучена с параметрами: `class_weight='balanced'`, `max_iter=1000`, `random_state=42`.\n",
    "\n",
    "**Результаты на тренировочной выборке**  \n",
    "- F1-score (weighted): 0.9385  \n",
    "- ROC-AUC: 0.9781  \n",
    "- Precision (toxic): 0.6164  \n",
    "- Recall (toxic): 0.9039  \n",
    "\n",
    "**Результаты на тестовой выборке**  \n",
    "- F1-score (weighted): 0.9311  \n",
    "- ROC-AUC: 0.9610  \n",
    "- Precision (toxic): 0.5922  \n",
    "- Recall (toxic): 0.8514  \n",
    "\n",
    "**Выводы**  \n",
    "- Модель показывает высокую эффективность, метрики на тесте лишь слегка ниже, чем на трейне — переобучения нет.  \n",
    "- Признаки `caps_ratio` и `toxic_word_count` внесли значимый вклад в качество модели.  \n",
    "- Этот результат служит надежной базовой линией для дальнейшего сравнения с моделями на BERT.  \n",
    "\n",
    "**Дальнейшие шаги**  \n",
    "- Обучение BERT с fine-tuning.  \n",
    "- Если fine-tuning окажется недостаточно эффективным, использовать BERT для генерации эмбеддингов и обучить на них градиентный бустинг.\n"
   ]
  },
  {
   "cell_type": "markdown",
   "metadata": {
    "id": "deaad119-cef4-48df-aa06-5b1b558ad51e"
   },
   "source": [
    "## Подготовка данных для BERT"
   ]
  },
  {
   "cell_type": "code",
   "execution_count": 49,
   "metadata": {
    "execution": {
     "iopub.execute_input": "2025-09-12T23:20:55.470520Z",
     "iopub.status.busy": "2025-09-12T23:20:55.470270Z",
     "iopub.status.idle": "2025-09-12T23:20:55.878917Z",
     "shell.execute_reply": "2025-09-12T23:20:55.878375Z",
     "shell.execute_reply.started": "2025-09-12T23:20:55.470504Z"
    },
    "id": "mTmSFqjWjoyK"
   },
   "outputs": [
    {
     "data": {
      "text/plain": [
       "26029"
      ]
     },
     "execution_count": 49,
     "metadata": {},
     "output_type": "execute_result"
    }
   ],
   "source": [
    "del token_lengths\n",
    "del tokens\n",
    "del tokenizer\n",
    "del stop_words\n",
    "del y_pred_train\n",
    "del y_pred_proba_train\n",
    "del lr_model\n",
    "del tfidf\n",
    "del X_train_tfidf\n",
    "del X_test_tfidf\n",
    "del X_train_features\n",
    "del X_test_features\n",
    "gc.collect()"
   ]
  },
  {
   "cell_type": "code",
   "execution_count": 50,
   "metadata": {
    "execution": {
     "iopub.execute_input": "2025-09-12T23:20:55.879759Z",
     "iopub.status.busy": "2025-09-12T23:20:55.879546Z",
     "iopub.status.idle": "2025-09-12T23:20:55.902725Z",
     "shell.execute_reply": "2025-09-12T23:20:55.901999Z",
     "shell.execute_reply.started": "2025-09-12T23:20:55.879743Z"
    },
    "id": "e432865c-09d9-484b-b7de-654f27102812"
   },
   "outputs": [],
   "source": [
    "df = df.copy()"
   ]
  },
  {
   "cell_type": "code",
   "execution_count": 51,
   "metadata": {
    "execution": {
     "iopub.execute_input": "2025-09-12T23:20:55.903657Z",
     "iopub.status.busy": "2025-09-12T23:20:55.903461Z",
     "iopub.status.idle": "2025-09-12T23:20:55.933125Z",
     "shell.execute_reply": "2025-09-12T23:20:55.932366Z",
     "shell.execute_reply.started": "2025-09-12T23:20:55.903642Z"
    },
    "id": "d8d6ba82-8b67-48cc-b319-f557676a8d5a"
   },
   "outputs": [
    {
     "name": "stdout",
     "output_type": "stream",
     "text": [
      "<class 'pandas.core.frame.DataFrame'>\n",
      "Index: 159239 entries, 0 to 159291\n",
      "Data columns (total 5 columns):\n",
      " #   Column             Non-Null Count   Dtype  \n",
      "---  ------             --------------   -----  \n",
      " 0   toxic              159239 non-null  int64  \n",
      " 1   caps_ratio         159239 non-null  float64\n",
      " 2   clean_text         159239 non-null  object \n",
      " 3   clean_text_length  159239 non-null  int64  \n",
      " 4   toxic_word_count   159239 non-null  int64  \n",
      "dtypes: float64(1), int64(3), object(1)\n",
      "memory usage: 7.3+ MB\n"
     ]
    }
   ],
   "source": [
    "df.info()"
   ]
  },
  {
   "cell_type": "code",
   "execution_count": 52,
   "metadata": {
    "execution": {
     "iopub.execute_input": "2025-09-12T23:20:55.934041Z",
     "iopub.status.busy": "2025-09-12T23:20:55.933780Z",
     "iopub.status.idle": "2025-09-12T23:20:55.948184Z",
     "shell.execute_reply": "2025-09-12T23:20:55.947455Z",
     "shell.execute_reply.started": "2025-09-12T23:20:55.934004Z"
    },
    "id": "c6f8007d-7801-416d-9964-23858061ed66"
   },
   "outputs": [
    {
     "data": {
      "text/plain": [
       "['clean_text', 'toxic']"
      ]
     },
     "execution_count": 52,
     "metadata": {},
     "output_type": "execute_result"
    }
   ],
   "source": [
    "# удаление ненужных столбцов\n",
    "columns_to_keep = ['clean_text', 'toxic']\n",
    "df = df[columns_to_keep]\n",
    "df.columns.tolist()"
   ]
  },
  {
   "cell_type": "markdown",
   "metadata": {
    "id": "05aad34e-6627-44fd-aadf-474b15db724a"
   },
   "source": [
    "### Сплит"
   ]
  },
  {
   "cell_type": "code",
   "execution_count": 53,
   "metadata": {
    "execution": {
     "iopub.execute_input": "2025-09-12T23:20:55.949250Z",
     "iopub.status.busy": "2025-09-12T23:20:55.948941Z",
     "iopub.status.idle": "2025-09-12T23:20:56.016008Z",
     "shell.execute_reply": "2025-09-12T23:20:56.015503Z",
     "shell.execute_reply.started": "2025-09-12T23:20:55.949215Z"
    },
    "id": "29f43f56-0e3f-4e68-bb80-713de82f151c"
   },
   "outputs": [],
   "source": [
    "# разделение на train/test\n",
    "train_df, test_df = train_test_split(\n",
    "    df,\n",
    "    test_size=TEST_SIZE,\n",
    "    random_state=RANDOM_STATE,\n",
    "    stratify=df['toxic']\n",
    ")"
   ]
  },
  {
   "cell_type": "code",
   "execution_count": 54,
   "metadata": {
    "execution": {
     "iopub.execute_input": "2025-09-12T23:20:56.016973Z",
     "iopub.status.busy": "2025-09-12T23:20:56.016747Z",
     "iopub.status.idle": "2025-09-12T23:20:56.021989Z",
     "shell.execute_reply": "2025-09-12T23:20:56.021173Z",
     "shell.execute_reply.started": "2025-09-12T23:20:56.016945Z"
    },
    "id": "0a25e74d-79ab-4dac-ac65-bce29aae3f31"
   },
   "outputs": [
    {
     "data": {
      "text/plain": [
       "((127391, 2), (31848, 2))"
      ]
     },
     "execution_count": 54,
     "metadata": {},
     "output_type": "execute_result"
    }
   ],
   "source": [
    "train_df.shape, test_df.shape"
   ]
  },
  {
   "cell_type": "code",
   "execution_count": 55,
   "metadata": {
    "execution": {
     "iopub.execute_input": "2025-09-12T23:20:56.023125Z",
     "iopub.status.busy": "2025-09-12T23:20:56.022875Z",
     "iopub.status.idle": "2025-09-12T23:20:56.040314Z",
     "shell.execute_reply": "2025-09-12T23:20:56.039748Z",
     "shell.execute_reply.started": "2025-09-12T23:20:56.023109Z"
    },
    "id": "1a2090c2-7871-4840-af2c-4a3979eb6e28"
   },
   "outputs": [
    {
     "name": "stdout",
     "output_type": "stream",
     "text": [
      "\n",
      "распределение классов в train:\n",
      "toxic\n",
      "0    0.898384\n",
      "1    0.101616\n",
      "Name: proportion, dtype: float64\n",
      "\n",
      "распределение классов в test:\n",
      "toxic\n",
      "0    0.898392\n",
      "1    0.101608\n",
      "Name: proportion, dtype: float64\n"
     ]
    }
   ],
   "source": [
    "# проверка распределения классов\n",
    "print(\"\\nраспределение классов в train:\")\n",
    "print(train_df['toxic'].value_counts(normalize=True))\n",
    "print(\"\\nраспределение классов в test:\")\n",
    "print(test_df['toxic'].value_counts(normalize=True))"
   ]
  },
  {
   "cell_type": "code",
   "execution_count": 56,
   "metadata": {
    "execution": {
     "iopub.execute_input": "2025-09-12T23:20:56.041291Z",
     "iopub.status.busy": "2025-09-12T23:20:56.041069Z",
     "iopub.status.idle": "2025-09-12T23:20:57.124046Z",
     "shell.execute_reply": "2025-09-12T23:20:57.123501Z",
     "shell.execute_reply.started": "2025-09-12T23:20:56.041276Z"
    },
    "id": "40b0af64-acb3-4ffc-b837-d63c9ecc1b02"
   },
   "outputs": [
    {
     "data": {
      "application/vnd.jupyter.widget-view+json": {
       "model_id": "7c074d1ac44a49c787b119c21f206213",
       "version_major": 2,
       "version_minor": 0
      },
      "text/plain": [
       "tokenizer_config.json:   0%|          | 0.00/2.00 [00:00<?, ?B/s]"
      ]
     },
     "metadata": {},
     "output_type": "display_data"
    },
    {
     "data": {
      "application/vnd.jupyter.widget-view+json": {
       "model_id": "55e4e58975ef4aacae73b6b329e8a897",
       "version_major": 2,
       "version_minor": 0
      },
      "text/plain": [
       "config.json:   0%|          | 0.00/385 [00:00<?, ?B/s]"
      ]
     },
     "metadata": {},
     "output_type": "display_data"
    },
    {
     "data": {
      "application/vnd.jupyter.widget-view+json": {
       "model_id": "909ae0792f7d47eea723a82beb8af4e2",
       "version_major": 2,
       "version_minor": 0
      },
      "text/plain": [
       "vocab.txt: 0.00B [00:00, ?B/s]"
      ]
     },
     "metadata": {},
     "output_type": "display_data"
    },
    {
     "data": {
      "application/vnd.jupyter.widget-view+json": {
       "model_id": "e9a9b931dd374668a4ef5e2885d52555",
       "version_major": 2,
       "version_minor": 0
      },
      "text/plain": [
       "special_tokens_map.json:   0%|          | 0.00/112 [00:00<?, ?B/s]"
      ]
     },
     "metadata": {},
     "output_type": "display_data"
    }
   ],
   "source": [
    "tokenizer = AutoTokenizer.from_pretrained(\"microsoft/MiniLM-L12-H384-uncased\")\n",
    "\n",
    "def prepare_data(df, max_length=MAX_LENGTH):\n",
    "    input_ids, attention_masks = [], []\n",
    "    labels = df['toxic'].values\n",
    "\n",
    "    for text in tqdm(df['clean_text'], desc=\"токенизация\"):\n",
    "        encoded = tokenizer.encode_plus(\n",
    "            text,\n",
    "            add_special_tokens=True,\n",
    "            max_length=max_length,\n",
    "            padding='max_length',\n",
    "            truncation=True,\n",
    "            return_attention_mask=True,\n",
    "            return_tensors='pt'\n",
    "        )\n",
    "        input_ids.append(encoded['input_ids'])\n",
    "        attention_masks.append(encoded['attention_mask'])\n",
    "\n",
    "    input_ids = torch.cat(input_ids, dim=0)\n",
    "    attention_masks = torch.cat(attention_masks, dim=0)\n",
    "    labels = torch.tensor(labels, dtype=torch.long)\n",
    "\n",
    "    return input_ids, attention_masks, labels"
   ]
  },
  {
   "cell_type": "markdown",
   "metadata": {
    "id": "4198eac6-1cd4-4fdc-a742-64d01b18e850"
   },
   "source": [
    "### Токенизация"
   ]
  },
  {
   "cell_type": "code",
   "execution_count": 58,
   "metadata": {
    "execution": {
     "iopub.execute_input": "2025-09-12T23:21:44.697738Z",
     "iopub.status.busy": "2025-09-12T23:21:44.697477Z",
     "iopub.status.idle": "2025-09-12T23:23:30.379628Z",
     "shell.execute_reply": "2025-09-12T23:23:30.379056Z",
     "shell.execute_reply.started": "2025-09-12T23:21:44.697718Z"
    },
    "id": "201b4349-cedc-4619-81cb-35b507bd9936"
   },
   "outputs": [
    {
     "data": {
      "application/vnd.jupyter.widget-view+json": {
       "model_id": "ee6a3b5abc8046e3b37e7ae88070283b",
       "version_major": 2,
       "version_minor": 0
      },
      "text/plain": [
       "токенизация:   0%|          | 0/127391 [00:00<?, ?it/s]"
      ]
     },
     "metadata": {},
     "output_type": "display_data"
    },
    {
     "data": {
      "application/vnd.jupyter.widget-view+json": {
       "model_id": "3f340eab6dcb4af5a4a0207f40893e4b",
       "version_major": 2,
       "version_minor": 0
      },
      "text/plain": [
       "токенизация:   0%|          | 0/31848 [00:00<?, ?it/s]"
      ]
     },
     "metadata": {},
     "output_type": "display_data"
    }
   ],
   "source": [
    "# токенизация train и test\n",
    "train_inputs, train_masks, train_labels = prepare_data(train_df)\n",
    "test_inputs, test_masks, test_labels = prepare_data(test_df)"
   ]
  },
  {
   "cell_type": "code",
   "execution_count": 59,
   "metadata": {
    "execution": {
     "iopub.execute_input": "2025-09-12T23:23:30.381167Z",
     "iopub.status.busy": "2025-09-12T23:23:30.380915Z",
     "iopub.status.idle": "2025-09-12T23:23:30.385318Z",
     "shell.execute_reply": "2025-09-12T23:23:30.384782Z",
     "shell.execute_reply.started": "2025-09-12T23:23:30.381150Z"
    },
    "id": "6a968ef6-78af-4906-aa85-a824332527fd"
   },
   "outputs": [
    {
     "name": "stdout",
     "output_type": "stream",
     "text": [
      "\n",
      "размер train: 127391 строк, torch.Size([127391, 512])\n",
      "размер test: 31848 строк, torch.Size([31848, 512])\n"
     ]
    }
   ],
   "source": [
    "# проверка размеров\n",
    "print(f\"\\nразмер train: {len(train_df)} строк, {train_inputs.shape}\")\n",
    "print(f\"размер test: {len(test_df)} строк, {test_inputs.shape}\")"
   ]
  },
  {
   "cell_type": "code",
   "execution_count": 60,
   "metadata": {
    "execution": {
     "iopub.execute_input": "2025-09-12T23:23:30.386271Z",
     "iopub.status.busy": "2025-09-12T23:23:30.385969Z",
     "iopub.status.idle": "2025-09-12T23:23:31.783456Z",
     "shell.execute_reply": "2025-09-12T23:23:31.782899Z",
     "shell.execute_reply.started": "2025-09-12T23:23:30.386249Z"
    },
    "id": "3G9nPEsFX-ha"
   },
   "outputs": [],
   "source": [
    "# сохранение тензоров\n",
    "torch.save(train_inputs, os.path.join(OUTPUT_DIR, 'train_inputs.pt'))\n",
    "torch.save(train_masks, os.path.join(OUTPUT_DIR, 'train_masks.pt'))\n",
    "torch.save(train_labels, os.path.join(OUTPUT_DIR, 'train_labels.pt'))\n",
    "torch.save(test_inputs, os.path.join(OUTPUT_DIR, 'test_inputs.pt'))\n",
    "torch.save(test_masks, os.path.join(OUTPUT_DIR, 'test_masks.pt'))\n",
    "torch.save(test_labels, os.path.join(OUTPUT_DIR, 'test_labels.pt'))"
   ]
  },
  {
   "cell_type": "markdown",
   "metadata": {
    "id": "e4df6f2b-5082-4d35-8305-5f77b79b092e"
   },
   "source": [
    "### Балансировка классов"
   ]
  },
  {
   "cell_type": "code",
   "execution_count": 61,
   "metadata": {
    "execution": {
     "iopub.execute_input": "2025-09-12T23:23:31.785105Z",
     "iopub.status.busy": "2025-09-12T23:23:31.784867Z",
     "iopub.status.idle": "2025-09-12T23:23:31.828041Z",
     "shell.execute_reply": "2025-09-12T23:23:31.827348Z",
     "shell.execute_reply.started": "2025-09-12T23:23:31.785088Z"
    },
    "id": "8689f8a7-1b0c-435c-954e-c3b26a76120b"
   },
   "outputs": [],
   "source": [
    "# настройка WeightedRandomSampler для балансировки классов\n",
    "class_counts = np.bincount(train_labels)\n",
    "class_weights = 1. / class_counts\n",
    "sample_weights = class_weights[train_labels]\n",
    "train_sampler = WeightedRandomSampler(sample_weights, len(sample_weights))"
   ]
  },
  {
   "cell_type": "markdown",
   "metadata": {
    "id": "7d4a4280-8b93-40ba-8ff5-7d0d189748bb"
   },
   "source": [
    "### Создание DataLoader"
   ]
  },
  {
   "cell_type": "code",
   "execution_count": 62,
   "metadata": {
    "execution": {
     "iopub.execute_input": "2025-09-12T23:23:31.828834Z",
     "iopub.status.busy": "2025-09-12T23:23:31.828671Z",
     "iopub.status.idle": "2025-09-12T23:23:31.849319Z",
     "shell.execute_reply": "2025-09-12T23:23:31.848762Z",
     "shell.execute_reply.started": "2025-09-12T23:23:31.828821Z"
    },
    "id": "0ef330a9-859a-49eb-af88-eb63058d53f1"
   },
   "outputs": [
    {
     "name": "stdout",
     "output_type": "stream",
     "text": [
      "\n",
      "создано: 5308 батчей для train, 1327 батчей для test\n"
     ]
    }
   ],
   "source": [
    "# создание DataLoader\n",
    "train_dataset = TensorDataset(train_inputs, train_masks, train_labels)\n",
    "test_dataset = TensorDataset(test_inputs, test_masks, test_labels)\n",
    "\n",
    "train_loader = DataLoader(\n",
    "    train_dataset,\n",
    "    sampler=train_sampler,\n",
    "    batch_size=BATCH_SIZE,\n",
    "    num_workers=NUM_WORKERS\n",
    ")\n",
    "test_loader = DataLoader(\n",
    "    test_dataset,\n",
    "    batch_size=BATCH_SIZE,\n",
    "    shuffle=False,\n",
    "    num_workers=0\n",
    ")\n",
    "\n",
    "print(f\"\\nсоздано: {len(train_loader)} батчей для train, {len(test_loader)} батчей для test\")"
   ]
  },
  {
   "cell_type": "markdown",
   "metadata": {},
   "source": [
    "### Вывод: Подготовка данных для BERT\n",
    "\n",
    "**Очистка памяти**  \n",
    "Удалены ненужные объекты (TF-IDF, логистическая регрессия, временные массивы) для освобождения оперативной памяти. Выполнен `gc.collect()`, освобождено 26 029 объектов.\n",
    "\n",
    "**Выбор признаков**  \n",
    "Для BERT оставлены только два столбца:  \n",
    "- `clean_text` — основной текст для токенизации.  \n",
    "- `toxic` — целевой признак.\n",
    "\n",
    "**Разделение на train/test**  \n",
    "- Train: 127 391 строк  \n",
    "- Test: 31 848 строк  \n",
    "- Распределение классов сохраняется: ~10 % токсичных текстов, ~90 % нетоксичных.\n",
    "\n",
    "**Токенизация**  \n",
    "Использован `AutoTokenizer` от `microsoft/MiniLM-L12-H384-uncased`.  \n",
    "- Тексты кодируются с добавлением специальных токенов, паддингом до максимальной длины (`MAX_LENGTH=512`) и маской внимания.  \n",
    "- Получены тензоры `input_ids`, `attention_masks` и `labels` для train и test.\n",
    "\n",
    "**Проверка размеров**  \n",
    "- Train: `[127391, 512]`  \n",
    "- Test: `[31848, 512]`  \n",
    "\n",
    "**Сохранение тензоров**  \n",
    "Тензоры сохранены на диск в формате `.pt` для последующего обучения BERT.\n",
    "\n",
    "**Балансировка классов**  \n",
    "- Использован `WeightedRandomSampler`, чтобы компенсировать дисбаланс классов.  \n",
    "- Вычислены веса для каждого класса и применены при формировании выборки для DataLoader.\n",
    "\n",
    "**Создание DataLoader**  \n",
    "- Train DataLoader: 5 308 батчей с балансировкой.  \n",
    "- Test DataLoader: 1 327 батчей, без перемешивания.  \n",
    "- Параметры: `batch_size=BATCH_SIZE`, `num_workers=NUM_WORKERS`.\n",
    "\n",
    "**Вывод**  \n",
    "Данные подготовлены для эффективного обучения BERT с учетом дисбаланса классов. Токенизация и создание DataLoader позволяют сразу подавать батчи на GPU, минимизируя потребление памяти.\n"
   ]
  },
  {
   "cell_type": "markdown",
   "metadata": {
    "id": "1fa04367-ebd6-488c-a5b8-267632438425"
   },
   "source": [
    "## Fine-tuning MiniLM by Microsoft (вместо BERT)"
   ]
  },
  {
   "cell_type": "markdown",
   "metadata": {
    "id": "904ab264-bc60-4f1c-9e2a-b9c2b9cefa77"
   },
   "source": [
    "Мой копьютер при всем желании не потянет настоящий 12-тислойный BERT на 110 млн параметров (89 часов на эпоху) и его уменьшенную версию на 66 млн параметров DistilBert (42 часа на эпоху). Поэтому в качестве альтернативы буду использовать трансформерную разработку от Microsoft, вдохновленную BERT - MiniLM-L12-H384-uncased."
   ]
  },
  {
   "cell_type": "code",
   "execution_count": 63,
   "metadata": {
    "execution": {
     "iopub.execute_input": "2025-09-12T23:23:31.850244Z",
     "iopub.status.busy": "2025-09-12T23:23:31.849996Z",
     "iopub.status.idle": "2025-09-12T23:23:35.135436Z",
     "shell.execute_reply": "2025-09-12T23:23:35.134800Z",
     "shell.execute_reply.started": "2025-09-12T23:23:31.850229Z"
    },
    "id": "4bb134b5-0eec-4271-a7e8-43474ea58839"
   },
   "outputs": [
    {
     "data": {
      "application/vnd.jupyter.widget-view+json": {
       "model_id": "f89192fe05f84f0bb83a372864a6454e",
       "version_major": 2,
       "version_minor": 0
      },
      "text/plain": [
       "pytorch_model.bin:   0%|          | 0.00/133M [00:00<?, ?B/s]"
      ]
     },
     "metadata": {},
     "output_type": "display_data"
    },
    {
     "name": "stderr",
     "output_type": "stream",
     "text": [
      "Some weights of BertForSequenceClassification were not initialized from the model checkpoint at microsoft/MiniLM-L12-H384-uncased and are newly initialized: ['classifier.bias', 'classifier.weight']\n",
      "You should probably TRAIN this model on a down-stream task to be able to use it for predictions and inference.\n"
     ]
    }
   ],
   "source": [
    "# загрузка модели с выводом скрытых состояний\n",
    "model = AutoModelForSequenceClassification.from_pretrained(\n",
    "    'microsoft/MiniLM-L12-H384-uncased',\n",
    "    num_labels=2,\n",
    "    output_hidden_states=True\n",
    ")"
   ]
  },
  {
   "cell_type": "code",
   "execution_count": 64,
   "metadata": {
    "execution": {
     "iopub.execute_input": "2025-09-12T23:23:35.136383Z",
     "iopub.status.busy": "2025-09-12T23:23:35.136150Z",
     "iopub.status.idle": "2025-09-12T23:23:35.414532Z",
     "shell.execute_reply": "2025-09-12T23:23:35.413778Z",
     "shell.execute_reply.started": "2025-09-12T23:23:35.136357Z"
    }
   },
   "outputs": [],
   "source": [
    "# если несколько GPU\n",
    "if torch.cuda.device_count() > 1:\n",
    "    model = torch.nn.DataParallel(model)\n",
    "model = model.to(DEVICE)"
   ]
  },
  {
   "cell_type": "code",
   "execution_count": 65,
   "metadata": {
    "execution": {
     "iopub.execute_input": "2025-09-12T23:23:35.415571Z",
     "iopub.status.busy": "2025-09-12T23:23:35.415306Z",
     "iopub.status.idle": "2025-09-12T23:23:35.422613Z",
     "shell.execute_reply": "2025-09-12T23:23:35.421999Z",
     "shell.execute_reply.started": "2025-09-12T23:23:35.415543Z"
    },
    "id": "b067b2cb-c386-4bbd-ace0-6bd9a8a4be0b"
   },
   "outputs": [
    {
     "name": "stderr",
     "output_type": "stream",
     "text": [
      "/tmp/ipykernel_36/1092687428.py:3: FutureWarning: `torch.cuda.amp.GradScaler(args...)` is deprecated. Please use `torch.amp.GradScaler('cuda', args...)` instead.\n",
      "  scaler = GradScaler()\n"
     ]
    }
   ],
   "source": [
    "# оптимизатор и scaler для смешанной точности\n",
    "optimizer = AdamW(model.parameters(), lr=LEARNING_RATE)\n",
    "scaler = GradScaler()\n",
    "loss_fn = torch.nn.CrossEntropyLoss()"
   ]
  },
  {
   "cell_type": "markdown",
   "metadata": {
    "id": "7acb0932-9798-43b0-9e27-14143acbe5ef"
   },
   "source": [
    "### Обучение"
   ]
  },
  {
   "cell_type": "code",
   "execution_count": 66,
   "metadata": {
    "execution": {
     "iopub.execute_input": "2025-09-12T23:23:35.423495Z",
     "iopub.status.busy": "2025-09-12T23:23:35.423282Z",
     "iopub.status.idle": "2025-09-12T23:55:11.433211Z",
     "shell.execute_reply": "2025-09-12T23:55:11.432395Z",
     "shell.execute_reply.started": "2025-09-12T23:23:35.423473Z"
    },
    "id": "00f99e04-c680-46de-bbc3-333abb588e60"
   },
   "outputs": [
    {
     "name": "stdout",
     "output_type": "stream",
     "text": [
      "\n",
      "эпоха 1/2\n"
     ]
    },
    {
     "data": {
      "application/vnd.jupyter.widget-view+json": {
       "model_id": "b71ff2cb8aea4926a98cf7d5dd47ea44",
       "version_major": 2,
       "version_minor": 0
      },
      "text/plain": [
       "обучение:   0%|          | 0/5308 [00:00<?, ?it/s]"
      ]
     },
     "metadata": {},
     "output_type": "display_data"
    },
    {
     "name": "stderr",
     "output_type": "stream",
     "text": [
      "huggingface/tokenizers: The current process just got forked, after parallelism has already been used. Disabling parallelism to avoid deadlocks...\n",
      "To disable this warning, you can either:\n",
      "\t- Avoid using `tokenizers` before the fork if possible\n",
      "\t- Explicitly set the environment variable TOKENIZERS_PARALLELISM=(true | false)\n",
      "huggingface/tokenizers: The current process just got forked, after parallelism has already been used. Disabling parallelism to avoid deadlocks...\n",
      "To disable this warning, you can either:\n",
      "\t- Avoid using `tokenizers` before the fork if possible\n",
      "\t- Explicitly set the environment variable TOKENIZERS_PARALLELISM=(true | false)\n"
     ]
    },
    {
     "data": {
      "application/vnd.jupyter.widget-view+json": {
       "model_id": "e2741d763b2f48d0bcacde509b53a30b",
       "version_major": 2,
       "version_minor": 0
      },
      "text/plain": [
       "model.safetensors:   0%|          | 0.00/133M [00:00<?, ?B/s]"
      ]
     },
     "metadata": {},
     "output_type": "display_data"
    },
    {
     "name": "stderr",
     "output_type": "stream",
     "text": [
      "/usr/local/lib/python3.11/dist-packages/torch/nn/parallel/_functions.py:70: UserWarning: Was asked to gather along dimension 0, but all input tensors were scalars; will instead unsqueeze and return a vector.\n",
      "  warnings.warn(\n"
     ]
    },
    {
     "name": "stdout",
     "output_type": "stream",
     "text": [
      "средняя потеря: 0.1629\n",
      "\n",
      "эпоха 2/2\n"
     ]
    },
    {
     "data": {
      "application/vnd.jupyter.widget-view+json": {
       "model_id": "f975c33462c1425eb97b25ac17ed8602",
       "version_major": 2,
       "version_minor": 0
      },
      "text/plain": [
       "обучение:   0%|          | 0/5308 [00:00<?, ?it/s]"
      ]
     },
     "metadata": {},
     "output_type": "display_data"
    },
    {
     "name": "stderr",
     "output_type": "stream",
     "text": [
      "huggingface/tokenizers: The current process just got forked, after parallelism has already been used. Disabling parallelism to avoid deadlocks...\n",
      "To disable this warning, you can either:\n",
      "\t- Avoid using `tokenizers` before the fork if possible\n",
      "\t- Explicitly set the environment variable TOKENIZERS_PARALLELISM=(true | false)\n",
      "huggingface/tokenizers: The current process just got forked, after parallelism has already been used. Disabling parallelism to avoid deadlocks...\n",
      "To disable this warning, you can either:\n",
      "\t- Avoid using `tokenizers` before the fork if possible\n",
      "\t- Explicitly set the environment variable TOKENIZERS_PARALLELISM=(true | false)\n"
     ]
    },
    {
     "name": "stdout",
     "output_type": "stream",
     "text": [
      "средняя потеря: 0.0904\n"
     ]
    }
   ],
   "source": [
    "# обучение\n",
    "model.train()\n",
    "for epoch in range(EPOCHS):\n",
    "    print(f\"\\nэпоха {epoch + 1}/{EPOCHS}\")\n",
    "    total_loss = 0\n",
    "\n",
    "    progress_bar = tqdm(train_loader, desc=\"обучение\", ncols=100, dynamic_ncols=True)\n",
    "    for batch in progress_bar:\n",
    "        input_ids, attention_mask, labels = [b.to(DEVICE) for b in batch]\n",
    "\n",
    "        optimizer.zero_grad()\n",
    "        with autocast(device_type=\"cuda\"):\n",
    "            outputs = model(\n",
    "                input_ids=input_ids,\n",
    "                attention_mask=attention_mask,\n",
    "                labels=labels\n",
    "            )\n",
    "            loss = outputs.loss\n",
    "            if loss.dim() > 0:\n",
    "                loss = loss.mean()  # усредняем по GPU\n",
    "\n",
    "        scaler.scale(loss).backward()\n",
    "        scaler.step(optimizer)\n",
    "        scaler.update()\n",
    "\n",
    "        total_loss += loss.item()\n",
    "        progress_bar.set_postfix({\"loss\": f\"{loss.item():.4f}\"})\n",
    "\n",
    "    avg_loss = total_loss / len(train_loader)\n",
    "    print(f\"средняя потеря: {avg_loss:.4f}\")"
   ]
  },
  {
   "cell_type": "code",
   "execution_count": 67,
   "metadata": {
    "execution": {
     "iopub.execute_input": "2025-09-12T23:55:11.435592Z",
     "iopub.status.busy": "2025-09-12T23:55:11.435320Z",
     "iopub.status.idle": "2025-09-12T23:55:11.705776Z",
     "shell.execute_reply": "2025-09-12T23:55:11.705062Z",
     "shell.execute_reply.started": "2025-09-12T23:55:11.435573Z"
    },
    "id": "YGv_YBF-sXOQ"
   },
   "outputs": [
    {
     "name": "stdout",
     "output_type": "stream",
     "text": [
      "Модель и токенизатор сохранены в /kaggle/working/minilm_model\n"
     ]
    }
   ],
   "source": [
    "# сохранение модели\n",
    "model.module.save_pretrained(OUTPUT_DIR) if isinstance(model, torch.nn.DataParallel) else model.save_pretrained(OUTPUT_DIR)\n",
    "tokenizer.save_pretrained(OUTPUT_DIR)\n",
    "print(\"Модель и токенизатор сохранены в\", OUTPUT_DIR)"
   ]
  },
  {
   "cell_type": "markdown",
   "metadata": {
    "id": "cc8c8978-3af1-449d-8b3d-bfedf871568d"
   },
   "source": [
    "### Оценка модели"
   ]
  },
  {
   "cell_type": "code",
   "execution_count": 70,
   "metadata": {
    "execution": {
     "iopub.execute_input": "2025-09-12T23:59:49.859561Z",
     "iopub.status.busy": "2025-09-12T23:59:49.858803Z",
     "iopub.status.idle": "2025-09-12T23:59:49.867119Z",
     "shell.execute_reply": "2025-09-12T23:59:49.866360Z",
     "shell.execute_reply.started": "2025-09-12T23:59:49.859533Z"
    },
    "id": "df86a285-3a81-4c99-9793-3eaac7044979"
   },
   "outputs": [],
   "source": [
    "# функция для расчёта метрик и извлечения эмбеддингов\n",
    "def evaluate_model_and_get_embeddings(model, data_loader, dataset_name):\n",
    "    model.eval()\n",
    "    all_embeddings = []\n",
    "    all_labels = []\n",
    "\n",
    "    with torch.no_grad():\n",
    "        for batch in tqdm(data_loader, desc=f\"оценка и извлечение эмбеддингов на {dataset_name}\", ncols=100, dynamic_ncols=True):\n",
    "            input_ids, attention_mask, labels = [b.to(DEVICE) for b in batch]\n",
    "\n",
    "            with autocast(device_type=\"cuda\"):\n",
    "                outputs = model(\n",
    "                    input_ids=input_ids,\n",
    "                    attention_mask=attention_mask,\n",
    "                    labels=labels\n",
    "                )\n",
    "                hidden_states = outputs.hidden_states[-1]  # берем последний слой\n",
    "                if isinstance(model, torch.nn.DataParallel):\n",
    "                    hidden_states = hidden_states.mean(dim=0)  # усреднение по GPU\n",
    "\n",
    "            all_embeddings.append(hidden_states.cpu())\n",
    "            all_labels.append(labels.cpu())\n",
    "\n",
    "    embeddings = torch.cat(all_embeddings, dim=0).numpy()\n",
    "    labels = torch.cat(all_labels, dim=0).numpy()\n",
    "\n",
    "    return {\"embeddings\": embeddings, \"labels\": labels}"
   ]
  },
  {
   "cell_type": "code",
   "execution_count": 71,
   "metadata": {
    "execution": {
     "iopub.execute_input": "2025-09-12T23:59:51.871709Z",
     "iopub.status.busy": "2025-09-12T23:59:51.871247Z",
     "iopub.status.idle": "2025-09-13T00:07:03.731596Z",
     "shell.execute_reply": "2025-09-13T00:07:03.730492Z",
     "shell.execute_reply.started": "2025-09-12T23:59:51.871686Z"
    },
    "id": "2ab9f9ab-c8ab-49c2-9257-28f5ba2791d6"
   },
   "outputs": [
    {
     "data": {
      "application/vnd.jupyter.widget-view+json": {
       "model_id": "b54ed982fdc144f6ad5db6078b467854",
       "version_major": 2,
       "version_minor": 0
      },
      "text/plain": [
       "оценка и извлечение эмбеддингов на train:   0%|          | 0/5308 [00:00<?, ?it/s]"
      ]
     },
     "metadata": {},
     "output_type": "display_data"
    },
    {
     "name": "stderr",
     "output_type": "stream",
     "text": [
      "huggingface/tokenizers: The current process just got forked, after parallelism has already been used. Disabling parallelism to avoid deadlocks...\n",
      "To disable this warning, you can either:\n",
      "\t- Avoid using `tokenizers` before the fork if possible\n",
      "\t- Explicitly set the environment variable TOKENIZERS_PARALLELISM=(true | false)\n",
      "huggingface/tokenizers: The current process just got forked, after parallelism has already been used. Disabling parallelism to avoid deadlocks...\n",
      "To disable this warning, you can either:\n",
      "\t- Avoid using `tokenizers` before the fork if possible\n",
      "\t- Explicitly set the environment variable TOKENIZERS_PARALLELISM=(true | false)\n"
     ]
    },
    {
     "data": {
      "application/vnd.jupyter.widget-view+json": {
       "model_id": "4f1466e414cd452a98fb3c974c06956c",
       "version_major": 2,
       "version_minor": 0
      },
      "text/plain": [
       "оценка и извлечение эмбеддингов на test:   0%|          | 0/1327 [00:00<?, ?it/s]"
      ]
     },
     "metadata": {},
     "output_type": "display_data"
    },
    {
     "name": "stdout",
     "output_type": "stream",
     "text": [
      "\n",
      "размер train_embeddings: (2717696, 384)\n",
      "размер test_embeddings: (679424, 384)\n"
     ]
    }
   ],
   "source": [
    "# расчёт метрик и эмбеддингов\n",
    "train_results = evaluate_model_and_get_embeddings(model, train_loader, \"train\")\n",
    "test_results = evaluate_model_and_get_embeddings(model, test_loader, \"test\")\n",
    "\n",
    "# сохранение эмбеддингов\n",
    "train_embeddings = train_results['embeddings']\n",
    "test_embeddings = test_results['embeddings']\n",
    "np.save(os.path.join(OUTPUT_DIR, 'train_embeddings_minilm.npy'), train_embeddings)\n",
    "np.save(os.path.join(OUTPUT_DIR, 'test_embeddings_minilm.npy'), test_embeddings)\n",
    "print(f\"\\nразмер train_embeddings: {train_embeddings.shape}\")\n",
    "print(f\"размер test_embeddings: {test_embeddings.shape}\")"
   ]
  },
  {
   "cell_type": "code",
   "execution_count": 84,
   "metadata": {
    "execution": {
     "iopub.execute_input": "2025-09-13T00:27:05.450412Z",
     "iopub.status.busy": "2025-09-13T00:27:05.450122Z",
     "iopub.status.idle": "2025-09-13T00:27:05.457244Z",
     "shell.execute_reply": "2025-09-13T00:27:05.456526Z",
     "shell.execute_reply.started": "2025-09-13T00:27:05.450393Z"
    }
   },
   "outputs": [],
   "source": [
    "os.environ[\"TOKENIZERS_PARALLELISM\"] = \"false\"\n",
    "def evaluate_model_metrics(model, data_loader, device=DEVICE):\n",
    "    model.eval()\n",
    "    all_preds, all_labels = [], []\n",
    "\n",
    "    with torch.no_grad():\n",
    "        for batch in tqdm(data_loader, desc=\"Оценка модели\", ncols=100, dynamic_ncols=True):\n",
    "            input_ids, attention_mask, labels = [b.to(device) for b in batch]\n",
    "\n",
    "            outputs = model(input_ids=input_ids, attention_mask=attention_mask)\n",
    "            preds = torch.argmax(outputs.logits, dim=1)\n",
    "\n",
    "            all_preds.append(preds.cpu())\n",
    "            all_labels.append(labels.cpu())\n",
    "\n",
    "    all_preds = torch.cat(all_preds).numpy()\n",
    "    all_labels = torch.cat(all_labels).numpy()\n",
    "\n",
    "    f1 = f1_score(all_labels, all_preds, average=\"weighted\")\n",
    "    precision = precision_score(all_labels, all_preds, pos_label=1)\n",
    "    recall = recall_score(all_labels, all_preds, pos_label=1)\n",
    "    roc_auc = roc_auc_score(all_labels, all_preds)\n",
    "\n",
    "    return {\n",
    "        \"f1_score\": f1,\n",
    "        \"precision\": precision,\n",
    "        \"recall\": recall,\n",
    "        \"roc_auc\": roc_auc\n",
    "    }"
   ]
  },
  {
   "cell_type": "code",
   "execution_count": 85,
   "metadata": {
    "execution": {
     "iopub.execute_input": "2025-09-13T00:27:06.265778Z",
     "iopub.status.busy": "2025-09-13T00:27:06.265216Z",
     "iopub.status.idle": "2025-09-13T00:44:06.309126Z",
     "shell.execute_reply": "2025-09-13T00:44:06.308463Z",
     "shell.execute_reply.started": "2025-09-13T00:27:06.265757Z"
    }
   },
   "outputs": [
    {
     "data": {
      "application/vnd.jupyter.widget-view+json": {
       "model_id": "4f2b6d900138423a969030ecf39dfe68",
       "version_major": 2,
       "version_minor": 0
      },
      "text/plain": [
       "Оценка модели:   0%|          | 0/5308 [00:00<?, ?it/s]"
      ]
     },
     "metadata": {},
     "output_type": "display_data"
    },
    {
     "data": {
      "application/vnd.jupyter.widget-view+json": {
       "model_id": "265b9aef1fda4821bf03a25e20fd429f",
       "version_major": 2,
       "version_minor": 0
      },
      "text/plain": [
       "Оценка модели:   0%|          | 0/1327 [00:00<?, ?it/s]"
      ]
     },
     "metadata": {},
     "output_type": "display_data"
    }
   ],
   "source": [
    "train_metrics = evaluate_model_metrics(model, train_loader)\n",
    "test_metrics = evaluate_model_metrics(model, test_loader)"
   ]
  },
  {
   "cell_type": "code",
   "execution_count": 86,
   "metadata": {
    "execution": {
     "iopub.execute_input": "2025-09-13T00:44:06.310875Z",
     "iopub.status.busy": "2025-09-13T00:44:06.310618Z",
     "iopub.status.idle": "2025-09-13T00:44:06.316306Z",
     "shell.execute_reply": "2025-09-13T00:44:06.315701Z",
     "shell.execute_reply.started": "2025-09-13T00:44:06.310856Z"
    },
    "id": "MrF8p1W8QB44"
   },
   "outputs": [
    {
     "name": "stdout",
     "output_type": "stream",
     "text": [
      "\n",
      "результаты fine-tuning microsoft/MiniLM-L12-H384-uncased на train и test выборках:\n",
      "\n",
      "Результаты на TRAIN:\n",
      "f1-score (weighted): 0.9843\n",
      "precision (toxic): 0.9742\n",
      "recall (toxic): 0.9949\n",
      "roc-auc: 0.9843\n",
      "\n",
      "Результаты на TEST:\n",
      "f1-score (weighted): 0.9560\n",
      "precision (toxic): 0.7260\n",
      "recall (toxic): 0.8801\n",
      "roc-auc: 0.9213\n"
     ]
    }
   ],
   "source": [
    "# вывод метрик\n",
    "print(\"\\nрезультаты fine-tuning microsoft/MiniLM-L12-H384-uncased на train и test выборках:\")\n",
    "print(\"\\nРезультаты на TRAIN:\")\n",
    "print(f\"f1-score (weighted): {train_metrics['f1_score']:.4f}\")\n",
    "print(f\"precision (toxic): {train_metrics['precision']:.4f}\")\n",
    "print(f\"recall (toxic): {train_metrics['recall']:.4f}\")\n",
    "print(f\"roc-auc: {train_metrics['roc_auc']:.4f}\")\n",
    "\n",
    "print(\"\\nРезультаты на TEST:\")\n",
    "print(f\"f1-score (weighted): {test_metrics['f1_score']:.4f}\")\n",
    "print(f\"precision (toxic): {test_metrics['precision']:.4f}\")\n",
    "print(f\"recall (toxic): {test_metrics['recall']:.4f}\")\n",
    "print(f\"roc-auc: {test_metrics['roc_auc']:.4f}\")"
   ]
  },
  {
   "cell_type": "code",
   "execution_count": 87,
   "metadata": {
    "execution": {
     "iopub.execute_input": "2025-09-13T00:44:06.317292Z",
     "iopub.status.busy": "2025-09-13T00:44:06.317049Z",
     "iopub.status.idle": "2025-09-13T00:44:06.335576Z",
     "shell.execute_reply": "2025-09-13T00:44:06.334863Z",
     "shell.execute_reply.started": "2025-09-13T00:44:06.317269Z"
    },
    "id": "qkr3Hx3YYgqm"
   },
   "outputs": [
    {
     "name": "stdout",
     "output_type": "stream",
     "text": [
      "\n",
      "разница f1-score (train - test): 0.0283\n",
      "переобучение минимально: f1-score на train и test близки\n"
     ]
    }
   ],
   "source": [
    "# оценка переобучения\n",
    "f1_diff = train_metrics['f1_score'] - test_metrics['f1_score']\n",
    "print(f\"\\nразница f1-score (train - test): {f1_diff:.4f}\")\n",
    "if f1_diff > 0.05:\n",
    "    print(\"возможное переобучение: f1-score на train значительно выше, чем на test\")\n",
    "elif f1_diff < -0.05:\n",
    "    print(\"возможное недообучение: f1-score на test выше, чем на train\")\n",
    "else:\n",
    "    print(\"переобучение минимально: f1-score на train и test близки\")"
   ]
  },
  {
   "cell_type": "code",
   "execution_count": 95,
   "metadata": {
    "execution": {
     "iopub.execute_input": "2025-09-13T00:56:00.548212Z",
     "iopub.status.busy": "2025-09-13T00:56:00.547719Z",
     "iopub.status.idle": "2025-09-13T00:56:00.575855Z",
     "shell.execute_reply": "2025-09-13T00:56:00.575298Z",
     "shell.execute_reply.started": "2025-09-13T00:56:00.548187Z"
    }
   },
   "outputs": [
    {
     "name": "stdout",
     "output_type": "stream",
     "text": [
      "1\n",
      "CPU times: user 25 ms, sys: 37 µs, total: 25.1 ms\n",
      "Wall time: 23.6 ms\n"
     ]
    }
   ],
   "source": [
    "%%time\n",
    "text = \"I cn't beleive how terribl this product is!!! Evrything broke in 2 days, custmer service is uselesss and i regret ever buying it. Awful experiance.\"\n",
    "inputs = tokenizer(text, return_tensors=\"pt\", truncation=True, padding=\"max_length\", max_length=256)\n",
    "inputs = {k: v.to(\"cuda\") for k, v in inputs.items()}\n",
    "\n",
    "with torch.no_grad():\n",
    "    outputs = model(**inputs)\n",
    "    pred = torch.argmax(outputs.logits, dim=1).item()\n",
    "\n",
    "print(pred)"
   ]
  },
  {
   "cell_type": "code",
   "execution_count": 96,
   "metadata": {
    "execution": {
     "iopub.execute_input": "2025-09-13T00:56:09.945738Z",
     "iopub.status.busy": "2025-09-13T00:56:09.945109Z",
     "iopub.status.idle": "2025-09-13T00:56:09.972957Z",
     "shell.execute_reply": "2025-09-13T00:56:09.972395Z",
     "shell.execute_reply.started": "2025-09-13T00:56:09.945700Z"
    }
   },
   "outputs": [
    {
     "name": "stdout",
     "output_type": "stream",
     "text": [
      "0\n",
      "CPU times: user 23.2 ms, sys: 1.04 ms, total: 24.3 ms\n",
      "Wall time: 23.1 ms\n"
     ]
    }
   ],
   "source": [
    "%%time\n",
    "text = \"some text\"\n",
    "inputs = tokenizer(text, return_tensors=\"pt\", truncation=True, padding=\"max_length\", max_length=256)\n",
    "inputs = {k: v.to(\"cuda\") for k, v in inputs.items()}\n",
    "\n",
    "with torch.no_grad():\n",
    "    outputs = model(**inputs)\n",
    "    pred = torch.argmax(outputs.logits, dim=1).item()\n",
    "\n",
    "print(pred)"
   ]
  },
  {
   "cell_type": "markdown",
   "metadata": {},
   "source": [
    "### Вывод: Fine-tuning MiniLM (Microsoft)\n",
    "\n",
    "**Выбор модели**  \n",
    "- Из-за ограничений по ресурсам полноценный BERT (110M параметров) и DistilBERT (66M) на моей машине нецелесообразны.  \n",
    "- Выбрана легкая трансформерная модель `MiniLM-L12-H384-uncased` от Microsoft, вдохновленная архитектурой BERT.  \n",
    "\n",
    "**Загрузка и настройка модели**  \n",
    "- Модель загружена с выводом скрытых состояний (`output_hidden_states=True`).  \n",
    "- `num_labels=2` для бинарной классификации (toxic/нетоксичный).  \n",
    "- Поддержка мульти-GPU через `DataParallel`.  \n",
    "- Используются `AdamW` и `GradScaler` для оптимизации и смешанной точности.  \n",
    "- Функция потерь: `CrossEntropyLoss`.\n",
    "\n",
    "**Обучение**  \n",
    "- Количество эпох: 2  \n",
    "- Средняя потеря на эпохах:  \n",
    "  - Эпоха 1: 0.1629  \n",
    "  - Эпоха 2: 0.0904  \n",
    "- Использован `WeightedRandomSampler` для балансировки классов.  \n",
    "- Батчи: 5 308 для train, 1 327 для test.  \n",
    "- Обучение проводилось на Kaggle. Для желающих посмотреть на весь процесс доступна ссылка: [Kaggle Notebook](https://www.kaggle.com/code/legonc/study-toxiccomment).\n",
    "\n",
    "**Сохранение модели и токенизатора**  \n",
    "- Модель и токенизатор сохранены в `/kaggle/working/minilm_model`.\n",
    "\n",
    "**Извлечение эмбеддингов и оценка**  \n",
    "- Эмбеддинги взяты с последнего слоя скрытых состояний.  \n",
    "- Размеры эмбеддингов:  \n",
    "  - Train: `(2 717 696, 384)`  \n",
    "  - Test: `(679 424, 384)`  \n",
    "- Метрики на train и test:\n",
    "\n",
    "| Метрика         | Train  | Test   |\n",
    "|-----------------|--------|--------|\n",
    "| f1-score (weighted) | 0.9843 | 0.9560 |\n",
    "| Precision (toxic)   | 0.9742 | 0.7260 |\n",
    "| Recall (toxic)      | 0.9949 | 0.8801 |\n",
    "| ROC-AUC             | 0.9843 | 0.9213 |\n",
    "\n",
    "**Анализ переобучения**  \n",
    "- Разница f1-score (train - test) = 0.0283 → минимальное переобучение.  \n",
    "- Модель демонстрирует высокую точность на train и удовлетворительную на test, что говорит о хорошем обобщении.\n",
    "\n",
    "**Пример предсказаний**  \n",
    "- Токсичный текст: `\"I cn't beleive how terribl this product is!!! ...\"` → предсказано 1 (toxic).  \n",
    "- Нейтральный текст: `\"some text\"` → предсказано 0 (нетоксичный).  \n",
    "- Время инференса на GPU: ~24 мс на текст.\n",
    "\n",
    "**Вывод**  \n",
    "- MiniLM показывает высокую точность и скорость работы, подходящая для практического использования на слабом железе.  \n",
    "- Модель успешно классифицирует тексты и генерирует эмбеддинги для дальнейшего анализа или использования в downstream задачах.\n"
   ]
  },
  {
   "cell_type": "markdown",
   "metadata": {},
   "source": [
    "## Заключение проекта\n",
    "\n",
    "В ходе проекта мы построили пайплайн для анализа токсичности комментариев на английском языке. Основные этапы включали:  \n",
    "\n",
    "1. **Предобработка данных** — очистка текста, вычисление дополнительных признаков (caps_ratio, toxic_word_count), удаление шумных и неинформативных колонок.  \n",
    "2. **Baseline модель** — логистическая регрессия с TF-IDF, которая показала достойные результаты:  \n",
    "   - F1-score (weighted) на тесте: 0.9311  \n",
    "   - ROC-AUC: 0.9610  \n",
    "   Это дало нижнюю границу для оценки качества более сложных моделей.  \n",
    "3. **Fine-tuning MiniLM** — легкая трансформерная модель Microsoft MiniLM-L12-H384-uncased:  \n",
    "   - F1-score (weighted) на тесте: 0.9560  \n",
    "   - Precision (toxic): 0.7260  \n",
    "   - Recall (toxic): 0.8801  \n",
    "   - ROC-AUC: 0.9213  \n",
    "   Модель показала высокую точность при минимальном переобучении и скорости инференса (~24 мс на текст).  \n",
    "\n",
    "**Рекомендации по улучшению модели и пайплайна:**\n",
    "\n",
    "1. **Использовать более мощные трансформеры**  \n",
    "   - Например, DeBERTa, RoBERTa или полноценный BERT для повышения качества, особенно на сложных и длинных текстах.  \n",
    "\n",
    "2. **Подбор гиперпараметров**  \n",
    "   - LR, размер батча, learning rate, количество эпох, warmup и scheduler для AdamW.  \n",
    "   - Cross-validation для более надежной оценки.  \n",
    "\n",
    "3. **Решение проблемы дисбаланса классов**  \n",
    "   - Oversampling токсичных примеров, undersampling нетоксичных, SMOTE или использование специализированных loss-функций (Focal Loss).  \n",
    "\n",
    "4. **Устранение слипшихся слов и опечаток**  \n",
    "   - Использование spellchecker или нормализация текста для улучшения качества токенизации и эмбеддингов.  \n",
    "\n",
    "5. **Аугментация данных**  \n",
    "   - Перефразирование, back-translation, synonym replacement для увеличения разнообразия обучающих примеров.  \n",
    "\n",
    "6. **Интеграция дополнительных признаков**  \n",
    "   - Caps_ratio, количество токсичных слов, длина текста можно добавлять как дополнительный табличный ввод в трансформер или в градиентный бустинг.  \n",
    "\n",
    "7. **Энсамблирование моделей**  \n",
    "   - Объединение MiniLM с градиентным бустингом или другими NLP-моделями для повышения F1-score и стабильности.  \n",
    "\n",
    "8. **Оптимизация инференса**  \n",
    "   - Использовать ONNX или TorchScript для ускорения вывода, особенно при работе с большим количеством текстов.  \n",
    "\n",
    "**Итог:**  \n",
    "Построенный пайплайн показал, что даже легкая трансформерная модель MiniLM может давать высокое качество при ограниченных ресурсах. Для продакшн-решения стоит экспериментировать с более мощными моделями, техникой балансировки классов, расширенной предобработкой текста и аугментацией данных."
   ]
  },
  {
   "cell_type": "markdown",
   "metadata": {},
   "source": [
    "Посмотреть дополнительные файлы аутпуты можно здесь: \n",
    "\n",
    "- [GitHub](https://github.com/legonc/Study-ToxicComment)\n",
    "- [Kaggle Notebook](https://www.kaggle.com/code/legonc/study-toxiccomment)"
   ]
  },
  {
   "cell_type": "code",
   "execution_count": null,
   "metadata": {},
   "outputs": [],
   "source": []
  }
 ],
 "metadata": {
  "accelerator": "GPU",
  "colab": {
   "gpuType": "T4",
   "name": "",
   "toc_visible": true,
   "version": ""
  },
  "kaggle": {
   "accelerator": "nvidiaTeslaT4",
   "dataSources": [],
   "dockerImageVersionId": 31090,
   "isGpuEnabled": true,
   "isInternetEnabled": true,
   "language": "python",
   "sourceType": "notebook"
  },
  "kernelspec": {
   "display_name": "Python 3 (ipykernel)",
   "language": "python",
   "name": "python3"
  },
  "language_info": {
   "codemirror_mode": {
    "name": "ipython",
    "version": 3
   },
   "file_extension": ".py",
   "mimetype": "text/x-python",
   "name": "python",
   "nbconvert_exporter": "python",
   "pygments_lexer": "ipython3",
   "version": "3.11.9"
  },
  "widgets": {
   "application/vnd.jupyter.widget-state+json": {
    "028a06b4319249ea8bc823798f176f1d": {
     "model_module": "@jupyter-widgets/controls",
     "model_module_version": "1.5.0",
     "model_name": "DescriptionStyleModel",
     "state": {
      "_model_module": "@jupyter-widgets/controls",
      "_model_module_version": "1.5.0",
      "_model_name": "DescriptionStyleModel",
      "_view_count": null,
      "_view_module": "@jupyter-widgets/base",
      "_view_module_version": "1.2.0",
      "_view_name": "StyleView",
      "description_width": ""
     }
    },
    "15f06ec0660641be81edf1b0839ac92b": {
     "model_module": "@jupyter-widgets/controls",
     "model_module_version": "1.5.0",
     "model_name": "HBoxModel",
     "state": {
      "_dom_classes": [],
      "_model_module": "@jupyter-widgets/controls",
      "_model_module_version": "1.5.0",
      "_model_name": "HBoxModel",
      "_view_count": null,
      "_view_module": "@jupyter-widgets/controls",
      "_view_module_version": "1.5.0",
      "_view_name": "HBoxView",
      "box_style": "",
      "children": [
       "IPY_MODEL_d5b5daf1f34f47ad8510606e8128b227",
       "IPY_MODEL_7582961573bb46c28c1e5b8c23dff788",
       "IPY_MODEL_b3ddb5a49ea1474fa246ecdb54e1529b"
      ],
      "layout": "IPY_MODEL_b95ba55474bc4421bc4557108d9e6323"
     }
    },
    "16790b010cc742c89c0e7efc638a11ac": {
     "model_module": "@jupyter-widgets/controls",
     "model_module_version": "1.5.0",
     "model_name": "FloatProgressModel",
     "state": {
      "_dom_classes": [],
      "_model_module": "@jupyter-widgets/controls",
      "_model_module_version": "1.5.0",
      "_model_name": "FloatProgressModel",
      "_view_count": null,
      "_view_module": "@jupyter-widgets/controls",
      "_view_module_version": "1.5.0",
      "_view_name": "ProgressView",
      "bar_style": "success",
      "description": "",
      "description_tooltip": null,
      "layout": "IPY_MODEL_2badcb69d91f493aac73d54df3fdd581",
      "max": 159292,
      "min": 0,
      "orientation": "horizontal",
      "style": "IPY_MODEL_75ec18c47f8247d498648437b92eb44f",
      "value": 159292
     }
    },
    "1b14f0fb94304fbe8393fef87757a71c": {
     "model_module": "@jupyter-widgets/controls",
     "model_module_version": "1.5.0",
     "model_name": "DescriptionStyleModel",
     "state": {
      "_model_module": "@jupyter-widgets/controls",
      "_model_module_version": "1.5.0",
      "_model_name": "DescriptionStyleModel",
      "_view_count": null,
      "_view_module": "@jupyter-widgets/base",
      "_view_module_version": "1.2.0",
      "_view_name": "StyleView",
      "description_width": ""
     }
    },
    "1b155ee34351493db5d2b5730a4cd183": {
     "model_module": "@jupyter-widgets/controls",
     "model_module_version": "1.5.0",
     "model_name": "DescriptionStyleModel",
     "state": {
      "_model_module": "@jupyter-widgets/controls",
      "_model_module_version": "1.5.0",
      "_model_name": "DescriptionStyleModel",
      "_view_count": null,
      "_view_module": "@jupyter-widgets/base",
      "_view_module_version": "1.2.0",
      "_view_name": "StyleView",
      "description_width": ""
     }
    },
    "1c7da8e357cc41479ec3756f45fa1fa7": {
     "model_module": "@jupyter-widgets/controls",
     "model_module_version": "1.5.0",
     "model_name": "ProgressStyleModel",
     "state": {
      "_model_module": "@jupyter-widgets/controls",
      "_model_module_version": "1.5.0",
      "_model_name": "ProgressStyleModel",
      "_view_count": null,
      "_view_module": "@jupyter-widgets/base",
      "_view_module_version": "1.2.0",
      "_view_name": "StyleView",
      "bar_color": null,
      "description_width": ""
     }
    },
    "1ea554046d7f44c0ac259f3e5042f5bc": {
     "model_module": "@jupyter-widgets/controls",
     "model_module_version": "1.5.0",
     "model_name": "DescriptionStyleModel",
     "state": {
      "_model_module": "@jupyter-widgets/controls",
      "_model_module_version": "1.5.0",
      "_model_name": "DescriptionStyleModel",
      "_view_count": null,
      "_view_module": "@jupyter-widgets/base",
      "_view_module_version": "1.2.0",
      "_view_name": "StyleView",
      "description_width": ""
     }
    },
    "2035e1f634414c8eba16eb44291fa6c0": {
     "model_module": "@jupyter-widgets/controls",
     "model_module_version": "1.5.0",
     "model_name": "DescriptionStyleModel",
     "state": {
      "_model_module": "@jupyter-widgets/controls",
      "_model_module_version": "1.5.0",
      "_model_name": "DescriptionStyleModel",
      "_view_count": null,
      "_view_module": "@jupyter-widgets/base",
      "_view_module_version": "1.2.0",
      "_view_name": "StyleView",
      "description_width": ""
     }
    },
    "21564f70e1374ebcac39e59a51c7cfed": {
     "model_module": "@jupyter-widgets/base",
     "model_module_version": "1.2.0",
     "model_name": "LayoutModel",
     "state": {
      "_model_module": "@jupyter-widgets/base",
      "_model_module_version": "1.2.0",
      "_model_name": "LayoutModel",
      "_view_count": null,
      "_view_module": "@jupyter-widgets/base",
      "_view_module_version": "1.2.0",
      "_view_name": "LayoutView",
      "align_content": null,
      "align_items": null,
      "align_self": null,
      "border": null,
      "bottom": null,
      "display": null,
      "flex": null,
      "flex_flow": null,
      "grid_area": null,
      "grid_auto_columns": null,
      "grid_auto_flow": null,
      "grid_auto_rows": null,
      "grid_column": null,
      "grid_gap": null,
      "grid_row": null,
      "grid_template_areas": null,
      "grid_template_columns": null,
      "grid_template_rows": null,
      "height": null,
      "justify_content": null,
      "justify_items": null,
      "left": null,
      "margin": null,
      "max_height": null,
      "max_width": null,
      "min_height": null,
      "min_width": null,
      "object_fit": null,
      "object_position": null,
      "order": null,
      "overflow": null,
      "overflow_x": null,
      "overflow_y": null,
      "padding": null,
      "right": null,
      "top": null,
      "visibility": null,
      "width": null
     }
    },
    "27a18c28f3384f71875a703f63b5d432": {
     "model_module": "@jupyter-widgets/controls",
     "model_module_version": "1.5.0",
     "model_name": "ProgressStyleModel",
     "state": {
      "_model_module": "@jupyter-widgets/controls",
      "_model_module_version": "1.5.0",
      "_model_name": "ProgressStyleModel",
      "_view_count": null,
      "_view_module": "@jupyter-widgets/base",
      "_view_module_version": "1.2.0",
      "_view_name": "StyleView",
      "bar_color": null,
      "description_width": ""
     }
    },
    "2badcb69d91f493aac73d54df3fdd581": {
     "model_module": "@jupyter-widgets/base",
     "model_module_version": "1.2.0",
     "model_name": "LayoutModel",
     "state": {
      "_model_module": "@jupyter-widgets/base",
      "_model_module_version": "1.2.0",
      "_model_name": "LayoutModel",
      "_view_count": null,
      "_view_module": "@jupyter-widgets/base",
      "_view_module_version": "1.2.0",
      "_view_name": "LayoutView",
      "align_content": null,
      "align_items": null,
      "align_self": null,
      "border": null,
      "bottom": null,
      "display": null,
      "flex": null,
      "flex_flow": null,
      "grid_area": null,
      "grid_auto_columns": null,
      "grid_auto_flow": null,
      "grid_auto_rows": null,
      "grid_column": null,
      "grid_gap": null,
      "grid_row": null,
      "grid_template_areas": null,
      "grid_template_columns": null,
      "grid_template_rows": null,
      "height": null,
      "justify_content": null,
      "justify_items": null,
      "left": null,
      "margin": null,
      "max_height": null,
      "max_width": null,
      "min_height": null,
      "min_width": null,
      "object_fit": null,
      "object_position": null,
      "order": null,
      "overflow": null,
      "overflow_x": null,
      "overflow_y": null,
      "padding": null,
      "right": null,
      "top": null,
      "visibility": null,
      "width": null
     }
    },
    "31aae94e0a2d482fa1ff2446b331c801": {
     "model_module": "@jupyter-widgets/controls",
     "model_module_version": "1.5.0",
     "model_name": "HTMLModel",
     "state": {
      "_dom_classes": [],
      "_model_module": "@jupyter-widgets/controls",
      "_model_module_version": "1.5.0",
      "_model_name": "HTMLModel",
      "_view_count": null,
      "_view_module": "@jupyter-widgets/controls",
      "_view_module_version": "1.5.0",
      "_view_name": "HTMLView",
      "description": "",
      "description_tooltip": null,
      "layout": "IPY_MODEL_3704fe103ab1402cb27fdf831b253ef2",
      "placeholder": "​",
      "style": "IPY_MODEL_d30feeea39c947cc916277c376f1b817",
      "value": "tokenizer.json: 100%"
     }
    },
    "327ca0c9175f462ab534873ee63546ca": {
     "model_module": "@jupyter-widgets/base",
     "model_module_version": "1.2.0",
     "model_name": "LayoutModel",
     "state": {
      "_model_module": "@jupyter-widgets/base",
      "_model_module_version": "1.2.0",
      "_model_name": "LayoutModel",
      "_view_count": null,
      "_view_module": "@jupyter-widgets/base",
      "_view_module_version": "1.2.0",
      "_view_name": "LayoutView",
      "align_content": null,
      "align_items": null,
      "align_self": null,
      "border": null,
      "bottom": null,
      "display": null,
      "flex": null,
      "flex_flow": null,
      "grid_area": null,
      "grid_auto_columns": null,
      "grid_auto_flow": null,
      "grid_auto_rows": null,
      "grid_column": null,
      "grid_gap": null,
      "grid_row": null,
      "grid_template_areas": null,
      "grid_template_columns": null,
      "grid_template_rows": null,
      "height": null,
      "justify_content": null,
      "justify_items": null,
      "left": null,
      "margin": null,
      "max_height": null,
      "max_width": null,
      "min_height": null,
      "min_width": null,
      "object_fit": null,
      "object_position": null,
      "order": null,
      "overflow": null,
      "overflow_x": null,
      "overflow_y": null,
      "padding": null,
      "right": null,
      "top": null,
      "visibility": null,
      "width": null
     }
    },
    "35a30de4550f4deaba9c324fa104e708": {
     "model_module": "@jupyter-widgets/controls",
     "model_module_version": "1.5.0",
     "model_name": "HTMLModel",
     "state": {
      "_dom_classes": [],
      "_model_module": "@jupyter-widgets/controls",
      "_model_module_version": "1.5.0",
      "_model_name": "HTMLModel",
      "_view_count": null,
      "_view_module": "@jupyter-widgets/controls",
      "_view_module_version": "1.5.0",
      "_view_name": "HTMLView",
      "description": "",
      "description_tooltip": null,
      "layout": "IPY_MODEL_8a05e1f99dd44ac58cadbc62bc150a30",
      "placeholder": "​",
      "style": "IPY_MODEL_40f5b78b8822444cb65e674575b0851d",
      "value": " 159292/159292 [04:20&lt;00:00, 451.16it/s]"
     }
    },
    "36d59e7b58de44b5ba762bb0bb5aea65": {
     "model_module": "@jupyter-widgets/controls",
     "model_module_version": "1.5.0",
     "model_name": "FloatProgressModel",
     "state": {
      "_dom_classes": [],
      "_model_module": "@jupyter-widgets/controls",
      "_model_module_version": "1.5.0",
      "_model_name": "FloatProgressModel",
      "_view_count": null,
      "_view_module": "@jupyter-widgets/controls",
      "_view_module_version": "1.5.0",
      "_view_name": "ProgressView",
      "bar_style": "success",
      "description": "",
      "description_tooltip": null,
      "layout": "IPY_MODEL_94f7157faae241c6b3ef66fadf78ef09",
      "max": 466062,
      "min": 0,
      "orientation": "horizontal",
      "style": "IPY_MODEL_27a18c28f3384f71875a703f63b5d432",
      "value": 466062
     }
    },
    "3704fe103ab1402cb27fdf831b253ef2": {
     "model_module": "@jupyter-widgets/base",
     "model_module_version": "1.2.0",
     "model_name": "LayoutModel",
     "state": {
      "_model_module": "@jupyter-widgets/base",
      "_model_module_version": "1.2.0",
      "_model_name": "LayoutModel",
      "_view_count": null,
      "_view_module": "@jupyter-widgets/base",
      "_view_module_version": "1.2.0",
      "_view_name": "LayoutView",
      "align_content": null,
      "align_items": null,
      "align_self": null,
      "border": null,
      "bottom": null,
      "display": null,
      "flex": null,
      "flex_flow": null,
      "grid_area": null,
      "grid_auto_columns": null,
      "grid_auto_flow": null,
      "grid_auto_rows": null,
      "grid_column": null,
      "grid_gap": null,
      "grid_row": null,
      "grid_template_areas": null,
      "grid_template_columns": null,
      "grid_template_rows": null,
      "height": null,
      "justify_content": null,
      "justify_items": null,
      "left": null,
      "margin": null,
      "max_height": null,
      "max_width": null,
      "min_height": null,
      "min_width": null,
      "object_fit": null,
      "object_position": null,
      "order": null,
      "overflow": null,
      "overflow_x": null,
      "overflow_y": null,
      "padding": null,
      "right": null,
      "top": null,
      "visibility": null,
      "width": null
     }
    },
    "3c9c9821d2b7430e9f670eec2f8c6808": {
     "model_module": "@jupyter-widgets/controls",
     "model_module_version": "1.5.0",
     "model_name": "DescriptionStyleModel",
     "state": {
      "_model_module": "@jupyter-widgets/controls",
      "_model_module_version": "1.5.0",
      "_model_name": "DescriptionStyleModel",
      "_view_count": null,
      "_view_module": "@jupyter-widgets/base",
      "_view_module_version": "1.2.0",
      "_view_name": "StyleView",
      "description_width": ""
     }
    },
    "40f5b78b8822444cb65e674575b0851d": {
     "model_module": "@jupyter-widgets/controls",
     "model_module_version": "1.5.0",
     "model_name": "DescriptionStyleModel",
     "state": {
      "_model_module": "@jupyter-widgets/controls",
      "_model_module_version": "1.5.0",
      "_model_name": "DescriptionStyleModel",
      "_view_count": null,
      "_view_module": "@jupyter-widgets/base",
      "_view_module_version": "1.2.0",
      "_view_name": "StyleView",
      "description_width": ""
     }
    },
    "430d06129f96422d84b167dedf84c6ee": {
     "model_module": "@jupyter-widgets/base",
     "model_module_version": "1.2.0",
     "model_name": "LayoutModel",
     "state": {
      "_model_module": "@jupyter-widgets/base",
      "_model_module_version": "1.2.0",
      "_model_name": "LayoutModel",
      "_view_count": null,
      "_view_module": "@jupyter-widgets/base",
      "_view_module_version": "1.2.0",
      "_view_name": "LayoutView",
      "align_content": null,
      "align_items": null,
      "align_self": null,
      "border": null,
      "bottom": null,
      "display": null,
      "flex": null,
      "flex_flow": null,
      "grid_area": null,
      "grid_auto_columns": null,
      "grid_auto_flow": null,
      "grid_auto_rows": null,
      "grid_column": null,
      "grid_gap": null,
      "grid_row": null,
      "grid_template_areas": null,
      "grid_template_columns": null,
      "grid_template_rows": null,
      "height": null,
      "justify_content": null,
      "justify_items": null,
      "left": null,
      "margin": null,
      "max_height": null,
      "max_width": null,
      "min_height": null,
      "min_width": null,
      "object_fit": null,
      "object_position": null,
      "order": null,
      "overflow": null,
      "overflow_x": null,
      "overflow_y": null,
      "padding": null,
      "right": null,
      "top": null,
      "visibility": null,
      "width": null
     }
    },
    "4989701b38cb4d0883eb938a8a6fe47a": {
     "model_module": "@jupyter-widgets/controls",
     "model_module_version": "1.5.0",
     "model_name": "HTMLModel",
     "state": {
      "_dom_classes": [],
      "_model_module": "@jupyter-widgets/controls",
      "_model_module_version": "1.5.0",
      "_model_name": "HTMLModel",
      "_view_count": null,
      "_view_module": "@jupyter-widgets/controls",
      "_view_module_version": "1.5.0",
      "_view_name": "HTMLView",
      "description": "",
      "description_tooltip": null,
      "layout": "IPY_MODEL_8ae915ec04ee4bcab30d424daaa7e5db",
      "placeholder": "​",
      "style": "IPY_MODEL_1b14f0fb94304fbe8393fef87757a71c",
      "value": " 466k/466k [00:00&lt;00:00, 6.76MB/s]"
     }
    },
    "6231033c8e364249a652b0064190f153": {
     "model_module": "@jupyter-widgets/base",
     "model_module_version": "1.2.0",
     "model_name": "LayoutModel",
     "state": {
      "_model_module": "@jupyter-widgets/base",
      "_model_module_version": "1.2.0",
      "_model_name": "LayoutModel",
      "_view_count": null,
      "_view_module": "@jupyter-widgets/base",
      "_view_module_version": "1.2.0",
      "_view_name": "LayoutView",
      "align_content": null,
      "align_items": null,
      "align_self": null,
      "border": null,
      "bottom": null,
      "display": null,
      "flex": null,
      "flex_flow": null,
      "grid_area": null,
      "grid_auto_columns": null,
      "grid_auto_flow": null,
      "grid_auto_rows": null,
      "grid_column": null,
      "grid_gap": null,
      "grid_row": null,
      "grid_template_areas": null,
      "grid_template_columns": null,
      "grid_template_rows": null,
      "height": null,
      "justify_content": null,
      "justify_items": null,
      "left": null,
      "margin": null,
      "max_height": null,
      "max_width": null,
      "min_height": null,
      "min_width": null,
      "object_fit": null,
      "object_position": null,
      "order": null,
      "overflow": null,
      "overflow_x": null,
      "overflow_y": null,
      "padding": null,
      "right": null,
      "top": null,
      "visibility": null,
      "width": null
     }
    },
    "6788a7978a03400b80a10632a93f151f": {
     "model_module": "@jupyter-widgets/base",
     "model_module_version": "1.2.0",
     "model_name": "LayoutModel",
     "state": {
      "_model_module": "@jupyter-widgets/base",
      "_model_module_version": "1.2.0",
      "_model_name": "LayoutModel",
      "_view_count": null,
      "_view_module": "@jupyter-widgets/base",
      "_view_module_version": "1.2.0",
      "_view_name": "LayoutView",
      "align_content": null,
      "align_items": null,
      "align_self": null,
      "border": null,
      "bottom": null,
      "display": null,
      "flex": null,
      "flex_flow": null,
      "grid_area": null,
      "grid_auto_columns": null,
      "grid_auto_flow": null,
      "grid_auto_rows": null,
      "grid_column": null,
      "grid_gap": null,
      "grid_row": null,
      "grid_template_areas": null,
      "grid_template_columns": null,
      "grid_template_rows": null,
      "height": null,
      "justify_content": null,
      "justify_items": null,
      "left": null,
      "margin": null,
      "max_height": null,
      "max_width": null,
      "min_height": null,
      "min_width": null,
      "object_fit": null,
      "object_position": null,
      "order": null,
      "overflow": null,
      "overflow_x": null,
      "overflow_y": null,
      "padding": null,
      "right": null,
      "top": null,
      "visibility": null,
      "width": null
     }
    },
    "67956d0edb4048e58bf8bc37f6ec457c": {
     "model_module": "@jupyter-widgets/base",
     "model_module_version": "1.2.0",
     "model_name": "LayoutModel",
     "state": {
      "_model_module": "@jupyter-widgets/base",
      "_model_module_version": "1.2.0",
      "_model_name": "LayoutModel",
      "_view_count": null,
      "_view_module": "@jupyter-widgets/base",
      "_view_module_version": "1.2.0",
      "_view_name": "LayoutView",
      "align_content": null,
      "align_items": null,
      "align_self": null,
      "border": null,
      "bottom": null,
      "display": null,
      "flex": null,
      "flex_flow": null,
      "grid_area": null,
      "grid_auto_columns": null,
      "grid_auto_flow": null,
      "grid_auto_rows": null,
      "grid_column": null,
      "grid_gap": null,
      "grid_row": null,
      "grid_template_areas": null,
      "grid_template_columns": null,
      "grid_template_rows": null,
      "height": null,
      "justify_content": null,
      "justify_items": null,
      "left": null,
      "margin": null,
      "max_height": null,
      "max_width": null,
      "min_height": null,
      "min_width": null,
      "object_fit": null,
      "object_position": null,
      "order": null,
      "overflow": null,
      "overflow_x": null,
      "overflow_y": null,
      "padding": null,
      "right": null,
      "top": null,
      "visibility": null,
      "width": null
     }
    },
    "6fc433b362b04fd08f0c9bcc216d0e64": {
     "model_module": "@jupyter-widgets/base",
     "model_module_version": "1.2.0",
     "model_name": "LayoutModel",
     "state": {
      "_model_module": "@jupyter-widgets/base",
      "_model_module_version": "1.2.0",
      "_model_name": "LayoutModel",
      "_view_count": null,
      "_view_module": "@jupyter-widgets/base",
      "_view_module_version": "1.2.0",
      "_view_name": "LayoutView",
      "align_content": null,
      "align_items": null,
      "align_self": null,
      "border": null,
      "bottom": null,
      "display": null,
      "flex": null,
      "flex_flow": null,
      "grid_area": null,
      "grid_auto_columns": null,
      "grid_auto_flow": null,
      "grid_auto_rows": null,
      "grid_column": null,
      "grid_gap": null,
      "grid_row": null,
      "grid_template_areas": null,
      "grid_template_columns": null,
      "grid_template_rows": null,
      "height": null,
      "justify_content": null,
      "justify_items": null,
      "left": null,
      "margin": null,
      "max_height": null,
      "max_width": null,
      "min_height": null,
      "min_width": null,
      "object_fit": null,
      "object_position": null,
      "order": null,
      "overflow": null,
      "overflow_x": null,
      "overflow_y": null,
      "padding": null,
      "right": null,
      "top": null,
      "visibility": null,
      "width": null
     }
    },
    "719df426837341568d836099377c8f49": {
     "model_module": "@jupyter-widgets/controls",
     "model_module_version": "1.5.0",
     "model_name": "HTMLModel",
     "state": {
      "_dom_classes": [],
      "_model_module": "@jupyter-widgets/controls",
      "_model_module_version": "1.5.0",
      "_model_name": "HTMLModel",
      "_view_count": null,
      "_view_module": "@jupyter-widgets/controls",
      "_view_module_version": "1.5.0",
      "_view_name": "HTMLView",
      "description": "",
      "description_tooltip": null,
      "layout": "IPY_MODEL_6788a7978a03400b80a10632a93f151f",
      "placeholder": "​",
      "style": "IPY_MODEL_1ea554046d7f44c0ac259f3e5042f5bc",
      "value": " 232k/232k [00:00&lt;00:00, 1.77MB/s]"
     }
    },
    "74502b1d8a84492898b9d64782ef1183": {
     "model_module": "@jupyter-widgets/controls",
     "model_module_version": "1.5.0",
     "model_name": "HTMLModel",
     "state": {
      "_dom_classes": [],
      "_model_module": "@jupyter-widgets/controls",
      "_model_module_version": "1.5.0",
      "_model_name": "HTMLModel",
      "_view_count": null,
      "_view_module": "@jupyter-widgets/controls",
      "_view_module_version": "1.5.0",
      "_view_name": "HTMLView",
      "description": "",
      "description_tooltip": null,
      "layout": "IPY_MODEL_430d06129f96422d84b167dedf84c6ee",
      "placeholder": "​",
      "style": "IPY_MODEL_cbace48d578948939932978bd4a4a2ea",
      "value": "tokenizer_config.json: 100%"
     }
    },
    "7582961573bb46c28c1e5b8c23dff788": {
     "model_module": "@jupyter-widgets/controls",
     "model_module_version": "1.5.0",
     "model_name": "FloatProgressModel",
     "state": {
      "_dom_classes": [],
      "_model_module": "@jupyter-widgets/controls",
      "_model_module_version": "1.5.0",
      "_model_name": "FloatProgressModel",
      "_view_count": null,
      "_view_module": "@jupyter-widgets/controls",
      "_view_module_version": "1.5.0",
      "_view_name": "ProgressView",
      "bar_style": "success",
      "description": "",
      "description_tooltip": null,
      "layout": "IPY_MODEL_a542cf89babd4b55baeed2393acb4aee",
      "max": 570,
      "min": 0,
      "orientation": "horizontal",
      "style": "IPY_MODEL_1c7da8e357cc41479ec3756f45fa1fa7",
      "value": 570
     }
    },
    "75ec18c47f8247d498648437b92eb44f": {
     "model_module": "@jupyter-widgets/controls",
     "model_module_version": "1.5.0",
     "model_name": "ProgressStyleModel",
     "state": {
      "_model_module": "@jupyter-widgets/controls",
      "_model_module_version": "1.5.0",
      "_model_name": "ProgressStyleModel",
      "_view_count": null,
      "_view_module": "@jupyter-widgets/base",
      "_view_module_version": "1.2.0",
      "_view_name": "StyleView",
      "bar_color": null,
      "description_width": ""
     }
    },
    "774ba50a50dd423cbeb8c9200206f0f7": {
     "model_module": "@jupyter-widgets/base",
     "model_module_version": "1.2.0",
     "model_name": "LayoutModel",
     "state": {
      "_model_module": "@jupyter-widgets/base",
      "_model_module_version": "1.2.0",
      "_model_name": "LayoutModel",
      "_view_count": null,
      "_view_module": "@jupyter-widgets/base",
      "_view_module_version": "1.2.0",
      "_view_name": "LayoutView",
      "align_content": null,
      "align_items": null,
      "align_self": null,
      "border": null,
      "bottom": null,
      "display": null,
      "flex": null,
      "flex_flow": null,
      "grid_area": null,
      "grid_auto_columns": null,
      "grid_auto_flow": null,
      "grid_auto_rows": null,
      "grid_column": null,
      "grid_gap": null,
      "grid_row": null,
      "grid_template_areas": null,
      "grid_template_columns": null,
      "grid_template_rows": null,
      "height": null,
      "justify_content": null,
      "justify_items": null,
      "left": null,
      "margin": null,
      "max_height": null,
      "max_width": null,
      "min_height": null,
      "min_width": null,
      "object_fit": null,
      "object_position": null,
      "order": null,
      "overflow": null,
      "overflow_x": null,
      "overflow_y": null,
      "padding": null,
      "right": null,
      "top": null,
      "visibility": null,
      "width": null
     }
    },
    "7bcb5be7e55c427088617dd54e541818": {
     "model_module": "@jupyter-widgets/controls",
     "model_module_version": "1.5.0",
     "model_name": "ProgressStyleModel",
     "state": {
      "_model_module": "@jupyter-widgets/controls",
      "_model_module_version": "1.5.0",
      "_model_name": "ProgressStyleModel",
      "_view_count": null,
      "_view_module": "@jupyter-widgets/base",
      "_view_module_version": "1.2.0",
      "_view_name": "StyleView",
      "bar_color": null,
      "description_width": ""
     }
    },
    "83ef5390b5884824a135600d0e38b259": {
     "model_module": "@jupyter-widgets/controls",
     "model_module_version": "1.5.0",
     "model_name": "FloatProgressModel",
     "state": {
      "_dom_classes": [],
      "_model_module": "@jupyter-widgets/controls",
      "_model_module_version": "1.5.0",
      "_model_name": "FloatProgressModel",
      "_view_count": null,
      "_view_module": "@jupyter-widgets/controls",
      "_view_module_version": "1.5.0",
      "_view_name": "ProgressView",
      "bar_style": "success",
      "description": "",
      "description_tooltip": null,
      "layout": "IPY_MODEL_67956d0edb4048e58bf8bc37f6ec457c",
      "max": 231508,
      "min": 0,
      "orientation": "horizontal",
      "style": "IPY_MODEL_7bcb5be7e55c427088617dd54e541818",
      "value": 231508
     }
    },
    "8a05e1f99dd44ac58cadbc62bc150a30": {
     "model_module": "@jupyter-widgets/base",
     "model_module_version": "1.2.0",
     "model_name": "LayoutModel",
     "state": {
      "_model_module": "@jupyter-widgets/base",
      "_model_module_version": "1.2.0",
      "_model_name": "LayoutModel",
      "_view_count": null,
      "_view_module": "@jupyter-widgets/base",
      "_view_module_version": "1.2.0",
      "_view_name": "LayoutView",
      "align_content": null,
      "align_items": null,
      "align_self": null,
      "border": null,
      "bottom": null,
      "display": null,
      "flex": null,
      "flex_flow": null,
      "grid_area": null,
      "grid_auto_columns": null,
      "grid_auto_flow": null,
      "grid_auto_rows": null,
      "grid_column": null,
      "grid_gap": null,
      "grid_row": null,
      "grid_template_areas": null,
      "grid_template_columns": null,
      "grid_template_rows": null,
      "height": null,
      "justify_content": null,
      "justify_items": null,
      "left": null,
      "margin": null,
      "max_height": null,
      "max_width": null,
      "min_height": null,
      "min_width": null,
      "object_fit": null,
      "object_position": null,
      "order": null,
      "overflow": null,
      "overflow_x": null,
      "overflow_y": null,
      "padding": null,
      "right": null,
      "top": null,
      "visibility": null,
      "width": null
     }
    },
    "8ae915ec04ee4bcab30d424daaa7e5db": {
     "model_module": "@jupyter-widgets/base",
     "model_module_version": "1.2.0",
     "model_name": "LayoutModel",
     "state": {
      "_model_module": "@jupyter-widgets/base",
      "_model_module_version": "1.2.0",
      "_model_name": "LayoutModel",
      "_view_count": null,
      "_view_module": "@jupyter-widgets/base",
      "_view_module_version": "1.2.0",
      "_view_name": "LayoutView",
      "align_content": null,
      "align_items": null,
      "align_self": null,
      "border": null,
      "bottom": null,
      "display": null,
      "flex": null,
      "flex_flow": null,
      "grid_area": null,
      "grid_auto_columns": null,
      "grid_auto_flow": null,
      "grid_auto_rows": null,
      "grid_column": null,
      "grid_gap": null,
      "grid_row": null,
      "grid_template_areas": null,
      "grid_template_columns": null,
      "grid_template_rows": null,
      "height": null,
      "justify_content": null,
      "justify_items": null,
      "left": null,
      "margin": null,
      "max_height": null,
      "max_width": null,
      "min_height": null,
      "min_width": null,
      "object_fit": null,
      "object_position": null,
      "order": null,
      "overflow": null,
      "overflow_x": null,
      "overflow_y": null,
      "padding": null,
      "right": null,
      "top": null,
      "visibility": null,
      "width": null
     }
    },
    "8ed0bd5988904550a4db8dcd6c3c37b0": {
     "model_module": "@jupyter-widgets/controls",
     "model_module_version": "1.5.0",
     "model_name": "FloatProgressModel",
     "state": {
      "_dom_classes": [],
      "_model_module": "@jupyter-widgets/controls",
      "_model_module_version": "1.5.0",
      "_model_name": "FloatProgressModel",
      "_view_count": null,
      "_view_module": "@jupyter-widgets/controls",
      "_view_module_version": "1.5.0",
      "_view_name": "ProgressView",
      "bar_style": "success",
      "description": "",
      "description_tooltip": null,
      "layout": "IPY_MODEL_de39698efabd43c69d102e8d7f3f320a",
      "max": 48,
      "min": 0,
      "orientation": "horizontal",
      "style": "IPY_MODEL_e97d8f23542243f1969a608bf663b8c2",
      "value": 48
     }
    },
    "94f7157faae241c6b3ef66fadf78ef09": {
     "model_module": "@jupyter-widgets/base",
     "model_module_version": "1.2.0",
     "model_name": "LayoutModel",
     "state": {
      "_model_module": "@jupyter-widgets/base",
      "_model_module_version": "1.2.0",
      "_model_name": "LayoutModel",
      "_view_count": null,
      "_view_module": "@jupyter-widgets/base",
      "_view_module_version": "1.2.0",
      "_view_name": "LayoutView",
      "align_content": null,
      "align_items": null,
      "align_self": null,
      "border": null,
      "bottom": null,
      "display": null,
      "flex": null,
      "flex_flow": null,
      "grid_area": null,
      "grid_auto_columns": null,
      "grid_auto_flow": null,
      "grid_auto_rows": null,
      "grid_column": null,
      "grid_gap": null,
      "grid_row": null,
      "grid_template_areas": null,
      "grid_template_columns": null,
      "grid_template_rows": null,
      "height": null,
      "justify_content": null,
      "justify_items": null,
      "left": null,
      "margin": null,
      "max_height": null,
      "max_width": null,
      "min_height": null,
      "min_width": null,
      "object_fit": null,
      "object_position": null,
      "order": null,
      "overflow": null,
      "overflow_x": null,
      "overflow_y": null,
      "padding": null,
      "right": null,
      "top": null,
      "visibility": null,
      "width": null
     }
    },
    "9979a11bdd104bca8a4c460f61f50ac9": {
     "model_module": "@jupyter-widgets/base",
     "model_module_version": "1.2.0",
     "model_name": "LayoutModel",
     "state": {
      "_model_module": "@jupyter-widgets/base",
      "_model_module_version": "1.2.0",
      "_model_name": "LayoutModel",
      "_view_count": null,
      "_view_module": "@jupyter-widgets/base",
      "_view_module_version": "1.2.0",
      "_view_name": "LayoutView",
      "align_content": null,
      "align_items": null,
      "align_self": null,
      "border": null,
      "bottom": null,
      "display": null,
      "flex": null,
      "flex_flow": null,
      "grid_area": null,
      "grid_auto_columns": null,
      "grid_auto_flow": null,
      "grid_auto_rows": null,
      "grid_column": null,
      "grid_gap": null,
      "grid_row": null,
      "grid_template_areas": null,
      "grid_template_columns": null,
      "grid_template_rows": null,
      "height": null,
      "justify_content": null,
      "justify_items": null,
      "left": null,
      "margin": null,
      "max_height": null,
      "max_width": null,
      "min_height": null,
      "min_width": null,
      "object_fit": null,
      "object_position": null,
      "order": null,
      "overflow": null,
      "overflow_x": null,
      "overflow_y": null,
      "padding": null,
      "right": null,
      "top": null,
      "visibility": null,
      "width": null
     }
    },
    "9ba8ca3fcef847199df22ed612244c72": {
     "model_module": "@jupyter-widgets/controls",
     "model_module_version": "1.5.0",
     "model_name": "DescriptionStyleModel",
     "state": {
      "_model_module": "@jupyter-widgets/controls",
      "_model_module_version": "1.5.0",
      "_model_name": "DescriptionStyleModel",
      "_view_count": null,
      "_view_module": "@jupyter-widgets/base",
      "_view_module_version": "1.2.0",
      "_view_name": "StyleView",
      "description_width": ""
     }
    },
    "9fc72f649a024b20a9b104b7c1e3f7c2": {
     "model_module": "@jupyter-widgets/controls",
     "model_module_version": "1.5.0",
     "model_name": "HTMLModel",
     "state": {
      "_dom_classes": [],
      "_model_module": "@jupyter-widgets/controls",
      "_model_module_version": "1.5.0",
      "_model_name": "HTMLModel",
      "_view_count": null,
      "_view_module": "@jupyter-widgets/controls",
      "_view_module_version": "1.5.0",
      "_view_name": "HTMLView",
      "description": "",
      "description_tooltip": null,
      "layout": "IPY_MODEL_c0a17f6009714e478c3426fd0954a3d6",
      "placeholder": "​",
      "style": "IPY_MODEL_e9c0d547014c41a8a6c7c3c8f591ecfa",
      "value": " 48.0/48.0 [00:00&lt;00:00, 5.17kB/s]"
     }
    },
    "a542cf89babd4b55baeed2393acb4aee": {
     "model_module": "@jupyter-widgets/base",
     "model_module_version": "1.2.0",
     "model_name": "LayoutModel",
     "state": {
      "_model_module": "@jupyter-widgets/base",
      "_model_module_version": "1.2.0",
      "_model_name": "LayoutModel",
      "_view_count": null,
      "_view_module": "@jupyter-widgets/base",
      "_view_module_version": "1.2.0",
      "_view_name": "LayoutView",
      "align_content": null,
      "align_items": null,
      "align_self": null,
      "border": null,
      "bottom": null,
      "display": null,
      "flex": null,
      "flex_flow": null,
      "grid_area": null,
      "grid_auto_columns": null,
      "grid_auto_flow": null,
      "grid_auto_rows": null,
      "grid_column": null,
      "grid_gap": null,
      "grid_row": null,
      "grid_template_areas": null,
      "grid_template_columns": null,
      "grid_template_rows": null,
      "height": null,
      "justify_content": null,
      "justify_items": null,
      "left": null,
      "margin": null,
      "max_height": null,
      "max_width": null,
      "min_height": null,
      "min_width": null,
      "object_fit": null,
      "object_position": null,
      "order": null,
      "overflow": null,
      "overflow_x": null,
      "overflow_y": null,
      "padding": null,
      "right": null,
      "top": null,
      "visibility": null,
      "width": null
     }
    },
    "a952afe19d3946318ff9d6cdb988a7af": {
     "model_module": "@jupyter-widgets/base",
     "model_module_version": "1.2.0",
     "model_name": "LayoutModel",
     "state": {
      "_model_module": "@jupyter-widgets/base",
      "_model_module_version": "1.2.0",
      "_model_name": "LayoutModel",
      "_view_count": null,
      "_view_module": "@jupyter-widgets/base",
      "_view_module_version": "1.2.0",
      "_view_name": "LayoutView",
      "align_content": null,
      "align_items": null,
      "align_self": null,
      "border": null,
      "bottom": null,
      "display": null,
      "flex": null,
      "flex_flow": null,
      "grid_area": null,
      "grid_auto_columns": null,
      "grid_auto_flow": null,
      "grid_auto_rows": null,
      "grid_column": null,
      "grid_gap": null,
      "grid_row": null,
      "grid_template_areas": null,
      "grid_template_columns": null,
      "grid_template_rows": null,
      "height": null,
      "justify_content": null,
      "justify_items": null,
      "left": null,
      "margin": null,
      "max_height": null,
      "max_width": null,
      "min_height": null,
      "min_width": null,
      "object_fit": null,
      "object_position": null,
      "order": null,
      "overflow": null,
      "overflow_x": null,
      "overflow_y": null,
      "padding": null,
      "right": null,
      "top": null,
      "visibility": null,
      "width": null
     }
    },
    "ae5219e971e04e22af4dcd3d079e5c50": {
     "model_module": "@jupyter-widgets/controls",
     "model_module_version": "1.5.0",
     "model_name": "DescriptionStyleModel",
     "state": {
      "_model_module": "@jupyter-widgets/controls",
      "_model_module_version": "1.5.0",
      "_model_name": "DescriptionStyleModel",
      "_view_count": null,
      "_view_module": "@jupyter-widgets/base",
      "_view_module_version": "1.2.0",
      "_view_name": "StyleView",
      "description_width": ""
     }
    },
    "b186034ee5ae4e8d8429a684718af72a": {
     "model_module": "@jupyter-widgets/controls",
     "model_module_version": "1.5.0",
     "model_name": "HBoxModel",
     "state": {
      "_dom_classes": [],
      "_model_module": "@jupyter-widgets/controls",
      "_model_module_version": "1.5.0",
      "_model_name": "HBoxModel",
      "_view_count": null,
      "_view_module": "@jupyter-widgets/controls",
      "_view_module_version": "1.5.0",
      "_view_name": "HBoxView",
      "box_style": "",
      "children": [
       "IPY_MODEL_c7a1465c5d694682a03431c753fe39b6",
       "IPY_MODEL_16790b010cc742c89c0e7efc638a11ac",
       "IPY_MODEL_35a30de4550f4deaba9c324fa104e708"
      ],
      "layout": "IPY_MODEL_f252fb9755ce43a0bb2accdf0cc92640"
     }
    },
    "b3ddb5a49ea1474fa246ecdb54e1529b": {
     "model_module": "@jupyter-widgets/controls",
     "model_module_version": "1.5.0",
     "model_name": "HTMLModel",
     "state": {
      "_dom_classes": [],
      "_model_module": "@jupyter-widgets/controls",
      "_model_module_version": "1.5.0",
      "_model_name": "HTMLModel",
      "_view_count": null,
      "_view_module": "@jupyter-widgets/controls",
      "_view_module_version": "1.5.0",
      "_view_name": "HTMLView",
      "description": "",
      "description_tooltip": null,
      "layout": "IPY_MODEL_327ca0c9175f462ab534873ee63546ca",
      "placeholder": "​",
      "style": "IPY_MODEL_2035e1f634414c8eba16eb44291fa6c0",
      "value": " 570/570 [00:00&lt;00:00, 51.4kB/s]"
     }
    },
    "b9366bbe9e57488b89c8171945284361": {
     "model_module": "@jupyter-widgets/controls",
     "model_module_version": "1.5.0",
     "model_name": "ProgressStyleModel",
     "state": {
      "_model_module": "@jupyter-widgets/controls",
      "_model_module_version": "1.5.0",
      "_model_name": "ProgressStyleModel",
      "_view_count": null,
      "_view_module": "@jupyter-widgets/base",
      "_view_module_version": "1.2.0",
      "_view_name": "StyleView",
      "bar_color": null,
      "description_width": ""
     }
    },
    "b95ba55474bc4421bc4557108d9e6323": {
     "model_module": "@jupyter-widgets/base",
     "model_module_version": "1.2.0",
     "model_name": "LayoutModel",
     "state": {
      "_model_module": "@jupyter-widgets/base",
      "_model_module_version": "1.2.0",
      "_model_name": "LayoutModel",
      "_view_count": null,
      "_view_module": "@jupyter-widgets/base",
      "_view_module_version": "1.2.0",
      "_view_name": "LayoutView",
      "align_content": null,
      "align_items": null,
      "align_self": null,
      "border": null,
      "bottom": null,
      "display": null,
      "flex": null,
      "flex_flow": null,
      "grid_area": null,
      "grid_auto_columns": null,
      "grid_auto_flow": null,
      "grid_auto_rows": null,
      "grid_column": null,
      "grid_gap": null,
      "grid_row": null,
      "grid_template_areas": null,
      "grid_template_columns": null,
      "grid_template_rows": null,
      "height": null,
      "justify_content": null,
      "justify_items": null,
      "left": null,
      "margin": null,
      "max_height": null,
      "max_width": null,
      "min_height": null,
      "min_width": null,
      "object_fit": null,
      "object_position": null,
      "order": null,
      "overflow": null,
      "overflow_x": null,
      "overflow_y": null,
      "padding": null,
      "right": null,
      "top": null,
      "visibility": null,
      "width": null
     }
    },
    "ba6ae80a0eca40b0999b2f25d06868d0": {
     "model_module": "@jupyter-widgets/controls",
     "model_module_version": "1.5.0",
     "model_name": "HTMLModel",
     "state": {
      "_dom_classes": [],
      "_model_module": "@jupyter-widgets/controls",
      "_model_module_version": "1.5.0",
      "_model_name": "HTMLModel",
      "_view_count": null,
      "_view_module": "@jupyter-widgets/controls",
      "_view_module_version": "1.5.0",
      "_view_name": "HTMLView",
      "description": "",
      "description_tooltip": null,
      "layout": "IPY_MODEL_c2965560322048a9b8ea028186cfe2fa",
      "placeholder": "​",
      "style": "IPY_MODEL_9ba8ca3fcef847199df22ed612244c72",
      "value": "vocab.txt: 100%"
     }
    },
    "bc05065d1e6a4cd1a49eb648f2a1e982": {
     "model_module": "@jupyter-widgets/controls",
     "model_module_version": "1.5.0",
     "model_name": "HBoxModel",
     "state": {
      "_dom_classes": [],
      "_model_module": "@jupyter-widgets/controls",
      "_model_module_version": "1.5.0",
      "_model_name": "HBoxModel",
      "_view_count": null,
      "_view_module": "@jupyter-widgets/controls",
      "_view_module_version": "1.5.0",
      "_view_name": "HBoxView",
      "box_style": "",
      "children": [
       "IPY_MODEL_ba6ae80a0eca40b0999b2f25d06868d0",
       "IPY_MODEL_83ef5390b5884824a135600d0e38b259",
       "IPY_MODEL_719df426837341568d836099377c8f49"
      ],
      "layout": "IPY_MODEL_774ba50a50dd423cbeb8c9200206f0f7"
     }
    },
    "c0a17f6009714e478c3426fd0954a3d6": {
     "model_module": "@jupyter-widgets/base",
     "model_module_version": "1.2.0",
     "model_name": "LayoutModel",
     "state": {
      "_model_module": "@jupyter-widgets/base",
      "_model_module_version": "1.2.0",
      "_model_name": "LayoutModel",
      "_view_count": null,
      "_view_module": "@jupyter-widgets/base",
      "_view_module_version": "1.2.0",
      "_view_name": "LayoutView",
      "align_content": null,
      "align_items": null,
      "align_self": null,
      "border": null,
      "bottom": null,
      "display": null,
      "flex": null,
      "flex_flow": null,
      "grid_area": null,
      "grid_auto_columns": null,
      "grid_auto_flow": null,
      "grid_auto_rows": null,
      "grid_column": null,
      "grid_gap": null,
      "grid_row": null,
      "grid_template_areas": null,
      "grid_template_columns": null,
      "grid_template_rows": null,
      "height": null,
      "justify_content": null,
      "justify_items": null,
      "left": null,
      "margin": null,
      "max_height": null,
      "max_width": null,
      "min_height": null,
      "min_width": null,
      "object_fit": null,
      "object_position": null,
      "order": null,
      "overflow": null,
      "overflow_x": null,
      "overflow_y": null,
      "padding": null,
      "right": null,
      "top": null,
      "visibility": null,
      "width": null
     }
    },
    "c295c46d553a4fee9bc014eef8245222": {
     "model_module": "@jupyter-widgets/base",
     "model_module_version": "1.2.0",
     "model_name": "LayoutModel",
     "state": {
      "_model_module": "@jupyter-widgets/base",
      "_model_module_version": "1.2.0",
      "_model_name": "LayoutModel",
      "_view_count": null,
      "_view_module": "@jupyter-widgets/base",
      "_view_module_version": "1.2.0",
      "_view_name": "LayoutView",
      "align_content": null,
      "align_items": null,
      "align_self": null,
      "border": null,
      "bottom": null,
      "display": null,
      "flex": null,
      "flex_flow": null,
      "grid_area": null,
      "grid_auto_columns": null,
      "grid_auto_flow": null,
      "grid_auto_rows": null,
      "grid_column": null,
      "grid_gap": null,
      "grid_row": null,
      "grid_template_areas": null,
      "grid_template_columns": null,
      "grid_template_rows": null,
      "height": null,
      "justify_content": null,
      "justify_items": null,
      "left": null,
      "margin": null,
      "max_height": null,
      "max_width": null,
      "min_height": null,
      "min_width": null,
      "object_fit": null,
      "object_position": null,
      "order": null,
      "overflow": null,
      "overflow_x": null,
      "overflow_y": null,
      "padding": null,
      "right": null,
      "top": null,
      "visibility": null,
      "width": null
     }
    },
    "c2965560322048a9b8ea028186cfe2fa": {
     "model_module": "@jupyter-widgets/base",
     "model_module_version": "1.2.0",
     "model_name": "LayoutModel",
     "state": {
      "_model_module": "@jupyter-widgets/base",
      "_model_module_version": "1.2.0",
      "_model_name": "LayoutModel",
      "_view_count": null,
      "_view_module": "@jupyter-widgets/base",
      "_view_module_version": "1.2.0",
      "_view_name": "LayoutView",
      "align_content": null,
      "align_items": null,
      "align_self": null,
      "border": null,
      "bottom": null,
      "display": null,
      "flex": null,
      "flex_flow": null,
      "grid_area": null,
      "grid_auto_columns": null,
      "grid_auto_flow": null,
      "grid_auto_rows": null,
      "grid_column": null,
      "grid_gap": null,
      "grid_row": null,
      "grid_template_areas": null,
      "grid_template_columns": null,
      "grid_template_rows": null,
      "height": null,
      "justify_content": null,
      "justify_items": null,
      "left": null,
      "margin": null,
      "max_height": null,
      "max_width": null,
      "min_height": null,
      "min_width": null,
      "object_fit": null,
      "object_position": null,
      "order": null,
      "overflow": null,
      "overflow_x": null,
      "overflow_y": null,
      "padding": null,
      "right": null,
      "top": null,
      "visibility": null,
      "width": null
     }
    },
    "c378a1cfb94948f3b401d3bc35d471ed": {
     "model_module": "@jupyter-widgets/controls",
     "model_module_version": "1.5.0",
     "model_name": "HTMLModel",
     "state": {
      "_dom_classes": [],
      "_model_module": "@jupyter-widgets/controls",
      "_model_module_version": "1.5.0",
      "_model_name": "HTMLModel",
      "_view_count": null,
      "_view_module": "@jupyter-widgets/controls",
      "_view_module_version": "1.5.0",
      "_view_name": "HTMLView",
      "description": "",
      "description_tooltip": null,
      "layout": "IPY_MODEL_e3ab4518e8364596b38fd2ef5ffde477",
      "placeholder": "​",
      "style": "IPY_MODEL_028a06b4319249ea8bc823798f176f1d",
      "value": " 2178/159239 [00:01&lt;01:56, 1346.55it/s]"
     }
    },
    "c7a1465c5d694682a03431c753fe39b6": {
     "model_module": "@jupyter-widgets/controls",
     "model_module_version": "1.5.0",
     "model_name": "HTMLModel",
     "state": {
      "_dom_classes": [],
      "_model_module": "@jupyter-widgets/controls",
      "_model_module_version": "1.5.0",
      "_model_name": "HTMLModel",
      "_view_count": null,
      "_view_module": "@jupyter-widgets/controls",
      "_view_module_version": "1.5.0",
      "_view_name": "HTMLView",
      "description": "",
      "description_tooltip": null,
      "layout": "IPY_MODEL_9979a11bdd104bca8a4c460f61f50ac9",
      "placeholder": "​",
      "style": "IPY_MODEL_3c9c9821d2b7430e9f670eec2f8c6808",
      "value": "токенизация: 100%"
     }
    },
    "c8fc50e139524f6f91e07270175ea330": {
     "model_module": "@jupyter-widgets/controls",
     "model_module_version": "1.5.0",
     "model_name": "FloatProgressModel",
     "state": {
      "_dom_classes": [],
      "_model_module": "@jupyter-widgets/controls",
      "_model_module_version": "1.5.0",
      "_model_name": "FloatProgressModel",
      "_view_count": null,
      "_view_module": "@jupyter-widgets/controls",
      "_view_module_version": "1.5.0",
      "_view_name": "ProgressView",
      "bar_style": "",
      "description": "",
      "description_tooltip": null,
      "layout": "IPY_MODEL_a952afe19d3946318ff9d6cdb988a7af",
      "max": 159239,
      "min": 0,
      "orientation": "horizontal",
      "style": "IPY_MODEL_b9366bbe9e57488b89c8171945284361",
      "value": 2178
     }
    },
    "caeedece0f23448991d01edf70f8caa5": {
     "model_module": "@jupyter-widgets/controls",
     "model_module_version": "1.5.0",
     "model_name": "HBoxModel",
     "state": {
      "_dom_classes": [],
      "_model_module": "@jupyter-widgets/controls",
      "_model_module_version": "1.5.0",
      "_model_name": "HBoxModel",
      "_view_count": null,
      "_view_module": "@jupyter-widgets/controls",
      "_view_module_version": "1.5.0",
      "_view_name": "HBoxView",
      "box_style": "",
      "children": [
       "IPY_MODEL_74502b1d8a84492898b9d64782ef1183",
       "IPY_MODEL_8ed0bd5988904550a4db8dcd6c3c37b0",
       "IPY_MODEL_9fc72f649a024b20a9b104b7c1e3f7c2"
      ],
      "layout": "IPY_MODEL_6fc433b362b04fd08f0c9bcc216d0e64"
     }
    },
    "cbace48d578948939932978bd4a4a2ea": {
     "model_module": "@jupyter-widgets/controls",
     "model_module_version": "1.5.0",
     "model_name": "DescriptionStyleModel",
     "state": {
      "_model_module": "@jupyter-widgets/controls",
      "_model_module_version": "1.5.0",
      "_model_name": "DescriptionStyleModel",
      "_view_count": null,
      "_view_module": "@jupyter-widgets/base",
      "_view_module_version": "1.2.0",
      "_view_name": "StyleView",
      "description_width": ""
     }
    },
    "d30feeea39c947cc916277c376f1b817": {
     "model_module": "@jupyter-widgets/controls",
     "model_module_version": "1.5.0",
     "model_name": "DescriptionStyleModel",
     "state": {
      "_model_module": "@jupyter-widgets/controls",
      "_model_module_version": "1.5.0",
      "_model_name": "DescriptionStyleModel",
      "_view_count": null,
      "_view_module": "@jupyter-widgets/base",
      "_view_module_version": "1.2.0",
      "_view_name": "StyleView",
      "description_width": ""
     }
    },
    "d4e565a62b924f42b85a5240180fcfd5": {
     "model_module": "@jupyter-widgets/controls",
     "model_module_version": "1.5.0",
     "model_name": "HBoxModel",
     "state": {
      "_dom_classes": [],
      "_model_module": "@jupyter-widgets/controls",
      "_model_module_version": "1.5.0",
      "_model_name": "HBoxModel",
      "_view_count": null,
      "_view_module": "@jupyter-widgets/controls",
      "_view_module_version": "1.5.0",
      "_view_name": "HBoxView",
      "box_style": "",
      "children": [
       "IPY_MODEL_31aae94e0a2d482fa1ff2446b331c801",
       "IPY_MODEL_36d59e7b58de44b5ba762bb0bb5aea65",
       "IPY_MODEL_4989701b38cb4d0883eb938a8a6fe47a"
      ],
      "layout": "IPY_MODEL_6231033c8e364249a652b0064190f153"
     }
    },
    "d5b5daf1f34f47ad8510606e8128b227": {
     "model_module": "@jupyter-widgets/controls",
     "model_module_version": "1.5.0",
     "model_name": "HTMLModel",
     "state": {
      "_dom_classes": [],
      "_model_module": "@jupyter-widgets/controls",
      "_model_module_version": "1.5.0",
      "_model_name": "HTMLModel",
      "_view_count": null,
      "_view_module": "@jupyter-widgets/controls",
      "_view_module_version": "1.5.0",
      "_view_name": "HTMLView",
      "description": "",
      "description_tooltip": null,
      "layout": "IPY_MODEL_dd7774df228d459aae31593bb03293f1",
      "placeholder": "​",
      "style": "IPY_MODEL_1b155ee34351493db5d2b5730a4cd183",
      "value": "config.json: 100%"
     }
    },
    "dcd0aa4edc5b4fb3be36b724ca15b3dc": {
     "model_module": "@jupyter-widgets/controls",
     "model_module_version": "1.5.0",
     "model_name": "HTMLModel",
     "state": {
      "_dom_classes": [],
      "_model_module": "@jupyter-widgets/controls",
      "_model_module_version": "1.5.0",
      "_model_name": "HTMLModel",
      "_view_count": null,
      "_view_module": "@jupyter-widgets/controls",
      "_view_module_version": "1.5.0",
      "_view_name": "HTMLView",
      "description": "",
      "description_tooltip": null,
      "layout": "IPY_MODEL_c295c46d553a4fee9bc014eef8245222",
      "placeholder": "​",
      "style": "IPY_MODEL_ae5219e971e04e22af4dcd3d079e5c50",
      "value": "токенизация:   1%"
     }
    },
    "dd7774df228d459aae31593bb03293f1": {
     "model_module": "@jupyter-widgets/base",
     "model_module_version": "1.2.0",
     "model_name": "LayoutModel",
     "state": {
      "_model_module": "@jupyter-widgets/base",
      "_model_module_version": "1.2.0",
      "_model_name": "LayoutModel",
      "_view_count": null,
      "_view_module": "@jupyter-widgets/base",
      "_view_module_version": "1.2.0",
      "_view_name": "LayoutView",
      "align_content": null,
      "align_items": null,
      "align_self": null,
      "border": null,
      "bottom": null,
      "display": null,
      "flex": null,
      "flex_flow": null,
      "grid_area": null,
      "grid_auto_columns": null,
      "grid_auto_flow": null,
      "grid_auto_rows": null,
      "grid_column": null,
      "grid_gap": null,
      "grid_row": null,
      "grid_template_areas": null,
      "grid_template_columns": null,
      "grid_template_rows": null,
      "height": null,
      "justify_content": null,
      "justify_items": null,
      "left": null,
      "margin": null,
      "max_height": null,
      "max_width": null,
      "min_height": null,
      "min_width": null,
      "object_fit": null,
      "object_position": null,
      "order": null,
      "overflow": null,
      "overflow_x": null,
      "overflow_y": null,
      "padding": null,
      "right": null,
      "top": null,
      "visibility": null,
      "width": null
     }
    },
    "de39698efabd43c69d102e8d7f3f320a": {
     "model_module": "@jupyter-widgets/base",
     "model_module_version": "1.2.0",
     "model_name": "LayoutModel",
     "state": {
      "_model_module": "@jupyter-widgets/base",
      "_model_module_version": "1.2.0",
      "_model_name": "LayoutModel",
      "_view_count": null,
      "_view_module": "@jupyter-widgets/base",
      "_view_module_version": "1.2.0",
      "_view_name": "LayoutView",
      "align_content": null,
      "align_items": null,
      "align_self": null,
      "border": null,
      "bottom": null,
      "display": null,
      "flex": null,
      "flex_flow": null,
      "grid_area": null,
      "grid_auto_columns": null,
      "grid_auto_flow": null,
      "grid_auto_rows": null,
      "grid_column": null,
      "grid_gap": null,
      "grid_row": null,
      "grid_template_areas": null,
      "grid_template_columns": null,
      "grid_template_rows": null,
      "height": null,
      "justify_content": null,
      "justify_items": null,
      "left": null,
      "margin": null,
      "max_height": null,
      "max_width": null,
      "min_height": null,
      "min_width": null,
      "object_fit": null,
      "object_position": null,
      "order": null,
      "overflow": null,
      "overflow_x": null,
      "overflow_y": null,
      "padding": null,
      "right": null,
      "top": null,
      "visibility": null,
      "width": null
     }
    },
    "e3ab4518e8364596b38fd2ef5ffde477": {
     "model_module": "@jupyter-widgets/base",
     "model_module_version": "1.2.0",
     "model_name": "LayoutModel",
     "state": {
      "_model_module": "@jupyter-widgets/base",
      "_model_module_version": "1.2.0",
      "_model_name": "LayoutModel",
      "_view_count": null,
      "_view_module": "@jupyter-widgets/base",
      "_view_module_version": "1.2.0",
      "_view_name": "LayoutView",
      "align_content": null,
      "align_items": null,
      "align_self": null,
      "border": null,
      "bottom": null,
      "display": null,
      "flex": null,
      "flex_flow": null,
      "grid_area": null,
      "grid_auto_columns": null,
      "grid_auto_flow": null,
      "grid_auto_rows": null,
      "grid_column": null,
      "grid_gap": null,
      "grid_row": null,
      "grid_template_areas": null,
      "grid_template_columns": null,
      "grid_template_rows": null,
      "height": null,
      "justify_content": null,
      "justify_items": null,
      "left": null,
      "margin": null,
      "max_height": null,
      "max_width": null,
      "min_height": null,
      "min_width": null,
      "object_fit": null,
      "object_position": null,
      "order": null,
      "overflow": null,
      "overflow_x": null,
      "overflow_y": null,
      "padding": null,
      "right": null,
      "top": null,
      "visibility": null,
      "width": null
     }
    },
    "e77f3b6f86b24d33b63dff13e8f83b75": {
     "model_module": "@jupyter-widgets/controls",
     "model_module_version": "1.5.0",
     "model_name": "HBoxModel",
     "state": {
      "_dom_classes": [],
      "_model_module": "@jupyter-widgets/controls",
      "_model_module_version": "1.5.0",
      "_model_name": "HBoxModel",
      "_view_count": null,
      "_view_module": "@jupyter-widgets/controls",
      "_view_module_version": "1.5.0",
      "_view_name": "HBoxView",
      "box_style": "",
      "children": [
       "IPY_MODEL_dcd0aa4edc5b4fb3be36b724ca15b3dc",
       "IPY_MODEL_c8fc50e139524f6f91e07270175ea330",
       "IPY_MODEL_c378a1cfb94948f3b401d3bc35d471ed"
      ],
      "layout": "IPY_MODEL_21564f70e1374ebcac39e59a51c7cfed"
     }
    },
    "e97d8f23542243f1969a608bf663b8c2": {
     "model_module": "@jupyter-widgets/controls",
     "model_module_version": "1.5.0",
     "model_name": "ProgressStyleModel",
     "state": {
      "_model_module": "@jupyter-widgets/controls",
      "_model_module_version": "1.5.0",
      "_model_name": "ProgressStyleModel",
      "_view_count": null,
      "_view_module": "@jupyter-widgets/base",
      "_view_module_version": "1.2.0",
      "_view_name": "StyleView",
      "bar_color": null,
      "description_width": ""
     }
    },
    "e9c0d547014c41a8a6c7c3c8f591ecfa": {
     "model_module": "@jupyter-widgets/controls",
     "model_module_version": "1.5.0",
     "model_name": "DescriptionStyleModel",
     "state": {
      "_model_module": "@jupyter-widgets/controls",
      "_model_module_version": "1.5.0",
      "_model_name": "DescriptionStyleModel",
      "_view_count": null,
      "_view_module": "@jupyter-widgets/base",
      "_view_module_version": "1.2.0",
      "_view_name": "StyleView",
      "description_width": ""
     }
    },
    "f252fb9755ce43a0bb2accdf0cc92640": {
     "model_module": "@jupyter-widgets/base",
     "model_module_version": "1.2.0",
     "model_name": "LayoutModel",
     "state": {
      "_model_module": "@jupyter-widgets/base",
      "_model_module_version": "1.2.0",
      "_model_name": "LayoutModel",
      "_view_count": null,
      "_view_module": "@jupyter-widgets/base",
      "_view_module_version": "1.2.0",
      "_view_name": "LayoutView",
      "align_content": null,
      "align_items": null,
      "align_self": null,
      "border": null,
      "bottom": null,
      "display": null,
      "flex": null,
      "flex_flow": null,
      "grid_area": null,
      "grid_auto_columns": null,
      "grid_auto_flow": null,
      "grid_auto_rows": null,
      "grid_column": null,
      "grid_gap": null,
      "grid_row": null,
      "grid_template_areas": null,
      "grid_template_columns": null,
      "grid_template_rows": null,
      "height": null,
      "justify_content": null,
      "justify_items": null,
      "left": null,
      "margin": null,
      "max_height": null,
      "max_width": null,
      "min_height": null,
      "min_width": null,
      "object_fit": null,
      "object_position": null,
      "order": null,
      "overflow": null,
      "overflow_x": null,
      "overflow_y": null,
      "padding": null,
      "right": null,
      "top": null,
      "visibility": null,
      "width": null
     }
    }
   }
  }
 },
 "nbformat": 4,
 "nbformat_minor": 4
}
