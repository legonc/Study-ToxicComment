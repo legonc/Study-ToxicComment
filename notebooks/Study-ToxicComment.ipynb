{
 "nbformat_minor": 5,
 "metadata": {
  "kernelspec": {
   "display_name": "Python 3",
   "language": "python",
   "name": "python3"
  },
  "language_info": {
   "name": "python",
   "version": "3.11.9"
  }
 },
 "cells": [
  {
   "metadata": {},
   "cell_type": "markdown",
   "source": "# Классификация токсичных комментариев с использованием BERT",
   "id": "196151a6130d2eb7"
  },
  {
   "metadata": {},
   "cell_type": "markdown",
   "source": "## Импорты",
   "id": "58baf2a76de748bf"
  },
  {
   "metadata": {
    "ExecuteTime": {
     "end_time": "2025-09-07T15:36:10.929024Z",
     "start_time": "2025-09-07T15:36:10.026452Z"
    }
   },
   "cell_type": "code",
   "source": [
    "%matplotlib inline\n",
    "\n",
    "# стандартные библиотеки\n",
    "import numpy as np\n",
    "import pandas as pd\n",
    "\n",
    "# библиотеки для визуализации\n",
    "import matplotlib.pyplot as plt\n",
    "import seaborn as sns\n",
    "\n",
    "# модели машинного обучения\n",
    "from sklearn.linear_model import LinearRegression\n",
    "\n",
    "# токенизация\n",
    "from transformers import BertTokenizer\n",
    "# воспроизводимость\n",
    "import torch\n",
    "np.random.seed(42)\n",
    "torch.manual_seed(42)\n",
    "\n",
    "\n",
    "from collections import Counter\n",
    "from tqdm import tqdm\n",
    "from sklearn.feature_extraction.text import CountVectorizer\n",
    "from nltk.corpus import stopwords\n",
    "import re\n",
    "\n",
    "\n",
    "# константы\n",
    "RANDOM_STATE = 42\n",
    "TEST_SIZE = 0.2"
   ],
   "id": "14266bf32451fbff",
   "outputs": [],
   "execution_count": 71
  },
  {
   "metadata": {},
   "cell_type": "markdown",
   "source": "## Загрузка и осмотр данных",
   "id": "90adca95f693d290"
  },
  {
   "metadata": {
    "ExecuteTime": {
     "end_time": "2025-09-07T15:11:46.319843Z",
     "start_time": "2025-09-07T15:11:19.544101Z"
    }
   },
   "cell_type": "code",
   "source": [
    "try:\n",
    "    df = pd.read_csv('/datasets/toxic_comments.csv')\n",
    "except:\n",
    "    df = pd.read_csv('https://code.s3.yandex.net/datasets/toxic_comments.csv')"
   ],
   "id": "9504710dc4eb9013",
   "outputs": [],
   "execution_count": 47
  },
  {
   "metadata": {
    "ExecuteTime": {
     "end_time": "2025-09-07T15:11:46.778786Z",
     "start_time": "2025-09-07T15:11:46.352521Z"
    }
   },
   "cell_type": "code",
   "source": [
    "def check_df(df):\n",
    "    print(\"\\nИнформация о датасете:\")\n",
    "    display(df.info())\n",
    "    print(\"Первые 5 строк датасета:\")\n",
    "    display(df.head())\n",
    "    print(\"Статистики датасета:\")\n",
    "    display(df.describe())\n",
    "    print(\"\\nПропуски в данных:\")\n",
    "    print(df.isnull().sum())\n",
    "    print(\"\\nКоличество дубликатов:\")\n",
    "    print(df.duplicated().sum())\n",
    "\n",
    "    df.hist(figsize=(8,5), color='skyblue')\n",
    "    plt.xticks(rotation=45, fontsize=10)\n",
    "    plt.yticks(rotation=45, fontsize=10)\n",
    "    plt.tight_layout()\n",
    "    plt.show()\n",
    "\n",
    "    print()\n",
    "\n",
    "check_df(df)"
   ],
   "id": "f7bacaaec99cf6e3",
   "outputs": [
    {
     "name": "stdout",
     "output_type": "stream",
     "text": [
      "\n",
      "Информация о датасете:\n",
      "<class 'pandas.core.frame.DataFrame'>\n",
      "RangeIndex: 159292 entries, 0 to 159291\n",
      "Data columns (total 3 columns):\n",
      " #   Column      Non-Null Count   Dtype \n",
      "---  ------      --------------   ----- \n",
      " 0   Unnamed: 0  159292 non-null  int64 \n",
      " 1   text        159292 non-null  object\n",
      " 2   toxic       159292 non-null  int64 \n",
      "dtypes: int64(2), object(1)\n",
      "memory usage: 3.6+ MB\n"
     ]
    },
    {
     "data": {
      "text/plain": [
       "None"
      ]
     },
     "metadata": {},
     "output_type": "display_data",
     "jetTransient": {
      "display_id": null
     }
    },
    {
     "name": "stdout",
     "output_type": "stream",
     "text": [
      "Первые 5 строк датасета:\n"
     ]
    },
    {
     "data": {
      "text/plain": [
       "   Unnamed: 0                                               text  toxic\n",
       "0           0  Explanation\\nWhy the edits made under my usern...      0\n",
       "1           1  D'aww! He matches this background colour I'm s...      0\n",
       "2           2  Hey man, I'm really not trying to edit war. It...      0\n",
       "3           3  \"\\nMore\\nI can't make any real suggestions on ...      0\n",
       "4           4  You, sir, are my hero. Any chance you remember...      0"
      ],
      "text/html": [
       "<div>\n",
       "<style scoped>\n",
       "    .dataframe tbody tr th:only-of-type {\n",
       "        vertical-align: middle;\n",
       "    }\n",
       "\n",
       "    .dataframe tbody tr th {\n",
       "        vertical-align: top;\n",
       "    }\n",
       "\n",
       "    .dataframe thead th {\n",
       "        text-align: right;\n",
       "    }\n",
       "</style>\n",
       "<table border=\"1\" class=\"dataframe\">\n",
       "  <thead>\n",
       "    <tr style=\"text-align: right;\">\n",
       "      <th></th>\n",
       "      <th>Unnamed: 0</th>\n",
       "      <th>text</th>\n",
       "      <th>toxic</th>\n",
       "    </tr>\n",
       "  </thead>\n",
       "  <tbody>\n",
       "    <tr>\n",
       "      <th>0</th>\n",
       "      <td>0</td>\n",
       "      <td>Explanation\\nWhy the edits made under my usern...</td>\n",
       "      <td>0</td>\n",
       "    </tr>\n",
       "    <tr>\n",
       "      <th>1</th>\n",
       "      <td>1</td>\n",
       "      <td>D'aww! He matches this background colour I'm s...</td>\n",
       "      <td>0</td>\n",
       "    </tr>\n",
       "    <tr>\n",
       "      <th>2</th>\n",
       "      <td>2</td>\n",
       "      <td>Hey man, I'm really not trying to edit war. It...</td>\n",
       "      <td>0</td>\n",
       "    </tr>\n",
       "    <tr>\n",
       "      <th>3</th>\n",
       "      <td>3</td>\n",
       "      <td>\"\\nMore\\nI can't make any real suggestions on ...</td>\n",
       "      <td>0</td>\n",
       "    </tr>\n",
       "    <tr>\n",
       "      <th>4</th>\n",
       "      <td>4</td>\n",
       "      <td>You, sir, are my hero. Any chance you remember...</td>\n",
       "      <td>0</td>\n",
       "    </tr>\n",
       "  </tbody>\n",
       "</table>\n",
       "</div>"
      ]
     },
     "metadata": {},
     "output_type": "display_data",
     "jetTransient": {
      "display_id": null
     }
    },
    {
     "name": "stdout",
     "output_type": "stream",
     "text": [
      "Статистики датасета:\n"
     ]
    },
    {
     "data": {
      "text/plain": [
       "          Unnamed: 0          toxic\n",
       "count  159292.000000  159292.000000\n",
       "mean    79725.697242       0.101612\n",
       "std     46028.837471       0.302139\n",
       "min         0.000000       0.000000\n",
       "25%     39872.750000       0.000000\n",
       "50%     79721.500000       0.000000\n",
       "75%    119573.250000       0.000000\n",
       "max    159450.000000       1.000000"
      ],
      "text/html": [
       "<div>\n",
       "<style scoped>\n",
       "    .dataframe tbody tr th:only-of-type {\n",
       "        vertical-align: middle;\n",
       "    }\n",
       "\n",
       "    .dataframe tbody tr th {\n",
       "        vertical-align: top;\n",
       "    }\n",
       "\n",
       "    .dataframe thead th {\n",
       "        text-align: right;\n",
       "    }\n",
       "</style>\n",
       "<table border=\"1\" class=\"dataframe\">\n",
       "  <thead>\n",
       "    <tr style=\"text-align: right;\">\n",
       "      <th></th>\n",
       "      <th>Unnamed: 0</th>\n",
       "      <th>toxic</th>\n",
       "    </tr>\n",
       "  </thead>\n",
       "  <tbody>\n",
       "    <tr>\n",
       "      <th>count</th>\n",
       "      <td>159292.000000</td>\n",
       "      <td>159292.000000</td>\n",
       "    </tr>\n",
       "    <tr>\n",
       "      <th>mean</th>\n",
       "      <td>79725.697242</td>\n",
       "      <td>0.101612</td>\n",
       "    </tr>\n",
       "    <tr>\n",
       "      <th>std</th>\n",
       "      <td>46028.837471</td>\n",
       "      <td>0.302139</td>\n",
       "    </tr>\n",
       "    <tr>\n",
       "      <th>min</th>\n",
       "      <td>0.000000</td>\n",
       "      <td>0.000000</td>\n",
       "    </tr>\n",
       "    <tr>\n",
       "      <th>25%</th>\n",
       "      <td>39872.750000</td>\n",
       "      <td>0.000000</td>\n",
       "    </tr>\n",
       "    <tr>\n",
       "      <th>50%</th>\n",
       "      <td>79721.500000</td>\n",
       "      <td>0.000000</td>\n",
       "    </tr>\n",
       "    <tr>\n",
       "      <th>75%</th>\n",
       "      <td>119573.250000</td>\n",
       "      <td>0.000000</td>\n",
       "    </tr>\n",
       "    <tr>\n",
       "      <th>max</th>\n",
       "      <td>159450.000000</td>\n",
       "      <td>1.000000</td>\n",
       "    </tr>\n",
       "  </tbody>\n",
       "</table>\n",
       "</div>"
      ]
     },
     "metadata": {},
     "output_type": "display_data",
     "jetTransient": {
      "display_id": null
     }
    },
    {
     "name": "stdout",
     "output_type": "stream",
     "text": [
      "\n",
      "Пропуски в данных:\n",
      "Unnamed: 0    0\n",
      "text          0\n",
      "toxic         0\n",
      "dtype: int64\n",
      "\n",
      "Количество дубликатов:\n",
      "0\n"
     ]
    },
    {
     "data": {
      "text/plain": [
       "<Figure size 800x500 with 2 Axes>"
      ],
      "image/png": "[encoded data removed]"
     },
     "metadata": {},
     "output_type": "display_data",
     "jetTransient": {
      "display_id": null
     }
    },
    {
     "name": "stdout",
     "output_type": "stream",
     "text": [
      "\n"
     ]
    }
   ],
   "execution_count": 48
  },
  {
   "metadata": {
    "ExecuteTime": {
     "end_time": "2025-09-07T15:11:46.859787Z",
     "start_time": "2025-09-07T15:11:46.809231Z"
    }
   },
   "cell_type": "code",
   "source": [
    "# анализ длины текстов\n",
    "df['text_length'] = df['text'].apply(len)\n",
    "print(\"\\nСтатистика длины текстов:\")\n",
    "print(df['text_length'].describe())"
   ],
   "id": "b6c4ee1c187b088c",
   "outputs": [
    {
     "name": "stdout",
     "output_type": "stream",
     "text": [
      "\n",
      "Статистика длины текстов:\n",
      "count    159292.000000\n",
      "mean        393.691303\n",
      "std         590.111825\n",
      "min           5.000000\n",
      "25%          95.000000\n",
      "50%         205.000000\n",
      "75%         435.000000\n",
      "max        5000.000000\n",
      "Name: text_length, dtype: float64\n"
     ]
    }
   ],
   "execution_count": 49
  },
  {
   "metadata": {
    "ExecuteTime": {
     "end_time": "2025-09-07T15:11:47.086491Z",
     "start_time": "2025-09-07T15:11:46.892646Z"
    }
   },
   "cell_type": "code",
   "source": [
    "# визуализация распределения длины текстов\n",
    "plt.figure(figsize=(10, 4))\n",
    "sns.histplot(df['text_length'], bins=70, color='skyblue')\n",
    "plt.title('Распределение длины текстов комментариев')\n",
    "plt.xlabel('Длина текста (символы)')\n",
    "plt.ylabel('Количество')\n",
    "plt.show()"
   ],
   "id": "e0da92e26f6f8ff8",
   "outputs": [
    {
     "data": {
      "text/plain": [
       "<Figure size 1000x400 with 1 Axes>"
      ],
      "image/png": "[encoded data removed]"
     },
     "metadata": {},
     "output_type": "display_data",
     "jetTransient": {
      "display_id": null
     }
    }
   ],
   "execution_count": 50
  },
  {
   "metadata": {},
   "cell_type": "markdown",
   "source": [
    "**Выводы по загрузке и анализу данных**\n",
    "- Датасет содержит 159292 строки, столбцы: `text`, `toxic`.\n",
    "- Столбец `Unnamed: 0` удалю как избыточный.\n",
    "- Пропуски и дубликаты отсутствуют.\n",
    "- Распределение классов: ~90% нетоксичных, ~10% токсичных (дисбаланс).\n",
    "- Для просмотра длины текста был создан столбец `text_length`.\n",
    "- Длина текстов: средняя ~393 символа, медиана ~205, максимум 5000 (явно выброс, нужно проверить) (BERT принимает до 512 токенов, нужно будет что-то делать с длинными текстами).\n",
    "- **Следующий шаг**: Исследовательский анализ данных"
   ],
   "id": "514006b120334c03"
  },
  {
   "metadata": {
    "ExecuteTime": {
     "end_time": "2025-09-07T14:28:11.302487Z",
     "start_time": "2025-09-07T14:28:11.300243Z"
    }
   },
   "cell_type": "markdown",
   "source": "## EDA + предобработка",
   "id": "2c1b21aa0a3654cb"
  },
  {
   "metadata": {},
   "cell_type": "markdown",
   "source": "Для начала удалю избыточный столбец",
   "id": "bc53b14193e7bb5b"
  },
  {
   "metadata": {
    "ExecuteTime": {
     "end_time": "2025-09-07T15:11:47.107445Z",
     "start_time": "2025-09-07T15:11:47.096015Z"
    }
   },
   "cell_type": "code",
   "source": [
    "df = df.drop(columns=['Unnamed: 0'])\n",
    "df.shape, df.columns"
   ],
   "id": "25fec340cbefabbd",
   "outputs": [
    {
     "data": {
      "text/plain": [
       "((159292, 3), Index(['text', 'toxic', 'text_length'], dtype='object'))"
      ]
     },
     "execution_count": 51,
     "metadata": {},
     "output_type": "execute_result"
    }
   ],
   "execution_count": 51
  },
  {
   "metadata": {
    "ExecuteTime": {
     "end_time": "2025-09-07T15:11:47.127614Z",
     "start_time": "2025-09-07T15:11:47.120653Z"
    }
   },
   "cell_type": "code",
   "source": [
    "# повторно проверим распределение классов\n",
    "df['toxic'].value_counts(normalize=True)"
   ],
   "id": "7860831fed2897c6",
   "outputs": [
    {
     "data": {
      "text/plain": [
       "toxic\n",
       "0    0.898388\n",
       "1    0.101612\n",
       "Name: proportion, dtype: float64"
      ]
     },
     "execution_count": 52,
     "metadata": {},
     "output_type": "execute_result"
    }
   ],
   "execution_count": 52
  },
  {
   "metadata": {},
   "cell_type": "markdown",
   "source": "### Анализ длины текстов",
   "id": "bdf88682f045f794"
  },
  {
   "metadata": {
    "ExecuteTime": {
     "end_time": "2025-09-07T15:11:47.191177Z",
     "start_time": "2025-09-07T15:11:47.179938Z"
    }
   },
   "cell_type": "code",
   "source": "df['text_length'].describe()",
   "id": "743293da832457f7",
   "outputs": [
    {
     "data": {
      "text/plain": [
       "count    159292.000000\n",
       "mean        393.691303\n",
       "std         590.111825\n",
       "min           5.000000\n",
       "25%          95.000000\n",
       "50%         205.000000\n",
       "75%         435.000000\n",
       "max        5000.000000\n",
       "Name: text_length, dtype: float64"
      ]
     },
     "execution_count": 53,
     "metadata": {},
     "output_type": "execute_result"
    }
   ],
   "execution_count": 53
  },
  {
   "metadata": {
    "ExecuteTime": {
     "end_time": "2025-09-07T15:11:47.751743Z",
     "start_time": "2025-09-07T15:11:47.392482Z"
    }
   },
   "cell_type": "code",
   "source": [
    "# boxplot длины по классам\n",
    "plt.figure(figsize=(8, 4))\n",
    "sns.boxplot(x='toxic', y=df['text'].str.len(), hue='toxic', data=df, palette='Blues')\n",
    "plt.title('длина текстов по классам (символы)')\n",
    "plt.xlabel('класс (0 - нетоксичный, 1 - токсичный)')\n",
    "plt.ylabel('длина текста (символы)')\n",
    "plt.show()"
   ],
   "id": "ed13ac564301ff85",
   "outputs": [
    {
     "data": {
      "text/plain": [
       "<Figure size 800x400 with 1 Axes>"
      ],
      "image/png": "[encoded data removed]"
     },
     "metadata": {},
     "output_type": "display_data",
     "jetTransient": {
      "display_id": null
     }
    }
   ],
   "execution_count": 54
  },
  {
   "metadata": {},
   "cell_type": "markdown",
   "source": "в данных достаточно много длинных комментариев",
   "id": "3f2d8f1a65660818"
  },
  {
   "metadata": {},
   "cell_type": "markdown",
   "source": "так как берт принимает на вход до 512 токенов, а одно слово обычно 1-3 токена, нужно что-то делать с длинными комментариями",
   "id": "8cfc6aab0e8c2cf2"
  },
  {
   "metadata": {
    "ExecuteTime": {
     "end_time": "2025-09-07T15:11:47.775443Z",
     "start_time": "2025-09-07T15:11:47.760851Z"
    }
   },
   "cell_type": "code",
   "source": "df.query('text_length > 500').count()",
   "id": "21c42bb8b38de8e1",
   "outputs": [
    {
     "data": {
      "text/plain": [
       "text           33851\n",
       "toxic          33851\n",
       "text_length    33851\n",
       "dtype: int64"
      ]
     },
     "execution_count": 55,
     "metadata": {},
     "output_type": "execute_result"
    }
   ],
   "execution_count": 55
  },
  {
   "metadata": {
    "ExecuteTime": {
     "end_time": "2025-09-07T15:18:21.048501Z",
     "start_time": "2025-09-07T15:18:18.511833Z"
    }
   },
   "cell_type": "code",
   "source": [
    "# топ-30 слов по классам\n",
    "def get_top_words(texts, n=30):\n",
    "    words = ' '.join(texts).split()\n",
    "    return Counter(words).most_common(n)\n",
    "\n",
    "toxic_texts = df[df['toxic'] == 1]['text']\n",
    "non_toxic_texts = df[df['toxic'] == 0]['text']\n",
    "print(\"\\nтоп-30 слов в токсичных комментариях:\")\n",
    "print(get_top_words(toxic_texts))\n",
    "print(\"\\nтоп-30 слов в нетоксичных комментариях:\")\n",
    "print(get_top_words(non_toxic_texts))"
   ],
   "id": "9426f89ab45a0f50",
   "outputs": [
    {
     "name": "stdout",
     "output_type": "stream",
     "text": [
      "\n",
      "топ-30 слов в токсичных комментариях:\n",
      "[('you', 20267), ('the', 18962), ('a', 18920), ('I', 17737), ('to', 15881), ('and', 14758), ('is', 11268), ('of', 11163), ('your', 7704), ('YOU', 7428), ('that', 7393), ('are', 6323), ('in', 6037), ('You', 5150), ('it', 4929), ('on', 4821), ('for', 4697), ('my', 4550), ('have', 4478), ('not', 4364), ('fuck', 4316), ('with', 3843), ('this', 3837), ('be', 3688), ('\"', 3576), ('me', 3568), ('like', 3356), ('i', 3352), ('as', 3031), ('A', 2952)]\n",
      "\n",
      "топ-30 слов в нетоксичных комментариях:\n",
      "[('the', 426059), ('to', 272190), ('of', 207649), ('and', 191997), ('a', 182334), ('I', 165741), ('is', 152930), ('you', 136602), ('that', 132779), ('in', 123904), ('for', 91061), ('it', 87520), ('not', 79370), ('on', 79353), ('\"', 78009), ('be', 77063), ('this', 67400), ('as', 65122), ('have', 64744), ('are', 59759), ('with', 52457), ('was', 50185), ('your', 47953), ('or', 45622), ('but', 40288), ('an', 38935), ('The', 37967), ('from', 37053), ('article', 36730), ('by', 36559)]\n"
     ]
    }
   ],
   "execution_count": 59
  },
  {
   "metadata": {},
   "cell_type": "markdown",
   "source": "В данных очень много бесполезных слов, например, артиклей, местоимений. Также слова сами по себе не очень информативны, посмотрим n-граммы и долю капса (это признак токсичности обычно).",
   "id": "32ca02921c147471"
  },
  {
   "metadata": {
    "ExecuteTime": {
     "end_time": "2025-09-07T15:31:29.573752Z",
     "start_time": "2025-09-07T15:31:26.645617Z"
    }
   },
   "cell_type": "code",
   "source": [
    "# n-граммы\n",
    "def get_top_ngrams(texts, n=30, ngram_range=(3,3)):\n",
    "    vec = CountVectorizer(ngram_range=ngram_range, lowercase=True, stop_words='english')\n",
    "    bag = vec.fit_transform(texts)\n",
    "    sums = bag.sum(axis=0)\n",
    "    freqs = [(word, sums[0, idx]) for word, idx in vec.vocabulary_.items()]\n",
    "    return sorted(freqs, key=lambda x: x[1], reverse=True)[:n]\n",
    "\n",
    "print(\"\\nТоп-30 биграмм в токсичных комментариях:\")\n",
    "print(get_top_ngrams(toxic_texts, n=30, ngram_range=(2,2)))\n",
    "\n",
    "print(\"\\nТоп-30 триграмм в токсичных комментариях:\")\n",
    "print(get_top_ngrams(toxic_texts, n=30, ngram_range=(3,3)))"
   ],
   "id": "41e413325c9788d1",
   "outputs": [
    {
     "name": "stdout",
     "output_type": "stream",
     "text": [
      "\n",
      "Топ-30 биграмм в токсичных комментариях:\n",
      "[('fuck fuck', np.int64(2959)), ('nigger nigger', np.int64(2149)), ('hate hate', np.int64(1570)), ('moron hi', np.int64(1474)), ('hi moron', np.int64(1472)), ('pig pig', np.int64(1250)), ('jew fat', np.int64(1234)), ('fat jew', np.int64(1226)), ('shit shit', np.int64(1149)), ('suck suck', np.int64(1136)), ('ass ass', np.int64(1127)), ('bark bark', np.int64(999)), ('wanker wanker', np.int64(963)), ('bullshit bullshit', np.int64(833)), ('balls balls', np.int64(833)), ('nipple nipple', np.int64(763)), ('faggot faggot', np.int64(755)), ('talk page', np.int64(737)), ('die die', np.int64(643)), ('dickhead dickhead', np.int64(625)), ('die fag', np.int64(625)), ('fag die', np.int64(624)), ('faggots faggots', np.int64(624)), ('fucksex fucksex', np.int64(623)), ('fuck yourselfgo', np.int64(621)), ('yourselfgo fuck', np.int64(621)), ('aids aids', np.int64(592)), ('freedom freedom', np.int64(572)), ('super gay', np.int64(501)), ('gay super', np.int64(499))]\n",
      "\n",
      "Топ-30 триграмм в токсичных комментариях:\n",
      "[('fuck fuck fuck', np.int64(2825)), ('nigger nigger nigger', np.int64(2139)), ('hate hate hate', np.int64(1547)), ('hi moron hi', np.int64(1468)), ('moron hi moron', np.int64(1466)), ('pig pig pig', np.int64(1248)), ('fat jew fat', np.int64(1226)), ('jew fat jew', np.int64(1224)), ('ass ass ass', np.int64(1124)), ('suck suck suck', np.int64(1116)), ('shit shit shit', np.int64(1107)), ('bark bark bark', np.int64(998)), ('wanker wanker wanker', np.int64(960)), ('balls balls balls', np.int64(831)), ('bullshit bullshit bullshit', np.int64(828)), ('nipple nipple nipple', np.int64(761)), ('faggot faggot faggot', np.int64(749)), ('die fag die', np.int64(624)), ('fag die fag', np.int64(624)), ('faggots faggots faggots', np.int64(623)), ('fucksex fucksex fucksex', np.int64(622)), ('fuck yourselfgo fuck', np.int64(621)), ('yourselfgo fuck yourselfgo', np.int64(619)), ('dickhead dickhead dickhead', np.int64(618)), ('freedom freedom freedom', np.int64(570)), ('die die die', np.int64(541)), ('super gay super', np.int64(499)), ('gay super gay', np.int64(499)), ('buttsecks buttsecks buttsecks', np.int64(495)), ('mothjer fucker cocksucker', np.int64(489))]\n"
     ]
    }
   ],
   "execution_count": 68
  },
  {
   "metadata": {
    "ExecuteTime": {
     "end_time": "2025-09-07T15:32:52.120824Z",
     "start_time": "2025-09-07T15:32:50.277859Z"
    }
   },
   "cell_type": "code",
   "source": [
    "# считаем количество символов и капсов по классам\n",
    "df['total_chars'] = df['text'].str.len()\n",
    "df['caps_chars'] = df['text'].apply(lambda x: sum(1 for c in x if c.isupper()))\n",
    "\n",
    "agg = df.groupby('toxic')[['total_chars', 'caps_chars']].sum().reset_index()\n",
    "\n",
    "# визуализация\n",
    "agg_melted = agg.melt(id_vars='toxic', value_vars=['total_chars', 'caps_chars'],\n",
    "                      var_name='metric', value_name='count')\n",
    "\n",
    "plt.figure(figsize=(10,4))\n",
    "sns.barplot(x='toxic', y='count', hue='metric', data=agg_melted, palette='Blues')\n",
    "plt.title('Общее количество символов и капсов по классам')\n",
    "plt.xlabel('Класс (0 — нетоксичные, 1 — токсичные)')\n",
    "plt.ylabel('Количество символов')\n",
    "plt.legend(title='Метрика', labels=['Все символы', 'Заглавные символы'])\n",
    "plt.show()\n",
    "agg_melted"
   ],
   "id": "dcf3482cae82860f",
   "outputs": [
    {
     "data": {
      "text/plain": [
       "<Figure size 1000x400 with 1 Axes>"
      ],
      "image/png": "[encoded data removed]"
     },
     "metadata": {},
     "output_type": "display_data",
     "jetTransient": {
      "display_id": null
     }
    },
    {
     "data": {
      "text/plain": [
       "   toxic       metric     count\n",
       "0      0  total_chars  57808611\n",
       "1      1  total_chars   4903264\n",
       "2      0   caps_chars   2035255\n",
       "3      1   caps_chars    696383"
      ],
      "text/html": [
       "<div>\n",
       "<style scoped>\n",
       "    .dataframe tbody tr th:only-of-type {\n",
       "        vertical-align: middle;\n",
       "    }\n",
       "\n",
       "    .dataframe tbody tr th {\n",
       "        vertical-align: top;\n",
       "    }\n",
       "\n",
       "    .dataframe thead th {\n",
       "        text-align: right;\n",
       "    }\n",
       "</style>\n",
       "<table border=\"1\" class=\"dataframe\">\n",
       "  <thead>\n",
       "    <tr style=\"text-align: right;\">\n",
       "      <th></th>\n",
       "      <th>toxic</th>\n",
       "      <th>metric</th>\n",
       "      <th>count</th>\n",
       "    </tr>\n",
       "  </thead>\n",
       "  <tbody>\n",
       "    <tr>\n",
       "      <th>0</th>\n",
       "      <td>0</td>\n",
       "      <td>total_chars</td>\n",
       "      <td>57808611</td>\n",
       "    </tr>\n",
       "    <tr>\n",
       "      <th>1</th>\n",
       "      <td>1</td>\n",
       "      <td>total_chars</td>\n",
       "      <td>4903264</td>\n",
       "    </tr>\n",
       "    <tr>\n",
       "      <th>2</th>\n",
       "      <td>0</td>\n",
       "      <td>caps_chars</td>\n",
       "      <td>2035255</td>\n",
       "    </tr>\n",
       "    <tr>\n",
       "      <th>3</th>\n",
       "      <td>1</td>\n",
       "      <td>caps_chars</td>\n",
       "      <td>696383</td>\n",
       "    </tr>\n",
       "  </tbody>\n",
       "</table>\n",
       "</div>"
      ]
     },
     "execution_count": 69,
     "metadata": {},
     "output_type": "execute_result"
    }
   ],
   "execution_count": 69
  },
  {
   "metadata": {},
   "cell_type": "markdown",
   "source": [
    "- В биграммах и триграммах очень много слов повторяются, но это не баг, а фича. Люди пишут повторы чтобы усилить эффект. Это сильный индикатор токсичности.\n",
    "- Отношение капслоковых слов к общему количеству не очень большое, можно все слова привести в нижний регистр."
   ],
   "id": "45ee1ba4172683e4"
  },
  {
   "metadata": {},
   "cell_type": "markdown",
   "source": [
    "- загрузим стопслова\n",
    "- удалим пунктуацию\n",
    "- удалим все не-ascii символы"
   ],
   "id": "1747bcbaaaedfa42"
  },
  {
   "metadata": {
    "ExecuteTime": {
     "end_time": "2025-09-07T15:39:14.654230Z",
     "start_time": "2025-09-07T15:39:10.533067Z"
    }
   },
   "cell_type": "code",
   "source": [
    "# загружаем stopwords\n",
    "stop_words = set(stopwords.words('english'))\n",
    "\n",
    "# проверяем не-ascii перед удалением\n",
    "non_ascii = df[df['text'].str.contains('[^\\x00-\\x7F]', regex=True, na=False)]\n",
    "print(f\"тексты с не-ascii символами: {len(non_ascii)} ({len(non_ascii)/len(df)*100:.2f}%)\")\n",
    "\n",
    "# функция очистки текста\n",
    "def clean_text(text):\n",
    "    # lowercase\n",
    "    text = text.lower()\n",
    "    # удаляем не-ascii\n",
    "    text = re.sub(r'[^\\x00-\\x7F]', '', text)\n",
    "    # удаляем пунктуацию\n",
    "    text = re.sub(r'[^\\w\\s]', '', text)\n",
    "    # удаляем stopwords\n",
    "    words = [word for word in text.split() if word not in stop_words]\n",
    "    return ' '.join(words)\n",
    "\n",
    "# применяем очистку\n",
    "df['clean_text'] = df['text'].apply(clean_text)"
   ],
   "id": "437ce6693c3aca58",
   "outputs": [
    {
     "name": "stdout",
     "output_type": "stream",
     "text": [
      "тексты с не-ascii символами: 17178 (10.78%)\n"
     ]
    }
   ],
   "execution_count": 72
  },
  {
   "metadata": {
    "ExecuteTime": {
     "end_time": "2025-09-07T15:40:33.743683Z",
     "start_time": "2025-09-07T15:40:32.239946Z"
    }
   },
   "cell_type": "code",
   "source": [
    "toxic_texts = df[df['toxic'] == 1]['clean_text']\n",
    "non_toxic_texts = df[df['toxic'] == 0]['clean_text']\n",
    "print(\"\\nтоп-30 слов в токсичных комментариях:\")\n",
    "print(get_top_words(toxic_texts))\n",
    "print(\"\\nтоп-30 слов в нетоксичных комментариях:\")\n",
    "print(get_top_words(non_toxic_texts))"
   ],
   "id": "393b0b33cf0dbebd",
   "outputs": [
    {
     "name": "stdout",
     "output_type": "stream",
     "text": [
      "\n",
      "топ-30 слов в токсичных комментариях:\n",
      "[('fuck', 8662), ('dont', 3877), ('like', 3759), ('shit', 3647), ('wikipedia', 3473), ('nigger', 3295), ('fucking', 3222), ('suck', 3044), ('go', 2924), ('ass', 2652), ('u', 2647), ('hate', 2636), ('get', 2418), ('know', 2341), ('page', 2328), ('gay', 2245), ('im', 2223), ('die', 2136), ('fat', 1978), ('people', 1974), ('faggot', 1962), ('youre', 1925), ('moron', 1885), ('hi', 1709), ('one', 1644), ('cunt', 1555), ('article', 1535), ('stop', 1485), ('stupid', 1473), ('sucks', 1445)]\n",
      "\n",
      "топ-30 слов в нетоксичных комментариях:\n",
      "[('article', 53767), ('page', 43137), ('wikipedia', 31968), ('talk', 29642), ('please', 28533), ('would', 28004), ('one', 26333), ('like', 23874), ('dont', 22155), ('see', 20405), ('also', 19658), ('think', 18598), ('im', 17192), ('articles', 16911), ('know', 16598), ('edit', 16544), ('use', 15795), ('people', 15654), ('may', 15187), ('time', 14199), ('thanks', 13291), ('even', 12216), ('make', 11842), ('good', 11730), ('information', 11458), ('could', 11423), ('well', 11048), ('sources', 10947), ('get', 10881), ('deletion', 10694)]\n"
     ]
    }
   ],
   "execution_count": 74
  },
  {
   "metadata": {
    "ExecuteTime": {
     "end_time": "2025-09-07T15:41:32.172254Z",
     "start_time": "2025-09-07T15:41:32.085232Z"
    }
   },
   "cell_type": "code",
   "source": [
    "# проверяем пустые тексты после очистки\n",
    "empty_clean = df[df['clean_text'].str.strip().eq('')]\n",
    "print(f\"\\nпустые тексты после очистки: {len(empty_clean)}\")"
   ],
   "id": "718cf2d04ea94723",
   "outputs": [
    {
     "name": "stdout",
     "output_type": "stream",
     "text": [
      "\n",
      "пустые тексты после очистки: 21\n"
     ]
    }
   ],
   "execution_count": 75
  },
  {
   "metadata": {
    "ExecuteTime": {
     "end_time": "2025-09-07T15:47:03.653116Z",
     "start_time": "2025-09-07T15:47:03.645577Z"
    }
   },
   "cell_type": "code",
   "source": "df.head(20)",
   "id": "8f18f79e2138fa0f",
   "outputs": [
    {
     "data": {
      "text/plain": [
       "                                                 text  toxic  text_length  \\\n",
       "0   Explanation\\nWhy the edits made under my usern...      0          264   \n",
       "1   D'aww! He matches this background colour I'm s...      0          112   \n",
       "2   Hey man, I'm really not trying to edit war. It...      0          233   \n",
       "3   \"\\nMore\\nI can't make any real suggestions on ...      0          622   \n",
       "4   You, sir, are my hero. Any chance you remember...      0           67   \n",
       "5   \"\\n\\nCongratulations from me as well, use the ...      0           65   \n",
       "6        COCKSUCKER BEFORE YOU PISS AROUND ON MY WORK      1           44   \n",
       "7   Your vandalism to the Matt Shirvington article...      0          115   \n",
       "8   Sorry if the word 'nonsense' was offensive to ...      0          472   \n",
       "9   alignment on this subject and which are contra...      0           70   \n",
       "10  \"\\nFair use rationale for Image:Wonju.jpg\\n\\nT...      0         2875   \n",
       "11  bbq \\n\\nbe a man and lets discuss it-maybe ove...      0           56   \n",
       "12  Hey... what is it..\\n@ | talk .\\nWhat is it......      1          319   \n",
       "13  Before you start throwing accusations and warn...      0          819   \n",
       "14  Oh, and the girl above started her arguments w...      0          219   \n",
       "15  \"\\n\\nJuelz Santanas Age\\n\\nIn 2002, Juelz Sant...      0          610   \n",
       "16  Bye! \\n\\nDon't look, come or think of comming ...      1           57   \n",
       "17   REDIRECT Talk:Voydan Pop Georgiev- Chernodrinski      0           48   \n",
       "18  The Mitsurugi point made no sense - why not ar...      0          118   \n",
       "19  Don't mean to bother you \\n\\nI see that you're...      0          440   \n",
       "\n",
       "    caps_ratio  total_chars  caps_chars  \\\n",
       "0     0.064394          264          17   \n",
       "1     0.071429          112           8   \n",
       "2     0.017167          233           4   \n",
       "3     0.017685          622          11   \n",
       "4     0.029851           67           2   \n",
       "5     0.015385           65           1   \n",
       "6     0.840909           44          37   \n",
       "7     0.034783          115           4   \n",
       "8     0.014831          472           7   \n",
       "9     0.028571           70           2   \n",
       "10    0.018435         2875          53   \n",
       "11    0.000000           56           0   \n",
       "12    0.134796          319          43   \n",
       "13    0.007326          819           6   \n",
       "14    0.036530          219           8   \n",
       "15    0.045902          610          28   \n",
       "16    0.052632           57           3   \n",
       "17    0.270833           48          13   \n",
       "18    0.042373          118           5   \n",
       "19    0.011364          440           5   \n",
       "\n",
       "                                           clean_text  \n",
       "0   explanation edits made username hardcore metal...  \n",
       "1   daww matches background colour im seemingly st...  \n",
       "2   hey man im really trying edit war guy constant...  \n",
       "3   cant make real suggestions improvement wondere...  \n",
       "4                 sir hero chance remember page thats  \n",
       "5            congratulations well use tools well talk  \n",
       "6                         cocksucker piss around work  \n",
       "7   vandalism matt shirvington article reverted pl...  \n",
       "8   sorry word nonsense offensive anyway im intend...  \n",
       "9                alignment subject contrary dulithgow  \n",
       "10  fair use rationale imagewonjujpg thanks upload...  \n",
       "11                 bbq man lets discuss itmaybe phone  \n",
       "12  hey talk exclusive group wp talibanswho good d...  \n",
       "13  start throwing accusations warnings lets revie...  \n",
       "14  oh girl started arguments stuck nose doesnt be...  \n",
       "15  juelz santanas age 2002 juelz santana 18 years...  \n",
       "16       bye dont look come think comming back tosser  \n",
       "17     redirect talkvoydan pop georgiev chernodrinski  \n",
       "18  mitsurugi point made sense argue include hindi...  \n",
       "19  dont mean bother see youre writing something r...  "
      ],
      "text/html": [
       "<div>\n",
       "<style scoped>\n",
       "    .dataframe tbody tr th:only-of-type {\n",
       "        vertical-align: middle;\n",
       "    }\n",
       "\n",
       "    .dataframe tbody tr th {\n",
       "        vertical-align: top;\n",
       "    }\n",
       "\n",
       "    .dataframe thead th {\n",
       "        text-align: right;\n",
       "    }\n",
       "</style>\n",
       "<table border=\"1\" class=\"dataframe\">\n",
       "  <thead>\n",
       "    <tr style=\"text-align: right;\">\n",
       "      <th></th>\n",
       "      <th>text</th>\n",
       "      <th>toxic</th>\n",
       "      <th>text_length</th>\n",
       "      <th>caps_ratio</th>\n",
       "      <th>total_chars</th>\n",
       "      <th>caps_chars</th>\n",
       "      <th>clean_text</th>\n",
       "    </tr>\n",
       "  </thead>\n",
       "  <tbody>\n",
       "    <tr>\n",
       "      <th>0</th>\n",
       "      <td>Explanation\\nWhy the edits made under my usern...</td>\n",
       "      <td>0</td>\n",
       "      <td>264</td>\n",
       "      <td>0.064394</td>\n",
       "      <td>264</td>\n",
       "      <td>17</td>\n",
       "      <td>explanation edits made username hardcore metal...</td>\n",
       "    </tr>\n",
       "    <tr>\n",
       "      <th>1</th>\n",
       "      <td>D'aww! He matches this background colour I'm s...</td>\n",
       "      <td>0</td>\n",
       "      <td>112</td>\n",
       "      <td>0.071429</td>\n",
       "      <td>112</td>\n",
       "      <td>8</td>\n",
       "      <td>daww matches background colour im seemingly st...</td>\n",
       "    </tr>\n",
       "    <tr>\n",
       "      <th>2</th>\n",
       "      <td>Hey man, I'm really not trying to edit war. It...</td>\n",
       "      <td>0</td>\n",
       "      <td>233</td>\n",
       "      <td>0.017167</td>\n",
       "      <td>233</td>\n",
       "      <td>4</td>\n",
       "      <td>hey man im really trying edit war guy constant...</td>\n",
       "    </tr>\n",
       "    <tr>\n",
       "      <th>3</th>\n",
       "      <td>\"\\nMore\\nI can't make any real suggestions on ...</td>\n",
       "      <td>0</td>\n",
       "      <td>622</td>\n",
       "      <td>0.017685</td>\n",
       "      <td>622</td>\n",
       "      <td>11</td>\n",
       "      <td>cant make real suggestions improvement wondere...</td>\n",
       "    </tr>\n",
       "    <tr>\n",
       "      <th>4</th>\n",
       "      <td>You, sir, are my hero. Any chance you remember...</td>\n",
       "      <td>0</td>\n",
       "      <td>67</td>\n",
       "      <td>0.029851</td>\n",
       "      <td>67</td>\n",
       "      <td>2</td>\n",
       "      <td>sir hero chance remember page thats</td>\n",
       "    </tr>\n",
       "    <tr>\n",
       "      <th>5</th>\n",
       "      <td>\"\\n\\nCongratulations from me as well, use the ...</td>\n",
       "      <td>0</td>\n",
       "      <td>65</td>\n",
       "      <td>0.015385</td>\n",
       "      <td>65</td>\n",
       "      <td>1</td>\n",
       "      <td>congratulations well use tools well talk</td>\n",
       "    </tr>\n",
       "    <tr>\n",
       "      <th>6</th>\n",
       "      <td>COCKSUCKER BEFORE YOU PISS AROUND ON MY WORK</td>\n",
       "      <td>1</td>\n",
       "      <td>44</td>\n",
       "      <td>0.840909</td>\n",
       "      <td>44</td>\n",
       "      <td>37</td>\n",
       "      <td>cocksucker piss around work</td>\n",
       "    </tr>\n",
       "    <tr>\n",
       "      <th>7</th>\n",
       "      <td>Your vandalism to the Matt Shirvington article...</td>\n",
       "      <td>0</td>\n",
       "      <td>115</td>\n",
       "      <td>0.034783</td>\n",
       "      <td>115</td>\n",
       "      <td>4</td>\n",
       "      <td>vandalism matt shirvington article reverted pl...</td>\n",
       "    </tr>\n",
       "    <tr>\n",
       "      <th>8</th>\n",
       "      <td>Sorry if the word 'nonsense' was offensive to ...</td>\n",
       "      <td>0</td>\n",
       "      <td>472</td>\n",
       "      <td>0.014831</td>\n",
       "      <td>472</td>\n",
       "      <td>7</td>\n",
       "      <td>sorry word nonsense offensive anyway im intend...</td>\n",
       "    </tr>\n",
       "    <tr>\n",
       "      <th>9</th>\n",
       "      <td>alignment on this subject and which are contra...</td>\n",
       "      <td>0</td>\n",
       "      <td>70</td>\n",
       "      <td>0.028571</td>\n",
       "      <td>70</td>\n",
       "      <td>2</td>\n",
       "      <td>alignment subject contrary dulithgow</td>\n",
       "    </tr>\n",
       "    <tr>\n",
       "      <th>10</th>\n",
       "      <td>\"\\nFair use rationale for Image:Wonju.jpg\\n\\nT...</td>\n",
       "      <td>0</td>\n",
       "      <td>2875</td>\n",
       "      <td>0.018435</td>\n",
       "      <td>2875</td>\n",
       "      <td>53</td>\n",
       "      <td>fair use rationale imagewonjujpg thanks upload...</td>\n",
       "    </tr>\n",
       "    <tr>\n",
       "      <th>11</th>\n",
       "      <td>bbq \\n\\nbe a man and lets discuss it-maybe ove...</td>\n",
       "      <td>0</td>\n",
       "      <td>56</td>\n",
       "      <td>0.000000</td>\n",
       "      <td>56</td>\n",
       "      <td>0</td>\n",
       "      <td>bbq man lets discuss itmaybe phone</td>\n",
       "    </tr>\n",
       "    <tr>\n",
       "      <th>12</th>\n",
       "      <td>Hey... what is it..\\n@ | talk .\\nWhat is it......</td>\n",
       "      <td>1</td>\n",
       "      <td>319</td>\n",
       "      <td>0.134796</td>\n",
       "      <td>319</td>\n",
       "      <td>43</td>\n",
       "      <td>hey talk exclusive group wp talibanswho good d...</td>\n",
       "    </tr>\n",
       "    <tr>\n",
       "      <th>13</th>\n",
       "      <td>Before you start throwing accusations and warn...</td>\n",
       "      <td>0</td>\n",
       "      <td>819</td>\n",
       "      <td>0.007326</td>\n",
       "      <td>819</td>\n",
       "      <td>6</td>\n",
       "      <td>start throwing accusations warnings lets revie...</td>\n",
       "    </tr>\n",
       "    <tr>\n",
       "      <th>14</th>\n",
       "      <td>Oh, and the girl above started her arguments w...</td>\n",
       "      <td>0</td>\n",
       "      <td>219</td>\n",
       "      <td>0.036530</td>\n",
       "      <td>219</td>\n",
       "      <td>8</td>\n",
       "      <td>oh girl started arguments stuck nose doesnt be...</td>\n",
       "    </tr>\n",
       "    <tr>\n",
       "      <th>15</th>\n",
       "      <td>\"\\n\\nJuelz Santanas Age\\n\\nIn 2002, Juelz Sant...</td>\n",
       "      <td>0</td>\n",
       "      <td>610</td>\n",
       "      <td>0.045902</td>\n",
       "      <td>610</td>\n",
       "      <td>28</td>\n",
       "      <td>juelz santanas age 2002 juelz santana 18 years...</td>\n",
       "    </tr>\n",
       "    <tr>\n",
       "      <th>16</th>\n",
       "      <td>Bye! \\n\\nDon't look, come or think of comming ...</td>\n",
       "      <td>1</td>\n",
       "      <td>57</td>\n",
       "      <td>0.052632</td>\n",
       "      <td>57</td>\n",
       "      <td>3</td>\n",
       "      <td>bye dont look come think comming back tosser</td>\n",
       "    </tr>\n",
       "    <tr>\n",
       "      <th>17</th>\n",
       "      <td>REDIRECT Talk:Voydan Pop Georgiev- Chernodrinski</td>\n",
       "      <td>0</td>\n",
       "      <td>48</td>\n",
       "      <td>0.270833</td>\n",
       "      <td>48</td>\n",
       "      <td>13</td>\n",
       "      <td>redirect talkvoydan pop georgiev chernodrinski</td>\n",
       "    </tr>\n",
       "    <tr>\n",
       "      <th>18</th>\n",
       "      <td>The Mitsurugi point made no sense - why not ar...</td>\n",
       "      <td>0</td>\n",
       "      <td>118</td>\n",
       "      <td>0.042373</td>\n",
       "      <td>118</td>\n",
       "      <td>5</td>\n",
       "      <td>mitsurugi point made sense argue include hindi...</td>\n",
       "    </tr>\n",
       "    <tr>\n",
       "      <th>19</th>\n",
       "      <td>Don't mean to bother you \\n\\nI see that you're...</td>\n",
       "      <td>0</td>\n",
       "      <td>440</td>\n",
       "      <td>0.011364</td>\n",
       "      <td>440</td>\n",
       "      <td>5</td>\n",
       "      <td>dont mean bother see youre writing something r...</td>\n",
       "    </tr>\n",
       "  </tbody>\n",
       "</table>\n",
       "</div>"
      ]
     },
     "execution_count": 77,
     "metadata": {},
     "output_type": "execute_result"
    }
   ],
   "execution_count": 77
  },
  {
   "metadata": {
    "ExecuteTime": {
     "end_time": "2025-09-07T15:51:00.963518Z",
     "start_time": "2025-09-07T15:51:00.914220Z"
    }
   },
   "cell_type": "code",
   "source": [
    "df['clean_text_length'] = df['clean_text'].apply(len)\n",
    "print(\"\\nСтатистика длины текстов:\")\n",
    "df['clean_text_length'].describe()"
   ],
   "id": "aa013d1a96c2c99b",
   "outputs": [
    {
     "name": "stdout",
     "output_type": "stream",
     "text": [
      "\n",
      "Статистика длины текстов:\n"
     ]
    },
    {
     "data": {
      "text/plain": [
       "count    159292.000000\n",
       "mean        254.377897\n",
       "std         395.470121\n",
       "min           0.000000\n",
       "25%          60.000000\n",
       "50%         131.000000\n",
       "75%         278.000000\n",
       "max        5000.000000\n",
       "Name: clean_text_length, dtype: float64"
      ]
     },
     "execution_count": 81,
     "metadata": {},
     "output_type": "execute_result"
    }
   ],
   "execution_count": 81
  },
  {
   "metadata": {
    "ExecuteTime": {
     "end_time": "2025-09-07T15:54:11.474415Z",
     "start_time": "2025-09-07T15:54:11.464439Z"
    }
   },
   "cell_type": "code",
   "source": "df.query('clean_text_length == 5000')",
   "id": "88e862f353e3f95d",
   "outputs": [
    {
     "data": {
      "text/plain": [
       "                                                     text  toxic  text_length  \\\n",
       "6190    SECURITYFUCK HOMELAND SECURITYFUCK HOMELAND SE...      1         5000   \n",
       "8685    BALLS BALLS BALLS BALLS BALLS BALLS BALLS BALL...      1         5000   \n",
       "35244   MarxismLONG LIVE ANONYMOUS PHILIPPINESLONG LIV...      0         5000   \n",
       "41969   WANKER WANKER WANKER WANKER WANKER WANKER WANK...      1         5000   \n",
       "46480   hahahahahahahahahahahahahahahahahaha vandalism...      1         5000   \n",
       "47612   Block Block Block Block Block Block Block Bloc...      0         5000   \n",
       "93787   wiki NOOBS wiki NOOBS wiki NOOBS wiki NOOBS wi...      1         5000   \n",
       "128558  sex fucksex fucksex fucksex fucksex fucksex fu...      1         5000   \n",
       "155754  AIDS AIDS AIDS AIDS AIDS AIDS AIDSAIDS AIDS AI...      1         5000   \n",
       "156158  HUGE FAGGOT HUGE FAGGOT HUGE FAGGOT HUGE FAGGO...      1         5000   \n",
       "\n",
       "        caps_ratio  total_chars  caps_chars  \\\n",
       "6190        0.9092         5000        4546   \n",
       "8685        0.8334         5000        4167   \n",
       "35244       0.9022         5000        4511   \n",
       "41969       0.8572         5000        4286   \n",
       "46480       0.0000         5000           0   \n",
       "47612       0.1668         5000         834   \n",
       "93787       0.4542         5000        2271   \n",
       "128558      0.0000         5000           0   \n",
       "155754      0.8236         5000        4118   \n",
       "156158      0.8334         5000        4167   \n",
       "\n",
       "                                               clean_text  clean_text_length  \n",
       "6190    securityfuck homeland securityfuck homeland se...               5000  \n",
       "8685    balls balls balls balls balls balls balls ball...               5000  \n",
       "35244   marxismlong live anonymous philippineslong liv...               5000  \n",
       "41969   wanker wanker wanker wanker wanker wanker wank...               5000  \n",
       "46480   hahahahahahahahahahahahahahahahahaha vandalism...               5000  \n",
       "47612   block block block block block block block bloc...               5000  \n",
       "93787   wiki noobs wiki noobs wiki noobs wiki noobs wi...               5000  \n",
       "128558  sex fucksex fucksex fucksex fucksex fucksex fu...               5000  \n",
       "155754  aids aids aids aids aids aids aidsaids aids ai...               5000  \n",
       "156158  huge faggot huge faggot huge faggot huge faggo...               5000  "
      ],
      "text/html": [
       "<div>\n",
       "<style scoped>\n",
       "    .dataframe tbody tr th:only-of-type {\n",
       "        vertical-align: middle;\n",
       "    }\n",
       "\n",
       "    .dataframe tbody tr th {\n",
       "        vertical-align: top;\n",
       "    }\n",
       "\n",
       "    .dataframe thead th {\n",
       "        text-align: right;\n",
       "    }\n",
       "</style>\n",
       "<table border=\"1\" class=\"dataframe\">\n",
       "  <thead>\n",
       "    <tr style=\"text-align: right;\">\n",
       "      <th></th>\n",
       "      <th>text</th>\n",
       "      <th>toxic</th>\n",
       "      <th>text_length</th>\n",
       "      <th>caps_ratio</th>\n",
       "      <th>total_chars</th>\n",
       "      <th>caps_chars</th>\n",
       "      <th>clean_text</th>\n",
       "      <th>clean_text_length</th>\n",
       "    </tr>\n",
       "  </thead>\n",
       "  <tbody>\n",
       "    <tr>\n",
       "      <th>6190</th>\n",
       "      <td>SECURITYFUCK HOMELAND SECURITYFUCK HOMELAND SE...</td>\n",
       "      <td>1</td>\n",
       "      <td>5000</td>\n",
       "      <td>0.9092</td>\n",
       "      <td>5000</td>\n",
       "      <td>4546</td>\n",
       "      <td>securityfuck homeland securityfuck homeland se...</td>\n",
       "      <td>5000</td>\n",
       "    </tr>\n",
       "    <tr>\n",
       "      <th>8685</th>\n",
       "      <td>BALLS BALLS BALLS BALLS BALLS BALLS BALLS BALL...</td>\n",
       "      <td>1</td>\n",
       "      <td>5000</td>\n",
       "      <td>0.8334</td>\n",
       "      <td>5000</td>\n",
       "      <td>4167</td>\n",
       "      <td>balls balls balls balls balls balls balls ball...</td>\n",
       "      <td>5000</td>\n",
       "    </tr>\n",
       "    <tr>\n",
       "      <th>35244</th>\n",
       "      <td>MarxismLONG LIVE ANONYMOUS PHILIPPINESLONG LIV...</td>\n",
       "      <td>0</td>\n",
       "      <td>5000</td>\n",
       "      <td>0.9022</td>\n",
       "      <td>5000</td>\n",
       "      <td>4511</td>\n",
       "      <td>marxismlong live anonymous philippineslong liv...</td>\n",
       "      <td>5000</td>\n",
       "    </tr>\n",
       "    <tr>\n",
       "      <th>41969</th>\n",
       "      <td>WANKER WANKER WANKER WANKER WANKER WANKER WANK...</td>\n",
       "      <td>1</td>\n",
       "      <td>5000</td>\n",
       "      <td>0.8572</td>\n",
       "      <td>5000</td>\n",
       "      <td>4286</td>\n",
       "      <td>wanker wanker wanker wanker wanker wanker wank...</td>\n",
       "      <td>5000</td>\n",
       "    </tr>\n",
       "    <tr>\n",
       "      <th>46480</th>\n",
       "      <td>hahahahahahahahahahahahahahahahahaha vandalism...</td>\n",
       "      <td>1</td>\n",
       "      <td>5000</td>\n",
       "      <td>0.0000</td>\n",
       "      <td>5000</td>\n",
       "      <td>0</td>\n",
       "      <td>hahahahahahahahahahahahahahahahahaha vandalism...</td>\n",
       "      <td>5000</td>\n",
       "    </tr>\n",
       "    <tr>\n",
       "      <th>47612</th>\n",
       "      <td>Block Block Block Block Block Block Block Bloc...</td>\n",
       "      <td>0</td>\n",
       "      <td>5000</td>\n",
       "      <td>0.1668</td>\n",
       "      <td>5000</td>\n",
       "      <td>834</td>\n",
       "      <td>block block block block block block block bloc...</td>\n",
       "      <td>5000</td>\n",
       "    </tr>\n",
       "    <tr>\n",
       "      <th>93787</th>\n",
       "      <td>wiki NOOBS wiki NOOBS wiki NOOBS wiki NOOBS wi...</td>\n",
       "      <td>1</td>\n",
       "      <td>5000</td>\n",
       "      <td>0.4542</td>\n",
       "      <td>5000</td>\n",
       "      <td>2271</td>\n",
       "      <td>wiki noobs wiki noobs wiki noobs wiki noobs wi...</td>\n",
       "      <td>5000</td>\n",
       "    </tr>\n",
       "    <tr>\n",
       "      <th>128558</th>\n",
       "      <td>sex fucksex fucksex fucksex fucksex fucksex fu...</td>\n",
       "      <td>1</td>\n",
       "      <td>5000</td>\n",
       "      <td>0.0000</td>\n",
       "      <td>5000</td>\n",
       "      <td>0</td>\n",
       "      <td>sex fucksex fucksex fucksex fucksex fucksex fu...</td>\n",
       "      <td>5000</td>\n",
       "    </tr>\n",
       "    <tr>\n",
       "      <th>155754</th>\n",
       "      <td>AIDS AIDS AIDS AIDS AIDS AIDS AIDSAIDS AIDS AI...</td>\n",
       "      <td>1</td>\n",
       "      <td>5000</td>\n",
       "      <td>0.8236</td>\n",
       "      <td>5000</td>\n",
       "      <td>4118</td>\n",
       "      <td>aids aids aids aids aids aids aidsaids aids ai...</td>\n",
       "      <td>5000</td>\n",
       "    </tr>\n",
       "    <tr>\n",
       "      <th>156158</th>\n",
       "      <td>HUGE FAGGOT HUGE FAGGOT HUGE FAGGOT HUGE FAGGO...</td>\n",
       "      <td>1</td>\n",
       "      <td>5000</td>\n",
       "      <td>0.8334</td>\n",
       "      <td>5000</td>\n",
       "      <td>4167</td>\n",
       "      <td>huge faggot huge faggot huge faggot huge faggo...</td>\n",
       "      <td>5000</td>\n",
       "    </tr>\n",
       "  </tbody>\n",
       "</table>\n",
       "</div>"
      ]
     },
     "execution_count": 83,
     "metadata": {},
     "output_type": "execute_result"
    }
   ],
   "execution_count": 83
  },
  {
   "metadata": {},
   "cell_type": "markdown",
   "source": "Комментарии состоящие из одного или нескольких повторяющихся слов и длиннее 500-1000 символов, думаю, можно отнести к спаму и избавиться от них или обработать, например сжать подряд идущие слова.",
   "id": "3dbfc18372b2a190"
  },
  {
   "metadata": {
    "ExecuteTime": {
     "end_time": "2025-09-07T16:00:22.449550Z",
     "start_time": "2025-09-07T16:00:20.925448Z"
    }
   },
   "cell_type": "code",
   "source": [
    "def collapse_repeats(text, max_repeats=10):\n",
    "    if not text:\n",
    "        return text\n",
    "\n",
    "    words = text.split()\n",
    "    result = []\n",
    "    last_word = None\n",
    "    repeat_count = 0\n",
    "\n",
    "    for w in words:\n",
    "        lw = w.lower()\n",
    "        if lw == last_word:\n",
    "            repeat_count += 1\n",
    "        else:\n",
    "            repeat_count = 1\n",
    "            last_word = lw\n",
    "\n",
    "        if repeat_count <= max_repeats:\n",
    "            result.append(w)\n",
    "\n",
    "    return \" \".join(result)\n",
    "\n",
    "# применяем к столбцу\n",
    "df['clean_text'] = df['text'].apply(lambda x: collapse_repeats(x, max_repeats=1))"
   ],
   "id": "eecb69d63157c94b",
   "outputs": [],
   "execution_count": 84
  },
  {
   "metadata": {
    "ExecuteTime": {
     "end_time": "2025-09-07T16:00:38.062549Z",
     "start_time": "2025-09-07T16:00:38.017918Z"
    }
   },
   "cell_type": "code",
   "source": [
    "df['clean_text_length'] = df['clean_text'].apply(len)\n",
    "print(\"\\nСтатистика длины текстов:\")\n",
    "df['clean_text_length'].describe()"
   ],
   "id": "164b101508c49b95",
   "outputs": [
    {
     "name": "stdout",
     "output_type": "stream",
     "text": [
      "\n",
      "Статистика длины текстов:\n"
     ]
    },
    {
     "data": {
      "text/plain": [
       "count    159292.000000\n",
       "mean        389.171465\n",
       "std         581.975389\n",
       "min           3.000000\n",
       "25%          94.000000\n",
       "50%         203.000000\n",
       "75%         431.000000\n",
       "max        5000.000000\n",
       "Name: clean_text_length, dtype: float64"
      ]
     },
     "execution_count": 85,
     "metadata": {},
     "output_type": "execute_result"
    }
   ],
   "execution_count": 85
  },
  {
   "metadata": {
    "ExecuteTime": {
     "end_time": "2025-09-07T16:00:55.659101Z",
     "start_time": "2025-09-07T16:00:55.642154Z"
    }
   },
   "cell_type": "code",
   "source": "df.query('clean_text_length == 5000')",
   "id": "6a734088c6562f4f",
   "outputs": [
    {
     "data": {
      "text/plain": [
       "                                                     text  toxic  text_length  \\\n",
       "4167    ii CAN STILL POST WITH THIS COMPUTER...I SAID ...      1         5000   \n",
       "6190    SECURITYFUCK HOMELAND SECURITYFUCK HOMELAND SE...      1         5000   \n",
       "9651    FUCK YOU, YOU ATHEIST CUNT! FUCK YOU, YOU ATHE...      1         5000   \n",
       "10746   TOMMY2010 IS A NIGGER TOMMY2010 IS A NIGGER TO...      1         5000   \n",
       "12869   I OWN THIS PAGE YOU FOOLS!! YOU SHOULD FEAR ME...      1         5000   \n",
       "18151   Hey guys I love chicken rice=)Hey guys I love ...      0         5000   \n",
       "22334   I fuck niggas! I fuck niggas! I fuck niggas! I...      1         5000   \n",
       "27087   DAMN YOU U CUNT DAMN YOU U CUNT DAMN YOU U CUN...      1         5000   \n",
       "34352   YOU SUCK YOU SUCK YOU SUCK YOU SUCK YOU SUCK Y...      1         5000   \n",
       "35244   MarxismLONG LIVE ANONYMOUS PHILIPPINESLONG LIV...      0         5000   \n",
       "46096   heil hitler! heil hitler! heil hitler! heil hi...      1         5000   \n",
       "46480   hahahahahahahahahahahahahahahahahaha vandalism...      1         5000   \n",
       "53300   BunkSteve is gay! BunkSteve is gay! BunkSteve ...      1         5000   \n",
       "55953   AH HAAHHAHAHAH YAAA BITCH YAAAA!@!!!!!!AH HAAH...      1         5000   \n",
       "56331   CALTLAS IF YOU CONTINUE TO RVV IT, I WILL BLAN...      1         5000   \n",
       "56724   i CAN STILL POST WITH THIS COMPUTER...I SAID B...      1         5000   \n",
       "63278   leari CAN STILL POST WITH THIS COMPUTER...I SA...      1         5000   \n",
       "70421   delete this pagedelete this pagedelete this pa...      0         5000   \n",
       "72066   China smells like fart. China smells like fart...      1         5000   \n",
       "75033   IN THE NAME OF YTMND!IN THE NAME OF YTMND!IN T...      0         5000   \n",
       "76052   nice work removing edits, faggot ass piece of ...      1         5000   \n",
       "82496   MUAHAHAHAHAHAHAHAHAHAHAHAHAHAHAHAHAHAHA, YOU C...      1         5000   \n",
       "86104   congratualtions on being such a huge fucking a...      1         5000   \n",
       "93787   wiki NOOBS wiki NOOBS wiki NOOBS wiki NOOBS wi...      1         5000   \n",
       "96100   BOOTSTOOTS IS A FRIGGEN GAYFAG LOLOOOLBOOTSTOO...      1         5000   \n",
       "123354  LMAO WHAT WEAK THREATS, I HAVENT BEEN BANNED Y...      1         5000   \n",
       "131497  \"FFFFF UUUUUU CCCCCC KKKKKK ===== YOU! F UU C ...      1         5000   \n",
       "156158  HUGE FAGGOT HUGE FAGGOT HUGE FAGGOT HUGE FAGGO...      1         5000   \n",
       "\n",
       "        caps_ratio  total_chars  caps_chars  \\\n",
       "4167        0.7796         5000        3898   \n",
       "6190        0.9092         5000        4546   \n",
       "9651        0.7500         5000        3750   \n",
       "10746       0.6366         5000        3183   \n",
       "12869       0.6750         5000        3375   \n",
       "18151       0.0668         5000         334   \n",
       "22334       0.0668         5000         334   \n",
       "27087       0.7502         5000        3751   \n",
       "34352       0.7806         5000        3903   \n",
       "35244       0.9022         5000        4511   \n",
       "46096       0.0000         5000           0   \n",
       "46480       0.0000         5000           0   \n",
       "53300       0.1112         5000         556   \n",
       "55953       0.6926         5000        3463   \n",
       "56331       0.7522         5000        3761   \n",
       "56724       0.7798         5000        3899   \n",
       "63278       0.7792         5000        3896   \n",
       "70421       0.0000         5000           0   \n",
       "72066       0.0436         5000         218   \n",
       "75033       0.7620         5000        3810   \n",
       "76052       0.0000         5000           0   \n",
       "82496       0.8848         5000        4424   \n",
       "86104       0.0148         5000          74   \n",
       "93787       0.4542         5000        2271   \n",
       "96100       0.8404         5000        4202   \n",
       "123354      0.7972         5000        3986   \n",
       "131497      0.6732         5000        3366   \n",
       "156158      0.8334         5000        4167   \n",
       "\n",
       "                                               clean_text  clean_text_length  \n",
       "4167    ii CAN STILL POST WITH THIS COMPUTER...I SAID ...               5000  \n",
       "6190    SECURITYFUCK HOMELAND SECURITYFUCK HOMELAND SE...               5000  \n",
       "9651    FUCK YOU, YOU ATHEIST CUNT! FUCK YOU, YOU ATHE...               5000  \n",
       "10746   TOMMY2010 IS A NIGGER TOMMY2010 IS A NIGGER TO...               5000  \n",
       "12869   I OWN THIS PAGE YOU FOOLS!! YOU SHOULD FEAR ME...               5000  \n",
       "18151   Hey guys I love chicken rice=)Hey guys I love ...               5000  \n",
       "22334   I fuck niggas! I fuck niggas! I fuck niggas! I...               5000  \n",
       "27087   DAMN YOU U CUNT DAMN YOU U CUNT DAMN YOU U CUN...               5000  \n",
       "34352   YOU SUCK YOU SUCK YOU SUCK YOU SUCK YOU SUCK Y...               5000  \n",
       "35244   MarxismLONG LIVE ANONYMOUS PHILIPPINESLONG LIV...               5000  \n",
       "46096   heil hitler! heil hitler! heil hitler! heil hi...               5000  \n",
       "46480   hahahahahahahahahahahahahahahahahaha vandalism...               5000  \n",
       "53300   BunkSteve is gay! BunkSteve is gay! BunkSteve ...               5000  \n",
       "55953   AH HAAHHAHAHAH YAAA BITCH YAAAA!@!!!!!!AH HAAH...               5000  \n",
       "56331   CALTLAS IF YOU CONTINUE TO RVV IT, I WILL BLAN...               5000  \n",
       "56724   i CAN STILL POST WITH THIS COMPUTER...I SAID B...               5000  \n",
       "63278   leari CAN STILL POST WITH THIS COMPUTER...I SA...               5000  \n",
       "70421   delete this pagedelete this pagedelete this pa...               5000  \n",
       "72066   China smells like fart. China smells like fart...               5000  \n",
       "75033   IN THE NAME OF YTMND!IN THE NAME OF YTMND!IN T...               5000  \n",
       "76052   nice work removing edits, faggot ass piece of ...               5000  \n",
       "82496   MUAHAHAHAHAHAHAHAHAHAHAHAHAHAHAHAHAHAHA, YOU C...               5000  \n",
       "86104   congratualtions on being such a huge fucking a...               5000  \n",
       "93787   wiki NOOBS wiki NOOBS wiki NOOBS wiki NOOBS wi...               5000  \n",
       "96100   BOOTSTOOTS IS A FRIGGEN GAYFAG LOLOOOLBOOTSTOO...               5000  \n",
       "123354  LMAO WHAT WEAK THREATS, I HAVENT BEEN BANNED Y...               5000  \n",
       "131497  \"FFFFF UUUUUU CCCCCC KKKKKK ===== YOU! F UU C ...               5000  \n",
       "156158  HUGE FAGGOT HUGE FAGGOT HUGE FAGGOT HUGE FAGGO...               5000  "
      ],
      "text/html": [
       "<div>\n",
       "<style scoped>\n",
       "    .dataframe tbody tr th:only-of-type {\n",
       "        vertical-align: middle;\n",
       "    }\n",
       "\n",
       "    .dataframe tbody tr th {\n",
       "        vertical-align: top;\n",
       "    }\n",
       "\n",
       "    .dataframe thead th {\n",
       "        text-align: right;\n",
       "    }\n",
       "</style>\n",
       "<table border=\"1\" class=\"dataframe\">\n",
       "  <thead>\n",
       "    <tr style=\"text-align: right;\">\n",
       "      <th></th>\n",
       "      <th>text</th>\n",
       "      <th>toxic</th>\n",
       "      <th>text_length</th>\n",
       "      <th>caps_ratio</th>\n",
       "      <th>total_chars</th>\n",
       "      <th>caps_chars</th>\n",
       "      <th>clean_text</th>\n",
       "      <th>clean_text_length</th>\n",
       "    </tr>\n",
       "  </thead>\n",
       "  <tbody>\n",
       "    <tr>\n",
       "      <th>4167</th>\n",
       "      <td>ii CAN STILL POST WITH THIS COMPUTER...I SAID ...</td>\n",
       "      <td>1</td>\n",
       "      <td>5000</td>\n",
       "      <td>0.7796</td>\n",
       "      <td>5000</td>\n",
       "      <td>3898</td>\n",
       "      <td>ii CAN STILL POST WITH THIS COMPUTER...I SAID ...</td>\n",
       "      <td>5000</td>\n",
       "    </tr>\n",
       "    <tr>\n",
       "      <th>6190</th>\n",
       "      <td>SECURITYFUCK HOMELAND SECURITYFUCK HOMELAND SE...</td>\n",
       "      <td>1</td>\n",
       "      <td>5000</td>\n",
       "      <td>0.9092</td>\n",
       "      <td>5000</td>\n",
       "      <td>4546</td>\n",
       "      <td>SECURITYFUCK HOMELAND SECURITYFUCK HOMELAND SE...</td>\n",
       "      <td>5000</td>\n",
       "    </tr>\n",
       "    <tr>\n",
       "      <th>9651</th>\n",
       "      <td>FUCK YOU, YOU ATHEIST CUNT! FUCK YOU, YOU ATHE...</td>\n",
       "      <td>1</td>\n",
       "      <td>5000</td>\n",
       "      <td>0.7500</td>\n",
       "      <td>5000</td>\n",
       "      <td>3750</td>\n",
       "      <td>FUCK YOU, YOU ATHEIST CUNT! FUCK YOU, YOU ATHE...</td>\n",
       "      <td>5000</td>\n",
       "    </tr>\n",
       "    <tr>\n",
       "      <th>10746</th>\n",
       "      <td>TOMMY2010 IS A NIGGER TOMMY2010 IS A NIGGER TO...</td>\n",
       "      <td>1</td>\n",
       "      <td>5000</td>\n",
       "      <td>0.6366</td>\n",
       "      <td>5000</td>\n",
       "      <td>3183</td>\n",
       "      <td>TOMMY2010 IS A NIGGER TOMMY2010 IS A NIGGER TO...</td>\n",
       "      <td>5000</td>\n",
       "    </tr>\n",
       "    <tr>\n",
       "      <th>12869</th>\n",
       "      <td>I OWN THIS PAGE YOU FOOLS!! YOU SHOULD FEAR ME...</td>\n",
       "      <td>1</td>\n",
       "      <td>5000</td>\n",
       "      <td>0.6750</td>\n",
       "      <td>5000</td>\n",
       "      <td>3375</td>\n",
       "      <td>I OWN THIS PAGE YOU FOOLS!! YOU SHOULD FEAR ME...</td>\n",
       "      <td>5000</td>\n",
       "    </tr>\n",
       "    <tr>\n",
       "      <th>18151</th>\n",
       "      <td>Hey guys I love chicken rice=)Hey guys I love ...</td>\n",
       "      <td>0</td>\n",
       "      <td>5000</td>\n",
       "      <td>0.0668</td>\n",
       "      <td>5000</td>\n",
       "      <td>334</td>\n",
       "      <td>Hey guys I love chicken rice=)Hey guys I love ...</td>\n",
       "      <td>5000</td>\n",
       "    </tr>\n",
       "    <tr>\n",
       "      <th>22334</th>\n",
       "      <td>I fuck niggas! I fuck niggas! I fuck niggas! I...</td>\n",
       "      <td>1</td>\n",
       "      <td>5000</td>\n",
       "      <td>0.0668</td>\n",
       "      <td>5000</td>\n",
       "      <td>334</td>\n",
       "      <td>I fuck niggas! I fuck niggas! I fuck niggas! I...</td>\n",
       "      <td>5000</td>\n",
       "    </tr>\n",
       "    <tr>\n",
       "      <th>27087</th>\n",
       "      <td>DAMN YOU U CUNT DAMN YOU U CUNT DAMN YOU U CUN...</td>\n",
       "      <td>1</td>\n",
       "      <td>5000</td>\n",
       "      <td>0.7502</td>\n",
       "      <td>5000</td>\n",
       "      <td>3751</td>\n",
       "      <td>DAMN YOU U CUNT DAMN YOU U CUNT DAMN YOU U CUN...</td>\n",
       "      <td>5000</td>\n",
       "    </tr>\n",
       "    <tr>\n",
       "      <th>34352</th>\n",
       "      <td>YOU SUCK YOU SUCK YOU SUCK YOU SUCK YOU SUCK Y...</td>\n",
       "      <td>1</td>\n",
       "      <td>5000</td>\n",
       "      <td>0.7806</td>\n",
       "      <td>5000</td>\n",
       "      <td>3903</td>\n",
       "      <td>YOU SUCK YOU SUCK YOU SUCK YOU SUCK YOU SUCK Y...</td>\n",
       "      <td>5000</td>\n",
       "    </tr>\n",
       "    <tr>\n",
       "      <th>35244</th>\n",
       "      <td>MarxismLONG LIVE ANONYMOUS PHILIPPINESLONG LIV...</td>\n",
       "      <td>0</td>\n",
       "      <td>5000</td>\n",
       "      <td>0.9022</td>\n",
       "      <td>5000</td>\n",
       "      <td>4511</td>\n",
       "      <td>MarxismLONG LIVE ANONYMOUS PHILIPPINESLONG LIV...</td>\n",
       "      <td>5000</td>\n",
       "    </tr>\n",
       "    <tr>\n",
       "      <th>46096</th>\n",
       "      <td>heil hitler! heil hitler! heil hitler! heil hi...</td>\n",
       "      <td>1</td>\n",
       "      <td>5000</td>\n",
       "      <td>0.0000</td>\n",
       "      <td>5000</td>\n",
       "      <td>0</td>\n",
       "      <td>heil hitler! heil hitler! heil hitler! heil hi...</td>\n",
       "      <td>5000</td>\n",
       "    </tr>\n",
       "    <tr>\n",
       "      <th>46480</th>\n",
       "      <td>hahahahahahahahahahahahahahahahahaha vandalism...</td>\n",
       "      <td>1</td>\n",
       "      <td>5000</td>\n",
       "      <td>0.0000</td>\n",
       "      <td>5000</td>\n",
       "      <td>0</td>\n",
       "      <td>hahahahahahahahahahahahahahahahahaha vandalism...</td>\n",
       "      <td>5000</td>\n",
       "    </tr>\n",
       "    <tr>\n",
       "      <th>53300</th>\n",
       "      <td>BunkSteve is gay! BunkSteve is gay! BunkSteve ...</td>\n",
       "      <td>1</td>\n",
       "      <td>5000</td>\n",
       "      <td>0.1112</td>\n",
       "      <td>5000</td>\n",
       "      <td>556</td>\n",
       "      <td>BunkSteve is gay! BunkSteve is gay! BunkSteve ...</td>\n",
       "      <td>5000</td>\n",
       "    </tr>\n",
       "    <tr>\n",
       "      <th>55953</th>\n",
       "      <td>AH HAAHHAHAHAH YAAA BITCH YAAAA!@!!!!!!AH HAAH...</td>\n",
       "      <td>1</td>\n",
       "      <td>5000</td>\n",
       "      <td>0.6926</td>\n",
       "      <td>5000</td>\n",
       "      <td>3463</td>\n",
       "      <td>AH HAAHHAHAHAH YAAA BITCH YAAAA!@!!!!!!AH HAAH...</td>\n",
       "      <td>5000</td>\n",
       "    </tr>\n",
       "    <tr>\n",
       "      <th>56331</th>\n",
       "      <td>CALTLAS IF YOU CONTINUE TO RVV IT, I WILL BLAN...</td>\n",
       "      <td>1</td>\n",
       "      <td>5000</td>\n",
       "      <td>0.7522</td>\n",
       "      <td>5000</td>\n",
       "      <td>3761</td>\n",
       "      <td>CALTLAS IF YOU CONTINUE TO RVV IT, I WILL BLAN...</td>\n",
       "      <td>5000</td>\n",
       "    </tr>\n",
       "    <tr>\n",
       "      <th>56724</th>\n",
       "      <td>i CAN STILL POST WITH THIS COMPUTER...I SAID B...</td>\n",
       "      <td>1</td>\n",
       "      <td>5000</td>\n",
       "      <td>0.7798</td>\n",
       "      <td>5000</td>\n",
       "      <td>3899</td>\n",
       "      <td>i CAN STILL POST WITH THIS COMPUTER...I SAID B...</td>\n",
       "      <td>5000</td>\n",
       "    </tr>\n",
       "    <tr>\n",
       "      <th>63278</th>\n",
       "      <td>leari CAN STILL POST WITH THIS COMPUTER...I SA...</td>\n",
       "      <td>1</td>\n",
       "      <td>5000</td>\n",
       "      <td>0.7792</td>\n",
       "      <td>5000</td>\n",
       "      <td>3896</td>\n",
       "      <td>leari CAN STILL POST WITH THIS COMPUTER...I SA...</td>\n",
       "      <td>5000</td>\n",
       "    </tr>\n",
       "    <tr>\n",
       "      <th>70421</th>\n",
       "      <td>delete this pagedelete this pagedelete this pa...</td>\n",
       "      <td>0</td>\n",
       "      <td>5000</td>\n",
       "      <td>0.0000</td>\n",
       "      <td>5000</td>\n",
       "      <td>0</td>\n",
       "      <td>delete this pagedelete this pagedelete this pa...</td>\n",
       "      <td>5000</td>\n",
       "    </tr>\n",
       "    <tr>\n",
       "      <th>72066</th>\n",
       "      <td>China smells like fart. China smells like fart...</td>\n",
       "      <td>1</td>\n",
       "      <td>5000</td>\n",
       "      <td>0.0436</td>\n",
       "      <td>5000</td>\n",
       "      <td>218</td>\n",
       "      <td>China smells like fart. China smells like fart...</td>\n",
       "      <td>5000</td>\n",
       "    </tr>\n",
       "    <tr>\n",
       "      <th>75033</th>\n",
       "      <td>IN THE NAME OF YTMND!IN THE NAME OF YTMND!IN T...</td>\n",
       "      <td>0</td>\n",
       "      <td>5000</td>\n",
       "      <td>0.7620</td>\n",
       "      <td>5000</td>\n",
       "      <td>3810</td>\n",
       "      <td>IN THE NAME OF YTMND!IN THE NAME OF YTMND!IN T...</td>\n",
       "      <td>5000</td>\n",
       "    </tr>\n",
       "    <tr>\n",
       "      <th>76052</th>\n",
       "      <td>nice work removing edits, faggot ass piece of ...</td>\n",
       "      <td>1</td>\n",
       "      <td>5000</td>\n",
       "      <td>0.0000</td>\n",
       "      <td>5000</td>\n",
       "      <td>0</td>\n",
       "      <td>nice work removing edits, faggot ass piece of ...</td>\n",
       "      <td>5000</td>\n",
       "    </tr>\n",
       "    <tr>\n",
       "      <th>82496</th>\n",
       "      <td>MUAHAHAHAHAHAHAHAHAHAHAHAHAHAHAHAHAHAHA, YOU C...</td>\n",
       "      <td>1</td>\n",
       "      <td>5000</td>\n",
       "      <td>0.8848</td>\n",
       "      <td>5000</td>\n",
       "      <td>4424</td>\n",
       "      <td>MUAHAHAHAHAHAHAHAHAHAHAHAHAHAHAHAHAHAHA, YOU C...</td>\n",
       "      <td>5000</td>\n",
       "    </tr>\n",
       "    <tr>\n",
       "      <th>86104</th>\n",
       "      <td>congratualtions on being such a huge fucking a...</td>\n",
       "      <td>1</td>\n",
       "      <td>5000</td>\n",
       "      <td>0.0148</td>\n",
       "      <td>5000</td>\n",
       "      <td>74</td>\n",
       "      <td>congratualtions on being such a huge fucking a...</td>\n",
       "      <td>5000</td>\n",
       "    </tr>\n",
       "    <tr>\n",
       "      <th>93787</th>\n",
       "      <td>wiki NOOBS wiki NOOBS wiki NOOBS wiki NOOBS wi...</td>\n",
       "      <td>1</td>\n",
       "      <td>5000</td>\n",
       "      <td>0.4542</td>\n",
       "      <td>5000</td>\n",
       "      <td>2271</td>\n",
       "      <td>wiki NOOBS wiki NOOBS wiki NOOBS wiki NOOBS wi...</td>\n",
       "      <td>5000</td>\n",
       "    </tr>\n",
       "    <tr>\n",
       "      <th>96100</th>\n",
       "      <td>BOOTSTOOTS IS A FRIGGEN GAYFAG LOLOOOLBOOTSTOO...</td>\n",
       "      <td>1</td>\n",
       "      <td>5000</td>\n",
       "      <td>0.8404</td>\n",
       "      <td>5000</td>\n",
       "      <td>4202</td>\n",
       "      <td>BOOTSTOOTS IS A FRIGGEN GAYFAG LOLOOOLBOOTSTOO...</td>\n",
       "      <td>5000</td>\n",
       "    </tr>\n",
       "    <tr>\n",
       "      <th>123354</th>\n",
       "      <td>LMAO WHAT WEAK THREATS, I HAVENT BEEN BANNED Y...</td>\n",
       "      <td>1</td>\n",
       "      <td>5000</td>\n",
       "      <td>0.7972</td>\n",
       "      <td>5000</td>\n",
       "      <td>3986</td>\n",
       "      <td>LMAO WHAT WEAK THREATS, I HAVENT BEEN BANNED Y...</td>\n",
       "      <td>5000</td>\n",
       "    </tr>\n",
       "    <tr>\n",
       "      <th>131497</th>\n",
       "      <td>\"FFFFF UUUUUU CCCCCC KKKKKK ===== YOU! F UU C ...</td>\n",
       "      <td>1</td>\n",
       "      <td>5000</td>\n",
       "      <td>0.6732</td>\n",
       "      <td>5000</td>\n",
       "      <td>3366</td>\n",
       "      <td>\"FFFFF UUUUUU CCCCCC KKKKKK ===== YOU! F UU C ...</td>\n",
       "      <td>5000</td>\n",
       "    </tr>\n",
       "    <tr>\n",
       "      <th>156158</th>\n",
       "      <td>HUGE FAGGOT HUGE FAGGOT HUGE FAGGOT HUGE FAGGO...</td>\n",
       "      <td>1</td>\n",
       "      <td>5000</td>\n",
       "      <td>0.8334</td>\n",
       "      <td>5000</td>\n",
       "      <td>4167</td>\n",
       "      <td>HUGE FAGGOT HUGE FAGGOT HUGE FAGGOT HUGE FAGGO...</td>\n",
       "      <td>5000</td>\n",
       "    </tr>\n",
       "  </tbody>\n",
       "</table>\n",
       "</div>"
      ]
     },
     "execution_count": 86,
     "metadata": {},
     "output_type": "execute_result"
    }
   ],
   "execution_count": 86
  },
  {
   "metadata": {},
   "cell_type": "code",
   "outputs": [],
   "execution_count": null,
   "source": "",
   "id": "35b46436f81b3689"
  },
  {
   "metadata": {},
   "cell_type": "code",
   "outputs": [],
   "execution_count": null,
   "source": "",
   "id": "98c8383045bfe537"
  },
  {
   "metadata": {},
   "cell_type": "code",
   "outputs": [],
   "execution_count": null,
   "source": "",
   "id": "974518515ecba9c4"
  },
  {
   "metadata": {},
   "cell_type": "code",
   "outputs": [],
   "execution_count": null,
   "source": "",
   "id": "1c27a1c0786b82df"
  },
  {
   "metadata": {},
   "cell_type": "code",
   "outputs": [],
   "execution_count": null,
   "source": "",
   "id": "14f0f461a5e58109"
  },
  {
   "metadata": {},
   "cell_type": "code",
   "outputs": [],
   "execution_count": null,
   "source": "",
   "id": "74724ce515cb7b91"
  },
  {
   "metadata": {},
   "cell_type": "code",
   "outputs": [],
   "execution_count": null,
   "source": "",
   "id": "77c04d3bed7e8437"
  },
  {
   "metadata": {},
   "cell_type": "code",
   "outputs": [],
   "execution_count": null,
   "source": "",
   "id": "2ecea68ca73a6e69"
  },
  {
   "metadata": {
    "ExecuteTime": {
     "end_time": "2025-09-07T15:11:50.457236Z",
     "start_time": "2025-09-07T15:11:50.418448Z"
    }
   },
   "cell_type": "code",
   "source": [
    "# анализ длины в токенах\n",
    "tokenizer = BeуrtTokenizer.from_pretrained('bert-base-uncased')\n",
    "token_lengths = []\n",
    "for text in tqdm(df['text'], desc=\"токенизация\"):\n",
    "    tokens = tokenizer.encode(text, add_special_tokens=True, truncation=True, max_length=512)\n",
    "    token_lengths.append(len(tokens))\n",
    "\n",
    "df['token_length'] = token_lengths\n",
    "print(\"\\nстатистика длины текстов (токены):\")\n",
    "print(df['token_length'].describe())"
   ],
   "id": "a6e81a9c952973b3",
   "outputs": [
    {
     "ename": "NameError",
     "evalue": "name 'BeуrtTokenizer' is not defined",
     "output_type": "error",
     "traceback": [
      "\u001B[31m---------------------------------------------------------------------------\u001B[39m",
      "\u001B[31mNameError\u001B[39m                                 Traceback (most recent call last)",
      "\u001B[36mCell\u001B[39m\u001B[36m \u001B[39m\u001B[32mIn[57]\u001B[39m\u001B[32m, line 2\u001B[39m\n\u001B[32m      1\u001B[39m \u001B[38;5;66;03m# анализ длины в токенах\u001B[39;00m\n\u001B[32m----> \u001B[39m\u001B[32m2\u001B[39m tokenizer = \u001B[43mBeуrtTokenizer\u001B[49m.from_pretrained(\u001B[33m'\u001B[39m\u001B[33mbert-base-uncased\u001B[39m\u001B[33m'\u001B[39m)\n\u001B[32m      3\u001B[39m token_lengths = []\n\u001B[32m      4\u001B[39m \u001B[38;5;28;01mfor\u001B[39;00m text \u001B[38;5;129;01min\u001B[39;00m tqdm(df[\u001B[33m'\u001B[39m\u001B[33mtext\u001B[39m\u001B[33m'\u001B[39m], desc=\u001B[33m\"\u001B[39m\u001B[33mтокенизация\u001B[39m\u001B[33m\"\u001B[39m):\n",
      "\u001B[31mNameError\u001B[39m: name 'BeуrtTokenizer' is not defined"
     ]
    }
   ],
   "execution_count": 57
  },
  {
   "metadata": {
    "ExecuteTime": {
     "end_time": "2025-09-07T15:11:50.496973300Z",
     "start_time": "2025-09-07T14:55:32.580942Z"
    }
   },
   "cell_type": "code",
   "outputs": [
    {
     "data": {
      "text/plain": [
       "<Figure size 1000x400 with 1 Axes>"
      ],
      "image/png": "[encoded data removed]"
     },
     "metadata": {},
     "output_type": "display_data",
     "jetTransient": {
      "display_id": null
     }
    }
   ],
   "execution_count": 43,
   "source": [
    "# гистограмма длины в токенах\n",
    "plt.figure(figsize=(10, 4))\n",
    "sns.histplot(df['token_length'], bins=100, color='skyblue')\n",
    "plt.title('распределение длины текстов в токенах')\n",
    "plt.xlabel('длина текста (токены)')\n",
    "plt.ylabel('количество')\n",
    "plt.axvline(x=512, color='red', linestyle='--', label='bert max length (512)')\n",
    "plt.legend()\n",
    "plt.show()"
   ],
   "id": "35ffb35fca10f40"
  },
  {
   "metadata": {},
   "cell_type": "code",
   "outputs": [],
   "execution_count": null,
   "source": "",
   "id": "cec96168fd9adcf5"
  }
 ],
 "nbformat": 4
}
